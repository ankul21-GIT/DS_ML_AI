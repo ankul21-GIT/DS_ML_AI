{
 "cells": [
  {
   "cell_type": "markdown",
   "id": "59e1ccb7",
   "metadata": {},
   "source": [
    "Real-World Examples Using Lists in Python\n",
    "\n",
    "Lists are one of the most commonly used data structures in Python, thanks to their versatility and ease of use. Here are several practical examples that illustrate their use in real-world scenarios"
   ]
  },
  {
   "cell_type": "markdown",
   "id": "cb2692d4",
   "metadata": {},
   "source": [
    "Example 1. Manage A To Do List\n",
    "\n",
    "    Create a To Do List To Keep Track OF Tasks"
   ]
  },
  {
   "cell_type": "code",
   "execution_count": 1,
   "id": "b2821faa",
   "metadata": {},
   "outputs": [
    {
     "name": "stdout",
     "output_type": "stream",
     "text": [
      "Don't forgrt to pay the utility bills\n",
      "To Do List remaining\n",
      "-Buy Groceries\n",
      "-Pay bills\n",
      "-Schedule meeting\n",
      "-Go For a Run\n"
     ]
    }
   ],
   "source": [
    "to_do_list=[\"Buy Groceries\",\"Clean the house\",\"Pay bills\"]\n",
    "\n",
    "## Adding to task\n",
    "to_do_list.append(\"Schedule meeting\")\n",
    "to_do_list.append(\"Go For a Run\")\n",
    "\n",
    "## Removing a completed task\n",
    "to_do_list.remove(\"Clean the house\")\n",
    "\n",
    "## checking if a task is in the list\n",
    "if \"Pay bills\" in to_do_list:\n",
    "    print(\"Don't forgrt to pay the utility bills\")\n",
    "\n",
    "print(\"To Do List remaining\")\n",
    "for task in to_do_list:\n",
    "    print(f\"-{task}\")"
   ]
  },
  {
   "cell_type": "markdown",
   "id": "e7e06958",
   "metadata": {},
   "source": [
    "Example 2: Organizing Student Grades\n",
    "\n",
    "Create a list to store and calculate average grades for students"
   ]
  },
  {
   "cell_type": "code",
   "execution_count": 2,
   "id": "18b6c20b",
   "metadata": {},
   "outputs": [
    {
     "name": "stdout",
     "output_type": "stream",
     "text": [
      "Average Grade: 88.00\n",
      "Highest Grade: 95\n",
      "Lowest Grade: 78\n"
     ]
    }
   ],
   "source": [
    "# Organizing student grades\n",
    "grades = [85, 92, 78, 90, 88]\n",
    "\n",
    "# Adding a new grade\n",
    "grades.append(95)\n",
    "\n",
    "# Calculating the average grade\n",
    "average_grade = sum(grades) / len(grades)\n",
    "print(f\"Average Grade: {average_grade:.2f}\")\n",
    "\n",
    "# Finding the highest and lowest grades\n",
    "highest_grade = max(grades)\n",
    "lowest_grade = min(grades)\n",
    "print(f\"Highest Grade: {highest_grade}\")\n",
    "print(f\"Lowest Grade: {lowest_grade}\")"
   ]
  },
  {
   "cell_type": "markdown",
   "id": "101a01ab",
   "metadata": {},
   "source": [
    "Example 3: Managing An Inventory\n",
    "\n",
    "  Use a list to manage inventory items in a store"
   ]
  },
  {
   "cell_type": "code",
   "execution_count": 4,
   "id": "1ee1eac5",
   "metadata": {},
   "outputs": [
    {
     "name": "stdout",
     "output_type": "stream",
     "text": [
      "oranges are in stock.\n",
      "Inventory List:\n",
      "- apples\n",
      "- oranges\n",
      "- grapes\n",
      "- strawberries\n"
     ]
    }
   ],
   "source": [
    "# Managing an inventory\n",
    "inventory = [\"apples\", \"bananas\", \"oranges\", \"grapes\"]\n",
    "\n",
    "# Adding a new item\n",
    "inventory.append(\"strawberries\")\n",
    "\n",
    "# Removing an item that is out of stock\n",
    "inventory.remove(\"bananas\")\n",
    "\n",
    "# Checking if an item is in stock\n",
    "item = \"oranges\"\n",
    "if item in inventory:\n",
    "    print(f\"{item} are in stock.\")\n",
    "else:\n",
    "    print(f\"{item} are out of stock.\")\n",
    "\n",
    "# Printing the inventory\n",
    "print(\"Inventory List:\")\n",
    "for item in inventory:\n",
    "    print(f\"- {item}\")"
   ]
  },
  {
   "cell_type": "markdown",
   "id": "f2af79dd",
   "metadata": {},
   "source": [
    "Example 4:Collecting User Feedback\n",
    "\n",
    "Use a list to collect and analyze user feedback."
   ]
  },
  {
   "cell_type": "code",
   "execution_count": 7,
   "id": "65d8f3b2",
   "metadata": {},
   "outputs": [
    {
     "name": "stdout",
     "output_type": "stream",
     "text": [
      "Positive Feedback Count: 2\n",
      "User Feedback:\n",
      "- Great service!\n",
      "- Very satisfied\n",
      "- Could be better\n",
      "- Excellent experience\n",
      "- Not happy with the service\n"
     ]
    }
   ],
   "source": [
    "# Collecting user feedback\n",
    "feedback = [\"Great service!\", \"Very satisfied\", \"Could be better\", \"Excellent experience\"]\n",
    "\n",
    "# Adding new feedback\n",
    "feedback.append(\"Not happy with the service\")\n",
    "\n",
    "# Counting specific feedback\n",
    "positive_feedback_count = sum(1 for comment in feedback if \"great\" in comment.lower() or \"excellent\" in comment.lower())\n",
    "print(f\"Positive Feedback Count: {positive_feedback_count}\")\n",
    "\n",
    "# Printing all feedback\n",
    "print(\"User Feedback:\")\n",
    "for comment in feedback:\n",
    "    print(f\"- {comment}\")"
   ]
  },
  {
   "cell_type": "markdown",
   "id": "d938ade8",
   "metadata": {},
   "source": [
    "LIST METHOD"
   ]
  },
  {
   "cell_type": "code",
   "execution_count": 1,
   "id": "c6b0d61d",
   "metadata": {},
   "outputs": [
    {
     "name": "stdout",
     "output_type": "stream",
     "text": [
      "[1, 2, 3, 4, 5]\n",
      "[1, 2, 3, 4, 5, 6]\n"
     ]
    }
   ],
   "source": [
    "# append() - Add element into the last of list.\n",
    "l = [1, 2, 3, 4, 5]\n",
    "print(l)\n",
    "l.append(6)\n",
    "print(l)"
   ]
  },
  {
   "cell_type": "code",
   "execution_count": 2,
   "id": "28cd5aef",
   "metadata": {},
   "outputs": [
    {
     "name": "stdout",
     "output_type": "stream",
     "text": [
      "[2, 4, 11, 34, 55]\n"
     ]
    }
   ],
   "source": [
    "# sort() - sort the list in descending order.\n",
    "l = [11, 2, 34, 4, 55]\n",
    "l.sort()\n",
    "print(l)"
   ]
  },
  {
   "cell_type": "code",
   "execution_count": 3,
   "id": "9ca4bab9",
   "metadata": {},
   "outputs": [
    {
     "name": "stdout",
     "output_type": "stream",
     "text": [
      "[6, 5, 4, 3, 2, 1]\n"
     ]
    }
   ],
   "source": [
    "# reverse() - reverse method reverse the list\n",
    "l = [1, 2, 3, 4, 5, 6]\n",
    "l.reverse()\n",
    "print(l)"
   ]
  },
  {
   "cell_type": "code",
   "execution_count": 4,
   "id": "0f662fef",
   "metadata": {},
   "outputs": [
    {
     "name": "stdout",
     "output_type": "stream",
     "text": [
      "[92, 33, 16, 5, 4, 1]\n"
     ]
    }
   ],
   "source": [
    "# reverse = truue - descendding order\n",
    "\n",
    "l = [1, 92, 33, 4, 5, 16]\n",
    "l.sort(reverse=True)\n",
    "print(l)"
   ]
  },
  {
   "cell_type": "code",
   "execution_count": 5,
   "id": "fa2300b3",
   "metadata": {},
   "outputs": [
    {
     "name": "stdout",
     "output_type": "stream",
     "text": [
      "3\n"
     ]
    }
   ],
   "source": [
    "## index() - index method find the element in a list by given a list name in the index method.\n",
    "\n",
    "l = [1, 2, 23, 44, 5, 6]\n",
    "print(l.index(44))"
   ]
  },
  {
   "cell_type": "code",
   "execution_count": 6,
   "id": "e69ce17a",
   "metadata": {},
   "outputs": [
    {
     "name": "stdout",
     "output_type": "stream",
     "text": [
      "3\n"
     ]
    }
   ],
   "source": [
    "## count() - count the element how many time the number is repeted.\n",
    "l = [1, 2, 3, 1, 6, 1]\n",
    "print(l.count(1))"
   ]
  },
  {
   "cell_type": "code",
   "execution_count": 7,
   "id": "7c24d301",
   "metadata": {},
   "outputs": [
    {
     "name": "stdout",
     "output_type": "stream",
     "text": [
      "[1, 9, 2, 3, 4, 5]\n"
     ]
    }
   ],
   "source": [
    "## insert() - inser the element at the any specific position.\n",
    "\n",
    "l = [1, 2, 3, 4, 5]\n",
    "l.insert(1, 9)\n",
    "print(l)"
   ]
  },
  {
   "cell_type": "code",
   "execution_count": 8,
   "id": "2baed7ed",
   "metadata": {},
   "outputs": [
    {
     "name": "stdout",
     "output_type": "stream",
     "text": [
      "[1, 2, 3, 4, 5]\n",
      "[1, 2, 3, 4, 5, 6, 7, 8, 9]\n"
     ]
    }
   ],
   "source": [
    "## extend method - these method add an entire list or any other collecton datatype to the existing list.\n",
    "\n",
    "l = [1, 2, 3, 4, 5]\n",
    "print(l)\n",
    "m = [6, 7, 8, 9]\n",
    "l.extend(m)\n",
    "print(l)"
   ]
  }
 ],
 "metadata": {
  "kernelspec": {
   "display_name": "Python 3",
   "language": "python",
   "name": "python3"
  },
  "language_info": {
   "codemirror_mode": {
    "name": "ipython",
    "version": 3
   },
   "file_extension": ".py",
   "mimetype": "text/x-python",
   "name": "python",
   "nbconvert_exporter": "python",
   "pygments_lexer": "ipython3",
   "version": "3.12.0"
  }
 },
 "nbformat": 4,
 "nbformat_minor": 5
}
