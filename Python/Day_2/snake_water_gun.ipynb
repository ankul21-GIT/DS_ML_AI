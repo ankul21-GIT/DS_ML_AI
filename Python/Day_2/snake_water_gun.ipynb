{
 "cells": [
  {
   "cell_type": "markdown",
   "id": "6d6addfc",
   "metadata": {},
   "source": [
    "Snake water gun game "
   ]
  },
  {
   "cell_type": "code",
   "execution_count": 1,
   "id": "56a4fbe1",
   "metadata": {},
   "outputs": [
    {
     "name": "stdout",
     "output_type": "stream",
     "text": [
      "You:  2\n",
      "Computer:  0\n",
      "You win\n"
     ]
    }
   ],
   "source": [
    "import random\n",
    "\n",
    "def check(comp, user):\n",
    "    if comp == user:\n",
    "        return 0\n",
    "    \n",
    "    if(comp == 0 and user ==1):\n",
    "        return -1\n",
    "    \n",
    "    if(comp == 1 and user ==2):\n",
    "        return -1\n",
    "    \n",
    "    if(comp == 2 and user ==2):\n",
    "        return -1\n",
    "\n",
    "        \n",
    "comp = random.randint(0, 2)\n",
    "user = int(input(\"0 for snake, 1 for water 2 for gun : \"))\n",
    "\n",
    "score = check(comp, user)\n",
    "\n",
    "print(\"You: \", user)\n",
    "print(\"Computer: \", comp)\n",
    "\n",
    "if(score ==0):\n",
    "    print(\"Its a draw\")\n",
    "elif(score == -1):\n",
    "    print(\"You lose\")\n",
    "else:\n",
    "    print(\"You win\")"
   ]
  },
  {
   "cell_type": "code",
   "execution_count": null,
   "id": "5d1f3e3a",
   "metadata": {},
   "outputs": [],
   "source": []
  }
 ],
 "metadata": {
  "kernelspec": {
   "display_name": "Python 3",
   "language": "python",
   "name": "python3"
  },
  "language_info": {
   "codemirror_mode": {
    "name": "ipython",
    "version": 3
   },
   "file_extension": ".py",
   "mimetype": "text/x-python",
   "name": "python",
   "nbconvert_exporter": "python",
   "pygments_lexer": "ipython3",
   "version": "3.12.0"
  }
 },
 "nbformat": 4,
 "nbformat_minor": 5
}
