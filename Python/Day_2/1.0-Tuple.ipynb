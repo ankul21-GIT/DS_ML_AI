{
 "cells": [
  {
   "cell_type": "code",
   "execution_count": 1,
   "id": "ba14993c",
   "metadata": {},
   "outputs": [],
   "source": [
    "\n",
    "my_tuple = (\"Adhd\",2,5,7,8)\n",
    "\n",
    "my_tuple  =tuple([1,2,3,45])"
   ]
  },
  {
   "cell_type": "code",
   "execution_count": 2,
   "id": "17226473",
   "metadata": {},
   "outputs": [
    {
     "name": "stdout",
     "output_type": "stream",
     "text": [
      "<class 'tuple'>\n"
     ]
    }
   ],
   "source": [
    "print(type(my_tuple))"
   ]
  },
  {
   "cell_type": "code",
   "execution_count": 3,
   "id": "1072b2dd",
   "metadata": {},
   "outputs": [
    {
     "name": "stdout",
     "output_type": "stream",
     "text": [
      "(1, 2, 3, 45)\n"
     ]
    }
   ],
   "source": [
    "print(my_tuple)"
   ]
  },
  {
   "cell_type": "code",
   "execution_count": null,
   "id": "4be316d1",
   "metadata": {},
   "outputs": [],
   "source": [
    "# What is the difference between list and tuple ?\n",
    "# List are mutable but tuples are immutable, meaning once the tuple is created u can't change it."
   ]
  },
  {
   "cell_type": "code",
   "execution_count": 4,
   "id": "6adec275",
   "metadata": {},
   "outputs": [
    {
     "name": "stdout",
     "output_type": "stream",
     "text": [
      "9\n"
     ]
    }
   ],
   "source": [
    "\n",
    "tuple_1 = (\"Amit\",2,5,7, [1,2,3], ('',0,True), 2,5,7)\n",
    "print(len(tuple_1))"
   ]
  },
  {
   "cell_type": "code",
   "execution_count": 7,
   "id": "64b2a31a",
   "metadata": {},
   "outputs": [
    {
     "data": {
      "text/plain": [
       "[1, 2, 3]"
      ]
     },
     "execution_count": 7,
     "metadata": {},
     "output_type": "execute_result"
    }
   ],
   "source": [
    "tuple_1[4]"
   ]
  },
  {
   "cell_type": "code",
   "execution_count": 8,
   "id": "e5d1df2c",
   "metadata": {},
   "outputs": [
    {
     "data": {
      "text/plain": [
       "2"
      ]
     },
     "execution_count": 8,
     "metadata": {},
     "output_type": "execute_result"
    }
   ],
   "source": [
    "tuple_1[4][1]"
   ]
  },
  {
   "cell_type": "code",
   "execution_count": 9,
   "id": "a44fc548",
   "metadata": {},
   "outputs": [
    {
     "data": {
      "text/plain": [
       "1"
      ]
     },
     "execution_count": 9,
     "metadata": {},
     "output_type": "execute_result"
    }
   ],
   "source": [
    "tuple_1[4][0]"
   ]
  },
  {
   "cell_type": "code",
   "execution_count": 13,
   "id": "91631850",
   "metadata": {},
   "outputs": [
    {
     "data": {
      "text/plain": [
       "1"
      ]
     },
     "execution_count": 13,
     "metadata": {},
     "output_type": "execute_result"
    }
   ],
   "source": [
    "tuple_1[4][-3]"
   ]
  },
  {
   "cell_type": "code",
   "execution_count": 14,
   "id": "447de61f",
   "metadata": {},
   "outputs": [
    {
     "name": "stdout",
     "output_type": "stream",
     "text": [
      "([1, 2, 3], ('', 0, True))\n"
     ]
    }
   ],
   "source": [
    "print(tuple_1[4:6])"
   ]
  },
  {
   "cell_type": "code",
   "execution_count": 15,
   "id": "4a7b3af7",
   "metadata": {},
   "outputs": [],
   "source": [
    "tuple_2 = (\"kiwi\", \"banana\", \"mango\")\n"
   ]
  },
  {
   "cell_type": "code",
   "execution_count": 16,
   "id": "aec59ce6",
   "metadata": {},
   "outputs": [
    {
     "ename": "TypeError",
     "evalue": "'tuple' object does not support item assignment",
     "output_type": "error",
     "traceback": [
      "\u001b[31m---------------------------------------------------------------------------\u001b[39m",
      "\u001b[31mTypeError\u001b[39m                                 Traceback (most recent call last)",
      "\u001b[36mCell\u001b[39m\u001b[36m \u001b[39m\u001b[32mIn[16]\u001b[39m\u001b[32m, line 1\u001b[39m\n\u001b[32m----> \u001b[39m\u001b[32m1\u001b[39m \u001b[43mtuple_2\u001b[49m\u001b[43m[\u001b[49m\u001b[32;43m1\u001b[39;49m\u001b[43m]\u001b[49m = \u001b[33m\"\u001b[39m\u001b[33mapple\u001b[39m\u001b[33m\"\u001b[39m\n",
      "\u001b[31mTypeError\u001b[39m: 'tuple' object does not support item assignment"
     ]
    }
   ],
   "source": [
    "tuple_2[1] = \"apple\""
   ]
  },
  {
   "cell_type": "code",
   "execution_count": 17,
   "id": "a69eee8f",
   "metadata": {},
   "outputs": [],
   "source": [
    "tuple_2 = list(tuple_2)"
   ]
  },
  {
   "cell_type": "code",
   "execution_count": 18,
   "id": "7ee1b835",
   "metadata": {},
   "outputs": [
    {
     "name": "stdout",
     "output_type": "stream",
     "text": [
      "('kiwi', 'apple', 'mango')\n"
     ]
    }
   ],
   "source": [
    "tuple_2[1] = \"apple\"\n",
    "\n",
    "tuple_2 = tuple(tuple_2)\n",
    "\n",
    "print(tuple_2)"
   ]
  },
  {
   "cell_type": "code",
   "execution_count": 19,
   "id": "a9d9a3eb",
   "metadata": {},
   "outputs": [
    {
     "ename": "TypeError",
     "evalue": "'tuple' object doesn't support item deletion",
     "output_type": "error",
     "traceback": [
      "\u001b[31m---------------------------------------------------------------------------\u001b[39m",
      "\u001b[31mTypeError\u001b[39m                                 Traceback (most recent call last)",
      "\u001b[36mCell\u001b[39m\u001b[36m \u001b[39m\u001b[32mIn[19]\u001b[39m\u001b[32m, line 1\u001b[39m\n\u001b[32m----> \u001b[39m\u001b[32m1\u001b[39m \u001b[38;5;28;01mdel\u001b[39;00m \u001b[43mtuple_2\u001b[49m\u001b[43m[\u001b[49m\u001b[32;43m0\u001b[39;49m\u001b[43m]\u001b[49m\n",
      "\u001b[31mTypeError\u001b[39m: 'tuple' object doesn't support item deletion"
     ]
    }
   ],
   "source": [
    "del tuple_2[0]"
   ]
  },
  {
   "cell_type": "code",
   "execution_count": 20,
   "id": "064e3082",
   "metadata": {},
   "outputs": [],
   "source": [
    "del tuple_2"
   ]
  },
  {
   "cell_type": "code",
   "execution_count": 21,
   "id": "2fae6aa2",
   "metadata": {},
   "outputs": [
    {
     "name": "stdout",
     "output_type": "stream",
     "text": [
      "apple\n",
      "banana\n",
      "cherry\n"
     ]
    }
   ],
   "source": [
    "fruits = (\"apple\", \"banana\", \"cherry\", \"brinjal\")\n",
    "(green, yellow, red, purple) = fruits\n",
    "\n",
    "print(green)\n",
    "print(yellow)\n",
    "print(red)"
   ]
  },
  {
   "cell_type": "code",
   "execution_count": 22,
   "id": "8087c261",
   "metadata": {},
   "outputs": [
    {
     "name": "stdout",
     "output_type": "stream",
     "text": [
      "apple\n",
      "banana\n",
      "cherry\n",
      "brinjal\n"
     ]
    }
   ],
   "source": [
    "for i in fruits:\n",
    "    print(i)"
   ]
  },
  {
   "cell_type": "code",
   "execution_count": 24,
   "id": "5de7357b",
   "metadata": {},
   "outputs": [
    {
     "name": "stdout",
     "output_type": "stream",
     "text": [
      "('apple', 'banana', 'cherry', 'apple', 'banana', 'cherry')\n"
     ]
    }
   ],
   "source": [
    "\n",
    "fruits = (\"apple\", \"banana\", \"cherry\")\n",
    "mytuple = fruits * 2\n",
    "\n",
    "print(mytuple)"
   ]
  },
  {
   "cell_type": "code",
   "execution_count": 25,
   "id": "701d9b4e",
   "metadata": {},
   "outputs": [
    {
     "name": "stdout",
     "output_type": "stream",
     "text": [
      "{'cherry', 'banana', 'apple'}\n"
     ]
    }
   ],
   "source": [
    "thisset = {\"apple\", \"banana\", \"cherry\"}\n",
    "print(thisset)"
   ]
  },
  {
   "cell_type": "code",
   "execution_count": null,
   "id": "88d729ac",
   "metadata": {},
   "outputs": [],
   "source": []
  }
 ],
 "metadata": {
  "kernelspec": {
   "display_name": "Python 3",
   "language": "python",
   "name": "python3"
  },
  "language_info": {
   "codemirror_mode": {
    "name": "ipython",
    "version": 3
   },
   "file_extension": ".py",
   "mimetype": "text/x-python",
   "name": "python",
   "nbconvert_exporter": "python",
   "pygments_lexer": "ipython3",
   "version": "3.12.0"
  }
 },
 "nbformat": 4,
 "nbformat_minor": 5
}
