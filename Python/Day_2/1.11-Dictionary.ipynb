{
 "cells": [
  {
   "cell_type": "markdown",
   "id": "0264aa24",
   "metadata": {},
   "source": [
    "Dictionaries\n",
    "\n",
    "Course Outline:\n",
    "\n",
    "1. Introduction to Dictionaries\n",
    "\n",
    "2. Creating Dictionaries\n",
    "\n",
    "3. Accessing Dictionary Elements\n",
    "\n",
    "4. Modifying Dictionary Elements\n",
    "\n",
    "5. Dictionary Methods\n",
    "\n",
    "6. Iterating Over Dictionaries\n",
    "\n",
    "7. Nested Dictionaries\n",
    "\n",
    "8. Dictionary Comprehensions\n",
    "\n",
    "9. Practical Examples and Common Errors"
   ]
  },
  {
   "cell_type": "markdown",
   "id": "e77c0346",
   "metadata": {},
   "source": [
    "Introduction to Dictionaries\n",
    "\n",
    "Dictionaries are ordered collections of items. They store data in key-value pairs. Keys must be unique and immutable (e.g., strings, numbers, or tuples), while values can be of any type."
   ]
  },
  {
   "cell_type": "code",
   "execution_count": 1,
   "id": "a187418e",
   "metadata": {},
   "outputs": [
    {
     "name": "stdout",
     "output_type": "stream",
     "text": [
      "<class 'dict'>\n"
     ]
    }
   ],
   "source": [
    "## Creating Dictionaries\n",
    "empty_dict={}\n",
    "print(type(empty_dict))"
   ]
  },
  {
   "cell_type": "code",
   "execution_count": 2,
   "id": "db072cea",
   "metadata": {},
   "outputs": [
    {
     "data": {
      "text/plain": [
       "{}"
      ]
     },
     "execution_count": 2,
     "metadata": {},
     "output_type": "execute_result"
    }
   ],
   "source": [
    "empty_dict=dict()\n",
    "empty_dict"
   ]
  },
  {
   "cell_type": "code",
   "execution_count": 3,
   "id": "2bc81004",
   "metadata": {},
   "outputs": [
    {
     "name": "stdout",
     "output_type": "stream",
     "text": [
      "{'name': 'Sagar', 'Age': 22, 'Grades': 24, 'Gender': 'Male', 'Height': 6.0}\n",
      "<class 'dict'>\n"
     ]
    }
   ],
   "source": [
    "student={\"name\":\"Sagar\", \"Age\":22, \"Grades\":24, \"Gender\":\"Male\", \"Height\":6.0}\n",
    "print(student)\n",
    "print(type(student))"
   ]
  },
  {
   "cell_type": "code",
   "execution_count": 4,
   "id": "86b70f40",
   "metadata": {},
   "outputs": [
    {
     "name": "stdout",
     "output_type": "stream",
     "text": [
      "{'name': 24, 'age': 32, 'date': -2024}\n"
     ]
    }
   ],
   "source": [
    "# Single key is always used\n",
    "student={\"name\":\"Krish\",\n",
    "         \"age\":32,\n",
    "         \"name\":24,\n",
    "         \"date\":1-1-2024}\n",
    "print(student)"
   ]
  },
  {
   "cell_type": "code",
   "execution_count": 5,
   "id": "a35e3095",
   "metadata": {},
   "outputs": [
    {
     "name": "stdout",
     "output_type": "stream",
     "text": [
      "{'name': 'Rishi', 'age': 22, 'grade': 'A'}\n"
     ]
    }
   ],
   "source": [
    "## accessing Dictionary Elements\n",
    "student={\"name\":\"Rishi\",\"age\":22,\"grade\":'A'}\n",
    "print(student)"
   ]
  },
  {
   "cell_type": "code",
   "execution_count": 6,
   "id": "1715f8d9",
   "metadata": {},
   "outputs": [
    {
     "name": "stdout",
     "output_type": "stream",
     "text": [
      "A\n",
      "22\n",
      "A\n",
      "None\n",
      "Not Available\n"
     ]
    }
   ],
   "source": [
    "## Accessing Dictionary elements\n",
    "print(student['grade'])\n",
    "print(student['age'])\n",
    "# print(student['last_name'])\n",
    "\n",
    "## Accessing using get() method\n",
    "print(student.get('grade'))\n",
    "print(student.get('last_name'))\n",
    "print(student.get('last_name',\"Not Available\"))"
   ]
  },
  {
   "cell_type": "code",
   "execution_count": 7,
   "id": "6a69eab9",
   "metadata": {},
   "outputs": [
    {
     "name": "stdout",
     "output_type": "stream",
     "text": [
      "{'name': 'Rishi', 'age': 22, 'grade': 'A'}\n"
     ]
    }
   ],
   "source": [
    "## Modifying Dicitonary Elements\n",
    "## Dictionary are mutable,so you can add, update or delete elements\n",
    "print(student)"
   ]
  },
  {
   "cell_type": "code",
   "execution_count": 8,
   "id": "3a818bbc",
   "metadata": {},
   "outputs": [
    {
     "name": "stdout",
     "output_type": "stream",
     "text": [
      "{'name': 'Rishi', 'age': 19, 'grade': 'A'}\n",
      "{'name': 'Rishi', 'age': 19, 'grade': 'A', 'address': 'India'}\n"
     ]
    }
   ],
   "source": [
    "student[\"age\"]=19  ##update value for the key\n",
    "print(student)\n",
    "student[\"address\"]=\"India\" ## added a new key and value\n",
    "print(student)"
   ]
  },
  {
   "cell_type": "code",
   "execution_count": 9,
   "id": "588a2d10",
   "metadata": {},
   "outputs": [
    {
     "name": "stdout",
     "output_type": "stream",
     "text": [
      "{'name': 'Rishi', 'age': 19, 'address': 'India'}\n"
     ]
    }
   ],
   "source": [
    "del student['grade'] ## delete key and value pair\n",
    "\n",
    "print(student)"
   ]
  },
  {
   "cell_type": "code",
   "execution_count": 10,
   "id": "f7f2ab87",
   "metadata": {},
   "outputs": [
    {
     "name": "stdout",
     "output_type": "stream",
     "text": [
      "dict_keys(['name', 'age', 'address'])\n",
      "dict_values(['Rishi', 19, 'India'])\n",
      "dict_items([('name', 'Rishi'), ('age', 19), ('address', 'India')])\n"
     ]
    }
   ],
   "source": [
    "## Dictionary methods\n",
    "\n",
    "keys=student.keys() ##get all the keys\n",
    "print(keys)\n",
    "values=student.values() ##get all values\n",
    "print(values)\n",
    "\n",
    "items=student.items() ##get all key value pairs\n",
    "print(items)"
   ]
  },
  {
   "cell_type": "markdown",
   "id": "77c68119",
   "metadata": {},
   "source": [
    "# https://www.geeksforgeeks.org/copy-python-deep-copy-shallow-copy/"
   ]
  },
  {
   "cell_type": "code",
   "execution_count": 12,
   "id": "b41c8814",
   "metadata": {},
   "outputs": [
    {
     "name": "stdout",
     "output_type": "stream",
     "text": [
      "{'name': 'Rishi', 'age': 19, 'address': 'India'}\n",
      "{'name': 'Rishi', 'age': 19, 'address': 'India'}\n"
     ]
    }
   ],
   "source": [
    "## shallow copy\n",
    "student_copy=student\n",
    "print(student)\n",
    "print(student_copy)"
   ]
  },
  {
   "cell_type": "code",
   "execution_count": 13,
   "id": "7d35cc40",
   "metadata": {},
   "outputs": [
    {
     "name": "stdout",
     "output_type": "stream",
     "text": [
      "{'name': 'Krishanu', 'age': 19, 'address': 'India'}\n",
      "{'name': 'Krishanu', 'age': 19, 'address': 'India'}\n"
     ]
    }
   ],
   "source": [
    "student[\"name\"]=\"Krishanu\"\n",
    "print(student)\n",
    "print(student_copy)"
   ]
  },
  {
   "cell_type": "code",
   "execution_count": 14,
   "id": "88a523a5",
   "metadata": {},
   "outputs": [
    {
     "name": "stdout",
     "output_type": "stream",
     "text": [
      "{'name': 'Krishanu', 'age': 19, 'address': 'India'}\n",
      "{'name': 'Krishanu', 'age': 19, 'address': 'India'}\n"
     ]
    }
   ],
   "source": [
    "## deep copy\n",
    "\n",
    "student_copy1=student.copy() \n",
    "print(student_copy1)\n",
    "print(student)"
   ]
  },
  {
   "cell_type": "code",
   "execution_count": 15,
   "id": "4cbffa72",
   "metadata": {},
   "outputs": [
    {
     "name": "stdout",
     "output_type": "stream",
     "text": [
      "{'name': 'Krishanu', 'age': 19, 'address': 'India'}\n",
      "{'name': 'KRish3', 'age': 19, 'address': 'India'}\n"
     ]
    }
   ],
   "source": [
    "student[\"name\"]=\"KRish3\"\n",
    "print(student_copy1)\n",
    "print(student)"
   ]
  },
  {
   "cell_type": "code",
   "execution_count": 16,
   "id": "0d883401",
   "metadata": {},
   "outputs": [
    {
     "name": "stdout",
     "output_type": "stream",
     "text": [
      "name\n",
      "age\n",
      "address\n"
     ]
    }
   ],
   "source": [
    "### Iterating Over Dictionaries\n",
    "## You can use loops to iterate over dictionatries, keys,values,or items\n",
    "\n",
    "## Iterating over keys\n",
    "for keys in student.keys():\n",
    "    print(keys)"
   ]
  },
  {
   "cell_type": "code",
   "execution_count": 17,
   "id": "69aaed13",
   "metadata": {},
   "outputs": [
    {
     "name": "stdout",
     "output_type": "stream",
     "text": [
      "KRish3\n",
      "19\n",
      "India\n"
     ]
    }
   ],
   "source": [
    "## Iterate over values\n",
    "for value in student.values():\n",
    "    print(value)"
   ]
  },
  {
   "cell_type": "code",
   "execution_count": 18,
   "id": "7135e241",
   "metadata": {},
   "outputs": [
    {
     "name": "stdout",
     "output_type": "stream",
     "text": [
      "name:KRish3\n",
      "age:19\n",
      "address:India\n"
     ]
    }
   ],
   "source": [
    "## Iterate over key value pairs\n",
    "for key,value in student.items():\n",
    "    print(f\"{key}:{value}\")"
   ]
  },
  {
   "cell_type": "code",
   "execution_count": 19,
   "id": "15e8623e",
   "metadata": {},
   "outputs": [
    {
     "name": "stdout",
     "output_type": "stream",
     "text": [
      "{'student1': {'name': 'Krish', 'age': 32}, 'student2': {'name': 'Peter', 'age': 35}}\n"
     ]
    }
   ],
   "source": [
    "## Nested Disctionaries\n",
    "students={\n",
    "    \"student1\":{\"name\":\"Krish\",\"age\":32},\n",
    "    \"student2\":{\"name\":\"Peter\",\"age\":35}\n",
    "}\n",
    "print(students)"
   ]
  },
  {
   "cell_type": "code",
   "execution_count": 20,
   "id": "6d5821df",
   "metadata": {},
   "outputs": [
    {
     "name": "stdout",
     "output_type": "stream",
     "text": [
      "35\n"
     ]
    }
   ],
   "source": [
    "## Access nested dictionaries elementss\n",
    "# print(students[\"student2\"][\"name\"])\n",
    "print(students[\"student2\"][\"age\"])"
   ]
  },
  {
   "cell_type": "code",
   "execution_count": 21,
   "id": "99628ba1",
   "metadata": {},
   "outputs": [
    {
     "data": {
      "text/plain": [
       "dict_items([('student1', {'name': 'Krish', 'age': 32}), ('student2', {'name': 'Peter', 'age': 35})])"
      ]
     },
     "execution_count": 21,
     "metadata": {},
     "output_type": "execute_result"
    }
   ],
   "source": [
    "students.items()"
   ]
  },
  {
   "cell_type": "code",
   "execution_count": 22,
   "id": "fa95741d",
   "metadata": {},
   "outputs": [
    {
     "name": "stdout",
     "output_type": "stream",
     "text": [
      "student1:{'name': 'Krish', 'age': 32}\n",
      "name:Krish\n",
      "age:32\n",
      "student2:{'name': 'Peter', 'age': 35}\n",
      "name:Peter\n",
      "age:35\n"
     ]
    }
   ],
   "source": [
    "## Iterating over nested dictionaries\n",
    "for student_id,student_info in students.items():\n",
    "    print(f\"{student_id}:{student_info}\")\n",
    "    for key,value in student_info.items():\n",
    "        print(f\"{key}:{value}\")"
   ]
  },
  {
   "cell_type": "code",
   "execution_count": 23,
   "id": "e653c16e",
   "metadata": {},
   "outputs": [
    {
     "name": "stdout",
     "output_type": "stream",
     "text": [
      "{0: 0, 1: 1, 2: 4, 3: 9, 4: 16}\n"
     ]
    }
   ],
   "source": [
    "## Dictionary Comphrehension\n",
    "squares={x:x**2 for x in range(5)}\n",
    "print(squares)"
   ]
  },
  {
   "cell_type": "code",
   "execution_count": 24,
   "id": "c78afd17",
   "metadata": {},
   "outputs": [
    {
     "name": "stdout",
     "output_type": "stream",
     "text": [
      "{0: 0, 2: 4, 4: 16, 6: 36, 8: 64}\n"
     ]
    }
   ],
   "source": [
    "## Condition dictionary comprehension\n",
    "evens={x:x**2 for x in range(10) if x%2==0}\n",
    "print(evens)"
   ]
  },
  {
   "cell_type": "code",
   "execution_count": 2,
   "id": "fb1e6594",
   "metadata": {},
   "outputs": [
    {
     "name": "stdout",
     "output_type": "stream",
     "text": [
      "{1: 1, 2: 2, 3: 3, 4: 3}\n"
     ]
    }
   ],
   "source": [
    "\n",
    "## USe a dictionary to count he frequency of elements in list\n",
    "\n",
    "numbers=[1,2,2,3,3,3,4,4,4]\n",
    "frequency={}\n",
    "\n",
    "for number in numbers:\n",
    "    if number in frequency:\n",
    "        frequency[number]+=1\n",
    "    else:\n",
    "        frequency[number]=1\n",
    "print(frequency)"
   ]
  },
  {
   "cell_type": "code",
   "execution_count": 26,
   "id": "003b95de",
   "metadata": {},
   "outputs": [
    {
     "name": "stdout",
     "output_type": "stream",
     "text": [
      "{'a': 1, 'b': 3, 'c': 4}\n"
     ]
    }
   ],
   "source": [
    "## Merge 2 dictionaries into one\n",
    "\n",
    "dict1={\"a\":1,\"b\":2}\n",
    "dict2={\"b\":3,\"c\":4}\n",
    "merged_dict={**dict1,**dict2}\n",
    "print(merged_dict)"
   ]
  },
  {
   "cell_type": "markdown",
   "id": "05e41b34",
   "metadata": {},
   "source": [
    "Conclusion:\n",
    "    \n",
    "Dictionaries are powerful tools in Python for managing key-value pairs. They are used in a variety of real-world scenarios, such as counting word frequency, grouping data, storing configuration settings, managing phonebooks, tracking inventory, and caching results. Understanding how to leverage dictionaries effectively can greatly enhance the efficiency and readability of your code."
   ]
  }
 ],
 "metadata": {
  "kernelspec": {
   "display_name": "Python 3",
   "language": "python",
   "name": "python3"
  },
  "language_info": {
   "codemirror_mode": {
    "name": "ipython",
    "version": 3
   },
   "file_extension": ".py",
   "mimetype": "text/x-python",
   "name": "python",
   "nbconvert_exporter": "python",
   "pygments_lexer": "ipython3",
   "version": "3.12.0"
  }
 },
 "nbformat": 4,
 "nbformat_minor": 5
}
