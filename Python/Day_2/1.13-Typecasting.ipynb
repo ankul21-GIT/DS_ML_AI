{
 "cells": [
  {
   "cell_type": "code",
   "execution_count": 1,
   "id": "6a72c3ab",
   "metadata": {},
   "outputs": [
    {
     "name": "stdout",
     "output_type": "stream",
     "text": [
      "12\n"
     ]
    }
   ],
   "source": [
    "a = \"1\"\n",
    "b = \"2\"\n",
    "print(a + b)"
   ]
  },
  {
   "cell_type": "markdown",
   "id": "59798f47",
   "metadata": {},
   "source": [
    "Typecasting :\n",
    "\n",
    " Type casting, also known as type conversion, in Python refers to the process of converting a variable or value from one data type to another. This is often necessary when performing operations that require specific data types or when data is received in one format and needs to be used in another."
   ]
  },
  {
   "cell_type": "code",
   "execution_count": 2,
   "id": "54ba58c1",
   "metadata": {},
   "outputs": [
    {
     "name": "stdout",
     "output_type": "stream",
     "text": [
      "3\n"
     ]
    }
   ],
   "source": [
    "# Explicit Typecasting  -> Done by the programmer.\n",
    " \n",
    "a = \"1\"\n",
    "b = \"2\"\n",
    "print(int(a) + int(b))"
   ]
  },
  {
   "cell_type": "code",
   "execution_count": 3,
   "id": "50732eb3",
   "metadata": {},
   "outputs": [
    {
     "name": "stdout",
     "output_type": "stream",
     "text": [
      "10.0\n"
     ]
    }
   ],
   "source": [
    "# Implicit Typecasting  -> Done by the python automatically\n",
    "a = 1.8\n",
    "b = 8.2\n",
    "print(a+b)"
   ]
  },
  {
   "cell_type": "code",
   "execution_count": null,
   "id": "e80797f2",
   "metadata": {},
   "outputs": [],
   "source": []
  }
 ],
 "metadata": {
  "kernelspec": {
   "display_name": "Python 3",
   "language": "python",
   "name": "python3"
  },
  "language_info": {
   "codemirror_mode": {
    "name": "ipython",
    "version": 3
   },
   "file_extension": ".py",
   "mimetype": "text/x-python",
   "name": "python",
   "nbconvert_exporter": "python",
   "pygments_lexer": "ipython3",
   "version": "3.12.0"
  }
 },
 "nbformat": 4,
 "nbformat_minor": 5
}
