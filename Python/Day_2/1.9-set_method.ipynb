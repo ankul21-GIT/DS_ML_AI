{
 "cells": [
  {
   "cell_type": "code",
   "execution_count": 1,
   "id": "6a2550b1",
   "metadata": {},
   "outputs": [
    {
     "name": "stdout",
     "output_type": "stream",
     "text": [
      "{1, 2, 3, 4, 5, 6, 7}\n"
     ]
    }
   ],
   "source": [
    "# union() :- In the union method same element not print.\n",
    "\n",
    "s1 = {1, 2, 5, 6, 7}\n",
    "s2 = {3, 6, 7, 4, 1}\n",
    "print(s1.union(s2))"
   ]
  },
  {
   "cell_type": "code",
   "execution_count": 2,
   "id": "45cc123f",
   "metadata": {},
   "outputs": [
    {
     "name": "stdout",
     "output_type": "stream",
     "text": [
      "{1, 6, 7}\n"
     ]
    }
   ],
   "source": [
    "# Intersect() :- It mean element in both s1 and s2 the number are same.\n",
    "\n",
    "s1 = {1, 2, 5, 6, 7}\n",
    "s2 = {3, 6, 7, 4, 1}\n",
    "print(s1.intersection(s2))"
   ]
  },
  {
   "cell_type": "code",
   "execution_count": 3,
   "id": "131c7c96",
   "metadata": {},
   "outputs": [
    {
     "name": "stdout",
     "output_type": "stream",
     "text": [
      "{1, 2, 3, 4, 5, 6, 7} {1, 3, 4, 6, 7}\n"
     ]
    }
   ],
   "source": [
    "# update() :- s1 value in s2\n",
    "\n",
    "s1 = {1, 2, 5, 6, 7}\n",
    "s2 = {3, 6, 7, 4, 1}\n",
    "s1.update(s2)\n",
    "print(s1, s2)"
   ]
  },
  {
   "cell_type": "code",
   "execution_count": 4,
   "id": "3c05d07a",
   "metadata": {},
   "outputs": [
    {
     "name": "stdout",
     "output_type": "stream",
     "text": [
      "{'Madrid', 'Tokyo', 'Delhi', 'Kabul', 'Seoul', 'Berlin'}\n"
     ]
    }
   ],
   "source": [
    "# union()\n",
    "\n",
    "cities1 = {\"Tokyo\", \"Madrid\", \"Berlin\", \"Delhi\"}\n",
    "cities2 = {\"Tokyo\", \"Seoul\", \"Kabul\", \"Madrid\"}\n",
    "cities3 = cities1.union(cities2)\n",
    "print(cities3)"
   ]
  },
  {
   "cell_type": "code",
   "execution_count": 5,
   "id": "6cb971f1",
   "metadata": {},
   "outputs": [
    {
     "name": "stdout",
     "output_type": "stream",
     "text": [
      "{'Madrid', 'Tokyo'}\n"
     ]
    }
   ],
   "source": [
    "# Intersection()\n",
    "\n",
    "cities1 = {\"Tokyo\", \"Madrid\", \"Berlin\", \"Delhi\"}\n",
    "cities2 = {\"Tokyo\", \"Seoul\", \"Kabul\", \"Madrid\"}\n",
    "cities3 = cities1.intersection(cities2)\n",
    "print(cities3)"
   ]
  },
  {
   "cell_type": "code",
   "execution_count": 6,
   "id": "06fa9469",
   "metadata": {},
   "outputs": [
    {
     "name": "stdout",
     "output_type": "stream",
     "text": [
      "{'Kabul', 'Delhi', 'Seoul', 'Berlin'}\n"
     ]
    }
   ],
   "source": [
    "# symmetric_difference() :- Not print the common value.\n",
    "\n",
    "cities1 = {\"Tokyo\", \"Madrid\", \"Berlin\", \"Delhi\"}\n",
    "cities2 = {\"Tokyo\", \"Seoul\", \"Kabul\", \"Madrid\"}\n",
    "cities3 = cities1.symmetric_difference(cities2)\n",
    "print(cities3)"
   ]
  },
  {
   "cell_type": "code",
   "execution_count": 7,
   "id": "c87ede58",
   "metadata": {},
   "outputs": [
    {
     "name": "stdout",
     "output_type": "stream",
     "text": [
      "{'Berlin', 'Madrid', 'Tokyo'}\n"
     ]
    }
   ],
   "source": [
    "# difference() :- The value which are difference in both.\n",
    "\n",
    "cities1 = {\"Tokyo\", \"Madrid\", \"Berlin\", \"Delhi\"}\n",
    "cities2 = {\"Seoul\", \"Kabul\", \"Delhi\"}\n",
    "cities3 = cities1.difference(cities2)\n",
    "print(cities3)"
   ]
  },
  {
   "cell_type": "code",
   "execution_count": 16,
   "id": "7165ba6b",
   "metadata": {},
   "outputs": [
    {
     "name": "stdout",
     "output_type": "stream",
     "text": [
      "{'Kabul', 'Seoul'}\n"
     ]
    }
   ],
   "source": [
    "cities1 = {\"Tokyo\", \"Madrid\", \"Berlin\", \"Delhi\"}\n",
    "cities2 = {\"Seoul\", \"Kabul\", \"Delhi\"}\n",
    "cities3 = cities2.difference(cities1)\n",
    "print(cities3)"
   ]
  },
  {
   "cell_type": "code",
   "execution_count": 9,
   "id": "804ef4ab",
   "metadata": {},
   "outputs": [
    {
     "name": "stdout",
     "output_type": "stream",
     "text": [
      "True\n"
     ]
    }
   ],
   "source": [
    "# isdisjoint() :- when both the set are differance this is called disjoint.\n",
    "\n",
    "cities1 = {\"Tokyo\", \"Madrid\", \"Berlin\", \"Delhi\"}\n",
    "cities2 = {\"Seoul\", \"Kabul\", \"Delhi1\", \"Benglore\"}\n",
    "print(cities1.isdisjoint(cities2))"
   ]
  },
  {
   "cell_type": "code",
   "execution_count": 10,
   "id": "d33f4a84",
   "metadata": {},
   "outputs": [
    {
     "name": "stdout",
     "output_type": "stream",
     "text": [
      "True\n",
      "True\n",
      "True\n"
     ]
    }
   ],
   "source": [
    "# isuperset() :- The issuperset() method check if all the item of a participant set are present in the orignal set. It return true if all the item are present, else it return false.\n",
    "\n",
    "cities1 = {\"Tokyo\", \"Madrid\", \"Berlin\", \"Delhi\"}\n",
    "cities2 = {\"Tokyo\"}\n",
    "print(cities1.issuperset(cities2))\n",
    "cities3 = {\"Tokyo\", \"Madrid\", \"Delhi\"}\n",
    "print(cities1.issuperset(cities3))\n",
    "print(cities3.issubset(cities1))"
   ]
  },
  {
   "cell_type": "code",
   "execution_count": 11,
   "id": "7005cc94",
   "metadata": {},
   "outputs": [
    {
     "name": "stdout",
     "output_type": "stream",
     "text": [
      "{'Madrid', 'Tokyo', 'Delhi', 'Helsinki', 'Berlin'}\n"
     ]
    }
   ],
   "source": [
    "# add() :- add method add an element into a set\n",
    "\n",
    "cities = {\"Tokyo\", \"Madrid\", \"Tokyo\", \"Berlin\", \"Delhi\"}\n",
    "cities.add(\"Helsinki\")\n",
    "print(cities)"
   ]
  },
  {
   "cell_type": "code",
   "execution_count": 12,
   "id": "1f587e36",
   "metadata": {},
   "outputs": [
    {
     "name": "stdout",
     "output_type": "stream",
     "text": [
      "{'Delhi', 'Berlin', 'Madrid'}\n"
     ]
    }
   ],
   "source": [
    "# remove() :- \n",
    "\n",
    "cities = {\"Tokyo\", \"Madrid\", \"Berlin\", \"Delhi\"}\n",
    "cities.remove(\"Tokyo\")\n",
    "print(cities)"
   ]
  },
  {
   "cell_type": "code",
   "execution_count": 13,
   "id": "754192ff",
   "metadata": {},
   "outputs": [
    {
     "name": "stdout",
     "output_type": "stream",
     "text": [
      "{'Delhi', 'Berlin', 'Madrid', 'Tokyo'}\n"
     ]
    }
   ],
   "source": [
    "# discard() :-\n",
    "\n",
    "cities = {\"Tokyo\", \"Madrid\", \"Berlin\", \"Delhi\"}\n",
    "cities.discard(\"Tokyo2\")\n",
    "print(cities)"
   ]
  },
  {
   "cell_type": "code",
   "execution_count": 14,
   "id": "477b016d",
   "metadata": {},
   "outputs": [
    {
     "name": "stdout",
     "output_type": "stream",
     "text": [
      "{'Berlin', 'Madrid', 'Tokyo'}\n"
     ]
    }
   ],
   "source": [
    "# pop() :- These element remove the last element of the set.\n",
    "\n",
    "cities = {\"Tokyo\", \"Madrid\", \"Berlin\", \"Delhi\"}\n",
    "cities.pop()\n",
    "print(cities)"
   ]
  },
  {
   "cell_type": "code",
   "execution_count": 15,
   "id": "514597ff",
   "metadata": {},
   "outputs": [
    {
     "ename": "NameError",
     "evalue": "name 'cities' is not defined",
     "output_type": "error",
     "traceback": [
      "\u001b[31m---------------------------------------------------------------------------\u001b[39m",
      "\u001b[31mNameError\u001b[39m                                 Traceback (most recent call last)",
      "\u001b[36mCell\u001b[39m\u001b[36m \u001b[39m\u001b[32mIn[15]\u001b[39m\u001b[32m, line 5\u001b[39m\n\u001b[32m      3\u001b[39m cities = {\u001b[33m\"\u001b[39m\u001b[33mTokyo\u001b[39m\u001b[33m\"\u001b[39m, \u001b[33m\"\u001b[39m\u001b[33mMadrid\u001b[39m\u001b[33m\"\u001b[39m, \u001b[33m\"\u001b[39m\u001b[33mBerlin\u001b[39m\u001b[33m\"\u001b[39m, \u001b[33m\"\u001b[39m\u001b[33mDelhi\u001b[39m\u001b[33m\"\u001b[39m}\n\u001b[32m      4\u001b[39m \u001b[38;5;28;01mdel\u001b[39;00m cities\n\u001b[32m----> \u001b[39m\u001b[32m5\u001b[39m \u001b[38;5;28mprint\u001b[39m(\u001b[43mcities\u001b[49m)\n",
      "\u001b[31mNameError\u001b[39m: name 'cities' is not defined"
     ]
    }
   ],
   "source": [
    "# del :- del is not a method, rather it is  a keyword which deletes the set entirely.\n",
    "\n",
    "cities = {\"Tokyo\", \"Madrid\", \"Berlin\", \"Delhi\"}\n",
    "del cities\n",
    "print(cities)"
   ]
  }
 ],
 "metadata": {
  "kernelspec": {
   "display_name": "Python 3",
   "language": "python",
   "name": "python3"
  },
  "language_info": {
   "codemirror_mode": {
    "name": "ipython",
    "version": 3
   },
   "file_extension": ".py",
   "mimetype": "text/x-python",
   "name": "python",
   "nbconvert_exporter": "python",
   "pygments_lexer": "ipython3",
   "version": "3.12.0"
  }
 },
 "nbformat": 4,
 "nbformat_minor": 5
}
