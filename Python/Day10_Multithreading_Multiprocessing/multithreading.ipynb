{
 "cells": [
  {
   "cell_type": "markdown",
   "id": "2a19b9d8",
   "metadata": {},
   "source": [
    "## Multithreading\n",
    "\n",
    "Multithreading is a technique where multiple threads (smaller units of a process) run concurrently within the same process.\n",
    "\n",
    "In simpler terms:\n",
    "\n",
    "Multithreading allows your program to do more than one task at the same time — especially helpful for I/O-bound tasks like reading files, network requests, user inputs, etc."
   ]
  },
  {
   "cell_type": "code",
   "execution_count": null,
   "id": "d8fe517c",
   "metadata": {},
   "outputs": [
    {
     "name": "stdout",
     "output_type": "stream",
     "text": [
      "Thread 1 started\n",
      "Thread 2 started\n",
      "Thread 1 finished\n",
      "Thread 2 finished\n",
      "Both threads completed.\n"
     ]
    }
   ],
   "source": [
    "import threading\n",
    "import time\n",
    "\n",
    "def task(name):\n",
    "    print(f\"{name} started\")\n",
    "    time.sleep(2)\n",
    "    print(f\"{name} finished\")\n",
    "\n",
    "# Create threads\n",
    "t1 = threading.Thread(target=task, args=(\"Thread 1\",))\n",
    "t2 = threading.Thread(target=task, args=(\"Thread 2\",))\n",
    "\n",
    "# Start threads\n",
    "t1.start()\n",
    "t2.start()\n",
    "\n",
    "# Wait for threads to finish\n",
    "t1.join()\n",
    "t2.join()\n",
    "\n",
    "print(\"Both threads completed.\")\n"
   ]
  },
  {
   "cell_type": "code",
   "execution_count": 6,
   "id": "a342d999",
   "metadata": {},
   "outputs": [
    {
     "name": "stdout",
     "output_type": "stream",
     "text": [
      "Number: 0\n",
      "Letter: A\n",
      "Number: 1Letter: B\n",
      "\n",
      "Letter: CNumber: 2\n",
      "\n",
      "Letter: DNumber: 3\n",
      "\n",
      "Number: 4\n",
      "Letter: E\n",
      "Multithreading complete!\n"
     ]
    }
   ],
   "source": [
    "import threading\n",
    "import time\n",
    "\n",
    "def print_numbers():\n",
    "    for i in range(5):\n",
    "        print(f\"Number: {i}\")\n",
    "        time.sleep(1)\n",
    "\n",
    "def print_letters():\n",
    "    for ch in 'ABCDE':\n",
    "        print(f\"Letter: {ch}\")\n",
    "        time.sleep(1)\n",
    "\n",
    "# Create threads\n",
    "t1 = threading.Thread(target=print_numbers)\n",
    "t2 = threading.Thread(target=print_letters)\n",
    "\n",
    "# Start threads\n",
    "t1.start()\n",
    "t2.start()\n",
    "\n",
    "# Wait for both threads to complete\n",
    "t1.join()\n",
    "t2.join()\n",
    "\n",
    "print(\"Multithreading complete!\")\n"
   ]
  },
  {
   "cell_type": "code",
   "execution_count": 7,
   "id": "e8e0aae1",
   "metadata": {},
   "outputs": [
    {
     "name": "stdout",
     "output_type": "stream",
     "text": [
      "Time is sleep for 4 second\n",
      "Time is sleep for 2 second\n",
      "Time is sleep for 1 second\n"
     ]
    }
   ],
   "source": [
    "import threading\n",
    "import time\n",
    "\n",
    "def func(second):\n",
    "    print(f\"Time is sleep for {second} second\")\n",
    "    time.sleep(second)\n",
    "\n",
    "func(4)\n",
    "func(2)\n",
    "func(1)"
   ]
  },
  {
   "cell_type": "code",
   "execution_count": 8,
   "id": "e655f54f",
   "metadata": {},
   "outputs": [
    {
     "name": "stdout",
     "output_type": "stream",
     "text": [
      "Time is sleep for 4 second\n",
      "Time is sleep for 2 second\n",
      "Time is sleep for 1 second\n"
     ]
    }
   ],
   "source": [
    "import threading\n",
    "import time\n",
    "\n",
    "def func(second):\n",
    "    print(f\"Time is sleep for {second} second\")\n",
    "    time.sleep(second)\n",
    "\n",
    "t1 = threading.Thread(target=func, args=[4])\n",
    "t2 = threading.Thread(target=func, args=[2])\n",
    "t3 = threading.Thread(target=func, args=[1])\n",
    "\n",
    "t1.start()\n",
    "t2.start()\n",
    "t3.start()"
   ]
  },
  {
   "cell_type": "code",
   "execution_count": 4,
   "id": "c287ca02",
   "metadata": {},
   "outputs": [
    {
     "name": "stdout",
     "output_type": "stream",
     "text": [
      "Time is sleep for 4 second\n",
      "Time is sleep for 2 second\n",
      "Time is sleep for 1 second\n",
      "Sequential execution time: 7.00 seconds\n",
      "\n",
      "Using Threads:\n",
      "Time is sleep for 4 second\n",
      "Time is sleep for 2 second\n",
      "Time is sleep for 1 second\n",
      "Multithreaded execution time: 4.00 seconds\n"
     ]
    }
   ],
   "source": [
    "import threading\n",
    "import time\n",
    "\n",
    "def func(second):\n",
    "    print(f\"Time is sleep for {second} second\")\n",
    "    time.sleep(second)\n",
    "\n",
    "# Sequential execution\n",
    "time1 = time.perf_counter()\n",
    "\n",
    "func(4)\n",
    "func(2)\n",
    "func(1)\n",
    "\n",
    "time2 = time.perf_counter()\n",
    "print(f\"Sequential execution time: {time2 - time1:.2f} seconds\")\n",
    "\n",
    "print(\"\\nUsing Threads:\")\n",
    "\n",
    "# Multithreaded execution\n",
    "time3 = time.perf_counter()\n",
    "\n",
    "t1 = threading.Thread(target=func, args=[4])\n",
    "t2 = threading.Thread(target=func, args=[2])\n",
    "t3 = threading.Thread(target=func, args=[1])\n",
    "\n",
    "t1.start()\n",
    "t2.start()\n",
    "t3.start()\n",
    "\n",
    "# Wait for all threads to complete\n",
    "t1.join()\n",
    "t2.join()\n",
    "t3.join()\n",
    "\n",
    "time4 = time.perf_counter()\n",
    "print(f\"Multithreaded execution time: {time4 - time3:.2f} seconds\")\n"
   ]
  },
  {
   "cell_type": "code",
   "execution_count": 5,
   "id": "a7df5a67",
   "metadata": {},
   "outputs": [
    {
     "name": "stdout",
     "output_type": "stream",
     "text": [
      "\n",
      "Time is sleep for 4 second\n",
      "Time is sleep for 2 second\n",
      "Time is sleep for 1 second\n",
      "0.004743199999211356\n"
     ]
    }
   ],
   "source": [
    "import threading\n",
    "import time\n",
    "\n",
    "def func(second):\n",
    "    print(f\"Time is sleep for {second} second\")\n",
    "    time.sleep(second)\n",
    "time1 = time.perf_counter()\n",
    "\n",
    "# func(4)\n",
    "# func(2)\n",
    "# func(1)\n",
    "# print(time2-time1)\n",
    "\n",
    "print()\n",
    "def func(second):\n",
    "    print(f\"Time is sleep for {second} second\")\n",
    "    time.sleep(second)\n",
    "    \n",
    "# time2 = time.perf_counter()\n",
    "t1 = threading.Thread(target=func, args=[4])\n",
    "t2 = threading.Thread(target=func, args=[2])\n",
    "t3 = threading.Thread(target=func, args=[1])\n",
    "\n",
    "t1.start()\n",
    "t2.start()\n",
    "t3.start()\n",
    "time2 = time.perf_counter()\n",
    "\n",
    "print(time2-time1)"
   ]
  },
  {
   "cell_type": "code",
   "execution_count": 6,
   "id": "1f848f49",
   "metadata": {},
   "outputs": [
    {
     "name": "stdout",
     "output_type": "stream",
     "text": [
      "\n",
      "Time is sleep for 4 second\n",
      "Time is sleep for 2 second\n",
      "Time is sleep for 1 second\n",
      "4.003575999988243\n"
     ]
    }
   ],
   "source": [
    "import threading\n",
    "import time\n",
    "\n",
    "def func(second):\n",
    "    print(f\"Time is sleep for {second} second\")\n",
    "    time.sleep(second)\n",
    "time1 = time.perf_counter()\n",
    "\n",
    "# func(4)\n",
    "# func(2)\n",
    "# func(1)\n",
    "# print(time2-time1)\n",
    "\n",
    "print()\n",
    "def func(second):\n",
    "    print(f\"Time is sleep for {second} second\")\n",
    "    time.sleep(second)\n",
    "    \n",
    "# time2 = time.perf_counter()\n",
    "t1 = threading.Thread(target=func, args=[4])\n",
    "t2 = threading.Thread(target=func, args=[2])\n",
    "t3 = threading.Thread(target=func, args=[1])\n",
    "\n",
    "t1.start()\n",
    "t2.start()\n",
    "t3.start()\n",
    "\n",
    "t1.join()\n",
    "t1.join()\n",
    "t1.join()\n",
    "\n",
    "time2 = time.perf_counter()\n",
    "\n",
    "print(time2-time1)"
   ]
  },
  {
   "cell_type": "code",
   "execution_count": 7,
   "id": "5f691dec",
   "metadata": {},
   "outputs": [
    {
     "name": "stdout",
     "output_type": "stream",
     "text": [
      "Sleeping for 3 second(s)...\n",
      "None\n",
      "Sleeping for 2 second(s)...\n",
      "None\n",
      "Sleeping for 1 second(s)...\n",
      "None\n"
     ]
    }
   ],
   "source": [
    "import threading\n",
    "import time\n",
    "from concurrent.futures import ThreadPoolExecutor\n",
    "\n",
    "def func(second):\n",
    "    print(f\"Sleeping for {second} second(s)...\")\n",
    "    time.sleep(second)\n",
    "\n",
    "def main():\n",
    "    time1 = time.perf_counter()\n",
    "\n",
    "    t1 = threading.Thread(target=func, args=[4])\n",
    "    t2 = threading.Thread(target=func, args=[2])\n",
    "    t3 = threading.Thread(target=func, args=[1])\n",
    "\n",
    "    t1.start()\n",
    "    t2.start()\n",
    "    t3.start()\n",
    "\n",
    "    t1.join()\n",
    "    t2.join()\n",
    "    t3.join()\n",
    "\n",
    "    time2 = time.perf_counter()\n",
    "    print(f\"Total time taken using threads: {time2 - time1:.2f} seconds\")\n",
    "\n",
    "def poolingDemo():\n",
    "    with ThreadPoolExecutor() as executor:\n",
    "        future1 = executor.submit(func, 3)\n",
    "        print(future1.result())\n",
    "\n",
    "        future2 = executor.submit(func, 2)\n",
    "        print(future2.result())\n",
    "\n",
    "        future3 = executor.submit(func, 1)\n",
    "        print(future3.result())\n",
    "\n",
    "\n",
    "poolingDemo()\n"
   ]
  },
  {
   "cell_type": "code",
   "execution_count": 8,
   "id": "ae9b803f",
   "metadata": {},
   "outputs": [
    {
     "name": "stdout",
     "output_type": "stream",
     "text": [
      "Srishti is bank manager\n",
      "Srishti is bank manager\n",
      "Srishti is bank manager\n",
      "Ankur is data scientist\n",
      "Ankur is data scientist\n",
      "Ankur is data scientist\n"
     ]
    }
   ],
   "source": [
    "class A:\n",
    "    def run(self):    ## run() method is a predifined method in a multithreading\n",
    "        for i in range(3):\n",
    "            print(\"Srishti is bank manager\")\n",
    "\n",
    "class B:\n",
    "    def run(self):\n",
    "        for i in range(3):\n",
    "            print(\"Ankur is data scientist\")\n",
    "\n",
    "a = A()\n",
    "b = B()\n",
    "a.run()\n",
    "\n",
    "b.run()"
   ]
  },
  {
   "cell_type": "code",
   "execution_count": null,
   "id": "b5d44f51",
   "metadata": {},
   "outputs": [
    {
     "name": "stdout",
     "output_type": "stream",
     "text": [
      "Srishti\n",
      "Ankur\n"
     ]
    },
    {
     "name": "stdout",
     "output_type": "stream",
     "text": [
      "Srishti\n",
      "Ankur\n",
      "SrishtiAnkur\n",
      "\n",
      "SrishtiAnkur\n",
      "\n",
      "Ankur\n",
      "Srishti\n"
     ]
    }
   ],
   "source": [
    "from time import sleep\n",
    "from threading import Thread\n",
    "class A(Thread):\n",
    "    def run(self):    ## run() method is a predifined method in a multithreading\n",
    "        for i in range(5):\n",
    "            print(\"Srishti\")\n",
    "            sleep(1)\n",
    "\n",
    "class B(Thread):\n",
    "    def run(self):\n",
    "        for i in range(5):\n",
    "            print(\"Ankur\")\n",
    "            sleep(1)\n",
    "\n",
    "a = A()\n",
    "b = B()\n",
    "a.start()\n",
    "b.start()"
   ]
  },
  {
   "cell_type": "code",
   "execution_count": 11,
   "id": "7fef6a00",
   "metadata": {},
   "outputs": [
    {
     "name": "stdout",
     "output_type": "stream",
     "text": [
      "Srishti\n",
      "Ankur\n",
      "Srishti\n",
      "Ankur\n",
      "Srishti\n",
      "Ankur\n",
      "SrishtiAnkur\n",
      "\n",
      "AnkurSrishti\n",
      "\n",
      "Vimal\n",
      "Vimal\n"
     ]
    }
   ],
   "source": [
    "from time import sleep\n",
    "from threading import Thread\n",
    "class A(Thread):\n",
    "    def run(self):    ## run() method is a predifined method in a multithreading\n",
    "        for i in range(5):\n",
    "            print(\"Srishti\")\n",
    "            sleep(1)\n",
    "\n",
    "class B(Thread):\n",
    "    def run(self):\n",
    "        for i in range(5):\n",
    "            print(\"Ankur\")\n",
    "            sleep(1)\n",
    "\n",
    "a = A()\n",
    "b = B()\n",
    "a.start()\n",
    "b.start()\n",
    "\n",
    "a.join()\n",
    "b.join()\n",
    "for i in range(2):\n",
    "    print(\"Vimal\")"
   ]
  },
  {
   "cell_type": "code",
   "execution_count": null,
   "id": "ed4baec1",
   "metadata": {},
   "outputs": [],
   "source": []
  }
 ],
 "metadata": {
  "kernelspec": {
   "display_name": "Python 3",
   "language": "python",
   "name": "python3"
  },
  "language_info": {
   "codemirror_mode": {
    "name": "ipython",
    "version": 3
   },
   "file_extension": ".py",
   "mimetype": "text/x-python",
   "name": "python",
   "nbconvert_exporter": "python",
   "pygments_lexer": "ipython3",
   "version": "3.12.0"
  }
 },
 "nbformat": 4,
 "nbformat_minor": 5
}
