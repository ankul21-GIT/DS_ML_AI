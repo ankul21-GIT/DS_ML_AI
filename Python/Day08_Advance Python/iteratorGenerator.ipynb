{
 "cells": [
  {
   "cell_type": "markdown",
   "id": "1ea90a85",
   "metadata": {},
   "source": [
    "## Module: Iterators, Generators, and Decorators Assignments\n",
    "## Lesson: Iterators, Generators, and Decorators"
   ]
  },
  {
   "cell_type": "markdown",
   "id": "18beee77",
   "metadata": {},
   "source": [
    "Assignment 1: Custom Iterator\n",
    "\n",
    "Create a custom iterator class named Countdown that takes a number and counts down to zero. Implement the __iter__ and __next__ methods. Test the iterator by using it in a for loop."
   ]
  },
  {
   "cell_type": "code",
   "execution_count": 1,
   "id": "f9f47847",
   "metadata": {},
   "outputs": [
    {
     "name": "stdout",
     "output_type": "stream",
     "text": [
      "5\n",
      "4\n",
      "3\n",
      "2\n",
      "1\n",
      "0\n"
     ]
    }
   ],
   "source": [
    "class Countdown:\n",
    "    def __init__(self, start):\n",
    "        self.current = start\n",
    "\n",
    "    def __iter__(self):\n",
    "        return self\n",
    "\n",
    "    def __next__(self):\n",
    "        if self.current < 0:\n",
    "            raise StopIteration\n",
    "        else:\n",
    "            value = self.current\n",
    "            self.current -= 1\n",
    "            return value\n",
    "\n",
    "# Test\n",
    "for num in Countdown(5):\n",
    "    print(num)\n"
   ]
  },
  {
   "cell_type": "markdown",
   "id": "dd3f24d1",
   "metadata": {},
   "source": [
    "Assignment 2: Custom Iterable Class\n",
    "\n",
    "Create a class named MyRange that mimics the behavior of the built-in range function. Implement the __iter__ and __next__ methods. Test the class by using it in a for loop."
   ]
  },
  {
   "cell_type": "code",
   "execution_count": 2,
   "id": "efc29af3",
   "metadata": {},
   "outputs": [],
   "source": [
    "class MyRange:\n",
    "    def __init__(self, start, stop=None, step=1):\n",
    "        if stop is None:\n",
    "            # Only one argument provided, treat it as stop and start from 0\n",
    "            self.start = 0\n",
    "            self.stop = start\n",
    "        else:\n",
    "            self.start = start\n",
    "            self.stop = stop\n",
    "\n",
    "        self.step = step\n",
    "        self.current = self.start\n",
    "\n",
    "    def __iter__(self):\n",
    "        return self\n",
    "\n",
    "    def __next__(self):\n",
    "        if (self.step > 0 and self.current >= self.stop) or (self.step < 0 and self.current <= self.stop):\n",
    "            raise StopIteration\n",
    "        else:\n",
    "            value = self.current\n",
    "            self.current += self.step\n",
    "            return value\n"
   ]
  },
  {
   "cell_type": "code",
   "execution_count": 3,
   "id": "7f3f9c15",
   "metadata": {},
   "outputs": [
    {
     "name": "stdout",
     "output_type": "stream",
     "text": [
      "MyRange(5):\n",
      "0\n",
      "1\n",
      "2\n",
      "3\n",
      "4\n",
      "\n",
      "MyRange(2, 10, 2):\n",
      "2\n",
      "4\n",
      "6\n",
      "8\n",
      "\n",
      "MyRange(10, 2, -2):\n",
      "10\n",
      "8\n",
      "6\n",
      "4\n"
     ]
    }
   ],
   "source": [
    "print(\"MyRange(5):\")\n",
    "for i in MyRange(5):\n",
    "    print(i)\n",
    "\n",
    "print(\"\\nMyRange(2, 10, 2):\")\n",
    "for i in MyRange(2, 10, 2):\n",
    "    print(i)\n",
    "\n",
    "print(\"\\nMyRange(10, 2, -2):\")\n",
    "for i in MyRange(10, 2, -2):\n",
    "    print(i)\n"
   ]
  },
  {
   "cell_type": "markdown",
   "id": "58701547",
   "metadata": {},
   "source": [
    "Assignment 3: Generator Function\n",
    "\n",
    "Write a generator function named fibonacci that yields the Fibonacci sequence. Test the generator by iterating over it and printing the first 10 Fibonacci numbers."
   ]
  },
  {
   "cell_type": "code",
   "execution_count": 4,
   "id": "f571d336",
   "metadata": {},
   "outputs": [
    {
     "name": "stdout",
     "output_type": "stream",
     "text": [
      "0\n",
      "1\n",
      "1\n",
      "2\n",
      "3\n",
      "5\n",
      "8\n",
      "13\n",
      "21\n",
      "34\n"
     ]
    }
   ],
   "source": [
    "def fibonacci():\n",
    "    a, b = 0, 1\n",
    "    while True:\n",
    "        yield a\n",
    "        a, b = b, a + b\n",
    "\n",
    "# Get first 10 Fibonacci numbers\n",
    "fib = fibonacci()\n",
    "\n",
    "for _ in range(10):\n",
    "    print(next(fib))\n"
   ]
  },
  {
   "cell_type": "markdown",
   "id": "94f60d35",
   "metadata": {},
   "source": [
    "Assignment 4: Generator Expression\n",
    "\n",
    "Create a generator expression that generates the squares of numbers from 1 to 10. Iterate over the generator and print each value."
   ]
  },
  {
   "cell_type": "code",
   "execution_count": 5,
   "id": "9bb97c26",
   "metadata": {},
   "outputs": [
    {
     "name": "stdout",
     "output_type": "stream",
     "text": [
      "1\n",
      "4\n",
      "9\n",
      "16\n",
      "25\n",
      "36\n",
      "49\n",
      "64\n",
      "81\n",
      "100\n"
     ]
    }
   ],
   "source": [
    "squares = (x**2 for x in range(1, 11))\n",
    "\n",
    "for val in squares:\n",
    "    print(val)\n"
   ]
  },
  {
   "cell_type": "markdown",
   "id": "ec1a9a94",
   "metadata": {},
   "source": [
    "Assignment 5: Chaining Generators\n",
    "\n",
    "Write two generator functions: even_numbers that yields even numbers up to a limit, and squares that yields the square of each number from another generator. Chain these generators to produce the squares of even numbers up to 20."
   ]
  },
  {
   "cell_type": "code",
   "execution_count": 6,
   "id": "93de2978",
   "metadata": {},
   "outputs": [
    {
     "name": "stdout",
     "output_type": "stream",
     "text": [
      "4\n",
      "16\n",
      "36\n",
      "64\n",
      "100\n",
      "144\n",
      "196\n",
      "256\n",
      "324\n",
      "400\n"
     ]
    }
   ],
   "source": [
    "def even_numbers(limit):\n",
    "    for num in range(2, limit + 1, 2):\n",
    "        yield num\n",
    "\n",
    "def squares(numbers_gen):\n",
    "    for num in numbers_gen:\n",
    "        yield num ** 2\n",
    "\n",
    "# Chain generators to get squares of even numbers up to 20\n",
    "even_gen = even_numbers(20)\n",
    "square_gen = squares(even_gen)\n",
    "\n",
    "for val in square_gen:\n",
    "    print(val)\n"
   ]
  },
  {
   "cell_type": "markdown",
   "id": "bc5f5bc3",
   "metadata": {},
   "source": [
    "Assignment 6: Simple Decorator\n",
    "\n",
    "Write a decorator named time_it that measures the execution time of a function. Apply this decorator to a function that calculates the factorial of a number."
   ]
  },
  {
   "cell_type": "code",
   "execution_count": 7,
   "id": "f852bf7a",
   "metadata": {},
   "outputs": [
    {
     "name": "stdout",
     "output_type": "stream",
     "text": [
      "Execution time: 0.000000 seconds\n",
      "Execution time: 0.001557 seconds\n",
      "Execution time: 0.001557 seconds\n",
      "Execution time: 0.001557 seconds\n",
      "Execution time: 0.001557 seconds\n",
      "Execution time: 0.001557 seconds\n",
      "Execution time: 0.001557 seconds\n",
      "Execution time: 0.001557 seconds\n",
      "Execution time: 0.001557 seconds\n",
      "Execution time: 0.001557 seconds\n",
      "Factorial Result: 3628800\n"
     ]
    }
   ],
   "source": [
    "import time\n",
    "\n",
    "def time_it(func):\n",
    "    def wrapper(*args, **kwargs):\n",
    "        start_time = time.time()\n",
    "        result = func(*args, **kwargs)\n",
    "        end_time = time.time()\n",
    "        print(f\"Execution time: {end_time - start_time:.6f} seconds\")\n",
    "        return result\n",
    "    return wrapper\n",
    "\n",
    "@time_it\n",
    "def factorial(n):\n",
    "    if n == 0 or n == 1:\n",
    "        return 1\n",
    "    return n * factorial(n - 1)\n",
    "\n",
    "\n",
    "print(\"Factorial Result:\", factorial(10))\n"
   ]
  },
  {
   "cell_type": "markdown",
   "id": "7d10802d",
   "metadata": {},
   "source": [
    "Assignment 7: Decorator with Arguments\n",
    "\n",
    "Write a decorator named repeat that takes an argument n and repeats the execution of the decorated function n times. Apply this decorator to a function that prints a message."
   ]
  },
  {
   "cell_type": "code",
   "execution_count": 9,
   "id": "5c9ac977",
   "metadata": {},
   "outputs": [
    {
     "name": "stdout",
     "output_type": "stream",
     "text": [
      "Execution 1:\n",
      "Hello, world!\n",
      "Execution 2:\n",
      "Hello, world!\n",
      "Execution 3:\n",
      "Hello, world!\n"
     ]
    }
   ],
   "source": [
    "def repeat(n):\n",
    "    def decorator(func):\n",
    "        def wrapper(*args, **kwargs):\n",
    "            for i in range(n):\n",
    "                print(f\"Execution {i + 1}:\")\n",
    "                func(*args, **kwargs)\n",
    "        return wrapper\n",
    "    return decorator\n",
    "\n",
    "@repeat(3)\n",
    "def say_hello():\n",
    "    print(\"Hello, world!\")\n",
    "\n",
    "say_hello()\n"
   ]
  },
  {
   "cell_type": "markdown",
   "id": "11f094c2",
   "metadata": {},
   "source": [
    "Assignment 8: Nested Decorators\n",
    "\n",
    "Write two decorators: uppercase that converts the result of a function to uppercase, and exclaim that adds an exclamation mark to the result of a function. Apply both decorators to a function that returns a greeting message."
   ]
  },
  {
   "cell_type": "code",
   "execution_count": 10,
   "id": "b101f913",
   "metadata": {},
   "outputs": [
    {
     "name": "stdout",
     "output_type": "stream",
     "text": [
      "HELLO WORLD!\n"
     ]
    }
   ],
   "source": [
    "def uppercase(func):\n",
    "    def wrapper(*args, **kwargs):\n",
    "        result = func(*args, **kwargs)\n",
    "        return result.upper()\n",
    "    return wrapper\n",
    "\n",
    "def exclaim(func):\n",
    "    def wrapper(*args, **kwargs):\n",
    "        result = func(*args, **kwargs)\n",
    "        return result + \"!\"\n",
    "    return wrapper\n",
    "\n",
    "@exclaim\n",
    "@uppercase\n",
    "def greet():\n",
    "    return \"hello world\"\n",
    "\n",
    "print(greet())"
   ]
  },
  {
   "cell_type": "markdown",
   "id": "791f41d1",
   "metadata": {},
   "source": [
    "Assignment 9: Class Decorator\n",
    "\n",
    "Create a class decorator named singleton that ensures a class has only one instance. Apply this decorator to a class named DatabaseConnection and test it."
   ]
  },
  {
   "cell_type": "code",
   "execution_count": 11,
   "id": "69c42677",
   "metadata": {},
   "outputs": [
    {
     "name": "stdout",
     "output_type": "stream",
     "text": [
      "Establishing database connection...\n",
      "db1 is db2: True\n"
     ]
    }
   ],
   "source": [
    "def singleton(cls):\n",
    "    instances = {}\n",
    "\n",
    "    def get_instance(*args, **kwargs):\n",
    "        if cls not in instances:\n",
    "            instances[cls] = cls(*args, **kwargs)\n",
    "        return instances[cls]\n",
    "\n",
    "    return get_instance\n",
    "\n",
    "@singleton\n",
    "class DatabaseConnection:\n",
    "    def __init__(self):\n",
    "        print(\"Establishing database connection...\")\n",
    "\n",
    "db1 = DatabaseConnection()\n",
    "db2 = DatabaseConnection()\n",
    "\n",
    "print(\"db1 is db2:\", db1 is db2)\n"
   ]
  },
  {
   "cell_type": "markdown",
   "id": "5afe6726",
   "metadata": {},
   "source": [
    "Assignment 10: Iterator Protocol with Decorators.\n",
    "\n",
    "Create a custom iterator class named ReverseString that iterates over a string in reverse. Write a decorator named uppercase that converts the string to uppercase before reversing it. Apply the decorator to the ReverseString class."
   ]
  },
  {
   "cell_type": "code",
   "execution_count": 12,
   "id": "f0473252",
   "metadata": {},
   "outputs": [
    {
     "name": "stdout",
     "output_type": "stream",
     "text": [
      "O\n",
      "L\n",
      "L\n",
      "E\n",
      "H\n"
     ]
    }
   ],
   "source": [
    "def uppercase(cls):\n",
    "    class Wrapped(cls):\n",
    "        def __init__(self, text):\n",
    "            super().__init__(text.upper())\n",
    "    return Wrapped\n",
    "\n",
    "@uppercase\n",
    "class ReverseString:\n",
    "    def __init__(self, text):\n",
    "        self.text = text\n",
    "        self.index = len(text) - 1\n",
    "\n",
    "    def __iter__(self):\n",
    "        return self\n",
    "\n",
    "    def __next__(self):\n",
    "        if self.index < 0:\n",
    "            raise StopIteration\n",
    "        char = self.text[self.index]\n",
    "        self.index -= 1\n",
    "        return char\n",
    "\n",
    "rev = ReverseString(\"hello\")\n",
    "\n",
    "for ch in rev:\n",
    "    print(ch)\n"
   ]
  },
  {
   "cell_type": "markdown",
   "id": "245eda0b",
   "metadata": {},
   "source": [
    "Assignment 11: Stateful Generators\n",
    "\n",
    "Write a stateful generator function named counter that takes a start value and increments it by 1 each time it is called. Test the generator by iterating over it and printing the first 10 values."
   ]
  },
  {
   "cell_type": "code",
   "execution_count": 13,
   "id": "26815219",
   "metadata": {},
   "outputs": [
    {
     "name": "stdout",
     "output_type": "stream",
     "text": [
      "5\n",
      "6\n",
      "7\n",
      "8\n",
      "9\n",
      "10\n",
      "11\n",
      "12\n",
      "13\n",
      "14\n"
     ]
    }
   ],
   "source": [
    "def counter(start):\n",
    "    current = start\n",
    "    while True:\n",
    "        yield current\n",
    "        current += 1\n",
    "\n",
    "# Create the generator starting from 5\n",
    "gen = counter(5)\n",
    "\n",
    "# Print first 10 values\n",
    "for _ in range(10):\n",
    "    print(next(gen))\n"
   ]
  },
  {
   "cell_type": "markdown",
   "id": "c045131a",
   "metadata": {},
   "source": [
    "Assignment 11: Stateful Generators\n",
    "\n",
    "Write a stateful generator function named counter that takes a start value and increments it by 1 each time it is called. Test the generator by iterating over it and printing the first 10 values."
   ]
  },
  {
   "cell_type": "code",
   "execution_count": 14,
   "id": "950b5df5",
   "metadata": {},
   "outputs": [
    {
     "name": "stdout",
     "output_type": "stream",
     "text": [
      "1\n",
      "2\n",
      "3\n",
      "4\n",
      "5\n",
      "6\n",
      "7\n",
      "8\n",
      "9\n",
      "10\n"
     ]
    }
   ],
   "source": [
    "def counter(start):\n",
    "    while True:\n",
    "        yield start\n",
    "        start += 1\n",
    "\n",
    "# Create the generator starting from 1\n",
    "gen = counter(1)\n",
    "\n",
    "# Print first 10 values\n",
    "for _ in range(10):\n",
    "    print(next(gen))\n"
   ]
  },
  {
   "cell_type": "markdown",
   "id": "29b85dd7",
   "metadata": {},
   "source": [
    "Assignment 12: Generator with Exception Handling\n",
    "\n",
    "Write a generator function named safe_divide that takes a list of numbers and yields the division of each number by a given divisor. Implement exception handling within the generator to handle division by zero."
   ]
  },
  {
   "cell_type": "code",
   "execution_count": 15,
   "id": "b5fa88e0",
   "metadata": {},
   "outputs": [
    {
     "name": "stdout",
     "output_type": "stream",
     "text": [
      "Error: Division by zero\n",
      "Error: Division by zero\n",
      "Error: Division by zero\n",
      "Error: Division by zero\n"
     ]
    }
   ],
   "source": [
    "def safe_divide(numbers, divisor):\n",
    "    for num in numbers:\n",
    "        try:\n",
    "            yield num / divisor\n",
    "        except ZeroDivisionError:\n",
    "            yield \"Error: Division by zero\"\n",
    "\n",
    "nums = [10, 20, 30, 40]\n",
    "divisor = 0  # Intentional division by zero to test error handling\n",
    "\n",
    "# Use the generator\n",
    "for result in safe_divide(nums, divisor):\n",
    "    print(result)\n"
   ]
  },
  {
   "cell_type": "code",
   "execution_count": null,
   "id": "67b2c684",
   "metadata": {},
   "outputs": [
    {
     "name": "stdout",
     "output_type": "stream",
     "text": [
      "1.0\n",
      "2.0\n",
      "3.0\n",
      "4.0\n"
     ]
    }
   ],
   "source": [
    "## example with valid reason\n",
    "divisor = 10\n",
    "\n",
    "for result in safe_divide(nums, divisor):\n",
    "    print(result)\n"
   ]
  },
  {
   "cell_type": "markdown",
   "id": "9466841a",
   "metadata": {},
   "source": [
    "Assignment 13: Context Manager Decorator\n",
    "\n",
    "Write a decorator named open_file that manages the opening and closing of a file. Apply this decorator to a function that writes some text to a file."
   ]
  },
  {
   "cell_type": "code",
   "execution_count": 18,
   "id": "d9bb7db5",
   "metadata": {},
   "outputs": [
    {
     "name": "stdout",
     "output_type": "stream",
     "text": [
      "Text has been written to output.txt.\n"
     ]
    }
   ],
   "source": [
    "def open_file(filename, mode):\n",
    "    def decorator(func):\n",
    "        def wrapper(*args, **kwargs):\n",
    "            with open(filename, mode) as f:\n",
    "                return func(f, *args, **kwargs)\n",
    "        return wrapper\n",
    "    return decorator\n",
    "\n",
    "@open_file(\"output.txt\", \"w\")\n",
    "def write_text(file):\n",
    "    file.write(\"Hello from the decorated function!\\n\")\n",
    "    file.write(\"This file was safely opened and closed.\\n\")\n",
    "    \n",
    "write_text()\n",
    "print(\"Text has been written to output.txt.\")\n",
    "\n"
   ]
  },
  {
   "cell_type": "markdown",
   "id": "a26d8620",
   "metadata": {},
   "source": [
    "Assignment 14: Infinite Iterator\n",
    "\n",
    "Create an infinite iterator class named InfiniteCounter that starts from a given number and increments by 1 indefinitely. Test the iterator by printing the first 10 values generated by it."
   ]
  },
  {
   "cell_type": "code",
   "execution_count": 19,
   "id": "28e413c2",
   "metadata": {},
   "outputs": [
    {
     "name": "stdout",
     "output_type": "stream",
     "text": [
      "5\n",
      "6\n",
      "7\n",
      "8\n",
      "9\n",
      "10\n",
      "11\n",
      "12\n",
      "13\n",
      "14\n"
     ]
    }
   ],
   "source": [
    "class InfiniteCounter:\n",
    "    def __init__(self, start=0):\n",
    "        self.current = start\n",
    "\n",
    "    def __iter__(self):\n",
    "        return self\n",
    "\n",
    "    def __next__(self):\n",
    "        value = self.current\n",
    "        self.current += 1\n",
    "        return value\n",
    "# Create an instance starting from 5\n",
    "counter = InfiniteCounter(5)\n",
    "\n",
    "# Print the first 10 values\n",
    "for _ in range(10):\n",
    "    print(next(counter))\n"
   ]
  },
  {
   "cell_type": "markdown",
   "id": "67f8bf3b",
   "metadata": {},
   "source": [
    "Assignment 15: Generator Pipeline\n",
    "\n",
    "Write three generator functions: integers that yields integers from 1 to 10, doubles that yields each integer doubled, and negatives that yields the negative of each doubled value. Chain these generators to create a pipeline that produces the negative doubled values of integers from 1 to 10."
   ]
  },
  {
   "cell_type": "code",
   "execution_count": 23,
   "id": "88c8f4ee",
   "metadata": {},
   "outputs": [
    {
     "name": "stdout",
     "output_type": "stream",
     "text": [
      "-2\n",
      "-4\n",
      "-6\n",
      "-8\n",
      "-10\n",
      "-12\n",
      "-14\n",
      "-16\n",
      "-18\n",
      "-20\n"
     ]
    }
   ],
   "source": [
    "def integers():\n",
    "    for i in range(1, 11):\n",
    "        yield i\n",
    "def doubles(numbers):\n",
    "    for num in numbers:\n",
    "        yield num * 2\n",
    "def negatives(numbers):\n",
    "    for num in numbers:\n",
    "        yield -num\n",
    "# Create the generator pipeline\n",
    "pipeline = negatives(doubles(integers()))\n",
    "\n",
    "# Print the final output\n",
    "for value in pipeline:\n",
    "    print(value)\n"
   ]
  },
  {
   "cell_type": "markdown",
   "id": "6146bb47",
   "metadata": {},
   "source": []
  }
 ],
 "metadata": {
  "kernelspec": {
   "display_name": "Python 3",
   "language": "python",
   "name": "python3"
  },
  "language_info": {
   "codemirror_mode": {
    "name": "ipython",
    "version": 3
   },
   "file_extension": ".py",
   "mimetype": "text/x-python",
   "name": "python",
   "nbconvert_exporter": "python",
   "pygments_lexer": "ipython3",
   "version": "3.12.0"
  }
 },
 "nbformat": 4,
 "nbformat_minor": 5
}
