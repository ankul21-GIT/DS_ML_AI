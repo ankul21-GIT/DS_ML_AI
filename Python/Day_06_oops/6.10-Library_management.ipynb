{
 "cells": [
  {
   "cell_type": "code",
   "execution_count": 1,
   "id": "55d2c067",
   "metadata": {},
   "outputs": [
    {
     "name": "stdout",
     "output_type": "stream",
     "text": [
      "The library has 4 books. The books are\n",
      "Harry Potter1\n",
      "Harry Potter2\n",
      "Harry Potter3\n",
      "Harry Potter4\n"
     ]
    }
   ],
   "source": [
    "class Library:\n",
    "    def __init__(self):\n",
    "        self.noBooks = 0\n",
    "        self.books = []\n",
    "        \n",
    "    def addBook(self, book):\n",
    "        self.books.append(book)\n",
    "        self.noBooks = len(self.books)\n",
    "        \n",
    "    def showInfo(self):\n",
    "        print(f\"The library has {self.noBooks} books. The books are\")\n",
    "        for book in self.books:\n",
    "            print(book)\n",
    "        \n",
    "        \n",
    "l1 = Library()\n",
    "l1.addBook(\"Harry Potter1\")\n",
    "l1.addBook(\"Harry Potter2\")\n",
    "l1.addBook(\"Harry Potter3\")\n",
    "l1.addBook(\"Harry Potter4\")\n",
    "l1.showInfo()"
   ]
  }
 ],
 "metadata": {
  "kernelspec": {
   "display_name": "Python 3",
   "language": "python",
   "name": "python3"
  },
  "language_info": {
   "codemirror_mode": {
    "name": "ipython",
    "version": 3
   },
   "file_extension": ".py",
   "mimetype": "text/x-python",
   "name": "python",
   "nbconvert_exporter": "python",
   "pygments_lexer": "ipython3",
   "version": "3.12.0"
  }
 },
 "nbformat": 4,
 "nbformat_minor": 5
}
