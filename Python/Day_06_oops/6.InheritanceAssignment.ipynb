{
 "cells": [
  {
   "cell_type": "markdown",
   "id": "f3b512f5",
   "metadata": {},
   "source": [
    "Module: Inheritance Assignments\n",
    "\n",
    "Lesson: Single and Multiple Inheritance"
   ]
  },
  {
   "cell_type": "markdown",
   "id": "0857a389",
   "metadata": {},
   "source": [
    "Assignment 1: Single Inheritance Basic\n",
    "\n",
    "Create a base class named Animal with attributes name and species. Create a derived class named Dog that inherits from Animal and adds an attribute breed. Create an object of the Dog class and print its attributes."
   ]
  },
  {
   "cell_type": "code",
   "execution_count": 6,
   "id": "77b4f455",
   "metadata": {},
   "outputs": [
    {
     "name": "stdout",
     "output_type": "stream",
     "text": [
      "Tyson\n",
      "caning\n",
      "Dobbername\n"
     ]
    }
   ],
   "source": [
    "class Animal:\n",
    "    def __init__(self,name,species):\n",
    "        self.name = name\n",
    "        self.species = species\n",
    "        \n",
    "class Dog(Animal):\n",
    "    def __init__(self,name,species,breed):\n",
    "        super().__init__(name,species)\n",
    "        self.breed = breed\n",
    "        \n",
    "        \n",
    "obj1 = Dog(\"Tyson\",\"caning\",\"Dobbername\")\n",
    "print(obj1.name)\n",
    "print(obj1.species)\n",
    "print(obj1.breed)"
   ]
  },
  {
   "cell_type": "markdown",
   "id": "76713f9d",
   "metadata": {},
   "source": [
    "Assignment 2: Method Overriding in Single Inheritance\n",
    "\n",
    "In the Dog class, override the __str__ method to return a string representation of the object. Create an object of the class and print it."
   ]
  },
  {
   "cell_type": "code",
   "execution_count": 9,
   "id": "aa251246",
   "metadata": {},
   "outputs": [
    {
     "name": "stdout",
     "output_type": "stream",
     "text": [
      "Dog(Name: Buddy, Species: Canine, Breed: Golden Retriever)\n"
     ]
    }
   ],
   "source": [
    "class Animal:\n",
    "    def __init__(self,name,species):\n",
    "        self.name = name\n",
    "        self.species = species\n",
    "\n",
    "class Dog(Animal):\n",
    "    def __init__(self, name, species, breed):\n",
    "        super().__init__(name, species)\n",
    "        self.breed = breed\n",
    "\n",
    "    def __str__(self):\n",
    "        return f\"Dog(Name: {self.name}, Species: {self.species}, Breed: {self.breed})\"\n",
    "\n",
    "\n",
    "dog = Dog('Buddy', 'Canine', 'Golden Retriever')\n",
    "print(dog)"
   ]
  },
  {
   "cell_type": "markdown",
   "id": "bfb6814a",
   "metadata": {},
   "source": [
    "Assignment 3: Single Inheritance with Additional Methods\n",
    "\n",
    "In the Dog class, add a method named bark that prints a barking sound. Create an object of the class and call the method."
   ]
  },
  {
   "cell_type": "code",
   "execution_count": 10,
   "id": "49aed171",
   "metadata": {},
   "outputs": [
    {
     "name": "stdout",
     "output_type": "stream",
     "text": [
      "Woof! Woof!\n"
     ]
    }
   ],
   "source": [
    "class Animal:\n",
    "    def __init__(self,name,species):\n",
    "        self.name = name\n",
    "        self.species = species\n",
    "\n",
    "class Dog(Animal):\n",
    "    def __init__(self, name, species, breed):\n",
    "        super().__init__(name, species)\n",
    "        self.breed = breed\n",
    "\n",
    "    def bark(self):\n",
    "        print(\"Woof! Woof!\")\n",
    "\n",
    "\n",
    "dog = Dog('Buddy', 'Canine', 'Golden Retriever')\n",
    "dog.bark()"
   ]
  },
  {
   "cell_type": "markdown",
   "id": "e6b6f663",
   "metadata": {},
   "source": [
    "Assignment 4: Multiple Inheritance Basic\n",
    "\n",
    "Create a base class named Walker with a method walk that prints a walking message. Create another base class named Runner with a method run that prints a running message. Create a derived class named Athlete that inherits from both Walker and Runner. Create an object of the Athlete class and call both methods."
   ]
  },
  {
   "cell_type": "code",
   "execution_count": 12,
   "id": "78c6d4d1",
   "metadata": {},
   "outputs": [
    {
     "name": "stdout",
     "output_type": "stream",
     "text": [
      "Walking...\n",
      "Running...\n",
      "This is an athlete who can walk and run\n"
     ]
    }
   ],
   "source": [
    "class Walker:\n",
    "    def walk(self):\n",
    "        print(\"Walking...\")\n",
    "        \n",
    "class Runner:\n",
    "    def run(self):\n",
    "        print(\"Running...\")\n",
    "        \n",
    "class Athlete(Runner,Walker):\n",
    "    def info(self):\n",
    "        print(\"This is an athlete who can walk and run\")\n",
    "        \n",
    "athlete = Athlete()\n",
    "\n",
    "athlete.walk()\n",
    "athlete.run()\n",
    "athlete.info()"
   ]
  },
  {
   "cell_type": "markdown",
   "id": "68dfd326",
   "metadata": {},
   "source": [
    "Assignment 5: Method Resolution Order (MRO) in Multiple Inheritance\n",
    "\n",
    "In the Athlete class, override the walk method to print a different message. Create an object of the class and call the walk method. Use the super() function to call the walk method of the Walker class."
   ]
  },
  {
   "cell_type": "code",
   "execution_count": 18,
   "id": "4c79a6c8",
   "metadata": {},
   "outputs": [
    {
     "name": "stdout",
     "output_type": "stream",
     "text": [
      "Athlete is walk and run very fast\n",
      "Walking...\n"
     ]
    }
   ],
   "source": [
    "class Walker:\n",
    "    def walk(self):\n",
    "        print(\"Walking...\")\n",
    "        \n",
    "class Runner:\n",
    "    def run(self):\n",
    "        print(\"Running...\")\n",
    "        \n",
    "class Athlete(Runner,Walker):\n",
    "    def walk(self):\n",
    "        print(\"Athlete is walk and run very fast\")\n",
    "        \n",
    "        super().walk()\n",
    "        \n",
    "athlete = Athlete()\n",
    "athlete.walk()"
   ]
  },
  {
   "cell_type": "markdown",
   "id": "f7e3929a",
   "metadata": {},
   "source": [
    "Assignment 6: Multiple Inheritance with Additional Attributes\n",
    "\n",
    "In the Athlete class, add an attribute training_hours and a method train that prints the training hours. Create an object of the class and call the method."
   ]
  },
  {
   "cell_type": "code",
   "execution_count": 19,
   "id": "e932b085",
   "metadata": {},
   "outputs": [
    {
     "name": "stdout",
     "output_type": "stream",
     "text": [
      "Traning for 5 hour\n"
     ]
    }
   ],
   "source": [
    "class Walker:\n",
    "    def walk(self):\n",
    "        print(\"Walking...\")\n",
    "        \n",
    "class Runner:\n",
    "    def run(self):\n",
    "        print(\"Running...\")\n",
    "        \n",
    "class Athlete(Runner,Walker):\n",
    "    def __init__(self, training_hour):\n",
    "        self.training_hour = training_hour\n",
    "        \n",
    "    def train(self):\n",
    "        print(f\"Traning for {self.training_hour} hour\")\n",
    "        \n",
    "athlete = Athlete(5)\n",
    "athlete.train()"
   ]
  },
  {
   "cell_type": "markdown",
   "id": "f3360fe1",
   "metadata": {},
   "source": [
    "Assignment 7: Diamond Problem in Multiple Inheritance\n",
    "\n",
    "Create a class named A with a method show that prints a message. Create two derived classes B and C that inherit from A and override the show method. Create a class D that inherits from both B and C. Create an object of the D class and call the show method. Observe the method resolution order."
   ]
  },
  {
   "cell_type": "code",
   "execution_count": 22,
   "id": "59ddf097",
   "metadata": {},
   "outputs": [
    {
     "name": "stdout",
     "output_type": "stream",
     "text": [
      "B's show method\n"
     ]
    }
   ],
   "source": [
    "class A:\n",
    "    def show(self):\n",
    "        print(\"A's show method\")\n",
    "\n",
    "class B(A):\n",
    "    def show(self):\n",
    "        print(\"B's show method\")\n",
    "\n",
    "class C(A):\n",
    "    def show(self):\n",
    "        print(\"C's show method\")\n",
    "\n",
    "class D(B,C):\n",
    "    pass\n",
    "\n",
    "d = D()\n",
    "d.show()  # B's show method"
   ]
  },
  {
   "cell_type": "markdown",
   "id": "6b39db87",
   "metadata": {},
   "source": [
    "Assignment 8: Using super() in Single Inheritance\n",
    "\n",
    "Create a base class named Shape with an attribute color. Create a derived class named Circle that inherits from Shape and adds an attribute radius. Use the super() function to initialize the attributes. Create an object of the Circle class and print its attributes."
   ]
  },
  {
   "cell_type": "code",
   "execution_count": 25,
   "id": "e7ce450f",
   "metadata": {},
   "outputs": [
    {
     "name": "stdout",
     "output_type": "stream",
     "text": [
      "Red\n",
      "5\n"
     ]
    }
   ],
   "source": [
    "class Shape:\n",
    "    def __init__(self, color):\n",
    "        self.color = color\n",
    "\n",
    "class Circle(Shape):\n",
    "    def __init__(self, color, radius):\n",
    "        super().__init__(color)\n",
    "        self.radius = radius\n",
    "\n",
    "\n",
    "circle = Circle('Red', 5)\n",
    "print(circle.color) \n",
    "print(circle.radius)"
   ]
  },
  {
   "cell_type": "markdown",
   "id": "28ae703b",
   "metadata": {},
   "source": [
    "Assignment 9: Using super() in Multiple Inheritance\n",
    "\n",
    "Create a class named Person with an attribute name. Create a class named Employee with an attribute employee_id. Create a derived class Manager that inherits from both Person and Employee. Use the super() function to initialize the attributes. Create an object of the Manager class and print its attributes."
   ]
  },
  {
   "cell_type": "code",
   "execution_count": 27,
   "id": "9c7e999d",
   "metadata": {},
   "outputs": [
    {
     "name": "stdout",
     "output_type": "stream",
     "text": [
      "John\n",
      "M123\n"
     ]
    }
   ],
   "source": [
    "class Person:\n",
    "    def __init__(self, name):\n",
    "        self.name = name\n",
    "\n",
    "class Employee:\n",
    "    def __init__(self, employee_id):\n",
    "        self.employee_id = employee_id\n",
    "\n",
    "class Manager(Person, Employee):\n",
    "    def __init__(self, name, employee_id):\n",
    "        super().__init__(name)\n",
    "        Employee.__init__(self, employee_id)\n",
    "\n",
    "\n",
    "manager = Manager('John', 'M123')\n",
    "print(manager.name)\n",
    "print(manager.employee_id)"
   ]
  },
  {
   "cell_type": "markdown",
   "id": "f8e0a582",
   "metadata": {},
   "source": [
    "Assignment 10: Method Overriding and super()\n",
    "\n",
    "Create a class named Vehicle with a method start that prints a starting message. Create a derived class Car that overrides the start method to print a different message. Use the super() function to call the start method of the Vehicle class. Create an object of the Car class and call the start method."
   ]
  },
  {
   "cell_type": "code",
   "execution_count": 30,
   "id": "dcc006e1",
   "metadata": {},
   "outputs": [
    {
     "name": "stdout",
     "output_type": "stream",
     "text": [
      "Car starting...\n",
      "Vehicle starting...\n"
     ]
    }
   ],
   "source": [
    "class Vehicle:\n",
    "    def start(self):\n",
    "        print(\"Vehicle starting...\")\n",
    "\n",
    "class Car(Vehicle):\n",
    "    def start(self):\n",
    "        print(\"Car starting...\")\n",
    "        super().start()\n",
    "\n",
    "# Test\n",
    "car = Car()\n",
    "car.start()"
   ]
  },
  {
   "cell_type": "markdown",
   "id": "f079ac67",
   "metadata": {},
   "source": [
    "Assignment 11: Multiple Inheritance with Different Methods\n",
    "\n",
    "Create a class named Flyer with a method fly that prints a flying message. Create a class named Swimmer with a method swim that prints a swimming message. Create a derived class Superhero that inherits from both Flyer and Swimmer. Create an object of the Superhero class and call both methods."
   ]
  },
  {
   "cell_type": "code",
   "execution_count": 33,
   "id": "4d6a36d2",
   "metadata": {},
   "outputs": [
    {
     "name": "stdout",
     "output_type": "stream",
     "text": [
      "Flying...\n",
      "Swimming...\n",
      "hello sir how are you\n"
     ]
    }
   ],
   "source": [
    "class Flyer:\n",
    "    def fly(self):\n",
    "        print(\"Flying...\")\n",
    "\n",
    "class Swimmer:\n",
    "    def swim(self):\n",
    "        print(\"Swimming...\")\n",
    "\n",
    "class Superhero(Flyer, Swimmer):\n",
    "    def show(self):\n",
    "        print(\"hello sir how are you\")\n",
    "\n",
    "\n",
    "superhero = Superhero()\n",
    "superhero.fly()\n",
    "superhero.swim()\n",
    "superhero.show()"
   ]
  },
  {
   "cell_type": "markdown",
   "id": "8f34a38e",
   "metadata": {},
   "source": [
    "Assignment 12: Complex Multiple Inheritance\n",
    "\n",
    "Create a class named Base1 with an attribute a. Create a class named Base2 with an attribute b. Create a class named Derived that inherits from both Base1 and Base2 and adds an attribute c. Initialize all attributes using the super() function. Create an object of the Derived class and print its attributes."
   ]
  },
  {
   "cell_type": "code",
   "execution_count": 35,
   "id": "9c948164",
   "metadata": {},
   "outputs": [
    {
     "name": "stdout",
     "output_type": "stream",
     "text": [
      "1\n",
      "2\n",
      "3\n"
     ]
    }
   ],
   "source": [
    "class Base1:\n",
    "    def __init__(self, a):\n",
    "        self.a = a\n",
    "\n",
    "class Base2:\n",
    "    def __init__(self, b):\n",
    "        self.b = b\n",
    "\n",
    "class Derived(Base1, Base2):\n",
    "    def __init__(self, a, b, c):\n",
    "        super().__init__(a)\n",
    "        Base2.__init__(self, b)\n",
    "        self.c = c\n",
    "\n",
    "# Test\n",
    "derived = Derived(1, 2, 3)\n",
    "print(derived.a)\n",
    "print(derived.b)\n",
    "print(derived.c)"
   ]
  },
  {
   "cell_type": "markdown",
   "id": "12c62203",
   "metadata": {},
   "source": [
    "Assignment 13: Checking Instance Types with Inheritance\n",
    "\n",
    "Create a base class named Animal and a derived class named Cat. Create objects of both classes and use the isinstance function to check the instance types."
   ]
  },
  {
   "cell_type": "code",
   "execution_count": 37,
   "id": "b3edfcf7",
   "metadata": {},
   "outputs": [
    {
     "name": "stdout",
     "output_type": "stream",
     "text": [
      "True\n",
      "True\n",
      "True\n",
      "False\n"
     ]
    }
   ],
   "source": [
    "class Animal:\n",
    "    pass\n",
    "\n",
    "class Cat(Animal):\n",
    "    pass\n",
    "\n",
    "animal = Animal()\n",
    "cat = Cat()\n",
    "print(isinstance(animal, Animal))  # True\n",
    "print(isinstance(cat, Animal))  # True\n",
    "print(isinstance(cat, Cat))  # True\n",
    "print(isinstance(animal, Cat))  # False"
   ]
  },
  {
   "cell_type": "markdown",
   "id": "f8b972e2",
   "metadata": {},
   "source": [
    "Assignment 14: Polymorphism with Inheritance\n",
    "\n",
    "Create a base class named Bird with a method speak. Create two derived classes Parrot and Penguin that override the speak method. Create a list of Bird objects and call the speak method on each object to demonstrate polymorphism."
   ]
  },
  {
   "cell_type": "code",
   "execution_count": 38,
   "id": "7955f639",
   "metadata": {},
   "outputs": [
    {
     "name": "stdout",
     "output_type": "stream",
     "text": [
      "Parrot says: Squawk!\n",
      "Penguin says: Honk!\n"
     ]
    }
   ],
   "source": [
    "class Bird:\n",
    "    def speak(self):\n",
    "        pass\n",
    "\n",
    "class Parrot(Bird):\n",
    "    def speak(self):\n",
    "        print(\"Parrot says: Squawk!\")\n",
    "\n",
    "class Penguin(Bird):\n",
    "    def speak(self):\n",
    "        print(\"Penguin says: Honk!\")\n",
    "\n",
    "\n",
    "birds = [Parrot(), Penguin()]\n",
    "for bird in birds:\n",
    "    bird.speak()"
   ]
  },
  {
   "cell_type": "markdown",
   "id": "f12b07c3",
   "metadata": {},
   "source": [
    "Assignment 15: Combining Single and Multiple Inheritance\n",
    "\n",
    "Create a base class named Device with an attribute brand. Create a derived class Phone that inherits from Device and adds an attribute model. Create another base class Camera with an attribute resolution. Create a derived class Smartphone that inherits from both Phone and Camera. Create an object of the Smartphone class and print its attributes."
   ]
  },
  {
   "cell_type": "code",
   "execution_count": 40,
   "id": "87ee9156",
   "metadata": {},
   "outputs": [
    {
     "name": "stdout",
     "output_type": "stream",
     "text": [
      "Apple\n",
      "iPhone 12\n",
      "12 MP\n"
     ]
    }
   ],
   "source": [
    "class Device:\n",
    "    def __init__(self, brand):\n",
    "        self.brand = brand\n",
    "\n",
    "class Phone(Device):\n",
    "    def __init__(self, brand, model):\n",
    "        super().__init__(brand)\n",
    "        self.model = model\n",
    "\n",
    "class Camera:\n",
    "    def __init__(self, resolution):\n",
    "        self.resolution = resolution\n",
    "\n",
    "class Smartphone(Phone, Camera):\n",
    "    def __init__(self, brand, model, resolution):\n",
    "        Phone.__init__(self, brand, model)\n",
    "        Camera.__init__(self, resolution)\n",
    "\n",
    "\n",
    "smartphone = Smartphone('Apple', 'iPhone 12', '12 MP')\n",
    "print(smartphone.brand)\n",
    "print(smartphone.model) \n",
    "print(smartphone.resolution)"
   ]
  },
  {
   "cell_type": "code",
   "execution_count": null,
   "id": "aaded408",
   "metadata": {},
   "outputs": [],
   "source": []
  }
 ],
 "metadata": {
  "kernelspec": {
   "display_name": "Python 3",
   "language": "python",
   "name": "python3"
  },
  "language_info": {
   "codemirror_mode": {
    "name": "ipython",
    "version": 3
   },
   "file_extension": ".py",
   "mimetype": "text/x-python",
   "name": "python",
   "nbconvert_exporter": "python",
   "pygments_lexer": "ipython3",
   "version": "3.12.0"
  }
 },
 "nbformat": 4,
 "nbformat_minor": 5
}
