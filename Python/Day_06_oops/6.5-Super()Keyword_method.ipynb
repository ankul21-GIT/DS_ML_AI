{
 "cells": [
  {
   "cell_type": "markdown",
   "id": "2f7fd010",
   "metadata": {},
   "source": [
    "## super() method\n",
    "The super() keyword in Python is used to call methods or constructors of a parent (super) class from a child class.\n",
    "\n"
   ]
  },
  {
   "cell_type": "markdown",
   "id": "10e2a2be",
   "metadata": {},
   "source": [
    "## Main Uses of super():\n",
    "\n",
    "- Access the parent class constructor (__init__)\n",
    "- Call a parent class method inside an overridden method\n",
    "- Support multiple inheritance cleanly"
   ]
  },
  {
   "cell_type": "markdown",
   "id": "0aa9d87e",
   "metadata": {},
   "source": [
    "## Why use super()?\n",
    "\n",
    "- To avoid directly referencing the parent class name.\n",
    "- To ensure the method resolution order (MRO) works properly, especially in multiple inheritance.\n",
    "- Makes your code more maintainable and compatible with future changes."
   ]
  },
  {
   "cell_type": "code",
   "execution_count": 1,
   "id": "81bf3e72",
   "metadata": {},
   "outputs": [
    {
     "name": "stdout",
     "output_type": "stream",
     "text": [
      "Animal created: Buddy\n",
      "Dog breed: Labrador\n"
     ]
    }
   ],
   "source": [
    "class Animal:\n",
    "    def __init__(self, name):\n",
    "        self.name = name\n",
    "        print(f\"Animal created: {self.name}\")\n",
    "\n",
    "class Dog(Animal):\n",
    "    def __init__(self, name, breed):\n",
    "        super().__init__(name)  # Call Animal's __init__\n",
    "        self.breed = breed\n",
    "        print(f\"Dog breed: {self.breed}\")\n",
    "\n",
    "d = Dog(\"Buddy\", \"Labrador\")\n"
   ]
  },
  {
   "cell_type": "code",
   "execution_count": 1,
   "id": "533fd6c5",
   "metadata": {},
   "outputs": [
    {
     "name": "stdout",
     "output_type": "stream",
     "text": [
      "This is child method\n",
      "This is parent method\n"
     ]
    }
   ],
   "source": [
    "class ParentClass:\n",
    "    def parent_method(self):\n",
    "        print(\"This is parent method\")\n",
    "        \n",
    "class ChildClass(ParentClass):\n",
    "    def parent_method(self):\n",
    "        print(\"Harry\")\n",
    "        super().parent_method()\n",
    "    def child_method(self):\n",
    "        print(\"This is child method\")\n",
    "        super().parent_method()\n",
    "        \n",
    "        \n",
    "child_object = ChildClass()\n",
    "child_object.child_method()"
   ]
  },
  {
   "cell_type": "code",
   "execution_count": 2,
   "id": "d4a26c84",
   "metadata": {},
   "outputs": [
    {
     "name": "stdout",
     "output_type": "stream",
     "text": [
      "This is child method\n",
      "This is parent method\n",
      "Harry\n",
      "This is parent method\n"
     ]
    }
   ],
   "source": [
    "class ParentClass:\n",
    "    def parent_method(self):\n",
    "        print(\"This is parent method\")\n",
    "        \n",
    "class ChildClass(ParentClass):\n",
    "    def parent_method(self):\n",
    "        print(\"Harry\")\n",
    "        super().parent_method()\n",
    "    def child_method(self):\n",
    "        print(\"This is child method\")\n",
    "        super().parent_method()\n",
    "        \n",
    "        \n",
    "child_object = ChildClass()\n",
    "child_object.child_method()\n",
    "child_object.parent_method()"
   ]
  },
  {
   "cell_type": "code",
   "execution_count": 3,
   "id": "3036f2aa",
   "metadata": {},
   "outputs": [
    {
     "name": "stdout",
     "output_type": "stream",
     "text": [
      "This is child method\n",
      "This is parent method\n",
      "This is parent method\n"
     ]
    }
   ],
   "source": [
    "class ParentClass:\n",
    "    def parent_method(self):\n",
    "        print(\"This is parent method\")\n",
    "        \n",
    "class ChildClass(ParentClass):\n",
    "    # def parent_method(self):\n",
    "    #     print(\"Harry\")\n",
    "    #     super().parent_method()\n",
    "    def child_method(self):\n",
    "        print(\"This is child method\")\n",
    "        super().parent_method()\n",
    "        \n",
    "        \n",
    "child_object = ChildClass()\n",
    "child_object.child_method()\n",
    "child_object.parent_method()"
   ]
  },
  {
   "cell_type": "code",
   "execution_count": 4,
   "id": "4e3ce40e",
   "metadata": {},
   "outputs": [
    {
     "name": "stdout",
     "output_type": "stream",
     "text": [
      "Rohan Das\n"
     ]
    }
   ],
   "source": [
    "class Employee:\n",
    "    def __init__(self, name, id):\n",
    "        self.name = name\n",
    "        self.id = id\n",
    "        \n",
    "class Programmer:\n",
    "    def __init__(self, name, id, lang):\n",
    "        self.name = name\n",
    "        self.id = id\n",
    "        self.lang = lang\n",
    "        \n",
    "rohan = Employee(\"Rohan Das\", \"430\")\n",
    "harry = Programmer(\"Harry\", \"123\", \"Python\")\n",
    "print(rohan.name)"
   ]
  },
  {
   "cell_type": "code",
   "execution_count": 8,
   "id": "0852bc9c",
   "metadata": {},
   "outputs": [
    {
     "name": "stdout",
     "output_type": "stream",
     "text": [
      "Rohan Das\n",
      "430\n",
      "Python\n"
     ]
    }
   ],
   "source": [
    "class Employee:\n",
    "    def __init__(self, name, id):\n",
    "        self.name = name\n",
    "        self.id = id\n",
    "        \n",
    "class Programmer(Employee):\n",
    "    def __init__(self, name, id, lang):\n",
    "        super().__init__(name, id)\n",
    "        self.lang = lang\n",
    "                \n",
    "rohan = Employee(\"Rohan Das\", \"430\")\n",
    "harry = Programmer(\"Harry\", \"123\", \"Python\")\n",
    "print(rohan.name)\n",
    "print(rohan.id)\n",
    "print(harry.lang)"
   ]
  },
  {
   "cell_type": "code",
   "execution_count": null,
   "id": "ec316961",
   "metadata": {},
   "outputs": [],
   "source": []
  }
 ],
 "metadata": {
  "kernelspec": {
   "display_name": "Python 3",
   "language": "python",
   "name": "python3"
  },
  "language_info": {
   "codemirror_mode": {
    "name": "ipython",
    "version": 3
   },
   "file_extension": ".py",
   "mimetype": "text/x-python",
   "name": "python",
   "nbconvert_exporter": "python",
   "pygments_lexer": "ipython3",
   "version": "3.12.0"
  }
 },
 "nbformat": 4,
 "nbformat_minor": 5
}
