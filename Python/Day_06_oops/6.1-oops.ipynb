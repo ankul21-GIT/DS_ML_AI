{
 "cells": [
  {
   "cell_type": "markdown",
   "id": "82e086ad",
   "metadata": {},
   "source": [
    "Classes and Objects:\n",
    "\n",
    "Object-Oriented Programming (OOP) is a programming paradigm that uses \"objects\" to design applications and computer programs. OOP allows for modeling real-world scenarios using classes and objects. This lesson covers the basics of creating classes and objects, including instance variables and methods."
   ]
  },
  {
   "cell_type": "markdown",
   "id": "dd497542",
   "metadata": {},
   "source": [
    "class class_Name:\n",
    "\n",
    "    def __init__(self, parameters_1,parameters_2,..., N):\n",
    "\n",
    "        self.parameters_1 = parameters_1\n",
    "\n",
    "        self.parameters_2 = parameters_2\n",
    "\n",
    "        self.N = N\n",
    "\n",
    "    def method_1():\n",
    "    \n",
    "        print(f\" {self.N} says something. \")"
   ]
  },
  {
   "cell_type": "code",
   "execution_count": 1,
   "id": "a4b0649a",
   "metadata": {},
   "outputs": [
    {
     "name": "stdout",
     "output_type": "stream",
     "text": [
      "<class '__main__.Car'>\n",
      "<class '__main__.Automobile'>\n"
     ]
    }
   ],
   "source": [
    "### A class is a blue print for creating objects. Attributes,methods\n",
    "\n",
    "\n",
    "## This is how you create a class\n",
    "\n",
    "\n",
    "class Car:\n",
    "    pass\n",
    "\n",
    "\n",
    "# creating objects with class Car()\n",
    "\n",
    "audi=Car()\n",
    "bmw=Car()\n",
    "\n",
    "print(type(audi))\n",
    "\n",
    "\n",
    "# # class_2 \n",
    "\n",
    "class Automobile:\n",
    "    pass\n",
    "\n",
    "\n",
    "RoyalEnfield=Automobile()\n",
    "\n",
    "Tesla = Automobile()\n",
    "\n",
    "print(type(RoyalEnfield))"
   ]
  },
  {
   "cell_type": "code",
   "execution_count": 2,
   "id": "437378ce",
   "metadata": {},
   "outputs": [
    {
     "name": "stdout",
     "output_type": "stream",
     "text": [
      "<__main__.Car object at 0x000001DB4AEFCEF0>\n",
      "<__main__.Car object at 0x000001DB4AEFF320>\n",
      "<__main__.Automobile object at 0x000001DB49753560>\n",
      "<__main__.Automobile object at 0x000001DB4ABF1220>\n"
     ]
    }
   ],
   "source": [
    "print(audi)\n",
    "print(bmw)\n",
    "print(Tesla)\n",
    "print(RoyalEnfield)"
   ]
  },
  {
   "cell_type": "code",
   "execution_count": 7,
   "id": "bb5d13a2",
   "metadata": {},
   "outputs": [
    {
     "data": {
      "text/plain": [
       "['__class__',\n",
       " '__delattr__',\n",
       " '__dict__',\n",
       " '__dir__',\n",
       " '__doc__',\n",
       " '__eq__',\n",
       " '__format__',\n",
       " '__ge__',\n",
       " '__getattribute__',\n",
       " '__getstate__',\n",
       " '__gt__',\n",
       " '__hash__',\n",
       " '__init__',\n",
       " '__init_subclass__',\n",
       " '__le__',\n",
       " '__lt__',\n",
       " '__module__',\n",
       " '__ne__',\n",
       " '__new__',\n",
       " '__reduce__',\n",
       " '__reduce_ex__',\n",
       " '__repr__',\n",
       " '__setattr__',\n",
       " '__sizeof__',\n",
       " '__str__',\n",
       " '__subclasshook__',\n",
       " '__weakref__',\n",
       " 'headlight']"
      ]
     },
     "execution_count": 7,
     "metadata": {},
     "output_type": "execute_result"
    }
   ],
   "source": [
    "dir(bmw)"
   ]
  },
  {
   "cell_type": "markdown",
   "id": "b57b8f40",
   "metadata": {},
   "source": [
    "We can modify object properties"
   ]
  },
  {
   "cell_type": "code",
   "execution_count": null,
   "id": "ef89a071",
   "metadata": {},
   "outputs": [
    {
     "name": "stdout",
     "output_type": "stream",
     "text": [
      "4\n",
      "5\n"
     ]
    }
   ],
   "source": [
    "## we can update the audi and bmw 4 window in audi car and we add 5 gear in BMW\n",
    "\n",
    "audi.window = 4\n",
    "bmw.gear = 5\n",
    "\n",
    "print(audi.window)\n",
    "print(bmw.gear)"
   ]
  },
  {
   "cell_type": "code",
   "execution_count": 9,
   "id": "019bb535",
   "metadata": {},
   "outputs": [
    {
     "data": {
      "text/plain": [
       "['__class__',\n",
       " '__delattr__',\n",
       " '__dict__',\n",
       " '__dir__',\n",
       " '__doc__',\n",
       " '__eq__',\n",
       " '__format__',\n",
       " '__ge__',\n",
       " '__getattribute__',\n",
       " '__getstate__',\n",
       " '__gt__',\n",
       " '__hash__',\n",
       " '__init__',\n",
       " '__init_subclass__',\n",
       " '__le__',\n",
       " '__lt__',\n",
       " '__module__',\n",
       " '__ne__',\n",
       " '__new__',\n",
       " '__reduce__',\n",
       " '__reduce_ex__',\n",
       " '__repr__',\n",
       " '__setattr__',\n",
       " '__sizeof__',\n",
       " '__str__',\n",
       " '__subclasshook__',\n",
       " '__weakref__',\n",
       " 'gear',\n",
       " 'headlight']"
      ]
     },
     "execution_count": 9,
     "metadata": {},
     "output_type": "execute_result"
    }
   ],
   "source": [
    "dir(bmw)"
   ]
  },
  {
   "cell_type": "code",
   "execution_count": null,
   "id": "11824bc0",
   "metadata": {},
   "outputs": [
    {
     "name": "stdout",
     "output_type": "stream",
     "text": [
      "<__main__.Dog object at 0x000001DB4AF1CCE0>\n",
      "Tyson\n",
      "12\n",
      "Black\n",
      "\n",
      "Lucy\n",
      "22\n",
      "Brown\n"
     ]
    }
   ],
   "source": [
    "### Instance Variable and Methods\n",
    "class Dog:\n",
    "    # constructor\n",
    "    def __init__(self,name,age,colour):\n",
    "        self.name = name\n",
    "        self.age = age\n",
    "        self.colour = colour\n",
    "        \n",
    "dog1 = Dog(\"Tyson\",12,\"Black\")\n",
    "print(dog1)\n",
    "\n",
    "print(dog1.name)\n",
    "print(dog1.age)\n",
    "print(dog1.colour)\n",
    "\n",
    "print()\n",
    "\n",
    "dog2 = Dog(\"Lucy\", 22, \"Brown\")\n",
    "print(dog2.name)\n",
    "print(dog2.age)\n",
    "print(dog2.colour)"
   ]
  },
  {
   "cell_type": "code",
   "execution_count": 40,
   "id": "f832c3bc",
   "metadata": {},
   "outputs": [
    {
     "name": "stdout",
     "output_type": "stream",
     "text": [
      "Tyson\n",
      "21\n",
      "White\n",
      "Tyson is barking\n",
      "The name is Tyson and colour is White and age is 21\n",
      "\n",
      "Muffien\n"
     ]
    }
   ],
   "source": [
    "## Define a class with instance method.\n",
    "\n",
    "class Dog:\n",
    "    def __init__(self,name,age,colour):\n",
    "        self.name = name\n",
    "        self.age = age\n",
    "        self.colour = colour\n",
    "        \n",
    "    def bark(self):\n",
    "        print(f\"{self.name} is barking\")\n",
    "        \n",
    "        print(f\"The name is {self.name} and colour is {self.colour} and age is {self.age}\")\n",
    "          \n",
    "          \n",
    "dog1 = Dog(\"Tyson\", 21, \"White\")\n",
    "print(dog1.name)\n",
    "print(dog1.age)\n",
    "print(dog1.colour)\n",
    "dog1.bark()\n",
    "print()\n",
    "\n",
    "dog2 = Dog(\"Muffien\", 18, \"Black\")\n",
    "print(dog2.name)"
   ]
  },
  {
   "cell_type": "code",
   "execution_count": 38,
   "id": "d521c1c5",
   "metadata": {},
   "outputs": [
    {
     "name": "stdout",
     "output_type": "stream",
     "text": [
      "Tyson\n",
      "Tyson is barking\n",
      "\n",
      "8\n",
      "Jaffer is barking\n",
      "The age of the dog is 8\n"
     ]
    }
   ],
   "source": [
    "class Dog:\n",
    "    def __init__(self,name,age,colour):\n",
    "        self.name = name\n",
    "        self.age = age\n",
    "        self.colour = colour\n",
    "        \n",
    "    def bark(self):\n",
    "        print(f\"{self.name} is barking\")\n",
    "        \n",
    "    def ages(self):\n",
    "        print(f\"The age of the dog is {self.age}\")\n",
    "          \n",
    "          \n",
    "dog1 = Dog(\"Tyson\", 21, \"White\")\n",
    "print(dog1.name) # you can comment it\n",
    "dog1.bark()\n",
    "\n",
    "print()\n",
    "dog2 = Dog(\"Jaffer\", 8, \"Red\")   \n",
    "print(dog2.age)\n",
    "dog2.bark()    \n",
    "dog2.ages()                   "
   ]
  },
  {
   "cell_type": "code",
   "execution_count": 60,
   "id": "d0f41f38",
   "metadata": {},
   "outputs": [
    {
     "name": "stdout",
     "output_type": "stream",
     "text": [
      "5000\n",
      "Ankur\n",
      "\n",
      "400 is deposited. new balance is 5400\n",
      "300 is withdra and new balance is 5100\n",
      "5100\n"
     ]
    }
   ],
   "source": [
    "class BankAccount :\n",
    "    def __init__(self,owner,balance=0):\n",
    "        self.owner = owner\n",
    "        self.balance = balance\n",
    "        \n",
    "    def deposite(self,amount):\n",
    "        self.balance += amount\n",
    "        print(f\"{amount} is deposited. new balance is {self.balance}\")\n",
    "        \n",
    "    def withdraw(self,amount):\n",
    "        if amount > self.balance:\n",
    "            print(\"Insufficient amount\")\n",
    "        else:\n",
    "            self.balance -= amount\n",
    "            print(f\"{amount} is withdra and new balance is {self.balance}\")\n",
    "            \n",
    "    def get_balance(self):\n",
    "        return self.balance\n",
    "        \n",
    "        \n",
    "account =  BankAccount(\"Ankur\", 5000)\n",
    "print(account.balance)\n",
    "print(account.owner)\n",
    "print()\n",
    "       \n",
    "account.deposite(400)\n",
    "account.withdraw(300)\n",
    "print(account.get_balance())"
   ]
  },
  {
   "cell_type": "code",
   "execution_count": 11,
   "id": "d786c20b",
   "metadata": {},
   "outputs": [
    {
     "name": "stdout",
     "output_type": "stream",
     "text": [
      "John\n",
      "Hello my name is John\n"
     ]
    }
   ],
   "source": [
    "class Person:\n",
    "  def __init__(mysillyobject, name, age):\n",
    "    mysillyobject.name = name\n",
    "    mysillyobject.age = age\n",
    "\n",
    "  def myfunc(abc):\n",
    "    print(\"Hello my name is \" + abc.name)\n",
    "  # def myfunc(self):\n",
    "  #   print(f\"Hello my name is {self.name}\")\n",
    "\n",
    "p1 = Person(\"John\", 23)\n",
    "print(p1.name)\n",
    "p1.myfunc()"
   ]
  },
  {
   "cell_type": "markdown",
   "id": "6a007c94",
   "metadata": {},
   "source": [
    "Conclusion\n",
    "\n",
    "Object-Oriented Programming (OOP) allows you to model real-world scenarios using classes and objects. In this lesson, you learned how to create classes and objects, define instance variables and methods, and use them to perform various operations. Understanding these concepts is fundamental to writing effective and maintainable Python code."
   ]
  }
 ],
 "metadata": {
  "kernelspec": {
   "display_name": "Python 3",
   "language": "python",
   "name": "python3"
  },
  "language_info": {
   "codemirror_mode": {
    "name": "ipython",
    "version": 3
   },
   "file_extension": ".py",
   "mimetype": "text/x-python",
   "name": "python",
   "nbconvert_exporter": "python",
   "pygments_lexer": "ipython3",
   "version": "3.12.0"
  }
 },
 "nbformat": 4,
 "nbformat_minor": 5
}
