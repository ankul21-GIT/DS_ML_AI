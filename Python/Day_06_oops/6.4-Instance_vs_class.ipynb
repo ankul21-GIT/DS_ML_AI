{
 "cells": [
  {
   "cell_type": "code",
   "execution_count": null,
   "id": "700ac795",
   "metadata": {},
   "outputs": [
    {
     "name": "stdout",
     "output_type": "stream",
     "text": [
      "The name of the Employee is Harry\n"
     ]
    }
   ],
   "source": [
    "class Employee:\n",
    "    def __init__(self, name):\n",
    "        self.name = name\n",
    "        \n",
    "    def showDetails(self):\n",
    "        print(f\"The name of the Employee is {self.name}\")\n",
    "\n",
    "emp1 = Employee(\"Harry\")\n",
    "#emp1.showDetails()\n",
    "Employee.showDetails(emp1)"
   ]
  },
  {
   "cell_type": "code",
   "execution_count": 1,
   "id": "55dc7224",
   "metadata": {},
   "outputs": [
    {
     "name": "stdout",
     "output_type": "stream",
     "text": [
      "The name of the Employee is Harry and the raise amount is 0.02\n",
      "The name of the Employee is Rohan and the raise amount is 0.02\n"
     ]
    }
   ],
   "source": [
    "class Employee:\n",
    "    def __init__(self, name):\n",
    "        self.name = name\n",
    "        self.raise_amount = 0.02\n",
    "        \n",
    "    def showDetails(self):\n",
    "        print(f\"The name of the Employee is {self.name} and the raise amount is {self.raise_amount}\")\n",
    "\n",
    "emp1 = Employee(\"Harry\")\n",
    "emp1.showDetails()\n",
    "emp2 = Employee(\"Rohan\")\n",
    "emp2.showDetails()"
   ]
  },
  {
   "cell_type": "code",
   "execution_count": 2,
   "id": "2028637a",
   "metadata": {},
   "outputs": [
    {
     "name": "stdout",
     "output_type": "stream",
     "text": [
      "The name of the Employee is Harry and the raise amount is 0.99\n",
      "The name of the Employee is Rohan and the raise amount is 0.02\n"
     ]
    }
   ],
   "source": [
    "class Employee:\n",
    "    def __init__(self, name):\n",
    "        self.name = name\n",
    "        self.raise_amount = 0.02\n",
    "        \n",
    "    def showDetails(self):\n",
    "        print(f\"The name of the Employee is {self.name} and the raise amount is {self.raise_amount}\")\n",
    "\n",
    "emp1 = Employee(\"Harry\")\n",
    "# How to change the raise amount of Harry\n",
    "emp1.raise_amount = 0.99\n",
    "emp1.showDetails()\n",
    "\n",
    "emp2 = Employee(\"Rohan\")\n",
    "emp2.showDetails()"
   ]
  },
  {
   "cell_type": "code",
   "execution_count": 3,
   "id": "9085c154",
   "metadata": {},
   "outputs": [
    {
     "name": "stdout",
     "output_type": "stream",
     "text": [
      "The name of the Employee is Harry and the raise amount is Apple is0.99\n",
      "The name of the Employee is Rohan and the raise amount is Apple is0.02\n"
     ]
    }
   ],
   "source": [
    "class Employee:\n",
    "    companyName = \"Apple\"\n",
    "    def __init__(self, name):\n",
    "        self.name = name\n",
    "        self.raise_amount = 0.02\n",
    "        \n",
    "    def showDetails(self):\n",
    "        print(f\"The name of the Employee is {self.name} and the raise amount is {self.companyName} is{self.raise_amount}\")\n",
    "\n",
    "emp1 = Employee(\"Harry\")\n",
    "# How to change the raise amount of Harry\n",
    "emp1.raise_amount = 0.99\n",
    "emp1.showDetails()\n",
    "\n",
    "emp2 = Employee(\"Rohan\")\n",
    "emp2.showDetails()"
   ]
  },
  {
   "cell_type": "code",
   "execution_count": 4,
   "id": "4a11b65c",
   "metadata": {},
   "outputs": [
    {
     "name": "stdout",
     "output_type": "stream",
     "text": [
      "The name of the Employee is Harry and the raise amount is Apple India is 0.99\n",
      "Google\n",
      "The name of the Employee is Rohan and the raise amount is Google is 0.02\n"
     ]
    }
   ],
   "source": [
    "class Employee:\n",
    "    companyName = \"Apple\"\n",
    "    def __init__(self, name):\n",
    "        self.name = name\n",
    "        self.raise_amount = 0.02\n",
    "        \n",
    "    def showDetails(self):\n",
    "        print(f\"The name of the Employee is {self.name} and the raise amount is {self.companyName} is {self.raise_amount}\")\n",
    "\n",
    "emp1 = Employee(\"Harry\")\n",
    "# How to change the raise amount of Harry\n",
    "# How to change the company name in emp1\n",
    "emp1.raise_amount = 0.99\n",
    "emp1.companyName = \"Apple India\"\n",
    "emp1.showDetails()\n",
    "Employee.companyName = \"Google\"\n",
    "\n",
    "print(Employee.companyName)\n",
    "\n",
    "emp2 = Employee(\"Rohan\")\n",
    "emp2.showDetails()"
   ]
  },
  {
   "cell_type": "code",
   "execution_count": 5,
   "id": "c787f1b5",
   "metadata": {},
   "outputs": [
    {
     "name": "stdout",
     "output_type": "stream",
     "text": [
      "The name of the Employee is Harry and the raise amount is Apple India is 0.99\n",
      "Google\n",
      "The name of the Employee is Rohan and the raise amount is Nestle is 0.02\n"
     ]
    }
   ],
   "source": [
    "class Employee:\n",
    "    companyName = \"Apple\"\n",
    "    def __init__(self, name):\n",
    "        self.name = name\n",
    "        self.raise_amount = 0.02\n",
    "        \n",
    "    def showDetails(self):\n",
    "        print(f\"The name of the Employee is {self.name} and the raise amount is {self.companyName} is {self.raise_amount}\")\n",
    "\n",
    "emp1 = Employee(\"Harry\")\n",
    "# How to change the raise amount of Harry\n",
    "# How to change the company name in emp1\n",
    "emp1.raise_amount = 0.99\n",
    "emp1.companyName = \"Apple India\"\n",
    "emp1.showDetails()\n",
    "Employee.companyName = \"Google\"\n",
    "\n",
    "print(Employee.companyName)\n",
    "\n",
    "emp2 = Employee(\"Rohan\")\n",
    "emp2.companyName = \"Nestle\"\n",
    "emp2.showDetails()"
   ]
  },
  {
   "cell_type": "code",
   "execution_count": null,
   "id": "ffba7b3a",
   "metadata": {},
   "outputs": [],
   "source": []
  }
 ],
 "metadata": {
  "kernelspec": {
   "display_name": "Python 3",
   "language": "python",
   "name": "python3"
  },
  "language_info": {
   "codemirror_mode": {
    "name": "ipython",
    "version": 3
   },
   "file_extension": ".py",
   "mimetype": "text/x-python",
   "name": "python",
   "nbconvert_exporter": "python",
   "pygments_lexer": "ipython3",
   "version": "3.12.0"
  }
 },
 "nbformat": 4,
 "nbformat_minor": 5
}
