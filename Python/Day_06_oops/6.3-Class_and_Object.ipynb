{
 "cells": [
  {
   "cell_type": "markdown",
   "id": "1d5b7957",
   "metadata": {},
   "source": [
    "## Class:\n",
    "\n",
    "A class is a blueprint or a template for creating objects. It defines the structure and behavior that objects of that class will possess. Think of a class as a cookie cutter – it defines the shape and characteristics of the cookies, but it's not a cookie itself.\n",
    "\n",
    "- Attributes:\n",
    "These are variables defined within a class that represent the data or state of an object. They can be class variables (shared by all instances) or instance variables (unique to each object).\n",
    "\n",
    "- Methods:\n",
    "These are functions defined within a class that represent the actions or behaviors an object can perform.\n",
    "\n",
    "## Object:\n",
    "\n",
    "An object is an instance of a class. It is a concrete entity created based on the blueprint defined by the class. Following the cookie cutter analogy, an object is an actual cookie baked using the cookie cutter. Each object has its own unique set of instance attributes, although they share the same methods defined in the class."
   ]
  },
  {
   "cell_type": "code",
   "execution_count": 2,
   "id": "78c7e7d0",
   "metadata": {},
   "outputs": [
    {
     "name": "stdout",
     "output_type": "stream",
     "text": [
      "Harry \n",
      " Software Devloper\n"
     ]
    }
   ],
   "source": [
    "class Person:\n",
    "    name = \"Harry\"\n",
    "    occupation = \"Software Devloper\"\n",
    "    networth = 10\n",
    "    \n",
    "a = Person()\n",
    "print(a.name, \"\\n\",a.occupation)"
   ]
  },
  {
   "cell_type": "code",
   "execution_count": 3,
   "id": "2b9e5f5a",
   "metadata": {},
   "outputs": [
    {
     "name": "stdout",
     "output_type": "stream",
     "text": [
      "Shubham\n",
      "Accontant\n"
     ]
    }
   ],
   "source": [
    "class Person:\n",
    "    name = \"Harry\"\n",
    "    occupation = \"Software Devloper\"\n",
    "    networth = 10\n",
    "    \n",
    "a = Person()\n",
    "# Change the name\n",
    "a.name = \"Shubham\"\n",
    "print(a.name)\n",
    "a.occupation = \"Accontant\"\n",
    "print(a.occupation)"
   ]
  },
  {
   "cell_type": "code",
   "execution_count": 4,
   "id": "07a4d07e",
   "metadata": {},
   "outputs": [
    {
     "name": "stdout",
     "output_type": "stream",
     "text": [
      "Harry\n",
      "Software Devloper\n"
     ]
    }
   ],
   "source": [
    "class Person:\n",
    "    name = \"Harry\"\n",
    "    occupation = \"Software Devloper\"\n",
    "    networth = 10\n",
    "    \n",
    "a = Person()\n",
    "# Change the name\n",
    "# a.name = \"Shubham\"\n",
    "print(a.name)\n",
    "# a.occupation = \"Accontant\"\n",
    "print(a.occupation)"
   ]
  },
  {
   "cell_type": "code",
   "execution_count": 5,
   "id": "6cf616aa",
   "metadata": {},
   "outputs": [
    {
     "name": "stdout",
     "output_type": "stream",
     "text": [
      "Shubham\n",
      "Accontant\n",
      "Shubham is a Accontant\n"
     ]
    }
   ],
   "source": [
    "class Person:\n",
    "    name = \"Harry\"\n",
    "    occupation = \"Software Devloper\"\n",
    "    networth = 10\n",
    "    \n",
    "    def info(self):\n",
    "        print(f\"{self.name} is a {self.occupation}\")\n",
    "    \n",
    "a = Person()\n",
    "# Change the name\n",
    "a.name = \"Shubham\"\n",
    "print(a.name)\n",
    "a.occupation = \"Accontant\"\n",
    "print(a.occupation)\n",
    "a.info()"
   ]
  },
  {
   "cell_type": "code",
   "execution_count": 6,
   "id": "feac96f6",
   "metadata": {},
   "outputs": [
    {
     "name": "stdout",
     "output_type": "stream",
     "text": [
      "Shubham is a Accontant\n",
      "Nitika is a HR\n"
     ]
    }
   ],
   "source": [
    "class Person:\n",
    "    name = \"Harry\"\n",
    "    occupation = \"Software Devloper\"\n",
    "    networth = 10\n",
    "    \n",
    "    def info(self):\n",
    "        print(f\"{self.name} is a {self.occupation}\")\n",
    "\n",
    "    \n",
    "a = Person()\n",
    "b = Person()\n",
    "a.name = \"Shubham\"\n",
    "a.occupation = \"Accontant\"\n",
    "\n",
    "b.name = \"Nitika\"\n",
    "b.occupation = \"HR\"\n",
    "\n",
    "a.info()\n",
    "b.info()"
   ]
  },
  {
   "cell_type": "code",
   "execution_count": 7,
   "id": "6bf6eefb",
   "metadata": {},
   "outputs": [
    {
     "name": "stdout",
     "output_type": "stream",
     "text": [
      "Shubham is a Accontant\n",
      "Nitika is a HR\n",
      "Harry is a Software Devloper\n"
     ]
    }
   ],
   "source": [
    "class Person:\n",
    "    name = \"Harry\"\n",
    "    occupation = \"Software Devloper\"\n",
    "    networth = 10\n",
    "    \n",
    "    def info(self):\n",
    "        print(f\"{self.name} is a {self.occupation}\")\n",
    "\n",
    "    \n",
    "a = Person()\n",
    "b = Person()\n",
    "c = Person()\n",
    "\n",
    "a.name = \"Shubham\"\n",
    "a.occupation = \"Accontant\"\n",
    "\n",
    "b.name = \"Nitika\"\n",
    "b.occupation = \"HR\"\n",
    "\n",
    "a.info()\n",
    "b.info()\n",
    "c.info()"
   ]
  },
  {
   "cell_type": "code",
   "execution_count": null,
   "id": "0ee4eda0",
   "metadata": {},
   "outputs": [],
   "source": []
  }
 ],
 "metadata": {
  "kernelspec": {
   "display_name": "Python 3",
   "language": "python",
   "name": "python3"
  },
  "language_info": {
   "codemirror_mode": {
    "name": "ipython",
    "version": 3
   },
   "file_extension": ".py",
   "mimetype": "text/x-python",
   "name": "python",
   "nbconvert_exporter": "python",
   "pygments_lexer": "ipython3",
   "version": "3.12.0"
  }
 },
 "nbformat": 4,
 "nbformat_minor": 5
}
