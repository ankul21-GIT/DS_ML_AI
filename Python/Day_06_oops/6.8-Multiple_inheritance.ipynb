{
 "cells": [
  {
   "cell_type": "markdown",
   "id": "84c3dd37",
   "metadata": {},
   "source": [
    "Multiple Inheritance: \n",
    "\n",
    "Inheritance which contain more parent class and only one child class is called multiple inheritance.\n",
    "\n",
    "When a class can be derived from more than one base class this type of inheritance is called multiple inheritances. In multiple inheritances, all the features of the base classes are inherited into the derived class. "
   ]
  },
  {
   "cell_type": "code",
   "execution_count": null,
   "id": "e01df4e6",
   "metadata": {},
   "outputs": [
    {
     "name": "stdout",
     "output_type": "stream",
     "text": [
      "Buddy say woof\n",
      "Owner:Abhishek\n"
     ]
    }
   ],
   "source": [
    "### Multiple Inheritance\n",
    "## When a class inherits from more than one base class.\n",
    "## Base class 1\n",
    "class Animal:\n",
    "    def __init__(self,name):\n",
    "        self.name=name\n",
    "\n",
    "    def speak(self):\n",
    "        print(\"Subclass must implement this method\")\n",
    "\n",
    "## Base class 2\n",
    "class Pet:\n",
    "    def __init__(self, owner):\n",
    "        self.owner = owner\n",
    "\n",
    "\n",
    "##Derived class\n",
    "class Dog(Animal,Pet):\n",
    "    def __init__(self,name,owner):\n",
    "        Animal.__init__(self,name)\n",
    "        Pet.__init__(self,owner)\n",
    "\n",
    "    def speak(self):\n",
    "        return f\"{self.name} say woof\"\n",
    "    \n",
    "\n",
    "## Create an object\n",
    "dog=Dog(\"Buddy\",\"Abhishek\")\n",
    "print(dog.speak())\n",
    "print(f\"Owner:{dog.owner}\")"
   ]
  },
  {
   "cell_type": "code",
   "execution_count": 2,
   "id": "03b86c2b",
   "metadata": {},
   "outputs": [
    {
     "name": "stdout",
     "output_type": "stream",
     "text": [
      "Father : Ram Ji\n",
      "Mother : Sita Mata\n"
     ]
    }
   ],
   "source": [
    "# Base class 1\n",
    "class Mother:\n",
    "    mothername = \"\"\n",
    "\n",
    "    def mother(self):\n",
    "        print(self.mothername)\n",
    "\n",
    "# Base class 2\n",
    "class Father:\n",
    "    fathername = \"\"\n",
    "\n",
    "    def father(self):\n",
    "        print(self.fathername)\n",
    "\n",
    "# Derived class\n",
    "class Son(Mother, Father):\n",
    "    def parents(self):\n",
    "        print(\"Father :\", self.fathername)\n",
    "        print(\"Mother :\", self.mothername)\n",
    "\n",
    "# Driver code\n",
    "s1 = Son()\n",
    "s1.fathername = \"Ram Ji\"\n",
    "s1.mothername = \"Sita Mata\"\n",
    "s1.parents()"
   ]
  },
  {
   "cell_type": "code",
   "execution_count": 3,
   "id": "a2296250",
   "metadata": {},
   "outputs": [
    {
     "name": "stdout",
     "output_type": "stream",
     "text": [
      "Good Morning\n",
      "Good Afternoon\n",
      "Good Night\n"
     ]
    }
   ],
   "source": [
    "# Base class 1\n",
    "class A:\n",
    "    def displayA(self):\n",
    "        print(\"Good Morning\")\n",
    "\n",
    "# Base class 2\n",
    "class B:\n",
    "    def displayB(self):\n",
    "        print(\"Good Afternoon\")\n",
    "\n",
    "# Derived class\n",
    "class C(A,B):\n",
    "    def parents(self):\n",
    "        print(\"Good Night\")\n",
    "# Driver code\n",
    "\n",
    "obj = C()\n",
    "\n",
    "obj.displayA()\n",
    "obj.displayB()\n",
    "obj.parents()"
   ]
  },
  {
   "cell_type": "code",
   "execution_count": 4,
   "id": "c5e26bc4",
   "metadata": {},
   "outputs": [
    {
     "name": "stdout",
     "output_type": "stream",
     "text": [
      "Hello, my name is Alice.\n",
      "My employee ID is E12345.\n",
      "Hello, my name is Alice. My employee ID is E12345. I manage the Sales department.\n"
     ]
    }
   ],
   "source": [
    "# Base class 1\n",
    "class Person:\n",
    "    def __init__(self, name):\n",
    "        self.name = name\n",
    "    def greet(self):\n",
    "        return f\"Hello, my name is {self.name}.\"\n",
    "    \n",
    "# Base class 2\n",
    "class Employee:\n",
    "    def __init__(self, employee_id):\n",
    "        self.employee_id = employee_id\n",
    "    def get_id(self):\n",
    "        return f\"My employee ID is {self.employee_id}.\"\n",
    "    \n",
    "# Derive class\n",
    "class Manager(Person, Employee):\n",
    "    def __init__(self, name, employee_id, department):\n",
    "        Person.__init__(self, name)  \n",
    "        Employee.__init__(self, employee_id) \n",
    "        self.department = department\n",
    "    def show_details(self):\n",
    "        return f\"{self.greet()} {self.get_id()} I manage the {self.department} department.\"\n",
    "\n",
    "# Create an instance of the derived class\n",
    "manager = Manager(\"Alice\", \"E12345\", \"Sales\")\n",
    "\n",
    "print(manager.greet())         \n",
    "print(manager.get_id())        \n",
    "print(manager.show_details()) "
   ]
  },
  {
   "cell_type": "code",
   "execution_count": 5,
   "id": "d11e6974",
   "metadata": {},
   "outputs": [
    {
     "name": "stdout",
     "output_type": "stream",
     "text": [
      "Shivani\n",
      "Kathak\n"
     ]
    }
   ],
   "source": [
    "class Employee:\n",
    "    def __init__(self, name):\n",
    "        self.name = name\n",
    "        \n",
    "class Dancer:\n",
    "    def __init__(self, dance):\n",
    "        self.dance = dance\n",
    "        \n",
    "class DancerEmployee(Employee, Dancer):\n",
    "    def __init__(self, dance, name):\n",
    "        self.dance = dance\n",
    "        self.name = name\n",
    "        \n",
    "o = DancerEmployee(\"Kathak\", \"Shivani\")\n",
    "print(o.name)\n",
    "print(o.dance)"
   ]
  },
  {
   "cell_type": "code",
   "execution_count": 6,
   "id": "4e9e11ac",
   "metadata": {},
   "outputs": [
    {
     "name": "stdout",
     "output_type": "stream",
     "text": [
      "Shivani\n",
      "Kathak\n",
      "The name is Shivani\n"
     ]
    }
   ],
   "source": [
    "class Employee:\n",
    "    def __init__(self, name):\n",
    "        self.name = name\n",
    "    def show(self):\n",
    "        print(f\"The name is {self.name}\")\n",
    "        \n",
    "class Dancer:\n",
    "    def __init__(self, dance):\n",
    "        self.dance = dance\n",
    "    def show(self):\n",
    "        print(f\"The dance is {self.dance}\")\n",
    "        \n",
    "class DancerEmployee(Employee, Dancer):\n",
    "    def __init__(self, dance, name):\n",
    "        self.dance = dance\n",
    "        self.name = name\n",
    "        \n",
    "o = DancerEmployee(\"Kathak\", \"Shivani\")\n",
    "print(o.name)\n",
    "print(o.dance)\n",
    "o.show()\n",
    "     \n",
    "     "
   ]
  },
  {
   "cell_type": "code",
   "execution_count": 7,
   "id": "6c2b9795",
   "metadata": {},
   "outputs": [
    {
     "name": "stdout",
     "output_type": "stream",
     "text": [
      "Shivani\n",
      "Kathak\n",
      "The dance is Kathak\n",
      "[<class '__main__.DancerEmployee'>, <class '__main__.Dancer'>, <class '__main__.Employee'>, <class 'object'>]\n"
     ]
    }
   ],
   "source": [
    "class Employee:\n",
    "    def __init__(self, name):\n",
    "        self.name = name\n",
    "    def show(self):\n",
    "        print(f\"The name is {self.name}\")\n",
    "        \n",
    "class Dancer:\n",
    "    def __init__(self, dance):\n",
    "        self.dance = dance\n",
    "    def show(self):\n",
    "        print(f\"The dance is {self.dance}\")\n",
    "        \n",
    "class DancerEmployee(Dancer, Employee):\n",
    "    def __init__(self, dance, name):\n",
    "        self.dance = dance\n",
    "        self.name = name\n",
    "        \n",
    "o = DancerEmployee(\"Kathak\", \"Shivani\")\n",
    "print(o.name)\n",
    "print(o.dance)\n",
    "o.show()\n",
    "print(DancerEmployee.mro())\n"
   ]
  },
  {
   "cell_type": "code",
   "execution_count": null,
   "id": "286a7c66",
   "metadata": {},
   "outputs": [],
   "source": []
  }
 ],
 "metadata": {
  "kernelspec": {
   "display_name": "Python 3",
   "language": "python",
   "name": "python3"
  },
  "language_info": {
   "codemirror_mode": {
    "name": "ipython",
    "version": 3
   },
   "file_extension": ".py",
   "mimetype": "text/x-python",
   "name": "python",
   "nbconvert_exporter": "python",
   "pygments_lexer": "ipython3",
   "version": "3.12.0"
  }
 },
 "nbformat": 4,
 "nbformat_minor": 5
}
