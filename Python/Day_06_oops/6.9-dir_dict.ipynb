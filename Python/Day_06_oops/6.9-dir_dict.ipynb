{
 "cells": [
  {
   "cell_type": "markdown",
   "id": "168e03a5",
   "metadata": {},
   "source": [
    "## dir() — List of attributes and methods,\n",
    "\n",
    "Use Case:\n",
    "\n",
    "- Useful for introspection/debugging.\n",
    "- Helps discover methods or properties of an object."
   ]
  },
  {
   "cell_type": "code",
   "execution_count": 1,
   "id": "98c15919",
   "metadata": {},
   "outputs": [
    {
     "name": "stdout",
     "output_type": "stream",
     "text": [
      "['__class__', '__delattr__', '__dict__', '__dir__', '__doc__', '__eq__', '__format__', '__ge__', '__getattribute__', '__getstate__', '__gt__', '__hash__', '__init__', '__init_subclass__', '__le__', '__lt__', '__module__', '__ne__', '__new__', '__reduce__', '__reduce_ex__', '__repr__', '__setattr__', '__sizeof__', '__str__', '__subclasshook__', '__weakref__', 'name']\n"
     ]
    }
   ],
   "source": [
    "class Person:\n",
    "    def __init__(self, name):\n",
    "        self.name = name\n",
    "\n",
    "p = Person(\"Ankul\")\n",
    "\n",
    "print(dir(p))\n"
   ]
  },
  {
   "cell_type": "code",
   "execution_count": 1,
   "id": "c7fe2a8f",
   "metadata": {},
   "outputs": [
    {
     "name": "stdout",
     "output_type": "stream",
     "text": [
      "['__add__', '__class__', '__class_getitem__', '__contains__', '__delattr__', '__delitem__', '__dir__', '__doc__', '__eq__', '__format__', '__ge__', '__getattribute__', '__getitem__', '__getstate__', '__gt__', '__hash__', '__iadd__', '__imul__', '__init__', '__init_subclass__', '__iter__', '__le__', '__len__', '__lt__', '__mul__', '__ne__', '__new__', '__reduce__', '__reduce_ex__', '__repr__', '__reversed__', '__rmul__', '__setattr__', '__setitem__', '__sizeof__', '__str__', '__subclasshook__', 'append', 'clear', 'copy', 'count', 'extend', 'index', 'insert', 'pop', 'remove', 'reverse', 'sort']\n",
      "<method-wrapper '__add__' of list object at 0x0000022C6C4DD100>\n"
     ]
    }
   ],
   "source": [
    "## __dir__\n",
    "\n",
    "x = [1, 2, 3]\n",
    "print(dir(x))\n",
    "\n",
    "print(x.__add__)\n"
   ]
  },
  {
   "cell_type": "markdown",
   "id": "c33e5aaa",
   "metadata": {},
   "source": [
    "## __dict__ — Instance or class namespace as a dictionary\n",
    "\n",
    "Purpose:\n",
    "\n",
    "- object.__dict__ returns a dictionary of all attributes and their values that are stored in the object's __dict__ (usually user-defined)."
   ]
  },
  {
   "cell_type": "markdown",
   "id": "c5b95dce",
   "metadata": {},
   "source": [
    "## Use Case:\n",
    "\n",
    "- Shows what attributes are explicitly set on an object.\n",
    "- Often used for serialization, debugging, or cloning objects."
   ]
  },
  {
   "cell_type": "code",
   "execution_count": 2,
   "id": "e218e230",
   "metadata": {},
   "outputs": [
    {
     "name": "stdout",
     "output_type": "stream",
     "text": [
      "{'name': 'John', 'age': 30}\n",
      "Help on class Person in module __main__:\n",
      "\n",
      "class Person(builtins.object)\n",
      " |  Person(name, age)\n",
      " |\n",
      " |  Methods defined here:\n",
      " |\n",
      " |  __init__(self, name, age)\n",
      " |      Initialize self.  See help(type(self)) for accurate signature.\n",
      " |\n",
      " |  ----------------------------------------------------------------------\n",
      " |  Data descriptors defined here:\n",
      " |\n",
      " |  __dict__\n",
      " |      dictionary for instance variables (if defined)\n",
      " |\n",
      " |  __weakref__\n",
      " |      list of weak references to the object (if defined)\n",
      "\n",
      "None\n"
     ]
    }
   ],
   "source": [
    "## __dict__\n",
    "\n",
    "class Person:\n",
    "    def __init__(self, name, age):\n",
    "        self.name = name\n",
    "        self.age = age\n",
    "        \n",
    "p = Person(\"John\", 30)\n",
    "print(p.__dict__)\n",
    "\n",
    "#print(help(str))\n",
    "print(help(Person))\n"
   ]
  },
  {
   "cell_type": "code",
   "execution_count": null,
   "id": "aff0c9b9",
   "metadata": {},
   "outputs": [],
   "source": []
  }
 ],
 "metadata": {
  "kernelspec": {
   "display_name": "Python 3",
   "language": "python",
   "name": "python3"
  },
  "language_info": {
   "codemirror_mode": {
    "name": "ipython",
    "version": 3
   },
   "file_extension": ".py",
   "mimetype": "text/x-python",
   "name": "python",
   "nbconvert_exporter": "python",
   "pygments_lexer": "ipython3",
   "version": "3.12.0"
  }
 },
 "nbformat": 4,
 "nbformat_minor": 5
}
