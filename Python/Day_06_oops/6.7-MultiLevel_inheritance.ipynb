{
 "cells": [
  {
   "cell_type": "markdown",
   "id": "0ad3e48d",
   "metadata": {},
   "source": [
    "Multilevel Inheritance :\n",
    "    \n",
    "In these inheritance we have one parent class and multiple child classes\n",
    "\n",
    "In multilevel inheritance, features of the base class and the derived class are further inherited into the new derived class. This is similar to a relationship representing a child and a grandfather. "
   ]
  },
  {
   "cell_type": "code",
   "execution_count": 2,
   "id": "e735e651",
   "metadata": {},
   "outputs": [
    {
     "name": "stdout",
     "output_type": "stream",
     "text": [
      "Dasrathji\n",
      "Grandfather name : Dasrathji\n",
      "Father name : Ramji\n",
      "Son name : Lavkush\n"
     ]
    }
   ],
   "source": [
    "# Base class\n",
    "class Grandfather:\n",
    "    def __init__(self, grandfathername):\n",
    "        self.grandfathername = grandfathername\n",
    "\n",
    "# Intermediate class\n",
    "class Father(Grandfather):\n",
    "    def __init__(self, fathername, grandfathername):\n",
    "        self.fathername = fathername\n",
    "        # Call the constructor of Grandfather\n",
    "        Grandfather.__init__(self, grandfathername)\n",
    "\n",
    "# Derived class\n",
    "class Son(Father):\n",
    "    def __init__(self, sonname, fathername, grandfathername):\n",
    "        self.sonname = sonname\n",
    "        # Call the constructor of Father\n",
    "        Father.__init__(self, fathername, grandfathername)\n",
    "\n",
    "    def print_name(self):\n",
    "        print('Grandfather name :', self.grandfathername)\n",
    "        print('Father name :', self.fathername)\n",
    "        print('Son name :', self.sonname)\n",
    "\n",
    "# Driver code\n",
    "s1 = Son('Lavkush', 'Ramji', 'Dasrathji')\n",
    "print(s1.grandfathername)\n",
    "s1.print_name()"
   ]
  },
  {
   "cell_type": "code",
   "execution_count": 3,
   "id": "0bb44a7c",
   "metadata": {},
   "outputs": [
    {
     "name": "stdout",
     "output_type": "stream",
     "text": [
      "Dog is eating.\n",
      "Dog breathes air.\n",
      "Buddy says Woof!\n"
     ]
    }
   ],
   "source": [
    "# Base class\n",
    "class Animal:\n",
    "    def __init__(self, species):\n",
    "        self.species = species\n",
    "    def eat(self):\n",
    "        return f\"{self.species} is eating.\"\n",
    "\n",
    "# Derived class from Animal\n",
    "class Mammal(Animal):\n",
    "    def __init__(self, species, fur_color):\n",
    "        super().__init__(species) \n",
    "        self.fur_color = fur_color\n",
    "    def breathe(self):\n",
    "        return f\"{self.species} breathes air.\"\n",
    "\n",
    "# Further derived class from Mammal\n",
    "class Dog(Mammal):\n",
    "    def __init__(self, species, fur_color, name):\n",
    "        super().__init__(species, fur_color) \n",
    "        self.name = name\n",
    "    def bark(self):\n",
    "        return f\"{self.name} says Woof!\"\n",
    "\n",
    "# Create an instance of the Dog class\n",
    "my_dog = Dog(\"Dog\", \"Brown\", \"Buddy\")\n",
    "\n",
    "# Call method\n",
    "print(my_dog.eat())        \n",
    "print(my_dog.breathe())    \n",
    "print(my_dog.bark())      "
   ]
  },
  {
   "cell_type": "code",
   "execution_count": 4,
   "id": "bfbd1f33",
   "metadata": {},
   "outputs": [
    {
     "name": "stdout",
     "output_type": "stream",
     "text": [
      "I am the Grandfather\n",
      "I am the Father\n",
      "I am the Son\n"
     ]
    }
   ],
   "source": [
    "# Base class\n",
    "class Grandfather:\n",
    "    def show_grandfather(self):\n",
    "        print(\"I am the Grandfather\")\n",
    "\n",
    "# Derived class from Grandfather\n",
    "class Father(Grandfather):\n",
    "    def show_father(self):\n",
    "        print(\"I am the Father\")\n",
    "\n",
    "# Derived class from Father (multilevel)\n",
    "class Son(Father):\n",
    "    def show_son(self):\n",
    "        print(\"I am the Son\")\n",
    "\n",
    "# Creating object of Son class\n",
    "s = Son()\n",
    "\n",
    "# Accessing all methods\n",
    "s.show_grandfather()\n",
    "s.show_father()\n",
    "s.show_son()\n"
   ]
  },
  {
   "cell_type": "code",
   "execution_count": 5,
   "id": "34ce692e",
   "metadata": {},
   "outputs": [
    {
     "name": "stdout",
     "output_type": "stream",
     "text": [
      "Name : tommy\n",
      "Species : Dog\n",
      "Breed: Golden Retriever\n",
      "Color : Black\n"
     ]
    }
   ],
   "source": [
    "class Animal:\n",
    "    def __init__(self, name, species):\n",
    "        self.name = name\n",
    "        self.species = species\n",
    "        \n",
    "    def show_details(self):\n",
    "        print(f\"Name : {self.name}\")\n",
    "        print(f\"Species : {self.species}\")\n",
    "        \n",
    "class Dog(Animal):\n",
    "    def __init__(self, name, breed):\n",
    "        Animal.__init__(self, name, species = \"Dog\")\n",
    "        self.breed = breed\n",
    "        \n",
    "    def show_details(self):\n",
    "        Animal.show_details(self)\n",
    "        print(f\"Breed: {self.breed}\")\n",
    "        \n",
    "class GoldenRetriever(Dog):\n",
    "    def __init__(self, name, color):\n",
    "        Dog.__init__(self, name, breed=\"Golden Retriever\")\n",
    "        self.color = color\n",
    "        \n",
    "    def show_details(self):\n",
    "        Dog.show_details(self)\n",
    "        print(f\"Color : {self.color}\")\n",
    "      \n",
    "o = GoldenRetriever(\"tommy\", \"Black\")\n",
    "o.show_details()"
   ]
  },
  {
   "cell_type": "code",
   "execution_count": null,
   "id": "644cfbf6",
   "metadata": {},
   "outputs": [],
   "source": []
  }
 ],
 "metadata": {
  "kernelspec": {
   "display_name": "Python 3",
   "language": "python",
   "name": "python3"
  },
  "language_info": {
   "codemirror_mode": {
    "name": "ipython",
    "version": 3
   },
   "file_extension": ".py",
   "mimetype": "text/x-python",
   "name": "python",
   "nbconvert_exporter": "python",
   "pygments_lexer": "ipython3",
   "version": "3.12.0"
  }
 },
 "nbformat": 4,
 "nbformat_minor": 5
}
