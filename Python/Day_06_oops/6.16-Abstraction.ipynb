{
 "cells": [
  {
   "cell_type": "markdown",
   "id": "209aa355",
   "metadata": {},
   "source": [
    "## Abstraction\n",
    "\n",
    "Abstraction is the concept of hiding the complex implementation details and showing only the necessary features of an object. This helps in reducing programming complexity and effort."
   ]
  },
  {
   "cell_type": "code",
   "execution_count": 1,
   "id": "3bb08741",
   "metadata": {},
   "outputs": [
    {
     "name": "stdout",
     "output_type": "stream",
     "text": [
      "Car enginer started\n",
      "The vehicle is used for driving\n"
     ]
    }
   ],
   "source": [
    "from abc import ABC,abstractmethod\n",
    "\n",
    "## Abstract base cclass\n",
    "class Vehicle(ABC):\n",
    "    def drive(self):\n",
    "        print(\"The vehicle is used for driving\")\n",
    "\n",
    "    @abstractmethod\n",
    "    def start_engine(self):\n",
    "        pass\n",
    "\n",
    "class Car(Vehicle):\n",
    "    def start_engine(self):\n",
    "        print(\"Car enginer started\")\n",
    "\n",
    "def operate_vehicle(vehicle):\n",
    "    vehicle.start_engine()\n",
    "    vehicle.drive()\n",
    "\n",
    "car=Car()\n",
    "operate_vehicle(car)"
   ]
  },
  {
   "cell_type": "code",
   "execution_count": 2,
   "id": "7c30298c",
   "metadata": {},
   "outputs": [
    {
     "name": "stdout",
     "output_type": "stream",
     "text": [
      "Bark\n",
      "Meow\n"
     ]
    }
   ],
   "source": [
    "from abc import ABC, abstractmethod\n",
    "\n",
    "# Abstract class\n",
    "class Animal(ABC):\n",
    "    \n",
    "    @abstractmethod\n",
    "    def sound(self):\n",
    "        pass\n",
    "\n",
    "# Concrete class\n",
    "class Dog(Animal):\n",
    "    def sound(self):\n",
    "        return \"Bark\"\n",
    "\n",
    "# Another concrete class\n",
    "class Cat(Animal):\n",
    "    def sound(self):\n",
    "        return \"Meow\"\n",
    "\n",
    "# Using the classes\n",
    "dog = Dog()\n",
    "cat = Cat()\n",
    "\n",
    "print(dog.sound())  # Output: Bark\n",
    "print(cat.sound())  # Output: Meow\n"
   ]
  },
  {
   "cell_type": "markdown",
   "id": "05adaf1d",
   "metadata": {},
   "source": [
    "## Scenario: Vehicle Management System\n",
    "\n",
    "We'll create an abstract class Vehicle and concrete classes Car and Bike that implement common methods."
   ]
  },
  {
   "cell_type": "code",
   "execution_count": 3,
   "id": "b1ff843e",
   "metadata": {},
   "outputs": [
    {
     "name": "stdout",
     "output_type": "stream",
     "text": [
      "Vehicle: Toyota Fortuner\n",
      "Toyota Fortuner engine started with key.\n",
      "Toyota Fortuner engine stopped.\n",
      "\n",
      "Vehicle: Yamaha MT-15\n",
      "Yamaha MT-15 engine started with self-start.\n",
      "Yamaha MT-15 engine turned off.\n",
      "\n"
     ]
    }
   ],
   "source": [
    "from abc import ABC, abstractmethod\n",
    "\n",
    "# Abstract class\n",
    "class Vehicle(ABC):\n",
    "\n",
    "    def __init__(self, brand, model):\n",
    "        self.brand = brand\n",
    "        self.model = model\n",
    "\n",
    "    @abstractmethod\n",
    "    def start_engine(self):\n",
    "        pass\n",
    "\n",
    "    @abstractmethod\n",
    "    def stop_engine(self):\n",
    "        pass\n",
    "\n",
    "    def display_info(self):\n",
    "        print(f\"Vehicle: {self.brand} {self.model}\")\n",
    "\n",
    "# Concrete class: Car\n",
    "class Car(Vehicle):\n",
    "    def start_engine(self):\n",
    "        print(f\"{self.brand} {self.model} engine started with key.\")\n",
    "\n",
    "    def stop_engine(self):\n",
    "        print(f\"{self.brand} {self.model} engine stopped.\")\n",
    "\n",
    "# Concrete class: Bike\n",
    "class Bike(Vehicle):\n",
    "    def start_engine(self):\n",
    "        print(f\"{self.brand} {self.model} engine started with self-start.\")\n",
    "\n",
    "    def stop_engine(self):\n",
    "        print(f\"{self.brand} {self.model} engine turned off.\")\n",
    "\n",
    "# Using the abstraction\n",
    "vehicles = [\n",
    "    Car(\"Toyota\", \"Fortuner\"),\n",
    "    Bike(\"Yamaha\", \"MT-15\")\n",
    "]\n",
    "\n",
    "for v in vehicles:\n",
    "    v.display_info()\n",
    "    v.start_engine()\n",
    "    v.stop_engine()\n",
    "    print()\n"
   ]
  },
  {
   "cell_type": "markdown",
   "id": "403a58a1",
   "metadata": {},
   "source": [
    "## Hard Example : Payment System"
   ]
  },
  {
   "cell_type": "code",
   "execution_count": 4,
   "id": "ad7ad419",
   "metadata": {},
   "outputs": [
    {
     "name": "stdout",
     "output_type": "stream",
     "text": [
      "Authenticating Credit Card user User123...\n",
      "Credit Card authentication successful.\n",
      "Paid ₹5000 using Credit Card.\n",
      "Authenticating PayPal user user@example.com...\n",
      "PayPal authentication successful.\n",
      "Paid ₹1200 using PayPal.\n",
      "Authenticating UPI user user@upi...\n",
      "UPI authentication failed.\n",
      "Payment Failed. Please try again.\n",
      "\n"
     ]
    }
   ],
   "source": [
    "from abc import ABC, abstractmethod\n",
    "import random\n",
    "\n",
    "# Abstract base class\n",
    "class PaymentProcessor(ABC):\n",
    "    \n",
    "    @abstractmethod\n",
    "    def authenticate(self, user_id, token):\n",
    "        pass\n",
    "\n",
    "    @abstractmethod\n",
    "    def pay(self, amount):\n",
    "        pass\n",
    "\n",
    "# Concrete class: CreditCard\n",
    "class CreditCardProcessor(PaymentProcessor):\n",
    "    def __init__(self, user_id):\n",
    "        self.user_id = user_id\n",
    "\n",
    "    def authenticate(self, user_id, token):\n",
    "        print(f\"Authenticating Credit Card user {user_id}...\")\n",
    "        if token == \"secure_token_123\":\n",
    "            print(\"Credit Card authentication successful.\")\n",
    "            return True\n",
    "        else:\n",
    "            print(\"Credit Card authentication failed.\")\n",
    "            return False\n",
    "\n",
    "    def pay(self, amount):\n",
    "        print(f\"Paid ₹{amount} using Credit Card.\")\n",
    "\n",
    "# Concrete class: PayPal\n",
    "class PayPalProcessor(PaymentProcessor):\n",
    "    def __init__(self, email):\n",
    "        self.email = email\n",
    "\n",
    "    def authenticate(self, user_id, token):\n",
    "        print(f\"Authenticating PayPal user {self.email}...\")\n",
    "        if token.endswith(\"paypal\"):\n",
    "            print(\"PayPal authentication successful.\")\n",
    "            return True\n",
    "        else:\n",
    "            print(\"PayPal authentication failed.\")\n",
    "            return False\n",
    "\n",
    "    def pay(self, amount):\n",
    "        print(f\"Paid ₹{amount} using PayPal.\")\n",
    "\n",
    "# Concrete class: UPI\n",
    "class UPIProcessor(PaymentProcessor):\n",
    "    def __init__(self, upi_id):\n",
    "        self.upi_id = upi_id\n",
    "\n",
    "    def authenticate(self, user_id, token):\n",
    "        print(f\"Authenticating UPI user {self.upi_id}...\")\n",
    "        if random.choice([True, False]):\n",
    "            print(\"UPI authentication successful.\")\n",
    "            return True\n",
    "        else:\n",
    "            print(\"UPI authentication failed.\")\n",
    "            return False\n",
    "\n",
    "    def pay(self, amount):\n",
    "        print(f\"Paid ₹{amount} using UPI.\")\n",
    "\n",
    "# Driver code\n",
    "def process_payment(processor: PaymentProcessor, user_id, token, amount):\n",
    "    if processor.authenticate(user_id, token):\n",
    "        processor.pay(amount)\n",
    "    else:\n",
    "        print(\"Payment Failed. Please try again.\\n\")\n",
    "\n",
    "# Simulate usage\n",
    "cc = CreditCardProcessor(\"User123\")\n",
    "pp = PayPalProcessor(\"user@example.com\")\n",
    "upi = UPIProcessor(\"user@upi\")\n",
    "\n",
    "process_payment(cc, \"User123\", \"secure_token_123\", 5000)\n",
    "process_payment(pp, \"User123\", \"mysecret_paypal\", 1200)\n",
    "process_payment(upi, \"User123\", \"upi_token\", 750)\n"
   ]
  },
  {
   "cell_type": "code",
   "execution_count": null,
   "id": "cbef8fd4",
   "metadata": {},
   "outputs": [],
   "source": []
  }
 ],
 "metadata": {
  "kernelspec": {
   "display_name": "Python 3",
   "language": "python",
   "name": "python3"
  },
  "language_info": {
   "codemirror_mode": {
    "name": "ipython",
    "version": 3
   },
   "file_extension": ".py",
   "mimetype": "text/x-python",
   "name": "python",
   "nbconvert_exporter": "python",
   "pygments_lexer": "ipython3",
   "version": "3.12.0"
  }
 },
 "nbformat": 4,
 "nbformat_minor": 5
}
