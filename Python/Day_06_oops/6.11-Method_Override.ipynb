{
 "cells": [
  {
   "cell_type": "markdown",
   "id": "6a9eb7b2",
   "metadata": {},
   "source": [
    "Method Override:\n",
    "\n",
    "Method overriding is an ability of any object-oriented programming language that allows a subclass or child class to provide a specific implementation of a method that is already provided by one of its super-classes or parent classes. When a method in a subclass has the same name, the same parameters or signature, and same return type(or sub-type) as a method in its super-class, then the method in the subclass is said to override the method in the super-class."
   ]
  },
  {
   "cell_type": "code",
   "execution_count": 1,
   "id": "c6e0a2cf",
   "metadata": {},
   "outputs": [
    {
     "name": "stdout",
     "output_type": "stream",
     "text": [
      "15\n",
      "78.5\n"
     ]
    }
   ],
   "source": [
    "class Shape:\n",
    "    def __init__(self, x, y):\n",
    "       self.x = x\n",
    "       self.y = y\n",
    "       \n",
    "       \n",
    "    def area(self):\n",
    "        return self.x * self.y \n",
    "    \n",
    "class Circle(Shape):\n",
    "    def __init__(self, radius):\n",
    "        self.radius = radius\n",
    "        \n",
    "    def area(self):\n",
    "        return 3.14 * self.radius * self.radius\n",
    "    \n",
    "    \n",
    "rec = Shape(3, 5)\n",
    "print(rec.area())\n",
    "\n",
    "c = Circle(5)\n",
    "print(c.area())\n"
   ]
  },
  {
   "cell_type": "code",
   "execution_count": 2,
   "id": "c1e14586",
   "metadata": {},
   "outputs": [
    {
     "name": "stdout",
     "output_type": "stream",
     "text": [
      "78.5\n"
     ]
    }
   ],
   "source": [
    "class Shape:\n",
    "    def __init__(self, x, y):\n",
    "       self.x = x\n",
    "       self.y = y\n",
    "       \n",
    "       \n",
    "    def area(self):\n",
    "        return self.x * self.y \n",
    "    \n",
    "class Circle(Shape):\n",
    "    def __init__(self, radius):\n",
    "        self.radius = radius\n",
    "        super().__init__(radius, radius)\n",
    "        \n",
    "    def area(self):\n",
    "        return 3.14 * super().area()\n",
    "    \n",
    "    \n",
    "# rec = Shape(3, 5)\n",
    "# print(rec.area())\n",
    "\n",
    "c = Circle(5)\n",
    "print(c.area())"
   ]
  },
  {
   "cell_type": "code",
   "execution_count": 3,
   "id": "27db355c",
   "metadata": {},
   "outputs": [
    {
     "name": "stdout",
     "output_type": "stream",
     "text": [
      "Inside Parent\n",
      "Inside Child\n"
     ]
    }
   ],
   "source": [
    "# Python program to demonstrate \n",
    "# Defining parent class \n",
    "class Parent(): \n",
    "\t\n",
    "\t# Constructor \n",
    "\tdef __init__(self): \n",
    "\t\tself.value = \"Inside Parent\"\n",
    "\t\t\n",
    "\t# Parent's show method \n",
    "\tdef show(self): \n",
    "\t\tprint(self.value) \n",
    "\t\t\n",
    "# Defining child class \n",
    "class Child(Parent): \n",
    "\t\n",
    "\t# Constructor \n",
    "\tdef __init__(self): \n",
    "\t\tsuper().__init__()  # Call parent constructor\n",
    "\t\tself.value = \"Inside Child\"\n",
    "\t\t\n",
    "\t# Child's show method \n",
    "\tdef show(self): \n",
    "\t\tprint(self.value) \n",
    "\t\t\n",
    "# Driver's code \n",
    "obj1 = Parent() \n",
    "obj2 = Child() \n",
    "\n",
    "obj1.show()  # Should print \"Inside Parent\"\n",
    "obj2.show()  # Should print \"Inside Child\""
   ]
  },
  {
   "cell_type": "markdown",
   "id": "9a1bf88d",
   "metadata": {},
   "source": [
    "Method overriding with multiple and multilevel inheritance\n",
    "\n",
    "Multiple Inheritance:"
   ]
  },
  {
   "cell_type": "code",
   "execution_count": 4,
   "id": "6dcb2ac5",
   "metadata": {},
   "outputs": [
    {
     "name": "stdout",
     "output_type": "stream",
     "text": [
      "Inside Child\n",
      "Inside Parent2\n"
     ]
    }
   ],
   "source": [
    "# Python program to demonstrate \n",
    "# Defining parent class 1 \n",
    "class Parent1(): \n",
    "\t\t\n",
    "\t# Parent's show method \n",
    "\tdef show(self): \n",
    "\t\tprint(\"Inside Parent1\") \n",
    "\t\t\n",
    "# Defining Parent class 2 \n",
    "class Parent2(): \n",
    "\t\t\n",
    "\t# Parent's show method \n",
    "\tdef display(self): \n",
    "\t\tprint(\"Inside Parent2\") \n",
    "\t\t\n",
    "\t\t\n",
    "# Defining child class \n",
    "class Child(Parent1, Parent2): \n",
    "\t\t\n",
    "\t# Child's show method \n",
    "\tdef show(self): \n",
    "\t\tprint(\"Inside Child\") \n",
    "\t\n",
    "\t\t\n",
    "# Driver's code \n",
    "obj = Child() \n",
    "\n",
    "obj.show() \n",
    "obj.display()"
   ]
  },
  {
   "cell_type": "markdown",
   "id": "e1fb5ad0",
   "metadata": {},
   "source": [
    "Multilevel Inheritance example in Overriding"
   ]
  },
  {
   "cell_type": "code",
   "execution_count": 5,
   "id": "77b14367",
   "metadata": {},
   "outputs": [
    {
     "name": "stdout",
     "output_type": "stream",
     "text": [
      "Inside GrandChild\n",
      "Inside Parent\n"
     ]
    }
   ],
   "source": [
    "# Python program to demonstrate \n",
    "# Python program to demonstrate \n",
    "# overriding in multilevel inheritance \n",
    "\n",
    "class Parent(): \n",
    "\t\t\n",
    "\t# Parent's show method \n",
    "\tdef display(self): \n",
    "\t\tprint(\"Inside Parent\") \n",
    "\t\n",
    "\t\n",
    "# Inherited or Sub class (Note Parent in bracket) \n",
    "class Child(Parent): \n",
    "\t\t\n",
    "\t# Child's show method \n",
    "\tdef show(self): \n",
    "\t\tprint(\"Inside Child\") \n",
    "\t\n",
    "# Inherited or Sub class (Note Child in bracket) \n",
    "class GrandChild(Child): \n",
    "\t\t\n",
    "\t# Child's show method \n",
    "\tdef show(self): \n",
    "\t\tprint(\"Inside GrandChild\")\t\t \n",
    "\t\n",
    "# Driver code \n",
    "g = GrandChild() \n",
    "g.show() \n",
    "g.display()"
   ]
  },
  {
   "cell_type": "markdown",
   "id": "1677d6d2",
   "metadata": {},
   "source": [
    "Using Super()\n",
    "\n",
    "Python super() function provides us the facility to refer to the parent class explicitly. It is basically useful where we have to call superclass functions. It returns the proxy object that allows us to refer parent class by ‘super’."
   ]
  },
  {
   "cell_type": "code",
   "execution_count": 8,
   "id": "01264aa7",
   "metadata": {},
   "outputs": [
    {
     "name": "stdout",
     "output_type": "stream",
     "text": [
      "Inside Parent\n",
      "Inside Child\n"
     ]
    }
   ],
   "source": [
    "# Python program to demonstrate \n",
    "# calling the parent's class method \n",
    "# inside the overridden method using \n",
    "# super() \n",
    "class Parent(): \n",
    "\t\n",
    "\tdef show(self): \n",
    "\t\tprint(\"Inside Parent\") \n",
    "\t\t\n",
    "class Child(Parent): \n",
    "\t\n",
    "\tdef show(self): \n",
    "\t\t\n",
    "\t\t# Calling the parent's class \n",
    "\t\t# method \n",
    "\t\tsuper().show() \n",
    "\t\tprint(\"Inside Child\") \n",
    "\t\t\n",
    "# Driver's code \n",
    "obj = Child() \n",
    "obj.show()"
   ]
  },
  {
   "cell_type": "code",
   "execution_count": null,
   "id": "ac2b65b7",
   "metadata": {},
   "outputs": [],
   "source": []
  }
 ],
 "metadata": {
  "kernelspec": {
   "display_name": "Python 3",
   "language": "python",
   "name": "python3"
  },
  "language_info": {
   "codemirror_mode": {
    "name": "ipython",
    "version": 3
   },
   "file_extension": ".py",
   "mimetype": "text/x-python",
   "name": "python",
   "nbconvert_exporter": "python",
   "pygments_lexer": "ipython3",
   "version": "3.12.0"
  }
 },
 "nbformat": 4,
 "nbformat_minor": 5
}
