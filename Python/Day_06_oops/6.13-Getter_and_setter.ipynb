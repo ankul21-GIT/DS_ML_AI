{
 "cells": [
  {
   "cell_type": "markdown",
   "id": "0bc0133d",
   "metadata": {},
   "source": [
    "## Getter and Setter in Python:\n",
    "\n",
    "In Python, a getter and setter are methods used to access and update the attributes of a class. These methods provide a way to define controlled access to the attributes of an object, thereby ensuring the integrity of the data. By default, attributes in Python can be accessed directly. However, this can pose problems when attributes need validation or transformation before being assigned or retrieved.\n",
    "\n",
    "Getter: The getter method is used to retrieve the value of a private attribute. It allows controlled access to the attribute.\n",
    "\n",
    "Setter: The setter method is used to set or modify the value of a private attribute. It allows you to control how the value is updated, enabling validation or modification of the data before it’s actually assigned."
   ]
  },
  {
   "cell_type": "markdown",
   "id": "30cf9b56",
   "metadata": {},
   "source": [
    "Getter:\n",
    "- A getter is a method used to access (get) the value of a private attribute.\n",
    "\n",
    "Setter:\n",
    "- A setter is a method used to update (set) the value of a private attribute.\n",
    "\n",
    "In Python, we use property decorators (@property, @<property>.setter) to define getter and setter methods."
   ]
  },
  {
   "cell_type": "code",
   "execution_count": 1,
   "id": "89dcedba",
   "metadata": {},
   "outputs": [
    {
     "name": "stdout",
     "output_type": "stream",
     "text": [
      "Ankul\n",
      "24\n",
      "Age cannot be negative!\n",
      "Name cannot be empty!\n",
      "Singh\n",
      "25\n"
     ]
    }
   ],
   "source": [
    "class Student:\n",
    "    def __init__(self, name, age):\n",
    "        self._name = name      # protected attribute\n",
    "        self._age = age        # protected attribute\n",
    "\n",
    "    # Getter for age\n",
    "    @property\n",
    "    def age(self):\n",
    "        return self._age\n",
    "\n",
    "    # Setter for age\n",
    "    @age.setter\n",
    "    def age(self, value):\n",
    "        if value < 0:\n",
    "            print(\"Age cannot be negative!\")\n",
    "        else:\n",
    "            self._age = value\n",
    "\n",
    "    # Getter for name\n",
    "    @property\n",
    "    def name(self):\n",
    "        return self._name\n",
    "\n",
    "    # Setter for name\n",
    "    @name.setter\n",
    "    def name(self, value):\n",
    "        if value.strip() == \"\":\n",
    "            print(\"Name cannot be empty!\")\n",
    "        else:\n",
    "            self._name = value\n",
    "\n",
    "# Testing\n",
    "s = Student(\"Ankul\", 24)\n",
    "\n",
    "print(s.name)   # Calls getter\n",
    "print(s.age)    # Calls getter\n",
    "\n",
    "s.age = -5      # Calls setter (will show warning)\n",
    "s.name = \"\"     # Calls setter (will show warning)\n",
    "\n",
    "s.age = 25      # Valid update\n",
    "s.name = \"Singh\"\n",
    "\n",
    "print(s.name)\n",
    "print(s.age)\n"
   ]
  },
  {
   "cell_type": "code",
   "execution_count": 1,
   "id": "17dd2246",
   "metadata": {},
   "outputs": [
    {
     "name": "stdout",
     "output_type": "stream",
     "text": [
      "value is 10\n"
     ]
    }
   ],
   "source": [
    "class MyClass:\n",
    "    def __init__(self, value):\n",
    "        self._value = value\n",
    "        \n",
    "    def show(self):\n",
    "        print(f\"value is {self.value}\")\n",
    "        \n",
    "    @property\n",
    "    def value(self):\n",
    "        return self._value\n",
    "    \n",
    "obj = MyClass(10)\n",
    "#print(obj._value)\n",
    "obj.show()\n"
   ]
  },
  {
   "cell_type": "code",
   "execution_count": 2,
   "id": "68c08ecd",
   "metadata": {},
   "outputs": [
    {
     "name": "stdout",
     "output_type": "stream",
     "text": [
      "100\n",
      "value is 10\n"
     ]
    }
   ],
   "source": [
    "class MyClass:\n",
    "    def __init__(self, value):\n",
    "        self._value = value\n",
    "        \n",
    "    def show(self):\n",
    "        print(f\"value is {self._value}\")\n",
    "        \n",
    "    @property\n",
    "    def ten_value(self):\n",
    "        return 10* self._value\n",
    "    \n",
    "obj = MyClass(10)\n",
    "print(obj.ten_value)\n",
    "obj.show()"
   ]
  },
  {
   "cell_type": "code",
   "execution_count": 3,
   "id": "fa7c1d04",
   "metadata": {},
   "outputs": [
    {
     "name": "stdout",
     "output_type": "stream",
     "text": [
      "67.0\n",
      "value is 6.7\n"
     ]
    }
   ],
   "source": [
    "\n",
    "class MyClass:\n",
    "    def __init__(self, value):\n",
    "        self._value = value\n",
    "        \n",
    "    def show(self):\n",
    "        print(f\"value is {self._value}\")\n",
    "        \n",
    "    @property\n",
    "    def ten_value(self):\n",
    "        return 10* self._value\n",
    "    \n",
    "    @ten_value.setter \n",
    "    def ten_value(self, new_value):\n",
    "        self._value = new_value/10\n",
    "        return 10* self._value\n",
    "    \n",
    "obj = MyClass(10)\n",
    "obj.ten_value = 67\n",
    "print(obj.ten_value)\n",
    "obj.show()"
   ]
  },
  {
   "cell_type": "markdown",
   "id": "6d268ee9",
   "metadata": {},
   "source": [
    "Using Normal Function:\n",
    "\n",
    "In this approach, getter and setter methods are explicitly defined to get and set the value of a private variable. The setter allows setting the value and the getter is used to retrieve it."
   ]
  },
  {
   "cell_type": "code",
   "execution_count": null,
   "id": "66a323a3",
   "metadata": {},
   "outputs": [],
   "source": [
    "class Geek: \n",
    "\tdef __init__(self, age = 0): \n",
    "\t\tself._age = age \n",
    "\t\n",
    "\t# getter method \n",
    "\tdef get_age(self): \n",
    "\t\treturn self._age \n",
    "\t\n",
    "\t# setter method \n",
    "\tdef set_age(self, x): \n",
    "\t\tself._age = x \n",
    "\n",
    "raj = Geek() \n",
    "\n",
    "# setting the age using setter \n",
    "raj.set_age(21) \n",
    "\n",
    "# retrieving age using getter \n",
    "print(raj.get_age()) \n",
    "\n",
    "print(raj._age)"
   ]
  },
  {
   "cell_type": "markdown",
   "id": "261fc66a",
   "metadata": {},
   "source": [
    "Using property() function:\n",
    "\n",
    "In this method, the property() function is used to wrap the getter, setter and deleter methods for an attribute, providing a more streamlined approach."
   ]
  },
  {
   "cell_type": "code",
   "execution_count": 4,
   "id": "ef6aece9",
   "metadata": {},
   "outputs": [
    {
     "name": "stdout",
     "output_type": "stream",
     "text": [
      "setter method called\n",
      "getter method called\n",
      "10\n"
     ]
    }
   ],
   "source": [
    "class Geeks: \n",
    "\tdef __init__(self): \n",
    "\t\tself._age = 0\n",
    "\t\n",
    "\t# function to get value of _age \n",
    "\tdef get_age(self): \n",
    "\t\tprint(\"getter method called\") \n",
    "\t\treturn self._age \n",
    "\t\n",
    "\t# function to set value of _age \n",
    "\tdef set_age(self, a): \n",
    "\t\tprint(\"setter method called\") \n",
    "\t\tself._age = a \n",
    "\n",
    "\t# function to delete _age attribute \n",
    "\tdef del_age(self): \n",
    "\t\tdel self._age \n",
    "\t\n",
    "\tage = property(get_age, set_age, del_age) \n",
    "\n",
    "mark = Geeks() \n",
    "\n",
    "mark.age = 10\n",
    "\n",
    "print(mark.age)"
   ]
  },
  {
   "cell_type": "code",
   "execution_count": 2,
   "id": "e7a0e179",
   "metadata": {},
   "outputs": [
    {
     "name": "stdout",
     "output_type": "stream",
     "text": [
      "name : Golden\n",
      "species : dog\n",
      "breed : Golden Retriever\n",
      "color : Black\n"
     ]
    }
   ],
   "source": [
    "class Animal:\n",
    "    def __init__(self, name, species):\n",
    "        self.name = name\n",
    "        self.species = species\n",
    "\n",
    "    def show(self):\n",
    "        print(f\"name : {self.name}\")\n",
    "        print(f\"species : {self.species}\")\n",
    "\n",
    "class Dog(Animal):\n",
    "    def __init__(self, name, breed):\n",
    "        super().__init__(name, species=\"dog\")  # better to use super()\n",
    "        self.breed = breed\n",
    "\n",
    "    def show(self):\n",
    "        super().show()\n",
    "        print(f\"breed : {self.breed}\")\n",
    "\n",
    "class GoldenRetriever(Dog):  # Class name should follow PascalCase\n",
    "    def __init__(self, name, color):\n",
    "        super().__init__(name, breed=\"Golden Retriever\")\n",
    "        self.color = color\n",
    "\n",
    "    def show(self):\n",
    "        super().show()\n",
    "        print(f\"color : {self.color}\")\n",
    "\n",
    "# Test\n",
    "o = GoldenRetriever(\"Golden\", \"Black\")\n",
    "o.show()  # No need to use print() since show() already prints\n"
   ]
  },
  {
   "cell_type": "code",
   "execution_count": null,
   "id": "e06ea7a1",
   "metadata": {},
   "outputs": [],
   "source": []
  }
 ],
 "metadata": {
  "kernelspec": {
   "display_name": "Python 3",
   "language": "python",
   "name": "python3"
  },
  "language_info": {
   "codemirror_mode": {
    "name": "ipython",
    "version": 3
   },
   "file_extension": ".py",
   "mimetype": "text/x-python",
   "name": "python",
   "nbconvert_exporter": "python",
   "pygments_lexer": "ipython3",
   "version": "3.12.0"
  }
 },
 "nbformat": 4,
 "nbformat_minor": 5
}
