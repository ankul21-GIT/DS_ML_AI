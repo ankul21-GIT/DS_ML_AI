{
 "cells": [
  {
   "cell_type": "markdown",
   "id": "1b961596",
   "metadata": {},
   "source": [
    "## Python Logging\n",
    "\n",
    "Logging is a crucial aspect of any application, providing a way to track events, errors, and operational information. Python's built-in logging module offers a flexible framework for emitting log messages from Python programs. In this lesson, we will cover the basics of logging, including how to configure logging, log levels, and best practices for using logging in Python applications."
   ]
  },
  {
   "cell_type": "code",
   "execution_count": 1,
   "id": "b92f7bb5",
   "metadata": {},
   "outputs": [
    {
     "name": "stderr",
     "output_type": "stream",
     "text": [
      "DEBUG:root:This is a debug message\n",
      "INFO:root:This is an info message\n",
      "WARNING:root:This is a warning message\n",
      "ERROR:root:This is an error message\n",
      "CRITICAL:root:This is a critical message\n"
     ]
    }
   ],
   "source": [
    "import logging\n",
    "\n",
    "## Configure the basic logging settings\n",
    "logging.basicConfig(level=logging.DEBUG)\n",
    "\n",
    "## log messages with different severity levels\n",
    "logging.debug(\"This is a debug message\")\n",
    "logging.info(\"This is an info message\")\n",
    "logging.warning(\"This is a warning message\")\n",
    "logging.error(\"This is an error message\")\n",
    "logging.critical(\"This is a critical message\")"
   ]
  },
  {
   "cell_type": "markdown",
   "id": "8d26663f",
   "metadata": {},
   "source": [
    "Log Levels\n",
    "\n",
    "Python's logging module has several log levels indicating the severity of events. The default levels are:\n",
    "\n",
    "- DEBUG: Detailed information, typically of interest only when diagnosing problems.\n",
    "- INFO: Confirmation that things are working as expected.\n",
    "- WARNING: An indication that something unexpected happened or indicative of some problem in the near future (e.g., ‘disk space low’). The software is still working as expected.\n",
    "- ERROR: Due to a more serious problem, the software has not been able to perform some function.\n",
    "- CRITICAL: A very serious error, indicating that the program itself may be unable to continue running."
   ]
  },
  {
   "cell_type": "code",
   "execution_count": 2,
   "id": "011de688",
   "metadata": {},
   "outputs": [
    {
     "name": "stderr",
     "output_type": "stream",
     "text": [
      "DEBUG:my_app:This is a debug message\n",
      "INFO:my_app:This is an info message\n",
      "WARNING:my_app:This is a warning message\n",
      "ERROR:my_app:This is an error message\n",
      "CRITICAL:my_app:This is a critical message\n"
     ]
    },
    {
     "name": "stdout",
     "output_type": "stream",
     "text": [
      "Current working directory: c:\\Users\\ankul\\DS_ML_AI\\Python\\Day09_Loggind_in_python\n",
      "Attempting to create log file at: c:\\Users\\ankul\\DS_ML_AI\\Python\\Day09_Loggind_in_python\\app.log\n",
      "Log file successfully created at: c:\\Users\\ankul\\DS_ML_AI\\Python\\Day09_Loggind_in_python\\app.log\n"
     ]
    }
   ],
   "source": [
    "import logging\n",
    "import os\n",
    "import sys\n",
    "\n",
    "# Print current working directory to verify\n",
    "print(f\"Current working directory: {os.getcwd()}\")\n",
    "\n",
    "# Define the log file path (use absolute path for clarity)\n",
    "log_file = os.path.join(os.getcwd(), 'app.log')\n",
    "print(f\"Attempting to create log file at: {log_file}\")\n",
    "\n",
    "# Create a custom logger to avoid conflicts\n",
    "logger = logging.getLogger('my_app')\n",
    "logger.setLevel(logging.DEBUG)\n",
    "\n",
    "# Remove any existing handlers to prevent console output\n",
    "logger.handlers = []\n",
    "\n",
    "# Create file handler\n",
    "try:\n",
    "    file_handler = logging.FileHandler(log_file, mode='w')\n",
    "    file_handler.setLevel(logging.DEBUG)\n",
    "except Exception as e:\n",
    "    print(f\"Error creating file handler: {e}\", file=sys.stderr)\n",
    "    sys.exit(1)\n",
    "\n",
    "# Create formatter\n",
    "formatter = logging.Formatter(\n",
    "    '%(asctime)s-%(name)s-%(levelname)s-%(message)s',\n",
    "    datefmt='%Y-%m-%d %H:%M:%S'\n",
    ")\n",
    "file_handler.setFormatter(formatter)\n",
    "\n",
    "# Add handler to logger\n",
    "logger.addHandler(file_handler)\n",
    "\n",
    "# Log messages\n",
    "try:\n",
    "    logger.debug(\"This is a debug message\")\n",
    "    logger.info(\"This is an info message\")\n",
    "    logger.warning(\"This is a warning message\")\n",
    "    logger.error(\"This is an error message\")\n",
    "    logger.critical(\"This is a critical message\")\n",
    "except Exception as e:\n",
    "    print(f\"Error writing logs: {e}\", file=sys.stderr)\n",
    "\n",
    "# Flush and close the file handler\n",
    "file_handler.flush()\n",
    "file_handler.close()\n",
    "\n",
    "# Verify file exists\n",
    "if os.path.exists(log_file):\n",
    "    print(f\"Log file successfully created at: {log_file}\")\n",
    "else:\n",
    "    print(f\"Log file was not created at: {log_file}\", file=sys.stderr)"
   ]
  },
  {
   "cell_type": "code",
   "execution_count": null,
   "id": "cd67da29",
   "metadata": {},
   "outputs": [],
   "source": []
  }
 ],
 "metadata": {
  "kernelspec": {
   "display_name": "Python 3",
   "language": "python",
   "name": "python3"
  },
  "language_info": {
   "codemirror_mode": {
    "name": "ipython",
    "version": 3
   },
   "file_extension": ".py",
   "mimetype": "text/x-python",
   "name": "python",
   "nbconvert_exporter": "python",
   "pygments_lexer": "ipython3",
   "version": "3.12.0"
  }
 },
 "nbformat": 4,
 "nbformat_minor": 5
}
