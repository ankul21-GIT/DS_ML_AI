{
 "cells": [
  {
   "cell_type": "markdown",
   "id": "f280a3c0",
   "metadata": {},
   "source": [
    "## Data visualization pyton\n",
    "\n",
    "## what is matplotlib in python"
   ]
  },
  {
   "cell_type": "markdown",
   "id": "c6a6cf30",
   "metadata": {},
   "source": [
    "Why data visualization?"
   ]
  },
  {
   "cell_type": "markdown",
   "id": "5027bf57",
   "metadata": {},
   "source": [
    "Data visualization is a quick, easy way to convey concepts in a universal manner."
   ]
  },
  {
   "cell_type": "markdown",
   "id": "fd04f87e",
   "metadata": {},
   "source": [
    "What is data visualization ?"
   ]
  },
  {
   "cell_type": "markdown",
   "id": "1a6470c1",
   "metadata": {},
   "source": [
    "- Data visualization is a graphical representation of information and data \n",
    "- Visual element like chart, graph and map, data visualization tool provide an accessible way to see and understand trends, outlier and pattern in data."
   ]
  },
  {
   "cell_type": "markdown",
   "id": "819e59dd",
   "metadata": {},
   "source": [
    "What is Matplotlib?"
   ]
  },
  {
   "cell_type": "markdown",
   "id": "af5d52ee",
   "metadata": {},
   "source": [
    "- Matplotlib is plotting library for the python programming language and its numerical mathmatics extension NumPy.\n",
    "- Matplotlib is a pythob library used for Data Visulization.\n",
    "- Matlplotlib is 2D and 3D plotting python library.\n",
    "- It was introduce by John hunter in 2002."
   ]
  },
  {
   "cell_type": "markdown",
   "id": "afcdc779",
   "metadata": {},
   "source": [
    "Graphs in Matplotlib\n",
    "\n",
    "Linear plot,  scatter plot,  Bar Plot, Stem Plot, Step Plot, Hist Plot, Box Plot, Pie Plot, Fill_Between Plot"
   ]
  },
  {
   "cell_type": "markdown",
   "id": "a6f4c0e5",
   "metadata": {},
   "source": []
  }
 ],
 "metadata": {
  "language_info": {
   "name": "python"
  }
 },
 "nbformat": 4,
 "nbformat_minor": 5
}
