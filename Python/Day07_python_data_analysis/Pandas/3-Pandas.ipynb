{
 "cells": [
  {
   "cell_type": "markdown",
   "id": "2a377b4c",
   "metadata": {},
   "source": [
    "## Data Frame in Pandas"
   ]
  },
  {
   "cell_type": "code",
   "execution_count": 3,
   "id": "d2bae236",
   "metadata": {},
   "outputs": [
    {
     "name": "stdout",
     "output_type": "stream",
     "text": [
      "   0\n",
      "0  1\n",
      "1  2\n",
      "2  3\n",
      "3  4\n",
      "<class 'pandas.core.frame.DataFrame'>\n"
     ]
    }
   ],
   "source": [
    "import pandas as pd\n",
    "var = [1,2,3,4]\n",
    "x = pd.DataFrame(var)\n",
    "print(x)\n",
    "print(type(x))"
   ]
  },
  {
   "cell_type": "code",
   "execution_count": 5,
   "id": "696c336e",
   "metadata": {},
   "outputs": [
    {
     "name": "stdout",
     "output_type": "stream",
     "text": [
      "   a  s  d\n",
      "0  1  5  1\n",
      "1  2  6  1\n",
      "2  3  7  1\n",
      "3  4  8  1\n",
      "<class 'pandas.core.frame.DataFrame'>\n"
     ]
    }
   ],
   "source": [
    "import pandas as pd\n",
    "dic = {\"a\":[1,2,3,4],\"s\":[5,6,7,8],\"d\":[1,1,1,1]}\n",
    "x = pd.DataFrame(dic)\n",
    "print(x)\n",
    "print(type(x))"
   ]
  },
  {
   "cell_type": "code",
   "execution_count": null,
   "id": "373e3ab9",
   "metadata": {},
   "outputs": [
    {
     "name": "stdout",
     "output_type": "stream",
     "text": [
      "   a\n",
      "0  1\n",
      "1  2\n",
      "2  3\n",
      "3  4\n",
      "<class 'pandas.core.frame.DataFrame'>\n"
     ]
    }
   ],
   "source": [
    "## how to call and see only a specific column as you want.\n",
    "\n",
    "import pandas as pd\n",
    "dic = {\"a\":[1,2,3,4],\"s\":[5,6,7,8],\"d\":[1,1,1,1]}\n",
    "x = pd.DataFrame(dic,columns=[\"a\"])  ## it show only column of a \n",
    "print(x)\n",
    "print(type(x))"
   ]
  },
  {
   "cell_type": "code",
   "execution_count": null,
   "id": "7955d401",
   "metadata": {},
   "outputs": [
    {
     "name": "stdout",
     "output_type": "stream",
     "text": [
      "   a  1\n",
      "0  1  6\n",
      "1  2  7\n",
      "2  3  8\n",
      "3  4  9\n",
      "<class 'pandas.core.frame.DataFrame'>\n"
     ]
    }
   ],
   "source": [
    "## how to call and see only a specific column as you want.\n",
    "\n",
    "import pandas as pd\n",
    "dic = {\"a\":[1,2,3,4],\"s\":[5,6,7,8],\"d\":[1,1,1,1],1:[6,7,8,9]}\n",
    "x = pd.DataFrame(dic,columns=[\"a\",1])  ## it show only column of a and 1\n",
    "print(x)\n",
    "print(type(x))"
   ]
  },
  {
   "cell_type": "code",
   "execution_count": null,
   "id": "93eed8a5",
   "metadata": {},
   "outputs": [
    {
     "name": "stdout",
     "output_type": "stream",
     "text": [
      "   a  1\n",
      "a  1  6\n",
      "s  2  7\n",
      "d  3  8\n",
      "f  4  9\n",
      "<class 'pandas.core.frame.DataFrame'>\n"
     ]
    }
   ],
   "source": [
    "## how to change index number into string\n",
    "\n",
    "import pandas as pd\n",
    "dic = {\"a\":[1,2,3,4],\"s\":[5,6,7,8],\"d\":[1,1,1,1],1:[6,7,8,9]}\n",
    "x = pd.DataFrame(dic,columns=[\"a\",1],index=['a','s','d','f'])\n",
    "print(x)\n",
    "print(type(x))"
   ]
  },
  {
   "cell_type": "code",
   "execution_count": 25,
   "id": "d6e3c304",
   "metadata": {},
   "outputs": [
    {
     "name": "stdout",
     "output_type": "stream",
     "text": [
      "   a  s  d  1\n",
      "0  1  5  1  6\n",
      "1  2  6  1  7\n",
      "2  3  7  1  8\n",
      "3  4  8  1  9\n",
      "<class 'pandas.core.frame.DataFrame'>\n",
      "4\n",
      "\n"
     ]
    }
   ],
   "source": [
    "## how to get any particular value\n",
    "\n",
    "import pandas as pd\n",
    "dic = {\"a\":[1,2,3,4],\"s\":[5,6,7,8],\"d\":[1,1,1,1],1:[6,7,8,9]}\n",
    "x = pd.DataFrame(dic) \n",
    "print(x)\n",
    "print(type(x))\n",
    "print(x[\"a\"][3])\n",
    "print()"
   ]
  },
  {
   "cell_type": "code",
   "execution_count": 28,
   "id": "cc458e7b",
   "metadata": {},
   "outputs": [
    {
     "name": "stdout",
     "output_type": "stream",
     "text": [
      "   0  1  2  3\n",
      "0  1  2  3  4\n",
      "1  5  6  7  8\n"
     ]
    }
   ],
   "source": [
    "l1 = [[1,2,3,4],[5,6,7,8]]\n",
    "x = pd.DataFrame(l1)\n",
    "print(x)\n"
   ]
  },
  {
   "cell_type": "code",
   "execution_count": 31,
   "id": "19bbd244",
   "metadata": {},
   "outputs": [
    {
     "name": "stdout",
     "output_type": "stream",
     "text": [
      "   s  r\n",
      "0  1  5\n",
      "1  2  6\n",
      "2  3  7\n",
      "3  4  8\n",
      "<class 'pandas.core.frame.DataFrame'>\n"
     ]
    }
   ],
   "source": [
    "var = {\"s\":pd.Series([1,2,3,4]), \"r\":pd.Series([5,6,7,8])}\n",
    "x = pd.DataFrame(var)\n",
    "print(x)\n",
    "print(type(x))"
   ]
  },
  {
   "cell_type": "markdown",
   "id": "e16eb704",
   "metadata": {},
   "source": []
  }
 ],
 "metadata": {
  "kernelspec": {
   "display_name": "Python 3",
   "language": "python",
   "name": "python3"
  },
  "language_info": {
   "codemirror_mode": {
    "name": "ipython",
    "version": 3
   },
   "file_extension": ".py",
   "mimetype": "text/x-python",
   "name": "python",
   "nbconvert_exporter": "python",
   "pygments_lexer": "ipython3",
   "version": "3.12.0"
  }
 },
 "nbformat": 4,
 "nbformat_minor": 5
}
