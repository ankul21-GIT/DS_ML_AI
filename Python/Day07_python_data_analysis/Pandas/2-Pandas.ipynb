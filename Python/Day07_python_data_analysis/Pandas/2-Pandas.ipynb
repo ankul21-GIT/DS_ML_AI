{
 "cells": [
  {
   "cell_type": "markdown",
   "id": "86926443",
   "metadata": {},
   "source": [
    "## Data Structure in Pandas"
   ]
  },
  {
   "cell_type": "markdown",
   "id": "488dfb52",
   "metadata": {},
   "source": [
    "Series : it is define as a one-dimensional array that is capable of storing various data type.\n"
   ]
  },
  {
   "cell_type": "markdown",
   "id": "7bd846d0",
   "metadata": {},
   "source": [
    "import pandas as pd\n",
    "\n",
    "a = pd.Series()\n",
    "\n",
    "print(a)"
   ]
  },
  {
   "cell_type": "code",
   "execution_count": null,
   "id": "bc90fbd3",
   "metadata": {},
   "outputs": [
    {
     "name": "stdout",
     "output_type": "stream",
     "text": [
      "0    1\n",
      "1    2\n",
      "2    3\n",
      "3    4\n",
      "4    5\n",
      "dtype: int64\n",
      "<class 'pandas.core.series.Series'>\n"
     ]
    }
   ],
   "source": [
    "import pandas as pd\n",
    "x = [1,2,3,4,5]\n",
    "var = pd.Series(x)\n",
    "print(var)\n",
    "print(type(var))"
   ]
  },
  {
   "cell_type": "code",
   "execution_count": 9,
   "id": "0c4a2fa4",
   "metadata": {},
   "outputs": [
    {
     "name": "stdout",
     "output_type": "stream",
     "text": [
      "0    1\n",
      "1    2\n",
      "2    3\n",
      "3    4\n",
      "4    5\n",
      "dtype: int64\n",
      "5\n"
     ]
    }
   ],
   "source": [
    "## how to get a index number\n",
    "\n",
    "import pandas as pd\n",
    "x = [1,2,3,4,5]\n",
    "var = pd.Series(x)\n",
    "print(var)\n",
    "print(var[4])"
   ]
  },
  {
   "cell_type": "code",
   "execution_count": 12,
   "id": "649a3d59",
   "metadata": {},
   "outputs": [
    {
     "name": "stdout",
     "output_type": "stream",
     "text": [
      "a    1\n",
      "s    2\n",
      "d    3\n",
      "f    4\n",
      "e    5\n",
      "dtype: int64\n",
      "5\n"
     ]
    },
    {
     "name": "stderr",
     "output_type": "stream",
     "text": [
      "C:\\Users\\ankul\\AppData\\Local\\Temp\\ipykernel_10536\\872592777.py:7: FutureWarning: Series.__getitem__ treating keys as positions is deprecated. In a future version, integer keys will always be treated as labels (consistent with DataFrame behavior). To access a value by position, use `ser.iloc[pos]`\n",
      "  print(var[4])\n"
     ]
    }
   ],
   "source": [
    "## how to give a new index \n",
    "\n",
    "import pandas as pd\n",
    "x = [1,2,3,4,5]\n",
    "var = pd.Series(x,index=['a','s','d','f','e'])\n",
    "print(var)\n",
    "print(var[4])"
   ]
  },
  {
   "cell_type": "code",
   "execution_count": 14,
   "id": "36b8696d",
   "metadata": {},
   "outputs": [
    {
     "name": "stdout",
     "output_type": "stream",
     "text": [
      "a    1.0\n",
      "s    2.0\n",
      "d    3.0\n",
      "f    4.0\n",
      "e    5.0\n",
      "dtype: float64\n",
      "5.0\n"
     ]
    },
    {
     "name": "stderr",
     "output_type": "stream",
     "text": [
      "C:\\Users\\ankul\\AppData\\Local\\Temp\\ipykernel_10536\\796164682.py:7: FutureWarning: Series.__getitem__ treating keys as positions is deprecated. In a future version, integer keys will always be treated as labels (consistent with DataFrame behavior). To access a value by position, use `ser.iloc[pos]`\n",
      "  print(var[4])\n"
     ]
    }
   ],
   "source": [
    "## How to change data type using (dtype=\"eg\")\n",
    "\n",
    "import pandas as pd\n",
    "x = [1,2,3,4,5]\n",
    "var = pd.Series(x,index=['a','s','d','f','e'],dtype=\"float\")\n",
    "print(var)\n",
    "print(var[4])"
   ]
  },
  {
   "cell_type": "code",
   "execution_count": 16,
   "id": "18b34300",
   "metadata": {},
   "outputs": [
    {
     "name": "stdout",
     "output_type": "stream",
     "text": [
      "a    1.0\n",
      "s    2.0\n",
      "d    3.0\n",
      "f    4.0\n",
      "e    5.0\n",
      "Name: python, dtype: float64\n",
      "5.0\n"
     ]
    },
    {
     "name": "stderr",
     "output_type": "stream",
     "text": [
      "C:\\Users\\ankul\\AppData\\Local\\Temp\\ipykernel_10536\\1145243253.py:7: FutureWarning: Series.__getitem__ treating keys as positions is deprecated. In a future version, integer keys will always be treated as labels (consistent with DataFrame behavior). To access a value by position, use `ser.iloc[pos]`\n",
      "  print(var[4])\n"
     ]
    }
   ],
   "source": [
    "## how to give name into the datatype using name method\n",
    "\n",
    "import pandas as pd\n",
    "x = [1,2,3,4,5]\n",
    "var = pd.Series(x,index=['a','s','d','f','e'],dtype=\"float\",name=\"python\")\n",
    "print(var)\n",
    "print(var[4])"
   ]
  },
  {
   "cell_type": "code",
   "execution_count": 18,
   "id": "7f26b49c",
   "metadata": {},
   "outputs": [
    {
     "name": "stdout",
     "output_type": "stream",
     "text": [
      "name    [pythin, c, c++, java]\n",
      "por           [12, 13, 14, 15]\n",
      "rank              [1, 4, 3, 2]\n",
      "dtype: object\n"
     ]
    }
   ],
   "source": [
    "dic = {\"name\":['pythin','c','c++','java'],\"por\":[12,13,14,15],\"rank\":[1,4,3,2]}\n",
    "var = pd.Series(dic)\n",
    "print(var)"
   ]
  },
  {
   "cell_type": "code",
   "execution_count": 19,
   "id": "18b5321c",
   "metadata": {},
   "outputs": [
    {
     "name": "stdout",
     "output_type": "stream",
     "text": [
      "0    12\n",
      "dtype: int64\n",
      "<class 'pandas.core.series.Series'>\n"
     ]
    }
   ],
   "source": [
    "s = pd.Series(12)\n",
    "print(s)\n",
    "print(type(s))"
   ]
  },
  {
   "cell_type": "code",
   "execution_count": 20,
   "id": "5e005780",
   "metadata": {},
   "outputs": [
    {
     "name": "stdout",
     "output_type": "stream",
     "text": [
      "1    12\n",
      "2    12\n",
      "3    12\n",
      "4    12\n",
      "5    12\n",
      "dtype: int64\n",
      "<class 'pandas.core.series.Series'>\n"
     ]
    }
   ],
   "source": [
    "## How to give multiple series using index method\n",
    "\n",
    "s = pd.Series(12,index=[1,2,3,4,5])\n",
    "print(s)\n",
    "print(type(s))"
   ]
  },
  {
   "cell_type": "code",
   "execution_count": 21,
   "id": "ae0da7f3",
   "metadata": {},
   "outputs": [
    {
     "name": "stdout",
     "output_type": "stream",
     "text": [
      "1    24.0\n",
      "2    24.0\n",
      "3    24.0\n",
      "4    24.0\n",
      "5     NaN\n",
      "6     NaN\n",
      "7     NaN\n",
      "dtype: float64\n"
     ]
    }
   ],
   "source": [
    "s1 = pd.Series(12,index=[1,2,3,4,5,6,7])\n",
    "s2 = pd.Series(12,index=[1,2,3,4])\n",
    "print(s1+s2)"
   ]
  },
  {
   "cell_type": "code",
   "execution_count": null,
   "id": "a5857696",
   "metadata": {},
   "outputs": [],
   "source": []
  }
 ],
 "metadata": {
  "kernelspec": {
   "display_name": "Python 3",
   "language": "python",
   "name": "python3"
  },
  "language_info": {
   "codemirror_mode": {
    "name": "ipython",
    "version": 3
   },
   "file_extension": ".py",
   "mimetype": "text/x-python",
   "name": "python",
   "nbconvert_exporter": "python",
   "pygments_lexer": "ipython3",
   "version": "3.12.0"
  }
 },
 "nbformat": 4,
 "nbformat_minor": 5
}
