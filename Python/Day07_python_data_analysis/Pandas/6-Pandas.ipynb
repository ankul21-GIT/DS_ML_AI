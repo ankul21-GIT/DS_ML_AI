{
 "cells": [
  {
   "cell_type": "markdown",
   "id": "fb03d2c2",
   "metadata": {},
   "source": [
    "## Python Pandas CSV file"
   ]
  },
  {
   "cell_type": "markdown",
   "id": "43fd6b41",
   "metadata": {},
   "source": [
    "Difference between CSV and XLS(excel) file format\n",
    "\n",
    "- CSV format is a plain text format in which value is seprated by commas(Comma Seprated value).\n",
    "\n",
    "- XLS file format is an excel sheets binary file format which hold infortmation about all the worksheets in file including both content and formatting."
   ]
  },
  {
   "cell_type": "code",
   "execution_count": null,
   "id": "c68e650a",
   "metadata": {},
   "outputs": [
    {
     "name": "stdout",
     "output_type": "stream",
     "text": [
      "{'A': [1, 2, 3, 4, 5, 6], 'B': [6, 7, 8, 9, 1, 2], 'C': [9, 5, 7, 8, 2, 3]}\n",
      "   A  B  C\n",
      "0  1  6  9\n",
      "1  2  7  5\n",
      "2  3  8  7\n",
      "3  4  9  8\n",
      "4  5  1  2\n",
      "5  6  2  3\n"
     ]
    }
   ],
   "source": [
    "import pandas as pd\n",
    "var = {\"A\":[1,2,3,4,5,6],\"B\":[6,7,8,9,1,2],\"C\":[9,5,7,8,2,3]}\n",
    "print(var)\n",
    "d = pd.DataFrame(var)\n",
    "print(d)\n",
    "d.to_csv(\"Test_new.csv\",index=False)\n"
   ]
  },
  {
   "cell_type": "markdown",
   "id": "5f1cd45e",
   "metadata": {},
   "source": []
  }
 ],
 "metadata": {
  "kernelspec": {
   "display_name": "Python 3",
   "language": "python",
   "name": "python3"
  },
  "language_info": {
   "codemirror_mode": {
    "name": "ipython",
    "version": 3
   },
   "file_extension": ".py",
   "mimetype": "text/x-python",
   "name": "python",
   "nbconvert_exporter": "python",
   "pygments_lexer": "ipython3",
   "version": "3.12.0"
  }
 },
 "nbformat": 4,
 "nbformat_minor": 5
}
