{
 "cells": [
  {
   "cell_type": "markdown",
   "id": "d5211b38",
   "metadata": {},
   "source": [
    "## Data Analysis:\n",
    "\n",
    "- Data analysis is the process of inspecting, cleansing, transforming, and modelling data with the goal of discovering useful information, information conclusion, and supporting decision-making."
   ]
  },
  {
   "cell_type": "markdown",
   "id": "3e78559d",
   "metadata": {},
   "source": [
    "## Pandas"
   ]
  },
  {
   "cell_type": "markdown",
   "id": "c51a1f7d",
   "metadata": {},
   "source": [
    "- The name 'pandas' has referance to both \"panel data\" and \"python data analysis\" and was created by wes mckinney in 2008.\n",
    "\n",
    "- Pandas is pyton library used for working with data set.\n",
    "\n",
    "- It has function for analyzing, cleaning, exploring and manipulating data.\n",
    "\n",
    "- Read and write data structure and different format : csv, json, zip etc."
   ]
  },
  {
   "cell_type": "markdown",
   "id": "7681541b",
   "metadata": {},
   "source": [
    "## Pandas Data Structure"
   ]
  },
  {
   "cell_type": "markdown",
   "id": "f643d141",
   "metadata": {},
   "source": [
    "## Three Data Structure\n",
    "\n",
    "- Series :- One-dimensional labeled array pd.Series(data).\n",
    "\n",
    "- DataFrame : Two-Dimensional data structure with column, much like a table.\n",
    "\n",
    "- Panel :- Panel is a 3D container of data."
   ]
  },
  {
   "cell_type": "markdown",
   "id": "f619ec78",
   "metadata": {},
   "source": [
    "Importance of pandas in python"
   ]
  },
  {
   "cell_type": "markdown",
   "id": "fb1d35f7",
   "metadata": {},
   "source": [
    "- Pandas allow us to analyze big data and make conclusion based on statistical theories.\n",
    "\n",
    "- Pandas can clean messy data sets, and make them redable and relevant.\n",
    "\n",
    "- Easy handling of missing data (represented as Nan) as floating point as well non-floating point data .\n",
    "\n",
    "- Size Mutability :- column can be inserted and deleted from DataFrame and higher dimensionalobjects.\n",
    "\n",
    "- Data set mergin and joining. Flexible reshaping and pivoting of data set prove time-series functionality."
   ]
  },
  {
   "cell_type": "markdown",
   "id": "aef3bade",
   "metadata": {},
   "source": []
  }
 ],
 "metadata": {
  "kernelspec": {
   "display_name": "Python 3",
   "language": "python",
   "name": "python3"
  },
  "language_info": {
   "codemirror_mode": {
    "name": "ipython",
    "version": 3
   },
   "file_extension": ".py",
   "mimetype": "text/x-python",
   "name": "python",
   "nbconvert_exporter": "python",
   "pygments_lexer": "ipython3",
   "version": "3.12.0"
  }
 },
 "nbformat": 4,
 "nbformat_minor": 5
}
