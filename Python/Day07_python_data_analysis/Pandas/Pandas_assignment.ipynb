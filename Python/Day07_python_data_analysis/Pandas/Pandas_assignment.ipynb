{
 "cells": [
  {
   "cell_type": "markdown",
   "id": "bd3acf49",
   "metadata": {},
   "source": [
    "Module: Pandas Assignments\n",
    "\n",
    "Lesson: Pandas"
   ]
  },
  {
   "cell_type": "markdown",
   "id": "8edde776",
   "metadata": {},
   "source": [
    "Assignment 1: DataFrame Creation and Indexing\n",
    "\n",
    "1. Create a Pandas DataFrame with 4 columns and 6 rows filled with random integers. Set the index to be the first column."
   ]
  },
  {
   "cell_type": "code",
   "execution_count": 1,
   "id": "cdc52f5c",
   "metadata": {},
   "outputs": [
    {
     "name": "stdout",
     "output_type": "stream",
     "text": [
      "Original DataFrame:\n",
      "    A   B   C   D\n",
      "0  51  18  72  29\n",
      "1  29  21  41  56\n",
      "2   6  46   9  69\n",
      "3  52  29  91  44\n",
      "4  77  65  47  53\n",
      "5  97  77  69  19\n",
      "DataFrame with new index:\n",
      "     B   C   D\n",
      "A             \n",
      "51  18  72  29\n",
      "29  21  41  56\n",
      "6   46   9  69\n",
      "52  29  91  44\n",
      "77  65  47  53\n",
      "97  77  69  19\n"
     ]
    }
   ],
   "source": [
    "import pandas as pd\n",
    "import numpy as np\n",
    "\n",
    "# Create a Pandas DataFrame with 4 columns and 6 rows filled with random integers\n",
    "df = pd.DataFrame(np.random.randint(1, 100, size=(6, 4)), columns=['A', 'B', 'C', 'D'])\n",
    "print(\"Original DataFrame:\")\n",
    "print(df)\n",
    "\n",
    "# Set the index to be the first column\n",
    "df.set_index('A', inplace=True)\n",
    "print(\"DataFrame with new index:\")\n",
    "print(df)"
   ]
  },
  {
   "cell_type": "markdown",
   "id": "c7d9bbd1",
   "metadata": {},
   "source": [
    "2. Create a Pandas DataFrame with columns 'A', 'B', 'C' and index 'X', 'Y', 'Z'. Fill the DataFrame with random integers and access the element at row 'Y' and column 'B'."
   ]
  },
  {
   "cell_type": "code",
   "execution_count": 2,
   "id": "da937605",
   "metadata": {},
   "outputs": [
    {
     "name": "stdout",
     "output_type": "stream",
     "text": [
      "Original DataFrame:\n",
      "    A   B   C\n",
      "X  35  91  28\n",
      "Y  47  18   5\n",
      "Z  91  94   6\n",
      "Element at row 'Y' and column 'B': 18\n"
     ]
    }
   ],
   "source": [
    "# Create a Pandas DataFrame with specified columns and index\n",
    "df = pd.DataFrame(np.random.randint(1, 100, size=(3, 3)), columns=['A', 'B', 'C'], index=['X', 'Y', 'Z'])\n",
    "print(\"Original DataFrame:\")\n",
    "print(df)\n",
    "\n",
    "# Access the element at row 'Y' and column 'B'\n",
    "element = df.at['Y', 'B']\n",
    "print(\"Element at row 'Y' and column 'B':\", element)"
   ]
  },
  {
   "cell_type": "markdown",
   "id": "10da38a4",
   "metadata": {},
   "source": [
    "Assignment 2: DataFrame Operations\n",
    "\n",
    "1. Create a Pandas DataFrame with 3 columns and 5 rows filled with random integers. Add a new column that is the product of the first two columns."
   ]
  },
  {
   "cell_type": "code",
   "execution_count": 3,
   "id": "f9686897",
   "metadata": {},
   "outputs": [
    {
     "name": "stdout",
     "output_type": "stream",
     "text": [
      "Original DataFrame:\n",
      "    A   B   C\n",
      "0  69  92   1\n",
      "1  44  54  74\n",
      "2  11   7  53\n",
      "3   2  28  63\n",
      "4  87  85  11\n",
      "DataFrame with new column:\n",
      "    A   B   C     D\n",
      "0  69  92   1  6348\n",
      "1  44  54  74  2376\n",
      "2  11   7  53    77\n",
      "3   2  28  63    56\n",
      "4  87  85  11  7395\n"
     ]
    }
   ],
   "source": [
    "# Create a Pandas DataFrame with 3 columns and 5 rows filled with random integers\n",
    "df = pd.DataFrame(np.random.randint(1, 100, size=(5, 3)), columns=['A', 'B', 'C'])\n",
    "print(\"Original DataFrame:\")\n",
    "print(df)\n",
    "\n",
    "# Add a new column that is the product of the first two columns\n",
    "df['D'] = df['A'] * df['B']\n",
    "print(\"DataFrame with new column:\")\n",
    "print(df)"
   ]
  },
  {
   "cell_type": "markdown",
   "id": "b112a0e2",
   "metadata": {},
   "source": [
    "2. Create a Pandas DataFrame with 3 columns and 4 rows filled with random integers. Compute the row-wise and column-wise sum."
   ]
  },
  {
   "cell_type": "code",
   "execution_count": 4,
   "id": "7526a3e7",
   "metadata": {},
   "outputs": [
    {
     "name": "stdout",
     "output_type": "stream",
     "text": [
      "Original DataFrame:\n",
      "    A   B   C\n",
      "0  70  59  20\n",
      "1  37  72  21\n",
      "2  77  40  37\n",
      "3  53  38  32\n",
      "Row-wise sum:\n",
      "0    149\n",
      "1    130\n",
      "2    154\n",
      "3    123\n",
      "dtype: int64\n",
      "Column-wise sum:\n",
      "A    237\n",
      "B    209\n",
      "C    110\n",
      "dtype: int64\n"
     ]
    }
   ],
   "source": [
    "# Create a Pandas DataFrame with 3 columns and 4 rows filled with random integers\n",
    "df = pd.DataFrame(np.random.randint(1, 100, size=(4, 3)), columns=['A', 'B', 'C'])\n",
    "print(\"Original DataFrame:\")\n",
    "print(df)\n",
    "\n",
    "# Compute the row-wise and column-wise sum\n",
    "row_sum = df.sum(axis=1)\n",
    "column_sum = df.sum(axis=0)\n",
    "\n",
    "print(\"Row-wise sum:\")\n",
    "print(row_sum)\n",
    "print(\"Column-wise sum:\")\n",
    "print(column_sum)"
   ]
  },
  {
   "cell_type": "markdown",
   "id": "ceaa2645",
   "metadata": {},
   "source": [
    "Assignment 3: Data Cleaning\n",
    "\n",
    "1. Create a Pandas DataFrame with 3 columns and 5 rows filled with random integers. Introduce some NaN values. Fill the NaN values with the mean of the respective columns."
   ]
  },
  {
   "cell_type": "code",
   "execution_count": 5,
   "id": "87344bce",
   "metadata": {},
   "outputs": [
    {
     "name": "stdout",
     "output_type": "stream",
     "text": [
      "Original DataFrame:\n",
      "    A   B   C\n",
      "0  22  44  36\n",
      "1  21  78  17\n",
      "2  31  74  48\n",
      "3  46  31  55\n",
      "4   6  61  75\n",
      "DataFrame with NaN values:\n",
      "      A     B     C\n",
      "0  22.0   NaN  36.0\n",
      "1  21.0  78.0  17.0\n",
      "2  31.0  74.0   NaN\n",
      "3  46.0  31.0  55.0\n",
      "4   NaN  61.0  75.0\n",
      "DataFrame with NaN values filled:\n",
      "      A     B      C\n",
      "0  22.0  61.0  36.00\n",
      "1  21.0  78.0  17.00\n",
      "2  31.0  74.0  45.75\n",
      "3  46.0  31.0  55.00\n",
      "4  30.0  61.0  75.00\n"
     ]
    }
   ],
   "source": [
    "# Create a Pandas DataFrame with 3 columns and 5 rows filled with random integers\n",
    "df = pd.DataFrame(np.random.randint(1, 100, size=(5, 3)), columns=['A', 'B', 'C'])\n",
    "print(\"Original DataFrame:\")\n",
    "print(df)\n",
    "\n",
    "# Introduce some NaN values\n",
    "df.iloc[0, 1] = np.nan\n",
    "df.iloc[2, 2] = np.nan\n",
    "df.iloc[4, 0] = np.nan\n",
    "print(\"DataFrame with NaN values:\")\n",
    "print(df)\n",
    "\n",
    "# Fill the NaN values with the mean of the respective columns\n",
    "df.fillna(df.mean(), inplace=True)\n",
    "print(\"DataFrame with NaN values filled:\")\n",
    "print(df)"
   ]
  },
  {
   "cell_type": "markdown",
   "id": "665cd8b5",
   "metadata": {},
   "source": [
    "2. Create a Pandas DataFrame with 4 columns and 6 rows filled with random integers. Introduce some NaN values. Drop the rows with any NaN values."
   ]
  },
  {
   "cell_type": "code",
   "execution_count": 6,
   "id": "a11632a5",
   "metadata": {},
   "outputs": [
    {
     "name": "stdout",
     "output_type": "stream",
     "text": [
      "Original DataFrame:\n",
      "    A   B   C   D\n",
      "0  89  51  82  59\n",
      "1  79  55  96  33\n",
      "2  28  46  86  19\n",
      "3  18  73  90   8\n",
      "4   2  36  59  17\n",
      "5   7  52  26  25\n",
      "DataFrame with NaN values:\n",
      "      A     B     C   D\n",
      "0  89.0  51.0  82.0  59\n",
      "1  79.0  55.0   NaN  33\n",
      "2  28.0  46.0  86.0  19\n",
      "3   NaN  73.0  90.0   8\n",
      "4   2.0  36.0  59.0  17\n",
      "5   7.0   NaN  26.0  25\n",
      "DataFrame with NaN values dropped:\n",
      "      A     B     C   D\n",
      "0  89.0  51.0  82.0  59\n",
      "2  28.0  46.0  86.0  19\n",
      "4   2.0  36.0  59.0  17\n"
     ]
    }
   ],
   "source": [
    "# Create a Pandas DataFrame with 4 columns and 6 rows filled with random integers\n",
    "df = pd.DataFrame(np.random.randint(1, 100, size=(6, 4)), columns=['A', 'B', 'C', 'D'])\n",
    "print(\"Original DataFrame:\")\n",
    "print(df)\n",
    "\n",
    "# Introduce some NaN values\n",
    "df.iloc[1, 2] = np.nan\n",
    "df.iloc[3, 0] = np.nan\n",
    "df.iloc[5, 1] = np.nan\n",
    "print(\"DataFrame with NaN values:\")\n",
    "print(df)\n",
    "\n",
    "# Drop the rows with any NaN values\n",
    "df.dropna(inplace=True)\n",
    "print(\"DataFrame with NaN values dropped:\")\n",
    "print(df)"
   ]
  },
  {
   "cell_type": "markdown",
   "id": "1e68d14d",
   "metadata": {},
   "source": [
    "Assignment 4: Data Aggregation\n",
    "\n",
    "1. Create a Pandas DataFrame with 2 columns: 'Category' and 'Value'. Fill the 'Category' column with random categories ('A', 'B', 'C') and the 'Value' column with random integers. Group the DataFrame by 'Category' and compute the sum and mean of 'Value' for each category."
   ]
  },
  {
   "cell_type": "code",
   "execution_count": 7,
   "id": "67bab444",
   "metadata": {},
   "outputs": [
    {
     "name": "stdout",
     "output_type": "stream",
     "text": [
      "Original DataFrame:\n",
      "  Category  Value\n",
      "0        B     97\n",
      "1        C     38\n",
      "2        B     36\n",
      "3        A     70\n",
      "4        B     84\n",
      "5        B      6\n",
      "6        A     23\n",
      "7        C     63\n",
      "8        B     24\n",
      "9        B     52\n",
      "Grouped DataFrame:\n",
      "          sum       mean\n",
      "Category                \n",
      "A          93  46.500000\n",
      "B         299  49.833333\n",
      "C         101  50.500000\n"
     ]
    }
   ],
   "source": [
    "# Create a Pandas DataFrame with 2 columns: 'Category' and 'Value'\n",
    "df = pd.DataFrame({'Category': np.random.choice(['A', 'B', 'C'], size=10), 'Value': np.random.randint(1, 100, size=10)})\n",
    "print(\"Original DataFrame:\")\n",
    "print(df)\n",
    "\n",
    "# Group the DataFrame by 'Category' and compute the sum and mean of 'Value' for each category\n",
    "grouped = df.groupby('Category')['Value'].agg(['sum', 'mean'])\n",
    "print(\"Grouped DataFrame:\")\n",
    "print(grouped)"
   ]
  },
  {
   "cell_type": "markdown",
   "id": "286db5e4",
   "metadata": {},
   "source": [
    "2. Create a Pandas DataFrame with 3 columns: 'Product', 'Category', and 'Sales'. Fill the DataFrame with random data. Group the DataFrame by 'Category' and compute the total sales for each category."
   ]
  },
  {
   "cell_type": "code",
   "execution_count": 8,
   "id": "5946ebf9",
   "metadata": {},
   "outputs": [
    {
     "name": "stdout",
     "output_type": "stream",
     "text": [
      "Original DataFrame:\n",
      "  Product Category  Sales\n",
      "0   Prod3        A     28\n",
      "1   Prod3        B      1\n",
      "2   Prod1        B      9\n",
      "3   Prod3        A     67\n",
      "4   Prod3        A     92\n",
      "5   Prod1        A     62\n",
      "6   Prod3        B     92\n",
      "7   Prod1        B     32\n",
      "8   Prod2        B     71\n",
      "9   Prod2        B     23\n",
      "Grouped DataFrame:\n",
      "Category\n",
      "A    249\n",
      "B    228\n",
      "Name: Sales, dtype: int32\n"
     ]
    }
   ],
   "source": [
    "# Create a Pandas DataFrame with 3 columns: 'Product', 'Category', and 'Sales'\n",
    "df = pd.DataFrame({'Product': np.random.choice(['Prod1', 'Prod2', 'Prod3'], size=10), 'Category': np.random.choice(['A', 'B', 'C'], size=10), 'Sales': np.random.randint(1, 100, size=10)})\n",
    "print(\"Original DataFrame:\")\n",
    "print(df)\n",
    "\n",
    "# Group the DataFrame by 'Category' and compute the total sales for each category\n",
    "grouped = df.groupby('Category')['Sales'].sum()\n",
    "print(\"Grouped DataFrame:\")\n",
    "print(grouped)"
   ]
  },
  {
   "cell_type": "markdown",
   "id": "c6c0eae0",
   "metadata": {},
   "source": [
    "Assignment 5: Merging DataFrames\n",
    "\n",
    "5. Create two Pandas DataFrames with a common column. Merge the DataFrames using the common column."
   ]
  },
  {
   "cell_type": "code",
   "execution_count": 9,
   "id": "dd6dec54",
   "metadata": {},
   "outputs": [
    {
     "name": "stdout",
     "output_type": "stream",
     "text": [
      "DataFrame 1:\n",
      "  Key  Value1\n",
      "0   A      54\n",
      "1   B      70\n",
      "2   C      58\n",
      "3   D      74\n",
      "DataFrame 2:\n",
      "  Key  Value2\n",
      "0   A      29\n",
      "1   B      48\n",
      "2   C      38\n",
      "3   E      32\n",
      "Merged DataFrame:\n",
      "  Key  Value1  Value2\n",
      "0   A      54      29\n",
      "1   B      70      48\n",
      "2   C      58      38\n"
     ]
    }
   ],
   "source": [
    "# Create two Pandas DataFrames with a common column\n",
    "df1 = pd.DataFrame({'Key': ['A', 'B', 'C', 'D'], 'Value1': np.random.randint(1, 100, size=4)})\n",
    "df2 = pd.DataFrame({'Key': ['A', 'B', 'C', 'E'], 'Value2': np.random.randint(1, 100, size=4)})\n",
    "print(\"DataFrame 1:\")\n",
    "print(df1)\n",
    "print(\"DataFrame 2:\")\n",
    "print(df2)\n",
    "\n",
    "# Merge the DataFrames using the common column\n",
    "merged = pd.merge(df1, df2, on='Key')\n",
    "print(\"Merged DataFrame:\")\n",
    "print(merged)"
   ]
  },
  {
   "cell_type": "markdown",
   "id": "72379f82",
   "metadata": {},
   "source": [
    "2. Create two Pandas DataFrames with different columns. Concatenate the DataFrames along the rows and along the columns."
   ]
  },
  {
   "cell_type": "code",
   "execution_count": 10,
   "id": "c594c4dc",
   "metadata": {},
   "outputs": [
    {
     "name": "stdout",
     "output_type": "stream",
     "text": [
      "DataFrame 1:\n",
      "    A   B\n",
      "0  74  79\n",
      "1  62  33\n",
      "2  13  34\n",
      "DataFrame 2:\n",
      "    C   D\n",
      "0  23  20\n",
      "1  79   4\n",
      "2  45  58\n",
      "Concatenated DataFrame (rows):\n",
      "      A     B     C     D\n",
      "0  74.0  79.0   NaN   NaN\n",
      "1  62.0  33.0   NaN   NaN\n",
      "2  13.0  34.0   NaN   NaN\n",
      "0   NaN   NaN  23.0  20.0\n",
      "1   NaN   NaN  79.0   4.0\n",
      "2   NaN   NaN  45.0  58.0\n",
      "Concatenated DataFrame (columns):\n",
      "    A   B   C   D\n",
      "0  74  79  23  20\n",
      "1  62  33  79   4\n",
      "2  13  34  45  58\n"
     ]
    }
   ],
   "source": [
    "# Create two Pandas DataFrames with different columns\n",
    "df1 = pd.DataFrame({'A': np.random.randint(1, 100, size=3), 'B': np.random.randint(1, 100, size=3)})\n",
    "df2 = pd.DataFrame({'C': np.random.randint(1, 100, size=3), 'D': np.random.randint(1, 100, size=3)})\n",
    "print(\"DataFrame 1:\")\n",
    "print(df1)\n",
    "print(\"DataFrame 2:\")\n",
    "print(df2)\n",
    "\n",
    "# Concatenate the DataFrames along the rows\n",
    "concat_rows = pd.concat([df1, df2], axis=0)\n",
    "print(\"Concatenated DataFrame (rows):\")\n",
    "print(concat_rows)\n",
    "\n",
    "# Concatenate the DataFrames along the columns\n",
    "concat_columns = pd.concat([df1, df2], axis=1)\n",
    "print(\"Concatenated DataFrame (columns):\")\n",
    "print(concat_columns)"
   ]
  },
  {
   "cell_type": "markdown",
   "id": "17107647",
   "metadata": {},
   "source": [
    "Assignment 6: Time Series Analysis\n",
    "\n",
    "1. Create a Pandas DataFrame with a datetime index and one column filled with random integers. Resample the DataFrame to compute the monthly mean of the values."
   ]
  },
  {
   "cell_type": "code",
   "execution_count": 11,
   "id": "edcdbb4f",
   "metadata": {},
   "outputs": [
    {
     "name": "stdout",
     "output_type": "stream",
     "text": [
      "Original DataFrame:\n",
      "            data\n",
      "date            \n",
      "2022-01-01    53\n",
      "2022-01-02    74\n",
      "2022-01-03    52\n",
      "2022-01-04    46\n",
      "2022-01-05    46\n",
      "...          ...\n",
      "2022-12-27    55\n",
      "2022-12-28    91\n",
      "2022-12-29    97\n",
      "2022-12-30    77\n",
      "2022-12-31    78\n",
      "\n",
      "[365 rows x 1 columns]\n",
      "Monthly mean DataFrame:\n",
      "                 data\n",
      "date                 \n",
      "2022-01-31  58.516129\n",
      "2022-02-28  60.392857\n",
      "2022-03-31  47.161290\n",
      "2022-04-30  42.166667\n",
      "2022-05-31  44.741935\n",
      "2022-06-30  49.200000\n",
      "2022-07-31  53.322581\n",
      "2022-08-31  45.935484\n",
      "2022-09-30  47.533333\n",
      "2022-10-31  50.548387\n",
      "2022-11-30  52.300000\n",
      "2022-12-31  52.774194\n"
     ]
    },
    {
     "name": "stderr",
     "output_type": "stream",
     "text": [
      "C:\\Users\\ankul\\AppData\\Local\\Temp\\ipykernel_7000\\994453891.py:10: FutureWarning: 'M' is deprecated and will be removed in a future version, please use 'ME' instead.\n",
      "  monthly_mean = df.resample('M').mean()\n"
     ]
    }
   ],
   "source": [
    "# Create a Pandas DataFrame with a datetime index and one column filled with random integers\n",
    "date_rng = pd.date_range(start='2022-01-01', end='2022-12-31', freq='D')\n",
    "df = pd.DataFrame(date_rng, columns=['date'])\n",
    "df['data'] = np.random.randint(0, 100, size=(len(date_rng)))\n",
    "df.set_index('date', inplace=True)\n",
    "print(\"Original DataFrame:\")\n",
    "print(df)\n",
    "\n",
    "# Resample the DataFrame to compute the monthly mean of the values\n",
    "monthly_mean = df.resample('M').mean()\n",
    "print(\"Monthly mean DataFrame:\")\n",
    "print(monthly_mean)"
   ]
  },
  {
   "cell_type": "markdown",
   "id": "80e809ef",
   "metadata": {},
   "source": [
    "2.Create a Pandas DataFrame with a datetime index ranging from '2021-01-01' to '2021-12-31' and one column filled with random integers. Compute the rolling mean with a window of 7 days."
   ]
  },
  {
   "cell_type": "code",
   "execution_count": 12,
   "id": "08e2340b",
   "metadata": {},
   "outputs": [
    {
     "name": "stdout",
     "output_type": "stream",
     "text": [
      "Original DataFrame:\n",
      "            data\n",
      "date            \n",
      "2021-01-01    91\n",
      "2021-01-02    33\n",
      "2021-01-03    87\n",
      "2021-01-04    47\n",
      "2021-01-05    21\n",
      "...          ...\n",
      "2021-12-27    84\n",
      "2021-12-28    29\n",
      "2021-12-29    14\n",
      "2021-12-30    27\n",
      "2021-12-31     4\n",
      "\n",
      "[365 rows x 1 columns]\n",
      "Rolling mean DataFrame:\n",
      "                 data\n",
      "date                 \n",
      "2021-01-01        NaN\n",
      "2021-01-02        NaN\n",
      "2021-01-03        NaN\n",
      "2021-01-04        NaN\n",
      "2021-01-05        NaN\n",
      "...               ...\n",
      "2021-12-27  70.428571\n",
      "2021-12-28  66.428571\n",
      "2021-12-29  59.285714\n",
      "2021-12-30  57.142857\n",
      "2021-12-31  49.142857\n",
      "\n",
      "[365 rows x 1 columns]\n"
     ]
    }
   ],
   "source": [
    "# Create a Pandas DataFrame with a datetime index ranging from '2021-01-01' to '2021-12-31'\n",
    "date_rng = pd.date_range(start='2021-01-01', end='2021-12-31', freq='D')\n",
    "df = pd.DataFrame(date_rng, columns=['date'])\n",
    "df['data'] = np.random.randint(0, 100, size=(len(date_rng)))\n",
    "df.set_index('date', inplace=True)\n",
    "print(\"Original DataFrame:\")\n",
    "print(df)\n",
    "\n",
    "# Compute the rolling mean with a window of 7 days\n",
    "rolling_mean = df.rolling(window=7).mean()\n",
    "print(\"Rolling mean DataFrame:\")\n",
    "print(rolling_mean)"
   ]
  },
  {
   "cell_type": "markdown",
   "id": "4f5773c3",
   "metadata": {},
   "source": [
    "Assignment 7: MultiIndex DataFrame\n",
    "\n",
    "1. Create a Pandas DataFrame with a MultiIndex (hierarchical index). Perform some basic indexing and slicing operations on the MultiIndex DataFrame."
   ]
  },
  {
   "cell_type": "code",
   "execution_count": 13,
   "id": "d25cb3e4",
   "metadata": {},
   "outputs": [
    {
     "name": "stdout",
     "output_type": "stream",
     "text": [
      "MultiIndex DataFrame:\n",
      "                      Value1  Value2  Value3\n",
      "Category SubCategory                        \n",
      "A        one              76      55      30\n",
      "         two              28      89      35\n",
      "B        one              32      35       4\n",
      "         two               8      84      97\n",
      "Indexing at Category 'A':\n",
      "             Value1  Value2  Value3\n",
      "SubCategory                        \n",
      "one              76      55      30\n",
      "two              28      89      35\n",
      "Slicing at Category 'B' and SubCategory 'two':\n",
      "Value1     8\n",
      "Value2    84\n",
      "Value3    97\n",
      "Name: (B, two), dtype: int32\n"
     ]
    }
   ],
   "source": [
    "# Create a Pandas DataFrame with a MultiIndex (hierarchical index)\n",
    "arrays = [['A', 'A', 'B', 'B'], ['one', 'two', 'one', 'two']]\n",
    "index = pd.MultiIndex.from_arrays(arrays, names=('Category', 'SubCategory'))\n",
    "df = pd.DataFrame(np.random.randint(1, 100, size=(4, 3)), index=index, columns=['Value1', 'Value2', 'Value3'])\n",
    "print(\"MultiIndex DataFrame:\")\n",
    "print(df)\n",
    "\n",
    "# Basic indexing and slicing operations\n",
    "print(\"Indexing at Category 'A':\")\n",
    "print(df.loc['A'])\n",
    "\n",
    "print(\"Slicing at Category 'B' and SubCategory 'two':\")\n",
    "print(df.loc[('B', 'two')])"
   ]
  },
  {
   "cell_type": "markdown",
   "id": "faa1fbf3",
   "metadata": {},
   "source": [
    "2. Create a Pandas DataFrame with MultiIndex consisting of 'Category' and 'SubCategory'. Fill the DataFrame with random data and compute the sum of values for each 'Category' and 'SubCategory'."
   ]
  },
  {
   "cell_type": "code",
   "execution_count": 14,
   "id": "4b76df5b",
   "metadata": {},
   "outputs": [
    {
     "name": "stdout",
     "output_type": "stream",
     "text": [
      "MultiIndex DataFrame:\n",
      "                      Value1  Value2  Value3\n",
      "Category SubCategory                        \n",
      "A        one              35      40      43\n",
      "         two              72      99      59\n",
      "B        one              97      12      75\n",
      "         two              51      80      70\n",
      "C        one              81      62      66\n",
      "         two              38      36      10\n",
      "Sum of values:\n",
      "                      Value1  Value2  Value3\n",
      "Category SubCategory                        \n",
      "A        one              35      40      43\n",
      "         two              72      99      59\n",
      "B        one              97      12      75\n",
      "         two              51      80      70\n",
      "C        one              81      62      66\n",
      "         two              38      36      10\n"
     ]
    }
   ],
   "source": [
    "# Create a Pandas DataFrame with MultiIndex consisting of 'Category' and 'SubCategory'\n",
    "arrays = [['A', 'A', 'B', 'B', 'C', 'C'], ['one', 'two', 'one', 'two', 'one', 'two']]\n",
    "index = pd.MultiIndex.from_arrays(arrays, names=('Category', 'SubCategory'))\n",
    "df = pd.DataFrame(np.random.randint(1, 100, size=(6, 3)), index=index, columns=['Value1', 'Value2', 'Value3'])\n",
    "print(\"MultiIndex DataFrame:\")\n",
    "print(df)\n",
    "\n",
    "# Compute the sum of values for each 'Category' and 'SubCategory'\n",
    "sum_values = df.groupby(['Category', 'SubCategory']).sum()\n",
    "print(\"Sum of values:\")\n",
    "print(sum_values)"
   ]
  },
  {
   "cell_type": "markdown",
   "id": "089b224a",
   "metadata": {},
   "source": [
    "Assignment 8: Pivot Tables\n",
    "\n",
    "1.Create a Pandas DataFrame with columns 'Date', 'Category', and 'Value'. Create a pivot table to compute the sum of 'Value' for each 'Category' by 'Date'."
   ]
  },
  {
   "cell_type": "code",
   "execution_count": 15,
   "id": "95a89623",
   "metadata": {},
   "outputs": [
    {
     "name": "stdout",
     "output_type": "stream",
     "text": [
      "Original DataFrame:\n",
      "         Date Category  Value\n",
      "0  2022-01-02        B     26\n",
      "1  2022-01-07        B     83\n",
      "2  2022-01-08        C     73\n",
      "3  2022-01-03        A     26\n",
      "4  2022-01-04        A     83\n",
      "5  2022-01-05        C     80\n",
      "6  2022-01-01        B     76\n",
      "7  2022-01-08        A     81\n",
      "8  2022-01-09        A     91\n",
      "9  2022-01-07        C     69\n",
      "10 2022-01-10        A     46\n",
      "11 2022-01-01        C     51\n",
      "12 2022-01-05        B     81\n",
      "13 2022-01-01        A     38\n",
      "14 2022-01-07        B     86\n",
      "15 2022-01-03        A     27\n",
      "16 2022-01-10        C     17\n",
      "17 2022-01-10        C     18\n",
      "18 2022-01-06        A     89\n",
      "19 2022-01-10        B     83\n",
      "Pivot Table:\n",
      "Category       A      B     C\n",
      "Date                         \n",
      "2022-01-01  38.0   76.0  51.0\n",
      "2022-01-02   NaN   26.0   NaN\n",
      "2022-01-03  53.0    NaN   NaN\n",
      "2022-01-04  83.0    NaN   NaN\n",
      "2022-01-05   NaN   81.0  80.0\n",
      "2022-01-06  89.0    NaN   NaN\n",
      "2022-01-07   NaN  169.0  69.0\n",
      "2022-01-08  81.0    NaN  73.0\n",
      "2022-01-09  91.0    NaN   NaN\n",
      "2022-01-10  46.0   83.0  35.0\n"
     ]
    }
   ],
   "source": [
    "# Create a Pandas DataFrame with columns 'Date', 'Category', and 'Value'\n",
    "date_rng = pd.date_range(start='2022-01-01', end='2022-01-10', freq='D')\n",
    "df = pd.DataFrame({'Date': np.random.choice(date_rng, size=20), 'Category': np.random.choice(['A', 'B', 'C'], size=20), 'Value': np.random.randint(1, 100, size=20)})\n",
    "print(\"Original DataFrame:\")\n",
    "print(df)\n",
    "\n",
    "# Create a pivot table to compute the sum of 'Value' for each 'Category' by 'Date'\n",
    "pivot_table = df.pivot_table(values='Value', index='Date', columns='Category', aggfunc='sum')\n",
    "print(\"Pivot Table:\")\n",
    "print(pivot_table)"
   ]
  },
  {
   "cell_type": "markdown",
   "id": "997a39d7",
   "metadata": {},
   "source": [
    "2. Create a Pandas DataFrame with columns 'Year', 'Quarter', and 'Revenue'. Create a pivot table to compute the mean 'Revenue' for each 'Quarter' by 'Year'."
   ]
  },
  {
   "cell_type": "code",
   "execution_count": 16,
   "id": "caf2f74b",
   "metadata": {},
   "outputs": [
    {
     "name": "stdout",
     "output_type": "stream",
     "text": [
      "Original DataFrame:\n",
      "    Year Quarter  Revenue\n",
      "0   2022      Q4       40\n",
      "1   2022      Q2      252\n",
      "2   2020      Q2      312\n",
      "3   2022      Q2      802\n",
      "4   2020      Q4      523\n",
      "5   2021      Q2      937\n",
      "6   2020      Q1       64\n",
      "7   2020      Q2      943\n",
      "8   2022      Q3      271\n",
      "9   2020      Q3      559\n",
      "10  2020      Q4       42\n",
      "11  2021      Q3        8\n",
      "Pivot Table:\n",
      "Quarter    Q1     Q2     Q3     Q4\n",
      "Year                              \n",
      "2020     64.0  627.5  559.0  282.5\n",
      "2021      NaN  937.0    8.0    NaN\n",
      "2022      NaN  527.0  271.0   40.0\n"
     ]
    }
   ],
   "source": [
    "# Create a Pandas DataFrame with columns 'Year', 'Quarter', and 'Revenue'\n",
    "df = pd.DataFrame({'Year': np.random.choice([2020, 2021, 2022], size=12), 'Quarter': np.random.choice(['Q1', 'Q2', 'Q3', 'Q4'], size=12), 'Revenue': np.random.randint(1, 1000, size=12)})\n",
    "print(\"Original DataFrame:\")\n",
    "print(df)\n",
    "\n",
    "# Create a pivot table to compute the mean 'Revenue' for each 'Quarter' by 'Year'\n",
    "pivot_table = df.pivot_table(values='Revenue', index='Year', columns='Quarter', aggfunc='mean')\n",
    "print(\"Pivot Table:\")\n",
    "print(pivot_table)"
   ]
  },
  {
   "cell_type": "markdown",
   "id": "ad0433ab",
   "metadata": {},
   "source": [
    "Assignment 9: Applying Functions\n",
    "\n",
    "1. Create a Pandas DataFrame with 3 columns and 5 rows filled with random integers. Apply a function that doubles the values of the DataFrame."
   ]
  },
  {
   "cell_type": "code",
   "execution_count": 17,
   "id": "fdbf661a",
   "metadata": {},
   "outputs": [
    {
     "name": "stdout",
     "output_type": "stream",
     "text": [
      "Original DataFrame:\n",
      "    A   B   C\n",
      "0  10  64  18\n",
      "1  27  92  45\n",
      "2  58   3  69\n",
      "3  68  95  91\n",
      "4  74  81  48\n",
      "Doubled DataFrame:\n",
      "     A    B    C\n",
      "0   20  128   36\n",
      "1   54  184   90\n",
      "2  116    6  138\n",
      "3  136  190  182\n",
      "4  148  162   96\n"
     ]
    },
    {
     "name": "stderr",
     "output_type": "stream",
     "text": [
      "C:\\Users\\ankul\\AppData\\Local\\Temp\\ipykernel_7000\\3315638500.py:7: FutureWarning: DataFrame.applymap has been deprecated. Use DataFrame.map instead.\n",
      "  df_doubled = df.applymap(lambda x: x * 2)\n"
     ]
    }
   ],
   "source": [
    "# Create a Pandas DataFrame with 3 columns and 5 rows filled with random integers\n",
    "df = pd.DataFrame(np.random.randint(1, 100, size=(5, 3)), columns=['A', 'B', 'C'])\n",
    "print(\"Original DataFrame:\")\n",
    "print(df)\n",
    "\n",
    "# Apply a function that doubles the values of the DataFrame\n",
    "df_doubled = df.applymap(lambda x: x * 2)\n",
    "print(\"Doubled DataFrame:\")\n",
    "print(df_doubled)"
   ]
  },
  {
   "cell_type": "markdown",
   "id": "da8c2706",
   "metadata": {},
   "source": [
    "2. Create a Pandas DataFrame with 3 columns and 6 rows filled with random integers. Apply a lambda function to create a new column that is the sum of the existing columns."
   ]
  },
  {
   "cell_type": "code",
   "execution_count": 18,
   "id": "2402706e",
   "metadata": {},
   "outputs": [
    {
     "name": "stdout",
     "output_type": "stream",
     "text": [
      "Original DataFrame:\n",
      "    A   B   C\n",
      "0  62  17  84\n",
      "1  43  90   9\n",
      "2  19  39  78\n",
      "3  41  38  53\n",
      "4  50  20  52\n",
      "5  96  34  45\n",
      "DataFrame with Sum column:\n",
      "    A   B   C  Sum\n",
      "0  62  17  84  163\n",
      "1  43  90   9  142\n",
      "2  19  39  78  136\n",
      "3  41  38  53  132\n",
      "4  50  20  52  122\n",
      "5  96  34  45  175\n"
     ]
    }
   ],
   "source": [
    "# Create a Pandas DataFrame with 3 columns and 6 rows filled with random integers\n",
    "df = pd.DataFrame(np.random.randint(1, 100, size=(6, 3)), columns=['A', 'B', 'C'])\n",
    "print(\"Original DataFrame:\")\n",
    "print(df)\n",
    "\n",
    "# Apply a lambda function to create a new column that is the sum of the existing columns\n",
    "df['Sum'] = df.apply(lambda row: row.sum(), axis=1)\n",
    "print(\"DataFrame with Sum column:\")\n",
    "print(df)"
   ]
  },
  {
   "cell_type": "markdown",
   "id": "adb23e8f",
   "metadata": {},
   "source": [
    "Assignment 10: Working with Text Data\n",
    "\n",
    "1. Create a Pandas Series with 5 random text strings. Convert all the strings to uppercase."
   ]
  },
  {
   "cell_type": "code",
   "execution_count": 19,
   "id": "b6f7a95e",
   "metadata": {},
   "outputs": [
    {
     "name": "stdout",
     "output_type": "stream",
     "text": [
      "Original Series:\n",
      "0         apple\n",
      "1        banana\n",
      "2        cherry\n",
      "3          date\n",
      "4    elderberry\n",
      "dtype: object\n",
      "Uppercase Series:\n",
      "0         APPLE\n",
      "1        BANANA\n",
      "2        CHERRY\n",
      "3          DATE\n",
      "4    ELDERBERRY\n",
      "dtype: object\n"
     ]
    }
   ],
   "source": [
    "# Create a Pandas Series with 5 random text strings\n",
    "text_data = pd.Series(['apple', 'banana', 'cherry', 'date', 'elderberry'])\n",
    "print(\"Original Series:\")\n",
    "print(text_data)\n",
    "\n",
    "# Convert all the strings to uppercase\n",
    "uppercase_data = text_data.str.upper()\n",
    "print(\"Uppercase Series:\")\n",
    "print(uppercase_data)"
   ]
  },
  {
   "cell_type": "markdown",
   "id": "9c6eadb7",
   "metadata": {},
   "source": [
    "Create a Pandas Series with 5 random text strings. Extract the first three characters of each string."
   ]
  },
  {
   "cell_type": "code",
   "execution_count": 20,
   "id": "e7d30221",
   "metadata": {},
   "outputs": [
    {
     "name": "stdout",
     "output_type": "stream",
     "text": [
      "Original Series:\n",
      "0         apple\n",
      "1        banana\n",
      "2        cherry\n",
      "3          date\n",
      "4    elderberry\n",
      "dtype: object\n",
      "First three characters:\n",
      "0    app\n",
      "1    ban\n",
      "2    che\n",
      "3    dat\n",
      "4    eld\n",
      "dtype: object\n"
     ]
    }
   ],
   "source": [
    "# Create a Pandas Series with 5 random text strings\n",
    "text_data = pd.Series(['apple', 'banana', 'cherry', 'date', 'elderberry'])\n",
    "print(\"Original Series:\")\n",
    "print(text_data)\n",
    "\n",
    "# Extract the first three characters of each string\n",
    "first_three_chars = text_data.str[:3]\n",
    "print(\"First three characters:\")\n",
    "print(first_three_chars)"
   ]
  },
  {
   "cell_type": "markdown",
   "id": "529eb71b",
   "metadata": {},
   "source": []
  }
 ],
 "metadata": {
  "kernelspec": {
   "display_name": "Python 3",
   "language": "python",
   "name": "python3"
  },
  "language_info": {
   "codemirror_mode": {
    "name": "ipython",
    "version": 3
   },
   "file_extension": ".py",
   "mimetype": "text/x-python",
   "name": "python",
   "nbconvert_exporter": "python",
   "pygments_lexer": "ipython3",
   "version": "3.12.0"
  }
 },
 "nbformat": 4,
 "nbformat_minor": 5
}
