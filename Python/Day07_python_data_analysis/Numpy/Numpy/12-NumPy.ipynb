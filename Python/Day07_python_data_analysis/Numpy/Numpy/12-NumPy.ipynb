{
 "cells": [
  {
   "cell_type": "markdown",
   "id": "503e127e",
   "metadata": {},
   "source": [
    "## Iterating NumPy Array"
   ]
  },
  {
   "cell_type": "code",
   "execution_count": null,
   "id": "7da95c91",
   "metadata": {},
   "outputs": [
    {
     "name": "stdout",
     "output_type": "stream",
     "text": [
      "[1 2 3 4 5 6]\n",
      "\n",
      "1\n",
      "2\n",
      "3\n",
      "4\n",
      "5\n",
      "6\n"
     ]
    }
   ],
   "source": [
    "import numpy as np\n",
    "var = np.array([1,2,3,4,5,6])\n",
    "print(var)\n",
    "print()\n",
    "for i in var:\n",
    "    print(i)"
   ]
  },
  {
   "cell_type": "code",
   "execution_count": null,
   "id": "6d9a236e",
   "metadata": {},
   "outputs": [
    {
     "name": "stdout",
     "output_type": "stream",
     "text": [
      "[[1 2 3 4]\n",
      " [5 6 7 8]]\n",
      "\n",
      "[1 2 3 4]\n",
      "[5 6 7 8]\n"
     ]
    }
   ],
   "source": [
    "import numpy as np\n",
    "var = np.array([[1,2,3,4],[5,6,7,8]])\n",
    "print(var)\n",
    "print()\n",
    "for j in var:\n",
    "    print(j)"
   ]
  },
  {
   "cell_type": "code",
   "execution_count": 3,
   "id": "f6bdc472",
   "metadata": {},
   "outputs": [
    {
     "name": "stdout",
     "output_type": "stream",
     "text": [
      "[[1 2 3 4]\n",
      " [5 6 7 8]]\n",
      "\n",
      "[1 2 3 4]\n",
      "[5 6 7 8]\n",
      "1\n",
      "2\n",
      "3\n",
      "4\n",
      "5\n",
      "6\n",
      "7\n",
      "8\n"
     ]
    }
   ],
   "source": [
    "import numpy as np\n",
    "var = np.array([[1,2,3,4],[5,6,7,8]])\n",
    "print(var)\n",
    "print()\n",
    "for j in var:\n",
    "    print(j)\n",
    "\n",
    "for k in var:\n",
    "    for l in k:\n",
    "        print(l)"
   ]
  },
  {
   "cell_type": "code",
   "execution_count": 6,
   "id": "2a040a11",
   "metadata": {},
   "outputs": [
    {
     "name": "stdout",
     "output_type": "stream",
     "text": [
      "[[[1 2 3 4]\n",
      "  [5 6 7 8]]]\n",
      "3\n",
      "\n",
      "[1 2 3 4]\n",
      "[5 6 7 8]\n"
     ]
    }
   ],
   "source": [
    "var = np.array([[[1,2,3,4],[5,6,7,8]]])\n",
    "print(var)\n",
    "print(var.ndim)\n",
    "print()\n",
    "for j in var:\n",
    "    for k in j:\n",
    "        print(k)"
   ]
  },
  {
   "cell_type": "code",
   "execution_count": 7,
   "id": "cef5859b",
   "metadata": {},
   "outputs": [
    {
     "name": "stdout",
     "output_type": "stream",
     "text": [
      "[[[1 2 3 4]\n",
      "  [5 6 7 8]]]\n",
      "3\n",
      "\n",
      "1\n",
      "2\n",
      "3\n",
      "4\n",
      "5\n",
      "6\n",
      "7\n",
      "8\n"
     ]
    }
   ],
   "source": [
    "var = np.array([[[1,2,3,4],[5,6,7,8]]])\n",
    "print(var)\n",
    "print(var.ndim)\n",
    "print()\n",
    "for j in var:\n",
    "    for k in j:\n",
    "        for m in k:\n",
    "            print(m)"
   ]
  },
  {
   "cell_type": "markdown",
   "id": "4900a10a",
   "metadata": {},
   "source": [
    "nditer() function :- in thse function we did not repeat for loop."
   ]
  },
  {
   "cell_type": "code",
   "execution_count": null,
   "id": "8dd220a0",
   "metadata": {},
   "outputs": [
    {
     "name": "stdout",
     "output_type": "stream",
     "text": [
      "[[[1 2 3 4]\n",
      "  [5 6 7 8]]]\n",
      "3\n",
      "\n",
      "1\n",
      "2\n",
      "3\n",
      "4\n",
      "5\n",
      "6\n",
      "7\n",
      "8\n"
     ]
    }
   ],
   "source": [
    "var = np.array([[[1,2,3,4],[5,6,7,8]]])\n",
    "print(var)\n",
    "print(var.ndim)\n",
    "print()\n",
    "for i in np.nditer(var):\n",
    "    print(i)"
   ]
  },
  {
   "cell_type": "markdown",
   "id": "e605b838",
   "metadata": {},
   "source": [
    "how to change datatype\n",
    "\n",
    "flag[''buffered] = it create extra space\n",
    "\n",
    "op_dtypes=['S'] - it give operation data type string(S)"
   ]
  },
  {
   "cell_type": "code",
   "execution_count": 15,
   "id": "f56e788a",
   "metadata": {},
   "outputs": [
    {
     "name": "stdout",
     "output_type": "stream",
     "text": [
      "[[[1 2 3 4]\n",
      "  [5 6 7 8]]]\n",
      "3\n",
      "\n",
      "np.bytes_(b'1')\n",
      "np.bytes_(b'2')\n",
      "np.bytes_(b'3')\n",
      "np.bytes_(b'4')\n",
      "np.bytes_(b'5')\n",
      "np.bytes_(b'6')\n",
      "np.bytes_(b'7')\n",
      "np.bytes_(b'8')\n"
     ]
    }
   ],
   "source": [
    "var = np.array([[[1,2,3,4],[5,6,7,8]]])\n",
    "print(var)\n",
    "print(var.ndim)\n",
    "print()\n",
    "for i in np.nditer(var, flags=['buffered'],op_dtypes=[\"S\"]):\n",
    "    print(i)\n"
   ]
  },
  {
   "cell_type": "markdown",
   "id": "46109b2e",
   "metadata": {},
   "source": [
    "ndenumerate() :- it give indexing value"
   ]
  },
  {
   "cell_type": "code",
   "execution_count": 16,
   "id": "0cdcb1df",
   "metadata": {},
   "outputs": [
    {
     "name": "stdout",
     "output_type": "stream",
     "text": [
      "[[[1 2 3 4]\n",
      "  [5 6 7 8]]]\n",
      "3\n",
      "\n",
      "(0, 0, 0) 1\n",
      "(0, 0, 1) 2\n",
      "(0, 0, 2) 3\n",
      "(0, 0, 3) 4\n",
      "(0, 1, 0) 5\n",
      "(0, 1, 1) 6\n",
      "(0, 1, 2) 7\n",
      "(0, 1, 3) 8\n"
     ]
    }
   ],
   "source": [
    "var = np.array([[[1,2,3,4],[5,6,7,8]]])\n",
    "print(var)\n",
    "print(var.ndim)\n",
    "print()\n",
    "for i,d in np.ndenumerate(var):\n",
    "    print(i,d)\n"
   ]
  }
 ],
 "metadata": {
  "kernelspec": {
   "display_name": "Python 3",
   "language": "python",
   "name": "python3"
  },
  "language_info": {
   "codemirror_mode": {
    "name": "ipython",
    "version": 3
   },
   "file_extension": ".py",
   "mimetype": "text/x-python",
   "name": "python",
   "nbconvert_exporter": "python",
   "pygments_lexer": "ipython3",
   "version": "3.12.0"
  }
 },
 "nbformat": 4,
 "nbformat_minor": 5
}
