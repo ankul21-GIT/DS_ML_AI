{
 "cells": [
  {
   "cell_type": "markdown",
   "id": "48497257",
   "metadata": {},
   "source": [
    "## What is NumPy?"
   ]
  },
  {
   "cell_type": "markdown",
   "id": "7e2990b8",
   "metadata": {},
   "source": [
    "1. Numpy is a fundamental package for scientific computing in python.\n",
    "\n",
    "2. NumPy is a python library that provide multidimensional array object,various derived object."
   ]
  },
  {
   "cell_type": "markdown",
   "id": "08cca6bf",
   "metadata": {},
   "source": [
    "What is NumPy array?\n",
    "\n",
    "An array is grid of value and it contain information about  the raw data, how to locate an element, and how to interpret an element."
   ]
  },
  {
   "cell_type": "markdown",
   "id": "98d47304",
   "metadata": {},
   "source": [
    "Advantage of using NumPy array over python list:\n",
    "\n",
    "1. NumPy array use less memory.\n",
    "\n",
    "2. NumPy arrays are much faster than Python lists for numerical computations.\n",
    "\n",
    "3. Convenient to use."
   ]
  },
  {
   "cell_type": "markdown",
   "id": "10a65565",
   "metadata": {},
   "source": [
    "How to install NumPy:\n",
    "\n",
    "pip install numpy"
   ]
  },
  {
   "cell_type": "code",
   "execution_count": 2,
   "id": "a63cd2ce",
   "metadata": {},
   "outputs": [
    {
     "name": "stdout",
     "output_type": "stream",
     "text": [
      "[1 2 3 4 5]\n",
      "<class 'numpy.ndarray'>\n"
     ]
    }
   ],
   "source": [
    "import numpy as np\n",
    "\n",
    "x = np.array([1,2,3,4,5])\n",
    "print(x)\n",
    "print(type(x))"
   ]
  },
  {
   "cell_type": "code",
   "execution_count": null,
   "id": "9c91bab3",
   "metadata": {},
   "outputs": [
    {
     "name": "stdout",
     "output_type": "stream",
     "text": [
      "[1 2 3 4 5]\n",
      "<class 'numpy.ndarray'>\n"
     ]
    }
   ],
   "source": [
    "## Array\n",
    "import numpy as np\n",
    "\n",
    "data = np.array([1, 2, 3, 4, 5])\n",
    "\n",
    "x = np.array(data)\n",
    "print(x)\n",
    "print(type(x))"
   ]
  },
  {
   "cell_type": "code",
   "execution_count": 8,
   "id": "959f88c0",
   "metadata": {},
   "outputs": [
    {
     "name": "stdout",
     "output_type": "stream",
     "text": [
      "[1, 2, 3, 4, 5]\n",
      "<class 'list'>\n"
     ]
    }
   ],
   "source": [
    "## List\n",
    "\n",
    "l = [1, 2, 3, 4, 5]\n",
    "print(l)\n",
    "print(type(l))"
   ]
  },
  {
   "cell_type": "markdown",
   "id": "81b2c9aa",
   "metadata": {},
   "source": [
    "## Importance of NumPy in python"
   ]
  },
  {
   "cell_type": "markdown",
   "id": "d500b529",
   "metadata": {},
   "source": [
    "1. Wide variety of mathematical operation on arrays.\n",
    "\n",
    "2. It supplies an enormous library of high-level mathematical function that operate on these arrays and matrices.\n",
    "\n",
    "3. Mathematical, logical, shape manipulation, sorting, selecting, I/O, discrete Fourier transform, basic linear algebra , basic statistical operation , random simulation and much more."
   ]
  },
  {
   "cell_type": "markdown",
   "id": "86a73498",
   "metadata": {},
   "source": []
  }
 ],
 "metadata": {
  "kernelspec": {
   "display_name": "Python 3",
   "language": "python",
   "name": "python3"
  },
  "language_info": {
   "codemirror_mode": {
    "name": "ipython",
    "version": 3
   },
   "file_extension": ".py",
   "mimetype": "text/x-python",
   "name": "python",
   "nbconvert_exporter": "python",
   "pygments_lexer": "ipython3",
   "version": "3.12.0"
  }
 },
 "nbformat": 4,
 "nbformat_minor": 5
}
