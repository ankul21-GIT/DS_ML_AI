{
 "cells": [
  {
   "cell_type": "markdown",
   "id": "dac03c86",
   "metadata": {},
   "source": [
    "Data Type"
   ]
  },
  {
   "cell_type": "code",
   "execution_count": 2,
   "id": "e67ab876",
   "metadata": {},
   "outputs": [
    {
     "name": "stdout",
     "output_type": "stream",
     "text": [
      "[1 2 3 4 5]\n",
      "Data Type :  int64\n"
     ]
    }
   ],
   "source": [
    "import numpy as np\n",
    "\n",
    "var = np.array([1, 2, 3, 4, 5])\n",
    "print(var)\n",
    "print(\"Data Type : \", var.dtype)"
   ]
  },
  {
   "cell_type": "code",
   "execution_count": 3,
   "id": "96f699e6",
   "metadata": {},
   "outputs": [
    {
     "name": "stdout",
     "output_type": "stream",
     "text": [
      "[1.1 2.4 5.  6. ]\n",
      "Data Type :  float64\n"
     ]
    }
   ],
   "source": [
    "import numpy as np\n",
    "\n",
    "var = np.array([1.1, 2.4, 5, 6]) ## floating data type\n",
    "print(var)\n",
    "print(\"Data Type : \", var.dtype)"
   ]
  },
  {
   "cell_type": "code",
   "execution_count": null,
   "id": "d686deb2",
   "metadata": {},
   "outputs": [
    {
     "name": "stdout",
     "output_type": "stream",
     "text": [
      "['a' 'b' 'c' 'd']\n",
      "Data Type :  <U1\n"
     ]
    }
   ],
   "source": [
    "import numpy as np\n",
    "\n",
    "var = np.array(['a', 'b', 'c', 'd'])  ## string data type\n",
    "print(var)\n",
    "print(\"Data Type : \", var.dtype)"
   ]
  },
  {
   "cell_type": "code",
   "execution_count": 7,
   "id": "33862bf3",
   "metadata": {},
   "outputs": [
    {
     "name": "stdout",
     "output_type": "stream",
     "text": [
      "['a' 'b' 'c' 'd' '1' '2' '3' '4']\n",
      "Data Type :  <U21\n"
     ]
    }
   ],
   "source": [
    "import numpy as np\n",
    "\n",
    "v = np.array(['a', 'b', 'c', 'd', 1, 2, 3, 4])  ## string and int data type\n",
    "print(v)\n",
    "print(\"Data Type : \", v.dtype)"
   ]
  },
  {
   "cell_type": "markdown",
   "id": "61af3c80",
   "metadata": {},
   "source": [
    "Convert the data type int32 to int8"
   ]
  },
  {
   "cell_type": "code",
   "execution_count": 10,
   "id": "eb318bab",
   "metadata": {},
   "outputs": [
    {
     "name": "stdout",
     "output_type": "stream",
     "text": [
      "[1 2 3 4 5]\n",
      "Data Type :  int64\n",
      "\n",
      "[1 2 3 4 5]\n",
      "Data Type :  int8\n"
     ]
    }
   ],
   "source": [
    "import numpy as np\n",
    "\n",
    "var = np.array([1, 2, 3, 4, 5])\n",
    "print(var)\n",
    "print(\"Data Type : \", var.dtype)\n",
    "\n",
    "print()\n",
    "\n",
    "var = np.array([1, 2, 3, 4, 5], dtype= np.int8)\n",
    "print(var)\n",
    "print(\"Data Type : \", var.dtype)"
   ]
  },
  {
   "cell_type": "markdown",
   "id": "ad4d5aff",
   "metadata": {},
   "source": [
    "Convert integer to float using data type"
   ]
  },
  {
   "cell_type": "code",
   "execution_count": 13,
   "id": "c2aef9e5",
   "metadata": {},
   "outputs": [
    {
     "name": "stdout",
     "output_type": "stream",
     "text": [
      "[1. 2. 3. 4. 5.]\n",
      "Data Type :  float64\n"
     ]
    }
   ],
   "source": [
    "import numpy as np\n",
    "\n",
    "var1 = np.array([1, 2, 3, 4, 5], dtype= float)\n",
    "print(var1)\n",
    "print(\"Data Type : \", var1.dtype)"
   ]
  },
  {
   "cell_type": "code",
   "execution_count": 17,
   "id": "3e4474e1",
   "metadata": {},
   "outputs": [
    {
     "name": "stdout",
     "output_type": "stream",
     "text": [
      "[1 2 3 4 5]\n",
      "Data Type :  int64\n",
      "\n",
      "[1. 2. 3. 4. 5.]\n",
      "Data Type :  float32\n"
     ]
    }
   ],
   "source": [
    "import numpy as np\n",
    "\n",
    "var1 = np.array([1, 2, 3, 4, 5])\n",
    "x = np.float32(var1)\n",
    "\n",
    "print(var1)\n",
    "print(\"Data Type : \", var1.dtype)\n",
    "print()\n",
    "print(x)\n",
    "print(\"Data Type : \", x.dtype)"
   ]
  },
  {
   "cell_type": "code",
   "execution_count": 18,
   "id": "58349a74",
   "metadata": {},
   "outputs": [
    {
     "name": "stdout",
     "output_type": "stream",
     "text": [
      "[1 2 3 4 5]\n",
      "Data Type :  int64\n",
      "\n",
      "[1. 2. 3. 4. 5.]\n",
      "Data Type :  float32\n",
      "[1 2 3 4 5]\n",
      "Data Type :  int64\n"
     ]
    }
   ],
   "source": [
    "## convert the data type\n",
    "\n",
    "import numpy as np\n",
    "\n",
    "var1 = np.array([1, 2, 3, 4, 5])\n",
    "x = np.float32(var1)\n",
    "\n",
    "new = np.int_(x)\n",
    "\n",
    "print(var1)\n",
    "print(\"Data Type : \", var1.dtype)\n",
    "print()\n",
    "print(x)\n",
    "print(\"Data Type : \", x.dtype)\n",
    "print(new)\n",
    "print(\"Data Type : \", new.dtype)"
   ]
  },
  {
   "cell_type": "markdown",
   "id": "8f1bcbbc",
   "metadata": {},
   "source": [
    "astype() :- it can change the type of the data int to float and float to integer"
   ]
  },
  {
   "cell_type": "code",
   "execution_count": 19,
   "id": "13cd1c67",
   "metadata": {},
   "outputs": [
    {
     "name": "stdout",
     "output_type": "stream",
     "text": [
      "[1 2 3 4]\n",
      "[1. 2. 3. 4.]\n",
      "Data type :  float64\n"
     ]
    }
   ],
   "source": [
    "var = np.array([1, 2, 3, 4])\n",
    "\n",
    "x = var.astype(float)\n",
    "print(var)\n",
    "print(x)\n",
    "print(\"Data type : \", x.dtype)"
   ]
  },
  {
   "cell_type": "code",
   "execution_count": null,
   "id": "05f7119b",
   "metadata": {},
   "outputs": [],
   "source": []
  }
 ],
 "metadata": {
  "kernelspec": {
   "display_name": "Python 3",
   "language": "python",
   "name": "python3"
  },
  "language_info": {
   "codemirror_mode": {
    "name": "ipython",
    "version": 3
   },
   "file_extension": ".py",
   "mimetype": "text/x-python",
   "name": "python",
   "nbconvert_exporter": "python",
   "pygments_lexer": "ipython3",
   "version": "3.12.0"
  }
 },
 "nbformat": 4,
 "nbformat_minor": 5
}
