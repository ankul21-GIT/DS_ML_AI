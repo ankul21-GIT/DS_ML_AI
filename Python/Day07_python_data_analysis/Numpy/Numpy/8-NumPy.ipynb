{
 "cells": [
  {
   "cell_type": "markdown",
   "id": "76ecebd8",
   "metadata": {},
   "source": [
    "## What are arithmatic function in NumPy array "
   ]
  },
  {
   "cell_type": "markdown",
   "id": "75a661e0",
   "metadata": {},
   "source": [
    "np.min(x) :- find the minimum value in an element.\n",
    "\n",
    "np.max(x) :- find the maximum value in an element.\n",
    "\n",
    "np.argmin(x) :- find the minimum value at which index\n",
    "\n",
    "np.sqrt(x) :- It calculate the square root\n",
    "\n",
    "np.sin(x) : find the sin value\n",
    "\n",
    "np.cos(x) : find cos value\n",
    "\n",
    "np.cumsum(x)"
   ]
  },
  {
   "cell_type": "markdown",
   "id": "9bf6d405",
   "metadata": {},
   "source": [
    "How to find the mininum value in an array"
   ]
  },
  {
   "cell_type": "code",
   "execution_count": 1,
   "id": "a2161f9b",
   "metadata": {},
   "outputs": [
    {
     "name": "stdout",
     "output_type": "stream",
     "text": [
      "1\n"
     ]
    }
   ],
   "source": [
    "import numpy as np\n",
    "var1 = np.array([1,2,3,4,5])\n",
    "\n",
    "x = np.array(var1)\n",
    "print(np.min(x))"
   ]
  },
  {
   "cell_type": "code",
   "execution_count": 1,
   "id": "0dfab645",
   "metadata": {},
   "outputs": [
    {
     "name": "stdout",
     "output_type": "stream",
     "text": [
      "3\n"
     ]
    }
   ],
   "source": [
    "import numpy as np\n",
    "var1 = np.array([3,4,5])\n",
    "print(np.min(var1))"
   ]
  },
  {
   "cell_type": "markdown",
   "id": "8ea9d917",
   "metadata": {},
   "source": [
    "How to find the maximum value in an element"
   ]
  },
  {
   "cell_type": "code",
   "execution_count": 3,
   "id": "1fa31fcb",
   "metadata": {},
   "outputs": [
    {
     "name": "stdout",
     "output_type": "stream",
     "text": [
      "5\n"
     ]
    }
   ],
   "source": [
    "import numpy as np\n",
    "var1 = np.array([1,2,3,4,5])\n",
    "\n",
    "x = np.array(var1)\n",
    "print(np.max(x))"
   ]
  },
  {
   "cell_type": "code",
   "execution_count": null,
   "id": "f2965004",
   "metadata": {},
   "outputs": [
    {
     "name": "stdout",
     "output_type": "stream",
     "text": [
      "1\n",
      "5\n"
     ]
    }
   ],
   "source": [
    "## minimum and maximum \n",
    "import numpy as np\n",
    "\n",
    "var1 = np.array([1,2,3,4,5])\n",
    "print(np.min(var1))\n",
    "print(np.max(var1))"
   ]
  },
  {
   "cell_type": "markdown",
   "id": "68f2800d",
   "metadata": {},
   "source": [
    "How to find the position of minimum and maximum element in an array"
   ]
  },
  {
   "cell_type": "code",
   "execution_count": 7,
   "id": "93781a45",
   "metadata": {},
   "outputs": [
    {
     "name": "stdout",
     "output_type": "stream",
     "text": [
      "min :  1 0\n",
      "max :  12 7\n"
     ]
    }
   ],
   "source": [
    "import numpy as np\n",
    "\n",
    "var1 = np.array([1,2,3,4,5,8,9,12])\n",
    "print(\"min : \", np.min(var1), np.argmin(var1))\n",
    "print(\"max : \", np.max(var1), np.argmax(var1))\n"
   ]
  },
  {
   "cell_type": "markdown",
   "id": "ef28dbf2",
   "metadata": {},
   "source": [
    "2D Array in 2D array we can find the any element using axis() parameter\n",
    "axis=0 for column and axis=1 for row"
   ]
  },
  {
   "cell_type": "code",
   "execution_count": null,
   "id": "99cab1aa",
   "metadata": {},
   "outputs": [
    {
     "name": "stdout",
     "output_type": "stream",
     "text": [
      "[[1 2 3 4]\n",
      " [5 6 7 2]]\n",
      "[4 7]\n"
     ]
    }
   ],
   "source": [
    "## axis=1 for row\n",
    "import numpy as np\n",
    "\n",
    "var1 = np.array([[1,2,3,4,],[5,1,7,2]])\n",
    "print(var1)\n",
    "print(np.max(var1, axis=1))\n"
   ]
  },
  {
   "cell_type": "code",
   "execution_count": 15,
   "id": "8a0628fd",
   "metadata": {},
   "outputs": [
    {
     "name": "stdout",
     "output_type": "stream",
     "text": [
      "[[1 2 3 4]\n",
      " [5 1 7 2]]\n",
      "[5 2 7 4]\n"
     ]
    }
   ],
   "source": [
    "## axis=1 for column\n",
    "import numpy as np\n",
    "\n",
    "var1 = np.array([[1,2,3,4,],[5,1,7,2]])\n",
    "print(var1)\n",
    "print(np.max(var1, axis=0))\n"
   ]
  },
  {
   "cell_type": "markdown",
   "id": "43e9a811",
   "metadata": {},
   "source": [
    "Calculate the square root"
   ]
  },
  {
   "cell_type": "code",
   "execution_count": null,
   "id": "494677c2",
   "metadata": {},
   "outputs": [
    {
     "name": "stdout",
     "output_type": "stream",
     "text": [
      "[1 2 3 4]\n",
      "[1.         1.41421356 1.73205081 2.        ]\n"
     ]
    }
   ],
   "source": [
    "import numpy as np\n",
    "\n",
    "var1 = np.array([1,2,3,4])\n",
    "print(var1)\n",
    "print(np.sqrt(var1))\n"
   ]
  },
  {
   "cell_type": "markdown",
   "id": "5f3fb28b",
   "metadata": {},
   "source": [
    "Find the sin value"
   ]
  },
  {
   "cell_type": "code",
   "execution_count": 18,
   "id": "408d8223",
   "metadata": {},
   "outputs": [
    {
     "name": "stdout",
     "output_type": "stream",
     "text": [
      "[ 0.84147098  0.90929743  0.14112001 -0.7568025 ]\n"
     ]
    }
   ],
   "source": [
    "import numpy as np\n",
    "\n",
    "var1 = np.array([1,2,3,4])\n",
    "print(np.sin(var1))\n"
   ]
  },
  {
   "cell_type": "markdown",
   "id": "7c5f054a",
   "metadata": {},
   "source": [
    "Find the cos value"
   ]
  },
  {
   "cell_type": "code",
   "execution_count": 20,
   "id": "a2c405d9",
   "metadata": {},
   "outputs": [
    {
     "name": "stdout",
     "output_type": "stream",
     "text": [
      "[ 0.54030231 -0.41614684 -0.9899925  -0.65364362]\n"
     ]
    }
   ],
   "source": [
    "import numpy as np\n",
    "\n",
    "var1 = np.array([1,2,3,4])\n",
    "print(np.cos(var1))\n"
   ]
  },
  {
   "cell_type": "markdown",
   "id": "8de68af4",
   "metadata": {},
   "source": [
    "cumsum"
   ]
  },
  {
   "cell_type": "code",
   "execution_count": 23,
   "id": "3bca18e4",
   "metadata": {},
   "outputs": [
    {
     "name": "stdout",
     "output_type": "stream",
     "text": [
      "[ 1  3  6 10 15]\n"
     ]
    }
   ],
   "source": [
    "var1 = np.array([1,2,3,4,5])\n",
    "print(np.cumsum(var1))\n"
   ]
  },
  {
   "cell_type": "code",
   "execution_count": null,
   "id": "b31b44f3",
   "metadata": {},
   "outputs": [],
   "source": []
  }
 ],
 "metadata": {
  "kernelspec": {
   "display_name": "Python 3",
   "language": "python",
   "name": "python3"
  },
  "language_info": {
   "codemirror_mode": {
    "name": "ipython",
    "version": 3
   },
   "file_extension": ".py",
   "mimetype": "text/x-python",
   "name": "python",
   "nbconvert_exporter": "python",
   "pygments_lexer": "ipython3",
   "version": "3.12.0"
  }
 },
 "nbformat": 4,
 "nbformat_minor": 5
}
