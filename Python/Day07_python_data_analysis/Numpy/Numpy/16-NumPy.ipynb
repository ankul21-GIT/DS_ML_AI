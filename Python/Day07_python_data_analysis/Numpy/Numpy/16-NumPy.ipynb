{
 "cells": [
  {
   "cell_type": "markdown",
   "id": "20e92ebb",
   "metadata": {},
   "source": [
    "## NumPy Arithmatic function"
   ]
  },
  {
   "cell_type": "markdown",
   "id": "a8f21560",
   "metadata": {},
   "source": [
    "Shuffle\n",
    "\n",
    "Unique\n",
    "\n",
    "Resize\n",
    "\n",
    "Flatten\n",
    "\n",
    "Ravel"
   ]
  },
  {
   "cell_type": "markdown",
   "id": "abae79c6",
   "metadata": {},
   "source": [
    "  Shuffle() :- it give different number every time number is not in sequence"
   ]
  },
  {
   "cell_type": "code",
   "execution_count": 6,
   "id": "1d29ca17",
   "metadata": {},
   "outputs": [
    {
     "name": "stdout",
     "output_type": "stream",
     "text": [
      "[2, 4, 5, 1, 3]\n"
     ]
    }
   ],
   "source": [
    "import numpy as np\n",
    "var1 = ([1,2,3,4,5])\n",
    "np.random.shuffle(var1)\n",
    "print(var1)"
   ]
  },
  {
   "cell_type": "markdown",
   "id": "d5b649b8",
   "metadata": {},
   "source": [
    "unique() :- it give only unique number "
   ]
  },
  {
   "cell_type": "code",
   "execution_count": null,
   "id": "b592a7d4",
   "metadata": {},
   "outputs": [
    {
     "name": "stdout",
     "output_type": "stream",
     "text": [
      "[1 2 3 4 5]\n"
     ]
    }
   ],
   "source": [
    "import numpy as np\n",
    "var1 = ([1,2,3,2,4,5,3,2])\n",
    "x=np.unique(var1)\n",
    "print(x)"
   ]
  },
  {
   "cell_type": "code",
   "execution_count": 12,
   "id": "386b47a8",
   "metadata": {},
   "outputs": [
    {
     "name": "stdout",
     "output_type": "stream",
     "text": [
      "(array([1, 2, 3, 4, 5, 7]), array([0, 1, 2, 4, 5, 8]))\n"
     ]
    }
   ],
   "source": [
    "## return_index give the index number\n",
    "\n",
    "import numpy as np\n",
    "var1 = ([1,2,3,2,4,5,3,2,7])\n",
    "x=np.unique(var1,return_index=True)\n",
    "print(x)"
   ]
  },
  {
   "cell_type": "code",
   "execution_count": 16,
   "id": "d8276ac2",
   "metadata": {},
   "outputs": [
    {
     "name": "stdout",
     "output_type": "stream",
     "text": [
      "(array([1, 2, 3, 4, 5, 7]), array([1, 3, 2, 1, 1, 1]))\n"
     ]
    }
   ],
   "source": [
    "## return_count (count the number how many time it repeat)\n",
    "\n",
    "import numpy as np\n",
    "var1 = ([1,2,3,2,4,5,3,2,7])\n",
    "x=np.unique(var1,return_counts=True)\n",
    "print(x)"
   ]
  },
  {
   "cell_type": "markdown",
   "id": "4bb4ec4b",
   "metadata": {},
   "source": [
    "resize() :- you can resize it by the rows and column"
   ]
  },
  {
   "cell_type": "code",
   "execution_count": 18,
   "id": "737144dc",
   "metadata": {},
   "outputs": [
    {
     "name": "stdout",
     "output_type": "stream",
     "text": [
      "[[1 2 3]\n",
      " [4 5 6]]\n"
     ]
    }
   ],
   "source": [
    "## return_count (count the number how many time it repeat)\n",
    "\n",
    "import numpy as np\n",
    "var1 = ([1,2,3,4,5,6])\n",
    "x=np.resize(var1,(2,3))\n",
    "print(x)"
   ]
  },
  {
   "cell_type": "markdown",
   "id": "39b33312",
   "metadata": {},
   "source": [
    "flatten() :- the flatten method convert two dimensional array to one dimensional array"
   ]
  },
  {
   "cell_type": "code",
   "execution_count": 25,
   "id": "0f482e2f",
   "metadata": {},
   "outputs": [
    {
     "name": "stdout",
     "output_type": "stream",
     "text": [
      "[[1 2 3]\n",
      " [4 5 6]]\n",
      "[1 2 3 4 5 6]\n"
     ]
    }
   ],
   "source": [
    "## return_count (count the number how many time it repeat)\n",
    "\n",
    "import numpy as np\n",
    "var1 = ([[1,2,3],[4,5,6]])\n",
    "y = np.resize(var1,(2,3))\n",
    "print(y)\n",
    "print(y.flatten())"
   ]
  },
  {
   "cell_type": "code",
   "execution_count": 26,
   "id": "dc42103f",
   "metadata": {},
   "outputs": [
    {
     "name": "stdout",
     "output_type": "stream",
     "text": [
      "[[1 2 3]\n",
      " [4 5 6]]\n",
      "[1 4 2 5 3 6]\n"
     ]
    }
   ],
   "source": [
    "## order=\"F\" to change the order\n",
    "\n",
    "import numpy as np\n",
    "var1 = ([[1,2,3],[4,5,6]])\n",
    "y = np.resize(var1,(2,3))\n",
    "print(y)\n",
    "print(y.flatten(order=\"F\"))"
   ]
  },
  {
   "cell_type": "markdown",
   "id": "46dd6a93",
   "metadata": {},
   "source": [
    " ravel() method give you the original value"
   ]
  },
  {
   "cell_type": "code",
   "execution_count": null,
   "id": "c9ff1476",
   "metadata": {},
   "outputs": [
    {
     "name": "stdout",
     "output_type": "stream",
     "text": [
      "[[1 2 3]\n",
      " [4 5 6]]\n",
      "[1 4 2 5 3 6]\n",
      "[1 2 3 4 5 6]\n"
     ]
    }
   ],
   "source": [
    "\n",
    "## order=\"F\" to change the order\n",
    "\n",
    "import numpy as np\n",
    "var1 = ([[1,2,3],[4,5,6]])\n",
    "y = np.resize(var1,(2,3))\n",
    "print(y)\n",
    "print(y.flatten(order=\"F\"))\n",
    "print(np.ravel(y))"
   ]
  },
  {
   "cell_type": "markdown",
   "id": "59f57235",
   "metadata": {},
   "source": []
  }
 ],
 "metadata": {
  "kernelspec": {
   "display_name": "Python 3",
   "language": "python",
   "name": "python3"
  },
  "language_info": {
   "codemirror_mode": {
    "name": "ipython",
    "version": 3
   },
   "file_extension": ".py",
   "mimetype": "text/x-python",
   "name": "python",
   "nbconvert_exporter": "python",
   "pygments_lexer": "ipython3",
   "version": "3.12.0"
  }
 },
 "nbformat": 4,
 "nbformat_minor": 5
}
