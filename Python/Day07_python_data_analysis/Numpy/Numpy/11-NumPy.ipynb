{
 "cells": [
  {
   "cell_type": "markdown",
   "id": "ff9a60f7",
   "metadata": {},
   "source": [
    "## Indexing and Slicing in NumPy array"
   ]
  },
  {
   "cell_type": "markdown",
   "id": "da895b50",
   "metadata": {},
   "source": [
    "Indexing"
   ]
  },
  {
   "cell_type": "code",
   "execution_count": null,
   "id": "0e100481",
   "metadata": {},
   "outputs": [
    {
     "name": "stdout",
     "output_type": "stream",
     "text": [
      "76\n"
     ]
    }
   ],
   "source": [
    "import numpy as np\n",
    "var = np.array([11,12,13,44,55,76,21])\n",
    "print(var[5])"
   ]
  },
  {
   "cell_type": "code",
   "execution_count": null,
   "id": "f9c3f730",
   "metadata": {},
   "outputs": [
    {
     "name": "stdout",
     "output_type": "stream",
     "text": [
      "76\n",
      "[12 13 44]\n",
      "55\n"
     ]
    }
   ],
   "source": [
    "import numpy as np\n",
    "var = np.array([11,12,13,44,55,76,21])\n",
    "print(var[5])\n",
    "print(var[-3])"
   ]
  },
  {
   "cell_type": "code",
   "execution_count": 8,
   "id": "1e4eebe8",
   "metadata": {},
   "outputs": [
    {
     "name": "stdout",
     "output_type": "stream",
     "text": [
      "7\n",
      "4\n"
     ]
    }
   ],
   "source": [
    "## two dimensional array\n",
    "\n",
    "import numpy as np\n",
    "var = np.array([[1,2,3,4],[5,6,7,8]])\n",
    "print(var[1][2])\n",
    "print(var[0,3])\n",
    "\n"
   ]
  },
  {
   "cell_type": "markdown",
   "id": "29d26615",
   "metadata": {},
   "source": [
    "How to print in 3D array"
   ]
  },
  {
   "cell_type": "code",
   "execution_count": 12,
   "id": "b7b84a70",
   "metadata": {},
   "outputs": [
    {
     "name": "stdout",
     "output_type": "stream",
     "text": [
      "1\n",
      "4\n"
     ]
    }
   ],
   "source": [
    "var1 = np.array([[[1,2,3,4],[5,6,7,9]], [[6,3,1,4],[9,8,7,6]]])\n",
    "print(var1[1][0][2])\n",
    "print(var1[0,0,3])"
   ]
  },
  {
   "cell_type": "code",
   "execution_count": 13,
   "id": "a59054fd",
   "metadata": {},
   "outputs": [
    {
     "name": "stdout",
     "output_type": "stream",
     "text": [
      "1\n",
      "[2 3 4]\n"
     ]
    }
   ],
   "source": [
    "var1 = np.array([[[1,2,3,4],[5,6,7,9]], [[6,3,1,4],[9,8,7,6]]])\n",
    "print(var1[1][0][2])\n",
    "print(var1[0,0,1:])"
   ]
  },
  {
   "cell_type": "markdown",
   "id": "3397a02b",
   "metadata": {},
   "source": [
    "## Slicing"
   ]
  },
  {
   "cell_type": "code",
   "execution_count": null,
   "id": "7e454f23",
   "metadata": {},
   "outputs": [
    {
     "name": "stdout",
     "output_type": "stream",
     "text": [
      "[2 3 4 5]\n"
     ]
    }
   ],
   "source": [
    "import numpy as np\n",
    "var = np.array([1,2,3,4,5,6,7,8,9])\n",
    "print(var[1:5])"
   ]
  },
  {
   "cell_type": "code",
   "execution_count": null,
   "id": "b032e46c",
   "metadata": {},
   "outputs": [
    {
     "name": "stdout",
     "output_type": "stream",
     "text": [
      "[3 4 5 6 7 8 9]\n"
     ]
    }
   ],
   "source": [
    "## print the number from given number to the ending number\n",
    "\n",
    "import numpy as np\n",
    "var = np.array([1,2,3,4,5,6,7,8,9])\n",
    "print(var[2:])"
   ]
  },
  {
   "cell_type": "code",
   "execution_count": null,
   "id": "7cb91da6",
   "metadata": {},
   "outputs": [
    {
     "name": "stdout",
     "output_type": "stream",
     "text": [
      "[1 2 3 4]\n"
     ]
    }
   ],
   "source": [
    "## print the element from starting to the given number\n",
    "\n",
    "import numpy as np\n",
    "var = np.array([1,2,3,4,5,6,7,8,9])\n",
    "print(var[:4])"
   ]
  },
  {
   "cell_type": "code",
   "execution_count": 17,
   "id": "86a8fd93",
   "metadata": {},
   "outputs": [
    {
     "name": "stdout",
     "output_type": "stream",
     "text": [
      "[2 4 6 8]\n"
     ]
    }
   ],
   "source": [
    "import numpy as np\n",
    "var = np.array([1,2,3,4,5,6,7,8,9])\n",
    "print(var[1:8:2])"
   ]
  },
  {
   "cell_type": "code",
   "execution_count": 19,
   "id": "93021a4c",
   "metadata": {},
   "outputs": [
    {
     "name": "stdout",
     "output_type": "stream",
     "text": [
      "[8 7 6 5]\n"
     ]
    }
   ],
   "source": [
    "var1 = np.array([[1,2,3,4,5],[9,8,7,6,5],[11,12,13,14,15]])\n",
    "print(var1[1][1:])"
   ]
  }
 ],
 "metadata": {
  "kernelspec": {
   "display_name": "Python 3",
   "language": "python",
   "name": "python3"
  },
  "language_info": {
   "codemirror_mode": {
    "name": "ipython",
    "version": 3
   },
   "file_extension": ".py",
   "mimetype": "text/x-python",
   "name": "python",
   "nbconvert_exporter": "python",
   "pygments_lexer": "ipython3",
   "version": "3.12.0"
  }
 },
 "nbformat": 4,
 "nbformat_minor": 5
}
