{
 "cells": [
  {
   "cell_type": "markdown",
   "id": "db571bee",
   "metadata": {},
   "source": [
    "## How to create NumPy array using NumPy function"
   ]
  },
  {
   "cell_type": "markdown",
   "id": "bc6641b5",
   "metadata": {},
   "source": [
    "Spatial NumPy array"
   ]
  },
  {
   "cell_type": "markdown",
   "id": "afa84f42",
   "metadata": {},
   "source": [
    "1. Array filled with 0's.\n",
    "\n",
    "2. Array filled with 1'.\n",
    "\n",
    "3. An array with a range of element.\n",
    "\n",
    "4. Array diagonal element filled with 1's.\n",
    "\n",
    "5. Create an array with values that are space linearly in a specified interval\n",
    "\n"
   ]
  },
  {
   "cell_type": "markdown",
   "id": "c5801230",
   "metadata": {},
   "source": [
    "Array filled with zero"
   ]
  },
  {
   "cell_type": "code",
   "execution_count": null,
   "id": "275230fa",
   "metadata": {},
   "outputs": [
    {
     "name": "stdout",
     "output_type": "stream",
     "text": [
      "[0. 0. 0. 0.]\n"
     ]
    }
   ],
   "source": [
    "## one dimension array\n",
    "import numpy as np\n",
    "\n",
    "arr_0 = np.zeros(4)\n",
    "print(arr_0)"
   ]
  },
  {
   "cell_type": "code",
   "execution_count": null,
   "id": "23c952d0",
   "metadata": {},
   "outputs": [
    {
     "name": "stdout",
     "output_type": "stream",
     "text": [
      "[[0. 0. 0. 0.]\n",
      " [0. 0. 0. 0.]\n",
      " [0. 0. 0. 0.]\n",
      " [0. 0. 0. 0.]]\n"
     ]
    }
   ],
   "source": [
    "## two dimension array fill zero's\n",
    "import numpy as np\n",
    "\n",
    "arr_0 = np.zeros((4,4))\n",
    "print(arr_0)"
   ]
  },
  {
   "cell_type": "markdown",
   "id": "8b1074d2",
   "metadata": {},
   "source": [
    "Array filled with 1's"
   ]
  },
  {
   "cell_type": "code",
   "execution_count": 9,
   "id": "de1456c9",
   "metadata": {},
   "outputs": [
    {
     "name": "stdout",
     "output_type": "stream",
     "text": [
      "[[1. 1. 1. 1.]\n",
      " [1. 1. 1. 1.]\n",
      " [1. 1. 1. 1.]\n",
      " [1. 1. 1. 1.]]\n"
     ]
    }
   ],
   "source": [
    "## two dimension array\n",
    "import numpy as np\n",
    "\n",
    "arr_0 = np.ones((4,4))\n",
    "print(arr_0)"
   ]
  },
  {
   "cell_type": "markdown",
   "id": "d2ec3cd1",
   "metadata": {},
   "source": [
    "Empty array"
   ]
  },
  {
   "cell_type": "code",
   "execution_count": 10,
   "id": "a1154690",
   "metadata": {},
   "outputs": [
    {
     "name": "stdout",
     "output_type": "stream",
     "text": [
      "[4.9e-324 9.9e-324 1.5e-323 2.0e-323]\n"
     ]
    }
   ],
   "source": [
    "n = np.empty(4)\n",
    "print(n)"
   ]
  },
  {
   "cell_type": "markdown",
   "id": "aae22efe",
   "metadata": {},
   "source": [
    "arange() :  Array with a range of element"
   ]
  },
  {
   "cell_type": "code",
   "execution_count": 11,
   "id": "ec44f11a",
   "metadata": {},
   "outputs": [
    {
     "name": "stdout",
     "output_type": "stream",
     "text": [
      "[0 1 2 3 4 5 6]\n"
     ]
    }
   ],
   "source": [
    "## two dimension array\n",
    "import numpy as np\n",
    "\n",
    "arrg= np.arange((7))\n",
    "print(arrg)"
   ]
  },
  {
   "cell_type": "markdown",
   "id": "9707e062",
   "metadata": {},
   "source": [
    "Diagonal"
   ]
  },
  {
   "cell_type": "code",
   "execution_count": 12,
   "id": "c7371e53",
   "metadata": {},
   "outputs": [
    {
     "name": "stdout",
     "output_type": "stream",
     "text": [
      "[[1. 0. 0. 0.]\n",
      " [0. 1. 0. 0.]\n",
      " [0. 0. 1. 0.]\n",
      " [0. 0. 0. 1.]]\n"
     ]
    }
   ],
   "source": [
    "## two dimension array\n",
    "import numpy as np\n",
    "\n",
    "dgn = np.eye(4)\n",
    "print(dgn)"
   ]
  },
  {
   "cell_type": "code",
   "execution_count": 17,
   "id": "63bbaba2",
   "metadata": {},
   "outputs": [
    {
     "name": "stdout",
     "output_type": "stream",
     "text": [
      "[[1. 0. 0. 0.]\n",
      " [0. 1. 0. 0.]\n",
      " [0. 0. 1. 0.]\n",
      " [0. 0. 0. 1.]]\n"
     ]
    }
   ],
   "source": [
    "## two dimension array\n",
    "import numpy as np\n",
    "\n",
    "dgn = np.eye(4,4)\n",
    "print(dgn)"
   ]
  },
  {
   "cell_type": "markdown",
   "id": "7504c98a",
   "metadata": {},
   "source": [
    "Create an array with values that are space linearly in a specified interval\n",
    "\n",
    "linspace"
   ]
  },
  {
   "cell_type": "code",
   "execution_count": 15,
   "id": "30f3148d",
   "metadata": {},
   "outputs": [
    {
     "name": "stdout",
     "output_type": "stream",
     "text": [
      "[ 0.   2.5  5.   7.5 10. ]\n",
      "<class 'numpy.ndarray'>\n"
     ]
    }
   ],
   "source": [
    "lin = np.linspace(0, 10, num=5)\n",
    "print(lin)\n",
    "print(type(lin))"
   ]
  },
  {
   "cell_type": "code",
   "execution_count": null,
   "id": "1c9e2565",
   "metadata": {},
   "outputs": [],
   "source": []
  }
 ],
 "metadata": {
  "kernelspec": {
   "display_name": "Python 3",
   "language": "python",
   "name": "python3"
  },
  "language_info": {
   "codemirror_mode": {
    "name": "ipython",
    "version": 3
   },
   "file_extension": ".py",
   "mimetype": "text/x-python",
   "name": "python",
   "nbconvert_exporter": "python",
   "pygments_lexer": "ipython3",
   "version": "3.12.0"
  }
 },
 "nbformat": 4,
 "nbformat_minor": 5
}
