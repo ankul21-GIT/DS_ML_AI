{
 "cells": [
  {
   "cell_type": "markdown",
   "id": "72eec673",
   "metadata": {},
   "source": [
    "## How to create NumPy array with random number"
   ]
  },
  {
   "cell_type": "markdown",
   "id": "23ab6130",
   "metadata": {},
   "source": [
    "1. rand() :- the function is used to generate a random value between 0 to 1"
   ]
  },
  {
   "cell_type": "markdown",
   "id": "a6ca6b9e",
   "metadata": {},
   "source": [
    "2. randn() :- the function is used to generate a random value closed to zero. This may return positive or negative number as well."
   ]
  },
  {
   "cell_type": "markdown",
   "id": "f9f20fe9",
   "metadata": {},
   "source": [
    "3. ranf() :- th function for doing random sampling in numpy. It return an array of specified shape and fill it with random float in the half open interval [0.0, 1.0]"
   ]
  },
  {
   "cell_type": "markdown",
   "id": "20380acc",
   "metadata": {},
   "source": [
    "4. randint() :- the function is used to generate number between a given range."
   ]
  },
  {
   "cell_type": "markdown",
   "id": "4d5cc947",
   "metadata": {},
   "source": [
    "rand()"
   ]
  },
  {
   "cell_type": "code",
   "execution_count": 2,
   "id": "178fe6aa",
   "metadata": {},
   "outputs": [
    {
     "name": "stdout",
     "output_type": "stream",
     "text": [
      "[0.94223825 0.13601333 0.74806451 0.39909893]\n"
     ]
    }
   ],
   "source": [
    "## 1-D array it give random number everytime\n",
    "import numpy as np\n",
    "\n",
    "ran = np.random.rand(4)\n",
    "print(ran)"
   ]
  },
  {
   "cell_type": "code",
   "execution_count": 4,
   "id": "a415d4ac",
   "metadata": {},
   "outputs": [
    {
     "name": "stdout",
     "output_type": "stream",
     "text": [
      "[[0.58841295 0.9896681  0.86347077 0.00647551 0.33580831]\n",
      " [0.10558713 0.99036945 0.34713489 0.42536355 0.50777798]\n",
      " [0.62788942 0.97206869 0.02415441 0.38368302 0.62590577]]\n"
     ]
    }
   ],
   "source": [
    "## 2-D array it give random number everytime\n",
    "import numpy as np\n",
    "\n",
    "ran = np.random.rand(3,5)\n",
    "print(ran)"
   ]
  },
  {
   "cell_type": "markdown",
   "id": "3ea23c56",
   "metadata": {},
   "source": [
    "randn()"
   ]
  },
  {
   "cell_type": "code",
   "execution_count": 3,
   "id": "551e8449",
   "metadata": {},
   "outputs": [
    {
     "name": "stdout",
     "output_type": "stream",
     "text": [
      "[-1.29315645  1.23346959  0.66101091 -1.00750071]\n"
     ]
    }
   ],
   "source": [
    "## 1-D array it give random number everytime\n",
    "import numpy as np\n",
    "\n",
    "ran = np.random.randn(4)\n",
    "print(ran)"
   ]
  },
  {
   "cell_type": "markdown",
   "id": "a54ce3a9",
   "metadata": {},
   "source": [
    "ranf()"
   ]
  },
  {
   "cell_type": "code",
   "execution_count": 6,
   "id": "6bde067a",
   "metadata": {},
   "outputs": [
    {
     "name": "stdout",
     "output_type": "stream",
     "text": [
      "[0.98142533 0.92697415 0.68747053 0.90821681]\n"
     ]
    }
   ],
   "source": [
    "## 1-D array it give random number everytime\n",
    "import numpy as np\n",
    "\n",
    "ran = np.random.ranf(4)\n",
    "print(ran)"
   ]
  },
  {
   "cell_type": "markdown",
   "id": "db9ce9f4",
   "metadata": {},
   "source": [
    "randint()"
   ]
  },
  {
   "cell_type": "code",
   "execution_count": 14,
   "id": "a35fbe69",
   "metadata": {},
   "outputs": [
    {
     "name": "stdout",
     "output_type": "stream",
     "text": [
      "[14 17 12 18 13]\n"
     ]
    }
   ],
   "source": [
    "## It generate a random number betwee max,min,total_value\n",
    "import numpy as np\n",
    "\n",
    "##ran = np.random.randint(min,max,total_value)\n",
    "ran = np.random.randint(4,20,5)\n",
    "print(ran)"
   ]
  }
 ],
 "metadata": {
  "kernelspec": {
   "display_name": "Python 3",
   "language": "python",
   "name": "python3"
  },
  "language_info": {
   "codemirror_mode": {
    "name": "ipython",
    "version": 3
   },
   "file_extension": ".py",
   "mimetype": "text/x-python",
   "name": "python",
   "nbconvert_exporter": "python",
   "pygments_lexer": "ipython3",
   "version": "3.12.0"
  }
 },
 "nbformat": 4,
 "nbformat_minor": 5
}
