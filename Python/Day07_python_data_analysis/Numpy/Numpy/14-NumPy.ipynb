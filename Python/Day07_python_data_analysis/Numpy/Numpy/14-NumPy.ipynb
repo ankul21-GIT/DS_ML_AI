{
 "cells": [
  {
   "cell_type": "markdown",
   "id": "bdaf0e0a",
   "metadata": {},
   "source": [
    "# Joining and Split NumPy array using python"
   ]
  },
  {
   "cell_type": "markdown",
   "id": "a502be83",
   "metadata": {},
   "source": [
    "join array :- join array mean putting condtent of two or more array in single aray."
   ]
  },
  {
   "cell_type": "markdown",
   "id": "bc4bf92f",
   "metadata": {},
   "source": [
    "Join"
   ]
  },
  {
   "cell_type": "code",
   "execution_count": null,
   "id": "510f4685",
   "metadata": {},
   "outputs": [
    {
     "name": "stdout",
     "output_type": "stream",
     "text": [
      "[1 2 3 4 5 6 7 8]\n"
     ]
    }
   ],
   "source": [
    "## conatenate method\n",
    "\n",
    "import numpy as np\n",
    "var1 = np.array([1,2,3,4])\n",
    "var2 = np.array([5,6,7,8])\n",
    "\n",
    "x = np.concatenate((var1,var2))\n",
    "print(x)"
   ]
  },
  {
   "cell_type": "code",
   "execution_count": 13,
   "id": "54222d33",
   "metadata": {},
   "outputs": [
    {
     "name": "stdout",
     "output_type": "stream",
     "text": [
      "[[1 2 3 4]\n",
      " [5 6 7 8]]\n",
      "\n",
      "[[9 8 7 6]\n",
      " [4 3 2 1]]\n",
      "\n",
      "[[1 2 3 4]\n",
      " [5 6 7 8]\n",
      " [9 8 7 6]\n",
      " [4 3 2 1]]\n"
     ]
    }
   ],
   "source": [
    "## 2D array\n",
    "\n",
    "var1 = np.array([[1,2,3,4],[5,6,7,8]])\n",
    "var2 = np.array([[9,8,7,6],[4,3,2,1]])\n",
    "print(var1)\n",
    "print()\n",
    "print(var2)\n",
    "print()\n",
    "x = np.concatenate((var1,var2), axis=0)\n",
    "print(x)"
   ]
  },
  {
   "cell_type": "markdown",
   "id": "ffe51e57",
   "metadata": {},
   "source": [
    "stack() function"
   ]
  },
  {
   "cell_type": "code",
   "execution_count": 15,
   "id": "376a362b",
   "metadata": {},
   "outputs": [
    {
     "name": "stdout",
     "output_type": "stream",
     "text": [
      "[[1 5]\n",
      " [2 6]\n",
      " [3 7]\n",
      " [4 8]]\n"
     ]
    }
   ],
   "source": [
    "var_1 = np.array([1,2,3,4])\n",
    "var_2 = np.array([5,6,7,8])\n",
    "\n",
    "y = np.stack((var_1,var_2), axis=1)\n",
    "print(y)"
   ]
  },
  {
   "cell_type": "markdown",
   "id": "5c5e858a",
   "metadata": {},
   "source": [
    "hstack() :- merge the data along the row"
   ]
  },
  {
   "cell_type": "code",
   "execution_count": null,
   "id": "12de6a16",
   "metadata": {},
   "outputs": [
    {
     "name": "stdout",
     "output_type": "stream",
     "text": [
      "[1 2 3 4 5 6 7 8]\n"
     ]
    }
   ],
   "source": [
    "## work according to row\n",
    "var_1 = np.array([1,2,3,4])\n",
    "var_2 = np.array([5,6,7,8])\n",
    "\n",
    "y = np.hstack((var_1,var_2))\n",
    "print(y)"
   ]
  },
  {
   "cell_type": "markdown",
   "id": "70dcb0b9",
   "metadata": {},
   "source": [
    "dstack() :- merge the data along to the height"
   ]
  },
  {
   "cell_type": "code",
   "execution_count": null,
   "id": "818562f6",
   "metadata": {},
   "outputs": [
    {
     "name": "stdout",
     "output_type": "stream",
     "text": [
      "[[[1 5]\n",
      "  [2 6]\n",
      "  [3 7]\n",
      "  [4 8]]]\n"
     ]
    }
   ],
   "source": [
    "## work according to height\n",
    "var_1 = np.array([1,2,3,4])\n",
    "var_2 = np.array([5,6,7,8])\n",
    "\n",
    "y = np.dstack((var_1,var_2))\n",
    "print(y)"
   ]
  },
  {
   "cell_type": "code",
   "execution_count": 20,
   "id": "dabd0e89",
   "metadata": {},
   "outputs": [
    {
     "name": "stdout",
     "output_type": "stream",
     "text": [
      "[[1 2 3 4]\n",
      " [5 6 7 8]]\n"
     ]
    }
   ],
   "source": [
    "## work according to column\n",
    "var_1 = np.array([1,2,3,4])\n",
    "var_2 = np.array([5,6,7,8])\n",
    "\n",
    "y = np.vstack((var_1,var_2))\n",
    "print(y)"
   ]
  },
  {
   "cell_type": "markdown",
   "id": "0cd7f088",
   "metadata": {},
   "source": [
    "Split Array :- spliting break one array into multiple"
   ]
  },
  {
   "cell_type": "code",
   "execution_count": 24,
   "id": "a3910f81",
   "metadata": {},
   "outputs": [
    {
     "name": "stdout",
     "output_type": "stream",
     "text": [
      "[1 2 3 4 5 6]\n",
      "\n",
      "[array([1, 2]), array([3, 4]), array([5, 6])]\n"
     ]
    }
   ],
   "source": [
    "import numpy as np\n",
    "var = np.array([1,2,3,4,5,6])\n",
    "x = np.array_split(var,3)\n",
    "print(var)\n",
    "print()\n",
    "print(x)"
   ]
  },
  {
   "cell_type": "code",
   "execution_count": null,
   "id": "aa9825fe",
   "metadata": {},
   "outputs": [
    {
     "name": "stdout",
     "output_type": "stream",
     "text": [
      "[1 2 3 4 5 6]\n",
      "\n",
      "[array([1, 2]), array([3, 4]), array([5]), array([6])]\n",
      "<class 'list'>\n"
     ]
    }
   ],
   "source": [
    "import numpy as np\n",
    "var = np.array([1,2,3,4,5,6])\n",
    "x = np.array_split(var,4)\n",
    "print(var)\n",
    "print()\n",
    "print(x)\n",
    "print(type(x)) # type is list"
   ]
  },
  {
   "cell_type": "code",
   "execution_count": 30,
   "id": "0162b666",
   "metadata": {},
   "outputs": [
    {
     "name": "stdout",
     "output_type": "stream",
     "text": [
      "[1 2 3 4 5 6]\n",
      "\n",
      "[array([1, 2]), array([3, 4]), array([5]), array([6])]\n",
      "[3 4]\n"
     ]
    }
   ],
   "source": [
    "import numpy as np\n",
    "var = np.array([1,2,3,4,5,6])\n",
    "x = np.array_split(var,4)\n",
    "print(var)\n",
    "print()\n",
    "print(x)\n",
    "print(x[1]) ## int"
   ]
  },
  {
   "cell_type": "code",
   "execution_count": 37,
   "id": "a8f56c06",
   "metadata": {},
   "outputs": [
    {
     "name": "stdout",
     "output_type": "stream",
     "text": [
      "\n",
      "[array([[1, 2, 3],\n",
      "       [5, 6, 7]]), array([[8, 5, 2]])]\n"
     ]
    }
   ],
   "source": [
    "#2D array\n",
    "\n",
    "import numpy as np\n",
    "var = np.array([[1,2,3],[5,6,7],[8,5,2]])\n",
    "x = np.array_split(var,2)\n",
    "print()\n",
    "print(x)"
   ]
  },
  {
   "cell_type": "code",
   "execution_count": 38,
   "id": "a749ae3b",
   "metadata": {},
   "outputs": [
    {
     "name": "stdout",
     "output_type": "stream",
     "text": [
      "\n",
      "[array([[1, 2],\n",
      "       [5, 6],\n",
      "       [8, 5]]), array([[3],\n",
      "       [7],\n",
      "       [2]])]\n"
     ]
    }
   ],
   "source": [
    "## axis = 1\n",
    "\n",
    "#2D array\n",
    "\n",
    "import numpy as np\n",
    "var = np.array([[1,2,3],[5,6,7],[8,5,2]])\n",
    "x = np.array_split(var,2,axis=1)\n",
    "print()\n",
    "print(x)"
   ]
  },
  {
   "cell_type": "markdown",
   "id": "a45f8dcf",
   "metadata": {},
   "source": []
  }
 ],
 "metadata": {
  "kernelspec": {
   "display_name": "Python 3",
   "language": "python",
   "name": "python3"
  },
  "language_info": {
   "codemirror_mode": {
    "name": "ipython",
    "version": 3
   },
   "file_extension": ".py",
   "mimetype": "text/x-python",
   "name": "python",
   "nbconvert_exporter": "python",
   "pygments_lexer": "ipython3",
   "version": "3.12.0"
  }
 },
 "nbformat": 4,
 "nbformat_minor": 5
}
