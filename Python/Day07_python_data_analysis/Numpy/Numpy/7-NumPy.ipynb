{
 "cells": [
  {
   "cell_type": "markdown",
   "id": "3549ed79",
   "metadata": {},
   "source": [
    "## Arithmatic operation in NumPy array"
   ]
  },
  {
   "cell_type": "markdown",
   "id": "ef514cd4",
   "metadata": {},
   "source": [
    "a+b = np.add(a,b)\n",
    "\n",
    "a-b = np.subtract(a,b)\n",
    "\n",
    "a*b = np.multiply(a,b)\n",
    "\n",
    "a/b = np.devide(a,b)\n",
    "\n",
    "a%b = np.mod(a,b)\n",
    "\n",
    "a**b = np.power(a,b)\n",
    "\n",
    "1/a = np.reciprocal(a,b)"
   ]
  },
  {
   "cell_type": "markdown",
   "id": "a1699640",
   "metadata": {},
   "source": [
    "Addition using add method"
   ]
  },
  {
   "cell_type": "code",
   "execution_count": 1,
   "id": "6f16d564",
   "metadata": {},
   "outputs": [
    {
     "name": "stdout",
     "output_type": "stream",
     "text": [
      "[4 5 6 7 8]\n"
     ]
    }
   ],
   "source": [
    "import numpy as np\n",
    "\n",
    "var = np.array([1,2,3,4,5])\n",
    "\n",
    "x = var + 3\n",
    "\n",
    "print(x)"
   ]
  },
  {
   "cell_type": "code",
   "execution_count": 4,
   "id": "5c8d864a",
   "metadata": {},
   "outputs": [
    {
     "name": "stdout",
     "output_type": "stream",
     "text": [
      "[ 2  4  6  8 10]\n"
     ]
    }
   ],
   "source": [
    "import numpy as np\n",
    "\n",
    "var1 = np.array([1,2,3,4,5])\n",
    "var2 = np.array([1,2,3,4,5])\n",
    "\n",
    "x = np.add(var1,var2)\n",
    "\n",
    "print(x)"
   ]
  },
  {
   "cell_type": "code",
   "execution_count": 7,
   "id": "deb396fa",
   "metadata": {},
   "outputs": [
    {
     "name": "stdout",
     "output_type": "stream",
     "text": [
      "[3 6 8 5 8]\n"
     ]
    }
   ],
   "source": [
    "import numpy as np\n",
    "\n",
    "var1 = np.array([1,2,3,4,5])\n",
    "var2 = np.array([2,4,5,1,3])\n",
    "\n",
    "x = var1+var2\n",
    "\n",
    "print(x)"
   ]
  },
  {
   "cell_type": "markdown",
   "id": "fad49062",
   "metadata": {},
   "source": [
    "Multipliactio using multiply() method"
   ]
  },
  {
   "cell_type": "code",
   "execution_count": 8,
   "id": "3b192f39",
   "metadata": {},
   "outputs": [
    {
     "name": "stdout",
     "output_type": "stream",
     "text": [
      "[ 3  6  9 12 15]\n"
     ]
    }
   ],
   "source": [
    "import numpy as np\n",
    "\n",
    "var1 = np.array([1,2,3,4,5])\n",
    "\n",
    "x = var1*3\n",
    "\n",
    "print(x)"
   ]
  },
  {
   "cell_type": "code",
   "execution_count": 10,
   "id": "6a33fb1c",
   "metadata": {},
   "outputs": [
    {
     "name": "stdout",
     "output_type": "stream",
     "text": [
      "[ 8  4  9 24  5]\n"
     ]
    }
   ],
   "source": [
    "import numpy as np\n",
    "\n",
    "var1 = np.array([1,2,3,4,5])\n",
    "var2 = np.array([8,2,3,6,1])\n",
    "\n",
    "x = np.multiply(var1,var2)\n",
    "\n",
    "print(x)"
   ]
  },
  {
   "cell_type": "markdown",
   "id": "045ce8ae",
   "metadata": {},
   "source": [
    "Devide using devide() method"
   ]
  },
  {
   "cell_type": "code",
   "execution_count": 11,
   "id": "8066360d",
   "metadata": {},
   "outputs": [
    {
     "name": "stdout",
     "output_type": "stream",
     "text": [
      "[0.5 1.  1.5 2.  2.5]\n"
     ]
    }
   ],
   "source": [
    "import numpy as np\n",
    "\n",
    "var1 = np.array([1,2,3,4,5])\n",
    "\n",
    "x = var1/2\n",
    "\n",
    "print(x)"
   ]
  },
  {
   "cell_type": "code",
   "execution_count": 17,
   "id": "4d3e8c20",
   "metadata": {},
   "outputs": [
    {
     "name": "stdout",
     "output_type": "stream",
     "text": [
      "[2. 8. 4. 3.]\n"
     ]
    }
   ],
   "source": [
    "import numpy as np\n",
    "\n",
    "var1 = np.array([4,24,8,9])\n",
    "var2 = np.array([2,3,2,3])\n",
    "\n",
    "x = np.divide(var1,var2)\n",
    "\n",
    "print(x)"
   ]
  },
  {
   "cell_type": "markdown",
   "id": "a1b706f5",
   "metadata": {},
   "source": [
    "Modulus"
   ]
  },
  {
   "cell_type": "code",
   "execution_count": 19,
   "id": "f73d9ae5",
   "metadata": {},
   "outputs": [
    {
     "name": "stdout",
     "output_type": "stream",
     "text": [
      "[1 0 1 0 1]\n"
     ]
    }
   ],
   "source": [
    "import numpy as np\n",
    "\n",
    "var1 = np.array([1,2,3,4,5])\n",
    "\n",
    "x = var%2\n",
    "\n",
    "print(x)"
   ]
  },
  {
   "cell_type": "code",
   "execution_count": null,
   "id": "695e2dbf",
   "metadata": {},
   "outputs": [
    {
     "name": "stdout",
     "output_type": "stream",
     "text": [
      "[0 2 0 1 1]\n"
     ]
    }
   ],
   "source": [
    "import numpy as np\n",
    "\n",
    "var1 = np.array([1,2,3,4,5])\n",
    "var2 = np.array([1,2,3,4,5])\n",
    "\n",
    "x = np.add(var1,var2)\n",
    "\n",
    "print(x)"
   ]
  },
  {
   "cell_type": "markdown",
   "id": "906a9f55",
   "metadata": {},
   "source": [
    "2-D Array "
   ]
  },
  {
   "cell_type": "code",
   "execution_count": 25,
   "id": "0a38ad38",
   "metadata": {},
   "outputs": [
    {
     "name": "stdout",
     "output_type": "stream",
     "text": [
      "[[1 2 3 4]\n",
      " [5 6 7 8]]\n",
      "[[3 4 2 6]\n",
      " [3 2 1 9]]\n",
      "\n",
      "[[ 4  6  5 10]\n",
      " [ 8  8  8 17]]\n"
     ]
    }
   ],
   "source": [
    "import numpy as np\n",
    "\n",
    "var1 = np.array([[1,2,3,4],[5,6,7,8]])\n",
    "var2 = np.array([[3,4,2,6],[3,2,1,9]])\n",
    "\n",
    "print(var1)\n",
    "print(var2)\n",
    "print()\n",
    "x = var1+var2\n",
    "print(x)"
   ]
  },
  {
   "cell_type": "code",
   "execution_count": 27,
   "id": "5ece63c5",
   "metadata": {},
   "outputs": [
    {
     "name": "stdout",
     "output_type": "stream",
     "text": [
      "[[ 4  6  5 10]\n",
      " [ 8  8  8 17]]\n"
     ]
    }
   ],
   "source": [
    "import numpy as np\n",
    "\n",
    "var1 = np.array([[1,2,3,4],[5,6,7,8]])\n",
    "var2 = np.array([[3,4,2,6],[3,2,1,9]])\n",
    "\n",
    "x = np.add(var1,var2)\n",
    "\n",
    "print(x)"
   ]
  },
  {
   "cell_type": "markdown",
   "id": "bc9d1af5",
   "metadata": {},
   "source": [
    "reciprocal"
   ]
  },
  {
   "cell_type": "code",
   "execution_count": 30,
   "id": "247f4dd7",
   "metadata": {},
   "outputs": [
    {
     "name": "stdout",
     "output_type": "stream",
     "text": [
      "[[1 0 0 0]\n",
      " [0 0 0 0]]\n"
     ]
    }
   ],
   "source": [
    "import numpy as np\n",
    "\n",
    "var1 = np.array([[1,2,3,4],[5,6,7,8]])\n",
    "var2 = np.array([[3,4,2,6],[3,2,1,9]])\n",
    "\n",
    "x = np.reciprocal(var1,var2)\n",
    "\n",
    "print(x)"
   ]
  },
  {
   "cell_type": "code",
   "execution_count": 31,
   "id": "276f2cc2",
   "metadata": {},
   "outputs": [
    {
     "name": "stdout",
     "output_type": "stream",
     "text": [
      "[1 0 0 0 0]\n"
     ]
    }
   ],
   "source": [
    "import numpy as np\n",
    "\n",
    "var1 = np.array([1,2,3,4,5])\n",
    "\n",
    "x = np.reciprocal(var1)\n",
    "\n",
    "print(x)"
   ]
  },
  {
   "cell_type": "markdown",
   "id": "9c40bcea",
   "metadata": {},
   "source": [
    "Power method"
   ]
  },
  {
   "cell_type": "code",
   "execution_count": 33,
   "id": "833ae497",
   "metadata": {},
   "outputs": [
    {
     "name": "stdout",
     "output_type": "stream",
     "text": [
      "[  1   8  27  64 125]\n"
     ]
    }
   ],
   "source": [
    "import numpy as np\n",
    "\n",
    "var1 = np.array([1,2,3,4,5])\n",
    "\n",
    "x = var1**3\n",
    "\n",
    "print(x)"
   ]
  },
  {
   "cell_type": "code",
   "execution_count": 37,
   "id": "11bf299e",
   "metadata": {},
   "outputs": [
    {
     "name": "stdout",
     "output_type": "stream",
     "text": [
      "[[  1  16   9  64]\n",
      " [125  36   7 512]]\n"
     ]
    }
   ],
   "source": [
    "import numpy as np\n",
    "\n",
    "var1 = np.array([[1,2,3,4],[5,6,7,8]])\n",
    "var2 = np.array([[3,4,2,3],[3,2,1,3]])\n",
    "\n",
    "x = np.pow(var1,var2)\n",
    "\n",
    "print(x)"
   ]
  },
  {
   "cell_type": "code",
   "execution_count": null,
   "id": "a23f1aa4",
   "metadata": {},
   "outputs": [],
   "source": []
  }
 ],
 "metadata": {
  "kernelspec": {
   "display_name": "Python 3",
   "language": "python",
   "name": "python3"
  },
  "language_info": {
   "codemirror_mode": {
    "name": "ipython",
    "version": 3
   },
   "file_extension": ".py",
   "mimetype": "text/x-python",
   "name": "python",
   "nbconvert_exporter": "python",
   "pygments_lexer": "ipython3",
   "version": "3.12.0"
  }
 },
 "nbformat": 4,
 "nbformat_minor": 5
}
