{
 "cells": [
  {
   "cell_type": "markdown",
   "id": "22aa1c63",
   "metadata": {},
   "source": [
    "## Python and List : What is differance\n",
    "\n"
   ]
  },
  {
   "cell_type": "markdown",
   "id": "65d34af1",
   "metadata": {},
   "source": [
    "What is the differance?"
   ]
  },
  {
   "cell_type": "markdown",
   "id": "c7264176",
   "metadata": {},
   "source": [
    "## What is an Array in Python\n",
    "\n",
    "1. Arrays are not the in-built data structure readily available in Python.\n",
    "\n",
    "2. We must import the array from the 'array' or 'numpy' module.\n",
    "\n",
    "3. Array stores elements of similar types. If we try to store elements of different types, it will throw an error.\n",
    "\n",
    "4. We can only store elements of the same types in the array."
   ]
  },
  {
   "cell_type": "markdown",
   "id": "63ed9fa1",
   "metadata": {},
   "source": [
    "## What is List in Python\n",
    "\n",
    "1. Lists are the inbuilt data structure of python.\n",
    "\n",
    "2. We can store elements of different types in the list.\n",
    "\n",
    "3. Items in the list are enclosed between square brackets and separated by commas.\n",
    "\n",
    "4. We can even nest lists with other data structures like lists, dictionaries, tuples, etc."
   ]
  },
  {
   "cell_type": "markdown",
   "id": "67f3ab80",
   "metadata": {},
   "source": [
    "## How to know which is faster NumPy array of List"
   ]
  },
  {
   "cell_type": "code",
   "execution_count": 1,
   "id": "47bcc8c2",
   "metadata": {},
   "outputs": [
    {
     "name": "stdout",
     "output_type": "stream",
     "text": [
      "1.26 μs ± 131 ns per loop (mean ± std. dev. of 7 runs, 1,000,000 loops each)\n"
     ]
    }
   ],
   "source": [
    "## For list\n",
    "%timeit [j**3 for j in range(1, 9)]"
   ]
  },
  {
   "cell_type": "code",
   "execution_count": 12,
   "id": "5e472b06",
   "metadata": {},
   "outputs": [
    {
     "name": "stdout",
     "output_type": "stream",
     "text": [
      "2.1 μs ± 19 ns per loop (mean ± std. dev. of 7 runs, 100,000 loops each)\n"
     ]
    }
   ],
   "source": [
    "## For NumPy array\n",
    "\n",
    "import numpy as np\n",
    "%timeit np.arange(1, 9)**3"
   ]
  },
  {
   "cell_type": "code",
   "execution_count": null,
   "id": "fd7ddbe1",
   "metadata": {},
   "outputs": [],
   "source": []
  }
 ],
 "metadata": {
  "kernelspec": {
   "display_name": "Python 3",
   "language": "python",
   "name": "python3"
  },
  "language_info": {
   "codemirror_mode": {
    "name": "ipython",
    "version": 3
   },
   "file_extension": ".py",
   "mimetype": "text/x-python",
   "name": "python",
   "nbconvert_exporter": "python",
   "pygments_lexer": "ipython3",
   "version": "3.12.0"
  }
 },
 "nbformat": 4,
 "nbformat_minor": 5
}
