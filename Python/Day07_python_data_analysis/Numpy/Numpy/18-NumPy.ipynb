{
 "cells": [
  {
   "cell_type": "markdown",
   "id": "e1f1da04",
   "metadata": {},
   "source": [
    "## Concept of matrix in NumPy array"
   ]
  },
  {
   "cell_type": "markdown",
   "id": "a6cac584",
   "metadata": {},
   "source": [
    "Matrix"
   ]
  },
  {
   "cell_type": "code",
   "execution_count": 8,
   "id": "dcb99b74",
   "metadata": {},
   "outputs": [
    {
     "name": "stdout",
     "output_type": "stream",
     "text": [
      "[[1 2 3]\n",
      " [4 5 6]]\n"
     ]
    }
   ],
   "source": [
    "import numpy as np\n",
    "var = np.matrix([[1,2,3],[4,5,6]])\n",
    "print(var)\n"
   ]
  },
  {
   "cell_type": "code",
   "execution_count": 7,
   "id": "2efb4fac",
   "metadata": {},
   "outputs": [
    {
     "name": "stdout",
     "output_type": "stream",
     "text": [
      "[[1 2 3]\n",
      " [4 5 6]]\n",
      "<class 'numpy.matrix'>\n"
     ]
    }
   ],
   "source": [
    "import numpy as np\n",
    "var = np.array([[1,2,3],[4,5,6]])\n",
    "x = np.matrix(var)\n",
    "print(var)\n",
    "print(type(x))\n"
   ]
  },
  {
   "cell_type": "markdown",
   "id": "70553706",
   "metadata": {},
   "source": [
    "Addition in matrix"
   ]
  },
  {
   "cell_type": "code",
   "execution_count": 9,
   "id": "ef47dc9d",
   "metadata": {},
   "outputs": [
    {
     "name": "stdout",
     "output_type": "stream",
     "text": [
      "[[ 2  4  6]\n",
      " [ 8 10 12]]\n"
     ]
    }
   ],
   "source": [
    "import numpy as np\n",
    "var = np.array([[1,2,3],[4,5,6]])\n",
    "var1 = np.array([[1,2,3],[4,5,6]])\n",
    "print(var+var1)\n"
   ]
  },
  {
   "cell_type": "markdown",
   "id": "673af89c",
   "metadata": {},
   "source": [
    "miltiplication"
   ]
  },
  {
   "cell_type": "code",
   "execution_count": 14,
   "id": "bf3490ba",
   "metadata": {},
   "outputs": [
    {
     "name": "stdout",
     "output_type": "stream",
     "text": [
      "[[ 9 12]\n",
      " [24 33]]\n"
     ]
    }
   ],
   "source": [
    "import numpy as np\n",
    "var = np.matrix([[1,2],[4,5]])\n",
    "var1 = np.matrix([[1,2],[4,5]])\n",
    "print(var.dot(var1))\n"
   ]
  },
  {
   "cell_type": "code",
   "execution_count": 15,
   "id": "c19bfbf6",
   "metadata": {},
   "outputs": [
    {
     "name": "stdout",
     "output_type": "stream",
     "text": [
      "[[ 9 12]\n",
      " [24 33]]\n"
     ]
    }
   ],
   "source": [
    "import numpy as np\n",
    "var = np.matrix([[1,2],[4,5]])\n",
    "var1 = np.matrix([[1,2],[4,5]])\n",
    "print(var*var1)\n"
   ]
  },
  {
   "cell_type": "markdown",
   "id": "f9e82ac7",
   "metadata": {},
   "source": [
    "Matrix Function"
   ]
  },
  {
   "cell_type": "markdown",
   "id": "563fff30",
   "metadata": {},
   "source": [
    "Transpose\n",
    "\n",
    "Swapaxes\n",
    "\n",
    "Inverse\n",
    "\n",
    "Power\n",
    "\n",
    "Determinate"
   ]
  },
  {
   "cell_type": "markdown",
   "id": "9a265d4d",
   "metadata": {},
   "source": [
    "transpose"
   ]
  },
  {
   "cell_type": "code",
   "execution_count": 27,
   "id": "bd354f94",
   "metadata": {},
   "outputs": [
    {
     "name": "stdout",
     "output_type": "stream",
     "text": [
      "[[1 2 3]\n",
      " [4 5 6]]\n",
      "\n",
      "Transpose\n",
      "[[1 4]\n",
      " [2 5]\n",
      " [3 6]]\n"
     ]
    }
   ],
   "source": [
    "import numpy as np\n",
    "var = np.matrix([[1,2,3],[4,5,6]])\n",
    "print(var)\n",
    "print()\n",
    "print(\"Transpose\")\n",
    "var = np.transpose([[1,2,3],[4,5,6]])\n",
    "print(var)"
   ]
  },
  {
   "cell_type": "code",
   "execution_count": null,
   "id": "56b4ceac",
   "metadata": {},
   "outputs": [
    {
     "name": "stdout",
     "output_type": "stream",
     "text": [
      "[[1 4]\n",
      " [2 5]\n",
      " [3 6]]\n"
     ]
    }
   ],
   "source": [
    "## shortest method to transpose matrix using capital T method\n",
    "import numpy as np\n",
    "var = np.matrix([[1,2,3],[4,5,6]])\n",
    "print(var.T)\n"
   ]
  },
  {
   "cell_type": "markdown",
   "id": "54814bef",
   "metadata": {},
   "source": [
    "swapaxes"
   ]
  },
  {
   "cell_type": "code",
   "execution_count": 34,
   "id": "c2b26880",
   "metadata": {},
   "outputs": [
    {
     "name": "stdout",
     "output_type": "stream",
     "text": [
      "[[1 2 3]\n",
      " [4 5 6]]\n",
      "\n",
      "[[1 4]\n",
      " [2 5]\n",
      " [3 6]]\n"
     ]
    }
   ],
   "source": [
    "## it concert 0(column) axis into 1(row) axis\n",
    "import numpy as np\n",
    "var = np.array([[1,2,3],[4,5,6]])\n",
    "print(var)\n",
    "print()\n",
    "x = np.swapaxes(var,0,1)\n",
    "print(x)\n"
   ]
  },
  {
   "cell_type": "markdown",
   "id": "9105fda2",
   "metadata": {},
   "source": [
    "Inverse matrix"
   ]
  },
  {
   "cell_type": "code",
   "execution_count": null,
   "id": "550bb1ca",
   "metadata": {},
   "outputs": [
    {
     "name": "stdout",
     "output_type": "stream",
     "text": [
      "[[1 2]\n",
      " [4 5]]\n",
      "\n",
      "[[-1.66666667  0.66666667]\n",
      " [ 1.33333333 -0.33333333]]\n"
     ]
    }
   ],
   "source": [
    "## it inverse the matrix\n",
    "import numpy as np\n",
    "var = np.array([[1,2],[4,5]])\n",
    "print(var)\n",
    "print()\n",
    "x = np.linalg.inv(var)\n",
    "print(x)\n"
   ]
  },
  {
   "cell_type": "markdown",
   "id": "9011f097",
   "metadata": {},
   "source": [
    "Power"
   ]
  },
  {
   "cell_type": "code",
   "execution_count": 47,
   "id": "f14c00f2",
   "metadata": {},
   "outputs": [
    {
     "name": "stdout",
     "output_type": "stream",
     "text": [
      "[[ 9 12]\n",
      " [24 33]]\n"
     ]
    }
   ],
   "source": [
    "import numpy as np\n",
    "var = np.array([[1,2],[4,5]])\n",
    "x = (np.linalg.matrix_power(var,2))\n",
    "print(x)"
   ]
  },
  {
   "cell_type": "code",
   "execution_count": 48,
   "id": "99537e8f",
   "metadata": {},
   "outputs": [
    {
     "name": "stdout",
     "output_type": "stream",
     "text": [
      "[[ 9 12]\n",
      " [24 33]]\n",
      "[[1 0]\n",
      " [0 1]]\n"
     ]
    }
   ],
   "source": [
    "import numpy as np\n",
    "var = np.array([[1,2],[4,5]])\n",
    "x = (np.linalg.matrix_power(var,2))\n",
    "print(x)\n",
    "x = (np.linalg.matrix_power(var,0))\n",
    "print(x)"
   ]
  },
  {
   "cell_type": "markdown",
   "id": "a2a76b8b",
   "metadata": {},
   "source": [
    "A = a b c\n",
    "\n",
    "     d e f    |a| = a[ei - hf] -b[di - gf] +c[dh - eg]\n",
    "\n",
    "     g h i"
   ]
  },
  {
   "cell_type": "markdown",
   "id": "bd3a9063",
   "metadata": {},
   "source": [
    "np.linalg.det(var)"
   ]
  },
  {
   "cell_type": "code",
   "execution_count": 49,
   "id": "b6759571",
   "metadata": {},
   "outputs": [
    {
     "name": "stdout",
     "output_type": "stream",
     "text": [
      "[[1 2]\n",
      " [3 4]]\n",
      "\n",
      "-2.0000000000000004\n"
     ]
    }
   ],
   "source": [
    "import numpy as np\n",
    "var = np.array([[1,2],[3,4]])\n",
    "print(var)\n",
    "print()\n",
    "print(np.linalg.det(var))"
   ]
  },
  {
   "cell_type": "code",
   "execution_count": 50,
   "id": "881c2064",
   "metadata": {},
   "outputs": [
    {
     "name": "stdout",
     "output_type": "stream",
     "text": [
      "[[1 2 3]\n",
      " [3 4 3]\n",
      " [1 2 3]]\n",
      "\n",
      "0.0\n"
     ]
    }
   ],
   "source": [
    "import numpy as np\n",
    "var = np.array([[1,2,3],[3,4,3],[1,2,3]])\n",
    "print(var)\n",
    "print()\n",
    "print(np.linalg.det(var))"
   ]
  },
  {
   "cell_type": "code",
   "execution_count": null,
   "id": "fc38a955",
   "metadata": {},
   "outputs": [],
   "source": []
  }
 ],
 "metadata": {
  "kernelspec": {
   "display_name": "Python 3",
   "language": "python",
   "name": "python3"
  },
  "language_info": {
   "codemirror_mode": {
    "name": "ipython",
    "version": 3
   },
   "file_extension": ".py",
   "mimetype": "text/x-python",
   "name": "python",
   "nbconvert_exporter": "python",
   "pygments_lexer": "ipython3",
   "version": "3.12.0"
  }
 },
 "nbformat": 4,
 "nbformat_minor": 5
}
