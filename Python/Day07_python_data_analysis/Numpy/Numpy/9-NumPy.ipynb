{
 "cells": [
  {
   "cell_type": "markdown",
   "id": "b7cb3297",
   "metadata": {},
   "source": [
    "## Learn Shaping and Reshaping in NumPy array"
   ]
  },
  {
   "cell_type": "markdown",
   "id": "e1cd2566",
   "metadata": {},
   "source": [
    "Shape()"
   ]
  },
  {
   "cell_type": "code",
   "execution_count": 2,
   "id": "9b813d54",
   "metadata": {},
   "outputs": [
    {
     "name": "stdout",
     "output_type": "stream",
     "text": [
      "[[1 2 3 4]\n",
      " [5 6 7 8]]\n",
      "(2, 4)\n"
     ]
    }
   ],
   "source": [
    "import numpy as np\n",
    "\n",
    "var = np.array([[1,2,3,4],[5,6,7,8]])\n",
    "print(var)\n",
    "print(var.shape)"
   ]
  },
  {
   "cell_type": "code",
   "execution_count": 3,
   "id": "a5424394",
   "metadata": {},
   "outputs": [
    {
     "name": "stdout",
     "output_type": "stream",
     "text": [
      "[[[[1 2 3 4]\n",
      "   [5 6 7 8]]]]\n",
      "4\n",
      "(1, 1, 2, 4)\n"
     ]
    }
   ],
   "source": [
    "import numpy as np\n",
    "\n",
    "var = np.array([[1,2,3,4],[5,6,7,8]], ndmin=4)\n",
    "print(var)\n",
    "print(var.ndim)\n",
    "print(var.shape)"
   ]
  },
  {
   "cell_type": "markdown",
   "id": "fbaafaf8",
   "metadata": {},
   "source": [
    "Reshape"
   ]
  },
  {
   "cell_type": "code",
   "execution_count": 7,
   "id": "b707966f",
   "metadata": {},
   "outputs": [
    {
     "name": "stdout",
     "output_type": "stream",
     "text": [
      "[1 2 3 4 5 6 7 8]\n",
      "[[1 2]\n",
      " [3 4]\n",
      " [5 6]\n",
      " [7 8]]\n",
      "(8,)\n"
     ]
    }
   ],
   "source": [
    "import numpy as np\n",
    "\n",
    "var = np.array([1,2,3,4,5,6,7,8])\n",
    "print(var)\n",
    "x = var.reshape(4,2)\n",
    "print(x)\n",
    "print(var.shape)"
   ]
  },
  {
   "cell_type": "code",
   "execution_count": 13,
   "id": "9861bacc",
   "metadata": {},
   "outputs": [
    {
     "name": "stdout",
     "output_type": "stream",
     "text": [
      "[[1 2 3 4 5 6 7 8]\n",
      " [8 7 6 5 4 3 2 1]]\n",
      "[[1 2]\n",
      " [3 4]\n",
      " [5 6]\n",
      " [7 8]\n",
      " [8 7]\n",
      " [6 5]\n",
      " [4 3]\n",
      " [2 1]]\n",
      "(2, 8)\n",
      "2\n",
      "2\n"
     ]
    }
   ],
   "source": [
    "import numpy as np\n",
    "\n",
    "var = np.array([[1,2,3,4,5,6,7,8],[8,7,6,5,4,3,2,1]])\n",
    "print(var)\n",
    "x = var.reshape(8,2)\n",
    "print(x)\n",
    "print(var.shape)\n",
    "print(var.ndim)\n",
    "print(x.ndim)"
   ]
  },
  {
   "cell_type": "code",
   "execution_count": 18,
   "id": "81c8d790",
   "metadata": {},
   "outputs": [
    {
     "name": "stdout",
     "output_type": "stream",
     "text": [
      "[[[1 2]\n",
      "  [3 4]\n",
      "  [5 6]]\n",
      "\n",
      " [[7 8]\n",
      "  [9 1]\n",
      "  [4 5]]]\n",
      "3\n"
     ]
    }
   ],
   "source": [
    "# Three dimension array\n",
    "\n",
    "import numpy as np\n",
    "var = np.array([1,2,3,4,5,6,7,8,9,1,4,5])\n",
    "\n",
    "x = var.reshape(2,3,2)\n",
    "print(x)\n",
    "print(x.ndim)"
   ]
  },
  {
   "cell_type": "code",
   "execution_count": 19,
   "id": "822a5182",
   "metadata": {},
   "outputs": [
    {
     "name": "stdout",
     "output_type": "stream",
     "text": [
      "[[[1 2]\n",
      "  [3 4]\n",
      "  [5 6]]\n",
      "\n",
      " [[7 8]\n",
      "  [9 1]\n",
      "  [4 5]]]\n",
      "3\n",
      "\n",
      "[1 2 3 4 5 6 7 8 9 1 4 5]\n",
      "1\n"
     ]
    }
   ],
   "source": [
    "# Three dimension array\n",
    "\n",
    "import numpy as np\n",
    "var = np.array([1,2,3,4,5,6,7,8,9,1,4,5])\n",
    "\n",
    "x = var.reshape(2,3,2)\n",
    "print(x)\n",
    "print(x.ndim)\n",
    "print()\n",
    "\n",
    "one = x.reshape(-1)\n",
    "\n",
    "print(one)\n",
    "print(one.ndim)"
   ]
  },
  {
   "cell_type": "code",
   "execution_count": null,
   "id": "379eee67",
   "metadata": {},
   "outputs": [],
   "source": []
  }
 ],
 "metadata": {
  "kernelspec": {
   "display_name": "Python 3",
   "language": "python",
   "name": "python3"
  },
  "language_info": {
   "codemirror_mode": {
    "name": "ipython",
    "version": 3
   },
   "file_extension": ".py",
   "mimetype": "text/x-python",
   "name": "python",
   "nbconvert_exporter": "python",
   "pygments_lexer": "ipython3",
   "version": "3.12.0"
  }
 },
 "nbformat": 4,
 "nbformat_minor": 5
}
