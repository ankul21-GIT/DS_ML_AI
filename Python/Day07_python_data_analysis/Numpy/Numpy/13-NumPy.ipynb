{
 "cells": [
  {
   "cell_type": "markdown",
   "id": "a5206af6",
   "metadata": {},
   "source": [
    "## Copy Vs View in NumPy array"
   ]
  },
  {
   "cell_type": "markdown",
   "id": "04f58600",
   "metadata": {},
   "source": [
    "1. The main difference between a copy and a view of an array is that the copy is a new array, and the view is just a view of the original array.\n",
    "\n",
    "2. The copy owns the data and any changes made to the copy will not affect original array, and any changes made to the original array will not affect the copy.\n",
    "\n",
    "3. The view does not own the data and any changes made to the view will affect the original array, and any changes made to the original array will affect the view."
   ]
  },
  {
   "cell_type": "markdown",
   "id": "1810cfc5",
   "metadata": {},
   "source": [
    "# Copy:                             \n",
    "\n",
    "1. Separate memory location\n",
    "\n",
    "2. Owns its data\n",
    "\n",
    "3. Independent; no effect on original\n",
    "\n",
    "# View:\n",
    "\n",
    "1. Shares memory with original.\n",
    "\n",
    "2. Does not own its data\n",
    "\n",
    "3. Reflects in original and vice versa"
   ]
  },
  {
   "cell_type": "markdown",
   "id": "bf15d30c",
   "metadata": {},
   "source": [
    "Copy() method"
   ]
  },
  {
   "cell_type": "code",
   "execution_count": null,
   "id": "b822fe10",
   "metadata": {},
   "outputs": [
    {
     "name": "stdout",
     "output_type": "stream",
     "text": [
      "var :  [1 2 3 4 5 6]\n",
      "copy :  [1 2 3 4 5 6]\n"
     ]
    }
   ],
   "source": [
    "import numpy as np\n",
    "var1 = np.array([1,2,3,4,5,6])\n",
    "x = var1.copy()\n",
    "\n",
    "print(\"var : \", var1)\n",
    "print(\"copy : \",x)"
   ]
  },
  {
   "cell_type": "code",
   "execution_count": null,
   "id": "db284609",
   "metadata": {},
   "outputs": [
    {
     "name": "stdout",
     "output_type": "stream",
     "text": [
      "var :  [ 1 23  3  4  5  6]\n",
      "copy :  [1 2 3 4 5 6]\n"
     ]
    }
   ],
   "source": [
    "## No changes in copy method\n",
    "\n",
    "import numpy as np\n",
    "var1 = np.array([1,2,3,4,5,6])\n",
    "x = var1.copy()\n",
    "\n",
    "var1[1] = 23\n",
    "\n",
    "print(\"var : \", var1)\n",
    "print(\"copy : \",x)"
   ]
  },
  {
   "cell_type": "markdown",
   "id": "d9c52767",
   "metadata": {},
   "source": [
    "view() method"
   ]
  },
  {
   "cell_type": "code",
   "execution_count": 10,
   "id": "cada33ea",
   "metadata": {},
   "outputs": [
    {
     "name": "stdout",
     "output_type": "stream",
     "text": [
      "var :  [1 2 3 4 5 6]\n",
      "view :  [1 2 3 4 5 6]\n"
     ]
    }
   ],
   "source": [
    "import numpy as np\n",
    "var1 = np.array([1,2,3,4,5,6])\n",
    "v = var1.view()\n",
    "\n",
    "print(\"var : \", var1)\n",
    "print(\"view : \",v)\n",
    "\n"
   ]
  },
  {
   "cell_type": "code",
   "execution_count": 11,
   "id": "6c15d283",
   "metadata": {},
   "outputs": [
    {
     "name": "stdout",
     "output_type": "stream",
     "text": [
      "var :  [ 1 23  3  4  5  6]\n",
      "view :  [ 1 23  3  4  5  6]\n"
     ]
    }
   ],
   "source": [
    "## change in view method\n",
    "\n",
    "import numpy as np\n",
    "var1 = np.array([1,2,3,4,5,6])\n",
    "v = var1.view()\n",
    "\n",
    "var1[1] = 23\n",
    "\n",
    "print(\"var : \", var1)\n",
    "print(\"view : \",v)\n",
    "\n"
   ]
  },
  {
   "cell_type": "markdown",
   "id": "dd228fec",
   "metadata": {},
   "source": []
  }
 ],
 "metadata": {
  "kernelspec": {
   "display_name": "Python 3",
   "language": "python",
   "name": "python3"
  },
  "language_info": {
   "codemirror_mode": {
    "name": "ipython",
    "version": 3
   },
   "file_extension": ".py",
   "mimetype": "text/x-python",
   "name": "python",
   "nbconvert_exporter": "python",
   "pygments_lexer": "ipython3",
   "version": "3.12.0"
  }
 },
 "nbformat": 4,
 "nbformat_minor": 5
}
