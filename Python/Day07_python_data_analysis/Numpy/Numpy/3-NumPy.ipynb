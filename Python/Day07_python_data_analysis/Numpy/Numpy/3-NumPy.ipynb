{
 "cells": [
  {
   "cell_type": "markdown",
   "id": "6968ebb1",
   "metadata": {},
   "source": [
    "## How to create NumPy array"
   ]
  },
  {
   "cell_type": "markdown",
   "id": "b0bbf09c",
   "metadata": {},
   "source": [
    "To create a NumPy array you can use the function np.array()"
   ]
  },
  {
   "cell_type": "code",
   "execution_count": 7,
   "id": "39fb58fa",
   "metadata": {},
   "outputs": [
    {
     "name": "stdout",
     "output_type": "stream",
     "text": [
      "[1 2 3 4 5]\n",
      "<class 'numpy.ndarray'>\n",
      "1\n"
     ]
    }
   ],
   "source": [
    "import numpy as np\n",
    "x = np.array([1, 2, 3, 4, 5])\n",
    "\n",
    "y = np.array(x)\n",
    "print(y)\n",
    "print(type(y))\n",
    "print(x.ndim)"
   ]
  },
  {
   "cell_type": "code",
   "execution_count": 3,
   "id": "f7c97259",
   "metadata": {},
   "outputs": [
    {
     "name": "stdout",
     "output_type": "stream",
     "text": [
      "[1 2 3 4 5]\n"
     ]
    }
   ],
   "source": [
    "x = np.array([1, 2, 3, 4, 5])\n",
    "print(x)"
   ]
  },
  {
   "cell_type": "code",
   "execution_count": 6,
   "id": "78cba38f",
   "metadata": {},
   "outputs": [
    {
     "name": "stdout",
     "output_type": "stream",
     "text": [
      "[1 2 3 4]\n"
     ]
    }
   ],
   "source": [
    "l=[]\n",
    "\n",
    "for i in range(1, 5):\n",
    "    int_1 = int(input(\"Enter any number : \"))\n",
    "    l.append(int_1)\n",
    "    \n",
    "print(np.array(l))"
   ]
  },
  {
   "cell_type": "markdown",
   "id": "35047d62",
   "metadata": {},
   "source": [
    "ndim :- ndim method check the array is one dimension or two dimension"
   ]
  },
  {
   "cell_type": "code",
   "execution_count": 10,
   "id": "ac658306",
   "metadata": {},
   "outputs": [
    {
     "name": "stdout",
     "output_type": "stream",
     "text": [
      "[1 2 3 4 5]\n",
      "<class 'numpy.ndarray'>\n",
      "1\n"
     ]
    }
   ],
   "source": [
    "import numpy as np\n",
    "x = np.array([1, 2, 3, 4, 5])\n",
    "\n",
    "y = np.array(x)\n",
    "print(y)\n",
    "print(type(y))\n",
    "print(x.ndim)"
   ]
  },
  {
   "cell_type": "markdown",
   "id": "d6a6bb67",
   "metadata": {},
   "source": [
    "1-D Array\n",
    "\n",
    "2-D Array\n",
    "\n",
    "3-D Array\n",
    "\n",
    "Multidimensional Array"
   ]
  },
  {
   "cell_type": "markdown",
   "id": "eecd51e4",
   "metadata": {},
   "source": [
    "2-D Array"
   ]
  },
  {
   "cell_type": "code",
   "execution_count": 13,
   "id": "d688e4a5",
   "metadata": {},
   "outputs": [
    {
     "name": "stdout",
     "output_type": "stream",
     "text": [
      "[[1 2 3 4]\n",
      " [5 6 7 8]]\n",
      "The array is 2 dimension\n"
     ]
    }
   ],
   "source": [
    "arr2 = np.array([[1,2,3,4],[5,6,7,8]])\n",
    "\n",
    "x = np.array(arr2)\n",
    "print(x)\n",
    "print(f\"The array is {x.ndim} dimension\")"
   ]
  },
  {
   "cell_type": "code",
   "execution_count": 16,
   "id": "cc515baa",
   "metadata": {},
   "outputs": [
    {
     "name": "stdout",
     "output_type": "stream",
     "text": [
      "[[1 2 3 4]\n",
      " [5 6 7 8]]\n",
      "2\n"
     ]
    }
   ],
   "source": [
    "arr2 = np.array([[1,2,3,4],[5,6,7,8]])\n",
    "print(arr2)\n",
    "print(arr2.ndim)"
   ]
  },
  {
   "cell_type": "markdown",
   "id": "174d2944",
   "metadata": {},
   "source": [
    "3-D Array"
   ]
  },
  {
   "cell_type": "code",
   "execution_count": 22,
   "id": "a7bc7c93",
   "metadata": {},
   "outputs": [
    {
     "name": "stdout",
     "output_type": "stream",
     "text": [
      "[[[1 2 3]\n",
      "  [4 5 6]\n",
      "  [7 8 9]]]\n",
      "3\n"
     ]
    }
   ],
   "source": [
    "arr3 = np.array([[[1,2,3],[4,5,6],[7,8,9]]])\n",
    "\n",
    "y = np.array(arr3)\n",
    "print(y)\n",
    "print(y.ndim)"
   ]
  },
  {
   "cell_type": "markdown",
   "id": "951b3a5a",
   "metadata": {},
   "source": [
    "How to create multimdimension array"
   ]
  },
  {
   "cell_type": "code",
   "execution_count": 26,
   "id": "81faaad4",
   "metadata": {},
   "outputs": [
    {
     "name": "stdout",
     "output_type": "stream",
     "text": [
      "[[[[[[[[[[1 2 3 4 5]]]]]]]]]]\n",
      "10\n"
     ]
    }
   ],
   "source": [
    "md = np.array([1,2,3,4,5], ndmin=10)\n",
    "print(md)\n",
    "print(md.ndim)"
   ]
  }
 ],
 "metadata": {
  "kernelspec": {
   "display_name": "Python 3",
   "language": "python",
   "name": "python3"
  },
  "language_info": {
   "codemirror_mode": {
    "name": "ipython",
    "version": 3
   },
   "file_extension": ".py",
   "mimetype": "text/x-python",
   "name": "python",
   "nbconvert_exporter": "python",
   "pygments_lexer": "ipython3",
   "version": "3.12.0"
  }
 },
 "nbformat": 4,
 "nbformat_minor": 5
}
