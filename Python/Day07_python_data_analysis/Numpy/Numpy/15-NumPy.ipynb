{
 "cells": [
  {
   "cell_type": "markdown",
   "id": "1d4deab7",
   "metadata": {},
   "source": [
    "# What are NumPy array function"
   ]
  },
  {
   "cell_type": "markdown",
   "id": "94d52ea6",
   "metadata": {},
   "source": [
    "Search array :- Search array an array for a certain value, and return the indexes that gets a match"
   ]
  },
  {
   "cell_type": "markdown",
   "id": "a328ae5e",
   "metadata": {},
   "source": [
    "search"
   ]
  },
  {
   "cell_type": "code",
   "execution_count": null,
   "id": "414c5404",
   "metadata": {},
   "outputs": [
    {
     "name": "stdout",
     "output_type": "stream",
     "text": [
      "(array([2]),)\n"
     ]
    }
   ],
   "source": [
    "import numpy as np\n",
    "var = np.array([1,2,3,4,5])\n",
    "x = np.where(var == 3)\n",
    "print(x)"
   ]
  },
  {
   "cell_type": "code",
   "execution_count": null,
   "id": "25037d04",
   "metadata": {},
   "outputs": [
    {
     "name": "stdout",
     "output_type": "stream",
     "text": [
      "(array([1, 3, 6]),)\n"
     ]
    }
   ],
   "source": [
    "import numpy as np\n",
    "var = np.array([1,2,3,2,4,5,2])\n",
    "x = np.where(var == 2)\n",
    "print(x)"
   ]
  },
  {
   "cell_type": "code",
   "execution_count": 6,
   "id": "10bab411",
   "metadata": {},
   "outputs": [
    {
     "name": "stdout",
     "output_type": "stream",
     "text": [
      "(array([0, 2, 4, 6]),)\n"
     ]
    }
   ],
   "source": [
    "## division\n",
    "import numpy as np\n",
    "var = np.array([2,3,4,5,6,7,8])\n",
    "x = np.where((var%2==0))\n",
    "print(x)\n"
   ]
  },
  {
   "cell_type": "markdown",
   "id": "f3bbad28",
   "metadata": {},
   "source": [
    "Search Sorted Array :- which perform binary search in the array and return the indexes where the specified value would be inserted to maintain the search order"
   ]
  },
  {
   "cell_type": "code",
   "execution_count": null,
   "id": "a547619f",
   "metadata": {},
   "outputs": [
    {
     "name": "stdout",
     "output_type": "stream",
     "text": [
      "4\n"
     ]
    }
   ],
   "source": [
    "## it show you where to insert the value.\n",
    "var = np.array([1,2,3,4,6])\n",
    "x = np.searchsorted(var, 5)\n",
    "print(x)"
   ]
  },
  {
   "cell_type": "code",
   "execution_count": 17,
   "id": "eb3cd696",
   "metadata": {},
   "outputs": [
    {
     "name": "stdout",
     "output_type": "stream",
     "text": [
      "4\n"
     ]
    }
   ],
   "source": [
    "## it show you where to insert the value.\n",
    "var = np.array([1,2,3,4,6,7,8,9,2,3])\n",
    "x = np.searchsorted(var, 5,side=\"right\")\n",
    "print(x)"
   ]
  },
  {
   "cell_type": "markdown",
   "id": "b1e0133e",
   "metadata": {},
   "source": [
    "sort() :- sorting the number."
   ]
  },
  {
   "cell_type": "code",
   "execution_count": 21,
   "id": "752959ec",
   "metadata": {},
   "outputs": [
    {
     "name": "stdout",
     "output_type": "stream",
     "text": [
      "[1 2 3 4 5 6 9]\n"
     ]
    }
   ],
   "source": [
    "var1 = np.array([9,3,4,6,1,5,2])\n",
    "\n",
    "x = np.sort(var1)\n",
    "print(x)"
   ]
  },
  {
   "cell_type": "code",
   "execution_count": 23,
   "id": "dcfb1978",
   "metadata": {},
   "outputs": [
    {
     "name": "stdout",
     "output_type": "stream",
     "text": [
      "['a' 'b' 'd' 's' 'v']\n"
     ]
    }
   ],
   "source": [
    "var1 = np.array([\"a\",\"s\",\"d\",\"v\",\"b\"])\n",
    "\n",
    "print(np.sort(var1))"
   ]
  },
  {
   "cell_type": "code",
   "execution_count": 26,
   "id": "bf5d4b5f",
   "metadata": {},
   "outputs": [
    {
     "name": "stdout",
     "output_type": "stream",
     "text": [
      "[[1 2 5]\n",
      " [3 6 7]\n",
      " [4 8 9]]\n"
     ]
    }
   ],
   "source": [
    "var1 = np.array([[1,5,2],[3,7,6],[4,9,8]])\n",
    "\n",
    "x = np.sort(var1)\n",
    "print(x)"
   ]
  },
  {
   "cell_type": "markdown",
   "id": "d31524fa",
   "metadata": {},
   "source": [
    "Filter array() :- getting some element out of an existing array and creating a new array out of them."
   ]
  },
  {
   "cell_type": "code",
   "execution_count": 33,
   "id": "59109cb5",
   "metadata": {},
   "outputs": [
    {
     "name": "stdout",
     "output_type": "stream",
     "text": [
      "['a' 'f']\n"
     ]
    }
   ],
   "source": [
    "var1 = np.array([\"a\",\"s\",\"d\",\"f\"])\n",
    "\n",
    "x = [True,False,False,True]\n",
    "new_a = var1[x]\n",
    "print(new_a)"
   ]
  },
  {
   "cell_type": "code",
   "execution_count": null,
   "id": "7066da91",
   "metadata": {},
   "outputs": [],
   "source": []
  }
 ],
 "metadata": {
  "kernelspec": {
   "display_name": "Python 3",
   "language": "python",
   "name": "python3"
  },
  "language_info": {
   "codemirror_mode": {
    "name": "ipython",
    "version": 3
   },
   "file_extension": ".py",
   "mimetype": "text/x-python",
   "name": "python",
   "nbconvert_exporter": "python",
   "pygments_lexer": "ipython3",
   "version": "3.12.0"
  }
 },
 "nbformat": 4,
 "nbformat_minor": 5
}
