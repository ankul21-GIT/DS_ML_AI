{
 "cells": [
  {
   "cell_type": "markdown",
   "id": "4817f99f",
   "metadata": {},
   "source": [
    "## Insert and Delete in NumPy array"
   ]
  },
  {
   "cell_type": "markdown",
   "id": "a9d1c187",
   "metadata": {},
   "source": [
    "insert() :- insert method into an element"
   ]
  },
  {
   "cell_type": "code",
   "execution_count": 11,
   "id": "5b41b4a9",
   "metadata": {},
   "outputs": [
    {
     "name": "stdout",
     "output_type": "stream",
     "text": [
      "[1 2 3 4 5]\n",
      "[ 1  2 44  3  4  5]\n"
     ]
    }
   ],
   "source": [
    "import numpy as np\n",
    "var = np.array([1,2,3,4,5])\n",
    "\n",
    "print(var)\n",
    "\n",
    "x = np.insert(var,2,44)\n",
    "print(x)"
   ]
  },
  {
   "cell_type": "code",
   "execution_count": 14,
   "id": "f19365b6",
   "metadata": {},
   "outputs": [
    {
     "name": "stdout",
     "output_type": "stream",
     "text": [
      "[1 2 3 4 5]\n",
      "[ 1  2 44  3  4 44  5]\n"
     ]
    }
   ],
   "source": [
    "import numpy as np\n",
    "var = np.array([1,2,3,4,5])\n",
    "\n",
    "print(var)\n",
    "\n",
    "x = np.insert(var,(2, 4), 44)\n",
    "print(x)"
   ]
  },
  {
   "cell_type": "code",
   "execution_count": 21,
   "id": "b43ba6d3",
   "metadata": {},
   "outputs": [
    {
     "name": "stdout",
     "output_type": "stream",
     "text": [
      "[[1 2 3]\n",
      " [4 5 6]]\n",
      "[[1 2 3]\n",
      " [4 5 6]\n",
      " [6 6 6]]\n"
     ]
    }
   ],
   "source": [
    "import numpy as np\n",
    "var = np.array([[1,2,3],[4,5,6]])\n",
    "\n",
    "print(var)\n",
    "\n",
    "x = np.insert(var,2,6,axis=0)\n",
    "print(x)"
   ]
  },
  {
   "cell_type": "code",
   "execution_count": 22,
   "id": "f7f1966e",
   "metadata": {},
   "outputs": [
    {
     "name": "stdout",
     "output_type": "stream",
     "text": [
      "[[1 2 3]\n",
      " [4 5 6]]\n",
      "[[1 2 6 3]\n",
      " [4 5 6 6]]\n"
     ]
    }
   ],
   "source": [
    "import numpy as np\n",
    "var = np.array([[1,2,3],[4,5,6]])\n",
    "\n",
    "print(var)\n",
    "\n",
    "x = np.insert(var,2,6,axis=1)\n",
    "print(x)"
   ]
  },
  {
   "cell_type": "code",
   "execution_count": 24,
   "id": "6babe2eb",
   "metadata": {},
   "outputs": [
    {
     "name": "stdout",
     "output_type": "stream",
     "text": [
      "[[1 2 3]\n",
      " [4 5 6]]\n",
      "[[1 2 9 3]\n",
      " [4 5 8 6]]\n"
     ]
    }
   ],
   "source": [
    "## how to give a multiple data\n",
    "\n",
    "import numpy as np\n",
    "var = np.array([[1,2,3],[4,5,6]])\n",
    "\n",
    "print(var)\n",
    "\n",
    "x = np.insert(var,2,[9,8],axis=1)\n",
    "print(x)"
   ]
  },
  {
   "cell_type": "code",
   "execution_count": 26,
   "id": "70de55d2",
   "metadata": {},
   "outputs": [
    {
     "name": "stdout",
     "output_type": "stream",
     "text": [
      "[[1 2 3]\n",
      " [4 5 6]]\n",
      "[[1 2 3]\n",
      " [4 5 6]\n",
      " [9 8 1]]\n"
     ]
    }
   ],
   "source": [
    "## how to give a multiple data\n",
    "\n",
    "import numpy as np\n",
    "var = np.array([[1,2,3],[4,5,6]])\n",
    "\n",
    "print(var)\n",
    "\n",
    "x = np.insert(var,2,[9,8,1],axis=0)\n",
    "print(x)"
   ]
  },
  {
   "cell_type": "markdown",
   "id": "e871b8d0",
   "metadata": {},
   "source": [
    "append() :- append method add element into the last"
   ]
  },
  {
   "cell_type": "code",
   "execution_count": 27,
   "id": "3d417065",
   "metadata": {},
   "outputs": [
    {
     "name": "stdout",
     "output_type": "stream",
     "text": [
      "[1 2 3 4 5]\n",
      "[ 1  2  3  4  5 88]\n"
     ]
    }
   ],
   "source": [
    "import numpy as np\n",
    "var = np.array([1,2,3,4,5])\n",
    "\n",
    "print(var)\n",
    "\n",
    "x = np.append(var, 88)\n",
    "print(x)"
   ]
  },
  {
   "cell_type": "code",
   "execution_count": 29,
   "id": "efa4dccc",
   "metadata": {},
   "outputs": [
    {
     "name": "stdout",
     "output_type": "stream",
     "text": [
      "[[1 2 3]\n",
      " [4 5 6]]\n",
      "[[1 2 3]\n",
      " [4 5 6]\n",
      " [7 8 9]]\n"
     ]
    }
   ],
   "source": [
    "import numpy as np\n",
    "var = np.array([[1,2,3],[4,5,6]])\n",
    "\n",
    "print(var)\n",
    "\n",
    "x = np.append(var, [[7,8,9]],axis=0)\n",
    "print(x)"
   ]
  },
  {
   "cell_type": "markdown",
   "id": "92f49e47",
   "metadata": {},
   "source": [
    "delete() :- how to delete the data"
   ]
  },
  {
   "cell_type": "code",
   "execution_count": 34,
   "id": "370caefe",
   "metadata": {},
   "outputs": [
    {
     "name": "stdout",
     "output_type": "stream",
     "text": [
      "[1 2 3 4 5]\n",
      "[1 2 3 5]\n"
     ]
    }
   ],
   "source": [
    "import numpy as np\n",
    "var = np.array([1,2,3,4,5])\n",
    "\n",
    "print(var)\n",
    "\n",
    "x = np.delete(var,3)\n",
    "print(x)"
   ]
  },
  {
   "cell_type": "markdown",
   "id": "d1022c85",
   "metadata": {},
   "source": []
  }
 ],
 "metadata": {
  "kernelspec": {
   "display_name": "Python 3",
   "language": "python",
   "name": "python3"
  },
  "language_info": {
   "codemirror_mode": {
    "name": "ipython",
    "version": 3
   },
   "file_extension": ".py",
   "mimetype": "text/x-python",
   "name": "python",
   "nbconvert_exporter": "python",
   "pygments_lexer": "ipython3",
   "version": "3.12.0"
  }
 },
 "nbformat": 4,
 "nbformat_minor": 5
}
