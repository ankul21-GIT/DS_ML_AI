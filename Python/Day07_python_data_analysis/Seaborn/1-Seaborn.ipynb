{
 "cells": [
  {
   "cell_type": "markdown",
   "id": "2508d11d",
   "metadata": {},
   "source": [
    "What is seaborn?"
   ]
  },
  {
   "cell_type": "markdown",
   "id": "d4c9461d",
   "metadata": {},
   "source": [
    "Seaborn is data visualization library built on top of matplotlib and closely integrated with pandas data structure in python."
   ]
  },
  {
   "cell_type": "markdown",
   "id": "5fbe816e",
   "metadata": {},
   "source": [
    "Why we use seaborn?\n",
    "\n",
    "Simplifies Complex Visualizations\n",
    "- You can create plots like heatmaps, violin plots, pair plots, etc., with just one line of code.\n",
    "\n",
    "Beautiful Default Styles\n",
    "- It automatically applies better color schemes and layouts than plain Matplotlib.\n",
    "\n",
    "Works Directly with DataFrames\n",
    "- You can use column names directly instead of managing x/y manually."
   ]
  },
  {
   "cell_type": "markdown",
   "id": "6d09f969",
   "metadata": {},
   "source": []
  }
 ],
 "metadata": {
  "kernelspec": {
   "display_name": "Python 3",
   "language": "python",
   "name": "python3"
  },
  "language_info": {
   "name": "python",
   "version": "3.12.0"
  }
 },
 "nbformat": 4,
 "nbformat_minor": 5
}
