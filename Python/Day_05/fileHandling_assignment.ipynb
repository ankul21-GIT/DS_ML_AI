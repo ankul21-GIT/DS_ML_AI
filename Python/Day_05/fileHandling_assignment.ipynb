{
 "cells": [
  {
   "cell_type": "markdown",
   "id": "e4297e67",
   "metadata": {},
   "source": [
    "Module: File Handling Assignments\n",
    "\n",
    "Lesson: File Handling and Operations\n",
    "\n",
    "Assignment 1: Reading a File\n",
    "\n",
    "Write a function that reads the contents of a file named sample.txt and prints each line."
   ]
  },
  {
   "cell_type": "code",
   "execution_count": 2,
   "id": "ec99cbd8",
   "metadata": {},
   "outputs": [],
   "source": [
    "def read_file(filename):\n",
    "    with open(filename, 'r') as file:\n",
    "        for line in file:\n",
    "            print(line.strip())\n",
    "\n",
    "# Test\n",
    "# read_file('sample.txt')"
   ]
  },
  {
   "cell_type": "markdown",
   "id": "5e727b40",
   "metadata": {},
   "source": [
    "Assignment 2: Writing to a File\n",
    "\n",
    "Write a function that writes a list of strings to a file named output.txt, with each string on a new line."
   ]
  },
  {
   "cell_type": "code",
   "execution_count": 3,
   "id": "10eff078",
   "metadata": {},
   "outputs": [],
   "source": [
    "def write_file(lines, filename):\n",
    "    with open(filename, 'w') as file:\n",
    "        for line in lines:\n",
    "            file.write(line + '\\n')\n",
    "\n",
    "# Test\n",
    "# write_file(['Hello', 'World'], 'output.txt')"
   ]
  },
  {
   "cell_type": "markdown",
   "id": "6fb53d2d",
   "metadata": {},
   "source": [
    "Assignment 3: Copying a File\n",
    "\n",
    "Write a function that copies the contents of a file named source.txt to a new file named destination.txt."
   ]
  },
  {
   "cell_type": "code",
   "execution_count": 4,
   "id": "8a09939b",
   "metadata": {},
   "outputs": [],
   "source": [
    "def copy_file(source, destination):\n",
    "    with open(source, 'r') as src:\n",
    "        with open(destination, 'w') as dest:\n",
    "            dest.write(src.read())\n",
    "\n",
    "# Test\n",
    "# copy_file('source.txt', 'destination.txt')"
   ]
  },
  {
   "cell_type": "markdown",
   "id": "4adf6b06",
   "metadata": {},
   "source": [
    "Assignment 4: Appending to a File\n",
    "\n",
    "Write a function that appends a given string to the end of a file named log.txt."
   ]
  },
  {
   "cell_type": "code",
   "execution_count": 5,
   "id": "769cc908",
   "metadata": {},
   "outputs": [],
   "source": [
    "def append_to_file(text, filename):\n",
    "    with open(filename, 'a') as file:\n",
    "        file.write(text + '\\n')\n",
    "\n",
    "# Test\n",
    "# append_to_file('This is a new log entry.', 'log.txt')"
   ]
  },
  {
   "cell_type": "markdown",
   "id": "173f0c26",
   "metadata": {},
   "source": [
    "Assignment 5: Counting Words in a File\n",
    "\n",
    "Write a function that reads the contents of a file named document.txt and returns the number of words in the file."
   ]
  },
  {
   "cell_type": "code",
   "execution_count": 6,
   "id": "e3cdc933",
   "metadata": {},
   "outputs": [],
   "source": [
    "def count_words(filename):\n",
    "    with open(filename, 'r') as file:\n",
    "        text = file.read()\n",
    "        words = text.split()\n",
    "        return len(words)\n",
    "\n",
    "# Test\n",
    "# print(count_words('document.txt'))"
   ]
  },
  {
   "cell_type": "markdown",
   "id": "e8db5136",
   "metadata": {},
   "source": [
    "Assignment 6: Finding and Replacing Text\n",
    "\n",
    "Write a function that finds and replaces all occurrences of a given word in a file named data.txt with another word."
   ]
  },
  {
   "cell_type": "code",
   "execution_count": 7,
   "id": "e395e38e",
   "metadata": {},
   "outputs": [],
   "source": [
    "def find_and_replace(filename, old_word, new_word):\n",
    "    with open(filename, 'r') as file:\n",
    "        text = file.read()\n",
    "    new_text = text.replace(old_word, new_word)\n",
    "    with open(filename, 'w') as file:\n",
    "        file.write(new_text)\n",
    "\n",
    "# Test\n",
    "# find_and_replace('data.txt', 'old', 'new')"
   ]
  },
  {
   "cell_type": "markdown",
   "id": "fe34b54c",
   "metadata": {},
   "source": [
    "Assignment 7: Reading a File in Reverse\n",
    "\n",
    "Write a function that reads the contents of a file named reverse.txt and prints each line in reverse order."
   ]
  },
  {
   "cell_type": "code",
   "execution_count": 8,
   "id": "fdb76b73",
   "metadata": {},
   "outputs": [],
   "source": [
    "def read_reverse(filename):\n",
    "    with open(filename, 'r') as file:\n",
    "        lines = file.readlines()\n",
    "    for line in reversed(lines):\n",
    "        print(line.strip())\n",
    "\n",
    "# Test\n",
    "# read_reverse('reverse.txt')"
   ]
  },
  {
   "cell_type": "markdown",
   "id": "c57c938a",
   "metadata": {},
   "source": [
    "Assignment 8: Counting Lines, Words, and Characters\n",
    "\n",
    "Write a function that reads the contents of a file named stats.txt and returns the number of lines, words, and characters in the file."
   ]
  },
  {
   "cell_type": "code",
   "execution_count": 9,
   "id": "b4d2cae3",
   "metadata": {},
   "outputs": [],
   "source": [
    "def count_lwc(filename):\n",
    "    with open(filename, 'r') as file:\n",
    "        lines = file.readlines()\n",
    "        words = sum(len(line.split()) for line in lines)\n",
    "        characters = sum(len(line) for line in lines)\n",
    "    return len(lines), words, characters\n",
    "\n",
    "# Test\n",
    "# print(count_lwc('stats.txt'))"
   ]
  },
  {
   "cell_type": "markdown",
   "id": "a14dded7",
   "metadata": {},
   "source": [
    "Assignment 9: Merging Multiple Files\n",
    "\n",
    "Write a function that merges the contents of multiple files into a single file named merged.txt."
   ]
  },
  {
   "cell_type": "code",
   "execution_count": 10,
   "id": "5e24b30e",
   "metadata": {},
   "outputs": [],
   "source": [
    "def merge_files(file_list, output_file):\n",
    "    with open(output_file, 'w') as outfile:\n",
    "        for fname in file_list:\n",
    "            with open(fname, 'r') as infile:\n",
    "                outfile.write(infile.read() + '\\n')\n",
    "\n",
    "# Test\n",
    "# merge_files(['file1.txt', 'file2.txt'], 'merged.txt')"
   ]
  },
  {
   "cell_type": "markdown",
   "id": "1175b6b6",
   "metadata": {},
   "source": [
    "\n",
    "Assignment 10: Splitting a Large File\n",
    "\n",
    "Write a function that splits a large file named large.txt into smaller files of 100 lines each."
   ]
  },
  {
   "cell_type": "code",
   "execution_count": 11,
   "id": "d2cf70b2",
   "metadata": {},
   "outputs": [],
   "source": [
    "def split_file(filename, lines_per_file):\n",
    "    with open(filename, 'r') as file:\n",
    "        lines = file.readlines()\n",
    "    for i in range(0, len(lines), lines_per_file):\n",
    "        with open(f'{filename}_part{i//lines_per_file + 1}.txt', 'w') as part_file:\n",
    "            part_file.writelines(lines[i:i + lines_per_file])\n",
    "\n",
    "# Test\n",
    "# split_file('large.txt', 100)"
   ]
  },
  {
   "cell_type": "markdown",
   "id": "2e6894e1",
   "metadata": {},
   "source": [
    "Assignment 11: Creating a Log File\n",
    "\n",
    "Write a function that creates a log file named activity.log and writes log messages with timestamps."
   ]
  },
  {
   "cell_type": "code",
   "execution_count": 12,
   "id": "6d5ec2d0",
   "metadata": {},
   "outputs": [],
   "source": [
    "import datetime\n",
    "\n",
    "def log_message(message, filename='activity.log'):\n",
    "    timestamp = datetime.datetime.now().isoformat()\n",
    "    with open(filename, 'a') as file:\n",
    "        file.write(f'[{timestamp}] {message}\\n')\n",
    "\n",
    "# Test\n",
    "# log_message('This is a log message.')"
   ]
  },
  {
   "cell_type": "markdown",
   "id": "cb0c6954",
   "metadata": {},
   "source": [
    "Assignment 12: Binary File Operations\n",
    "\n",
    "Write a function that reads a binary file named image.bin and writes its contents to another binary file named copy_image.bin."
   ]
  },
  {
   "cell_type": "code",
   "execution_count": 13,
   "id": "378d1d70",
   "metadata": {},
   "outputs": [],
   "source": [
    "def copy_binary_file(source, destination):\n",
    "    with open(source, 'rb') as src:\n",
    "        with open(destination, 'wb') as dest:\n",
    "            dest.write(src.read())\n",
    "\n",
    "# Test\n",
    "# copy_binary_file('image.bin', 'copy_image.bin')"
   ]
  },
  {
   "cell_type": "markdown",
   "id": "c285781e",
   "metadata": {},
   "source": [
    "Assignment 13: CSV File Operations\n",
    "\n",
    "Write a function that reads a CSV file named data.csv and prints its contents as a list of dictionaries."
   ]
  },
  {
   "cell_type": "code",
   "execution_count": 14,
   "id": "ea63b9d8",
   "metadata": {},
   "outputs": [],
   "source": [
    "import csv\n",
    "\n",
    "def read_csv_as_dicts(filename):\n",
    "    with open(filename, 'r') as file:\n",
    "        reader = csv.DictReader(file)\n",
    "        return list(reader)\n",
    "\n",
    "# Test\n",
    "# print(read_csv_as_dicts('data.csv'))"
   ]
  },
  {
   "cell_type": "markdown",
   "id": "5f7e81fe",
   "metadata": {},
   "source": [
    "Assignment 14: JSON File Operations\n",
    "\n",
    "Write a function that reads a JSON file named data.json and prints its contents as a Python dictionary."
   ]
  },
  {
   "cell_type": "code",
   "execution_count": 15,
   "id": "a5b339d2",
   "metadata": {},
   "outputs": [],
   "source": [
    "import json\n",
    "\n",
    "def read_json(filename):\n",
    "    with open(filename, 'r') as file:\n",
    "        data = json.load(file)\n",
    "        return data\n",
    "\n",
    "# Test\n",
    "# print(read_json('data.json'))"
   ]
  },
  {
   "cell_type": "markdown",
   "id": "06069e86",
   "metadata": {},
   "source": [
    "Assignment 15: File Permission Handling\n",
    "\n",
    "Write a function that attempts to read a file named protected.txt and handles any permission errors gracefully by printing an error message."
   ]
  },
  {
   "cell_type": "code",
   "execution_count": 16,
   "id": "64d1d146",
   "metadata": {},
   "outputs": [],
   "source": [
    "def read_protected_file(filename):\n",
    "    try:\n",
    "        with open(filename, 'r') as file:\n",
    "            print(file.read())\n",
    "    except PermissionError as e:\n",
    "        print(f\"Permission error: {e}\")\n",
    "\n",
    "# Test\n",
    "# read_protected_file('protected.txt')"
   ]
  }
 ],
 "metadata": {
  "kernelspec": {
   "display_name": "Python 3",
   "language": "python",
   "name": "python3"
  },
  "language_info": {
   "codemirror_mode": {
    "name": "ipython",
    "version": 3
   },
   "file_extension": ".py",
   "mimetype": "text/x-python",
   "name": "python",
   "nbconvert_exporter": "python",
   "pygments_lexer": "ipython3",
   "version": "3.12.0"
  }
 },
 "nbformat": 4,
 "nbformat_minor": 5
}
