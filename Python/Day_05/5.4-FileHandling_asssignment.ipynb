{
 "cells": [
  {
   "cell_type": "markdown",
   "id": "f8d6987e",
   "metadata": {},
   "source": [
    "Module: File Handling Assignments\n",
    "\n",
    "Lesson: File Handling and Operations"
   ]
  },
  {
   "cell_type": "markdown",
   "id": "ab772127",
   "metadata": {},
   "source": [
    "Assignment 1: Reading a File\n",
    "\n",
    "Write a function that reads the contents of a file named sample.txt and prints each line."
   ]
  },
  {
   "cell_type": "code",
   "execution_count": 2,
   "id": "03728a4b",
   "metadata": {},
   "outputs": [],
   "source": [
    "def read_file(filename):\n",
    "    with open(filename, 'r') as file:\n",
    "        for line in file:\n",
    "            print(line.strip())\n",
    "\n",
    "# Test\n",
    "# read_file('sample.txt')"
   ]
  },
  {
   "cell_type": "markdown",
   "id": "b0a5f1ef",
   "metadata": {},
   "source": [
    "Assignment 2: Writing to a File\n",
    "\n",
    "Write a function that writes a list of strings to a file named output.txt, with each string on a new line."
   ]
  },
  {
   "cell_type": "code",
   "execution_count": 3,
   "id": "02e7ab22",
   "metadata": {},
   "outputs": [],
   "source": [
    "def write_file(lines, filename):\n",
    "    with open(filename, 'w') as file:\n",
    "        for line in lines:\n",
    "            file.write(line + '\\n')\n",
    "\n",
    "# Test\n",
    "# write_file(['Hello', 'World'], 'output.txt')"
   ]
  },
  {
   "cell_type": "markdown",
   "id": "070310c1",
   "metadata": {},
   "source": [
    "Assignment 3: Copying a File\n",
    "\n",
    "Write a function that copies the contents of a file named source.txt to a new file named destination.txt."
   ]
  },
  {
   "cell_type": "code",
   "execution_count": 4,
   "id": "e906da4e",
   "metadata": {},
   "outputs": [],
   "source": [
    "def copy_file(source, destination):\n",
    "    with open(source, 'r') as src:\n",
    "        with open(destination, 'w') as dest:\n",
    "            dest.write(src.read())\n",
    "\n",
    "# Test\n",
    "# copy_file('source.txt', 'destination.txt')"
   ]
  },
  {
   "cell_type": "markdown",
   "id": "1fe21ad2",
   "metadata": {},
   "source": [
    "Assignment 4: Appending to a File\n",
    "\n",
    "Write a function that appends a given string to the end of a file named log.txt."
   ]
  },
  {
   "cell_type": "code",
   "execution_count": 5,
   "id": "c558dc4f",
   "metadata": {},
   "outputs": [],
   "source": [
    "def append_to_file(text, filename):\n",
    "    with open(filename, 'a') as file:\n",
    "        file.write(text + '\\n')\n",
    "\n",
    "# Test\n",
    "# append_to_file('This is a new log entry.', 'log.txt')"
   ]
  },
  {
   "cell_type": "markdown",
   "id": "64e62898",
   "metadata": {},
   "source": [
    "Assignment 5: Counting Words in a File\n",
    "\n",
    "Write a function that reads the contents of a file named document.txt and returns the number of words in the file."
   ]
  },
  {
   "cell_type": "code",
   "execution_count": 6,
   "id": "9b52ce62",
   "metadata": {},
   "outputs": [],
   "source": [
    "def count_words(filename):\n",
    "    with open(filename, 'r') as file:\n",
    "        text = file.read()\n",
    "        words = text.split()\n",
    "        return len(words)\n",
    "\n",
    "# Test\n",
    "# print(count_words('document.txt'))"
   ]
  },
  {
   "cell_type": "markdown",
   "id": "20e40005",
   "metadata": {},
   "source": [
    "Assignment 6: Finding and Replacing Text\n",
    "\n",
    "Write a function that finds and replaces all occurrences of a given word in a file named data.txt with another word."
   ]
  },
  {
   "cell_type": "code",
   "execution_count": 7,
   "id": "305b019c",
   "metadata": {},
   "outputs": [],
   "source": [
    "def find_and_replace(filename, old_word, new_word):\n",
    "    with open(filename, 'r') as file:\n",
    "        text = file.read()\n",
    "    new_text = text.replace(old_word, new_word)\n",
    "    with open(filename, 'w') as file:\n",
    "        file.write(new_text)\n",
    "\n",
    "# Test\n",
    "# find_and_replace('data.txt', 'old', 'new')def find_and_replace(filename, old_word, new_word):\n",
    "    with open(filename, 'r') as file:\n",
    "        text = file.read()\n",
    "    new_text = text.replace(old_word, new_word)\n",
    "    with open(filename, 'w') as file:\n",
    "        file.write(new_text)\n",
    "\n",
    "# Test\n",
    "# find_and_replace('data.txt', 'old', 'new')"
   ]
  },
  {
   "cell_type": "markdown",
   "id": "518dc4d0",
   "metadata": {},
   "source": [
    "Assignment 7: Reading a File in Reverse\n",
    "\n",
    "Write a function that reads the contents of a file named reverse.txt and prints each line in reverse order."
   ]
  },
  {
   "cell_type": "code",
   "execution_count": 8,
   "id": "4ebdba7a",
   "metadata": {},
   "outputs": [],
   "source": [
    "def read_reverse(filename):\n",
    "    with open(filename, 'r') as file:\n",
    "        lines = file.readlines()\n",
    "    for line in reversed(lines):\n",
    "        print(line.strip())\n",
    "\n",
    "# Test\n",
    "# read_reverse('reverse.txt')"
   ]
  },
  {
   "cell_type": "markdown",
   "id": "df2164cb",
   "metadata": {},
   "source": [
    "Assignment 8: Counting Lines, Words, and Characters\n",
    "\n",
    "Write a function that reads the contents of a file named stats.txt and returns the number of lines, words, and characters in the file."
   ]
  },
  {
   "cell_type": "code",
   "execution_count": 9,
   "id": "36c04da5",
   "metadata": {},
   "outputs": [],
   "source": [
    "def count_lwc(filename):\n",
    "    with open(filename, 'r') as file:\n",
    "        lines = file.readlines()\n",
    "        words = sum(len(line.split()) for line in lines)\n",
    "        characters = sum(len(line) for line in lines)\n",
    "    return len(lines), words, characters\n",
    "\n",
    "# Test\n",
    "# print(count_lwc('stats.txt'))"
   ]
  },
  {
   "cell_type": "markdown",
   "id": "cae7e92b",
   "metadata": {},
   "source": [
    "Assignment 9: Merging Multiple Files\n",
    "\n",
    "Write a function that merges the contents of multiple files into a single file named merged.txt."
   ]
  },
  {
   "cell_type": "code",
   "execution_count": 10,
   "id": "33ddde54",
   "metadata": {},
   "outputs": [],
   "source": [
    "def merge_files(file_list, output_file):\n",
    "    with open(output_file, 'w') as outfile:\n",
    "        for fname in file_list:\n",
    "            with open(fname, 'r') as infile:\n",
    "                outfile.write(infile.read() + '\\n')\n",
    "\n",
    "# Test\n",
    "# merge_files(['file1.txt', 'file2.txt'], 'merged.txt')"
   ]
  },
  {
   "cell_type": "markdown",
   "id": "5a33e07a",
   "metadata": {},
   "source": [
    "Assignment 10: Splitting a Large File\n",
    "\n",
    "Write a function that splits a large file named large.txt into smaller files of 100 lines each."
   ]
  },
  {
   "cell_type": "code",
   "execution_count": 11,
   "id": "335142f8",
   "metadata": {},
   "outputs": [],
   "source": [
    "def split_file(filename, lines_per_file):\n",
    "    with open(filename, 'r') as file:\n",
    "        lines = file.readlines()\n",
    "    for i in range(0, len(lines), lines_per_file):\n",
    "        with open(f'{filename}_part{i//lines_per_file + 1}.txt', 'w') as part_file:\n",
    "            part_file.writelines(lines[i:i + lines_per_file])\n",
    "\n",
    "# Test\n",
    "# split_file('large.txt', 100)"
   ]
  },
  {
   "cell_type": "markdown",
   "id": "d7ca4b4b",
   "metadata": {},
   "source": [
    "Assignment 11: Creating a Log File\n",
    "\n",
    "Write a function that creates a log file named activity.log and writes log messages with timestamps."
   ]
  },
  {
   "cell_type": "code",
   "execution_count": 12,
   "id": "3af572a3",
   "metadata": {},
   "outputs": [],
   "source": [
    "import datetime\n",
    "\n",
    "def log_message(message, filename='activity.log'):\n",
    "    timestamp = datetime.datetime.now().isoformat()\n",
    "    with open(filename, 'a') as file:\n",
    "        file.write(f'[{timestamp}] {message}\\n')\n",
    "\n",
    "# Test\n",
    "# log_message('This is a log message.')"
   ]
  },
  {
   "cell_type": "markdown",
   "id": "86897734",
   "metadata": {},
   "source": [
    "Assignment 12: Binary File Operations\n",
    "\n",
    "Write a function that reads a binary file named image.bin and writes its contents to another binary file named copy_image.bin."
   ]
  },
  {
   "cell_type": "code",
   "execution_count": 13,
   "id": "57e3f120",
   "metadata": {},
   "outputs": [],
   "source": [
    "def copy_binary_file(source, destination):\n",
    "    with open(source, 'rb') as src:\n",
    "        with open(destination, 'wb') as dest:\n",
    "            dest.write(src.read())\n",
    "\n",
    "# Test\n",
    "# copy_binary_file('image.bin', 'copy_image.bin')"
   ]
  },
  {
   "cell_type": "markdown",
   "id": "b68004f6",
   "metadata": {},
   "source": [
    "Assignment 13: CSV File Operations\n",
    "\n",
    "Write a function that reads a CSV file named data.csv and prints its contents as a list of dictionaries."
   ]
  },
  {
   "cell_type": "code",
   "execution_count": 18,
   "id": "1e84ad61",
   "metadata": {},
   "outputs": [],
   "source": [
    "import csv\n",
    "\n",
    "def read_csv_as_dicts(filename):\n",
    "    with open(filename, 'r') as file:\n",
    "        reader = csv.DictReader(file)\n",
    "        return list(reader)\n",
    "\n",
    "# Test\n",
    "# print(read_csv_as_dicts('data.csv'))"
   ]
  },
  {
   "cell_type": "markdown",
   "id": "4e616601",
   "metadata": {},
   "source": [
    "Assignment 14: JSON File Operations\n",
    "\n",
    "Write a function that reads a JSON file named data.json and prints its contents as a Python dictionary."
   ]
  },
  {
   "cell_type": "code",
   "execution_count": 17,
   "id": "01bf660c",
   "metadata": {},
   "outputs": [],
   "source": [
    "import json\n",
    "\n",
    "def read_json(filename):\n",
    "    with open(filename, 'r') as file:\n",
    "        data = json.load(file)\n",
    "        return data\n",
    "\n",
    "# Test\n",
    "# print(read_json('data.json'))"
   ]
  },
  {
   "cell_type": "markdown",
   "id": "a8047ee7",
   "metadata": {},
   "source": [
    "Assignment 15: File Permission Handling\n",
    "\n",
    "Write a function that attempts to read a file named protected.txt and handles any permission errors gracefully by printing an error message."
   ]
  },
  {
   "cell_type": "code",
   "execution_count": 16,
   "id": "6580378c",
   "metadata": {},
   "outputs": [],
   "source": [
    "def read_protected_file(filename):\n",
    "    try:\n",
    "        with open(filename, 'r') as file:\n",
    "            print(file.read())\n",
    "    except PermissionError as e:\n",
    "        print(f\"Permission error: {e}\")\n",
    "\n",
    "# Test\n",
    "# read_protected_file('protected.txt')"
   ]
  }
 ],
 "metadata": {
  "kernelspec": {
   "display_name": "Python 3",
   "language": "python",
   "name": "python3"
  },
  "language_info": {
   "codemirror_mode": {
    "name": "ipython",
    "version": 3
   },
   "file_extension": ".py",
   "mimetype": "text/x-python",
   "name": "python",
   "nbconvert_exporter": "python",
   "pygments_lexer": "ipython3",
   "version": "3.12.0"
  }
 },
 "nbformat": 4,
 "nbformat_minor": 5
}
