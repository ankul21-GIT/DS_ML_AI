{
 "cells": [
  {
   "cell_type": "code",
   "execution_count": 1,
   "id": "2f1e0b1d",
   "metadata": {},
   "outputs": [
    {
     "name": "stdout",
     "output_type": "stream",
     "text": [
      "10\n"
     ]
    }
   ],
   "source": [
    "def double(x):\n",
    "    return x*2\n",
    "\n",
    "print(double(5))"
   ]
  },
  {
   "cell_type": "code",
   "execution_count": 2,
   "id": "6859b65b",
   "metadata": {},
   "outputs": [
    {
     "name": "stdout",
     "output_type": "stream",
     "text": [
      "10\n"
     ]
    }
   ],
   "source": [
    "double = lambda x: x*2\n",
    "print(double(5))"
   ]
  },
  {
   "cell_type": "code",
   "execution_count": 3,
   "id": "4cc9eb41",
   "metadata": {},
   "outputs": [
    {
     "name": "stdout",
     "output_type": "stream",
     "text": [
      "10\n",
      "125\n"
     ]
    }
   ],
   "source": [
    "double = lambda x: x*2\n",
    "cube = lambda x: x*x*x\n",
    "\n",
    "print(double(5))\n",
    "print(cube(5)) "
   ]
  },
  {
   "cell_type": "code",
   "execution_count": 4,
   "id": "57eadce8",
   "metadata": {},
   "outputs": [
    {
     "name": "stdout",
     "output_type": "stream",
     "text": [
      "10\n",
      "125\n",
      "9.0\n"
     ]
    }
   ],
   "source": [
    "double = lambda x: x*2\n",
    "cube = lambda x: x*x*x\n",
    "avg = lambda x,y,z: (x+y+z)/2\n",
    "\n",
    "print(double(5))\n",
    "print(cube(5)) \n",
    "print(avg(3, 5, 10))"
   ]
  },
  {
   "cell_type": "code",
   "execution_count": 5,
   "id": "957e19cb",
   "metadata": {},
   "outputs": [
    {
     "name": "stdout",
     "output_type": "stream",
     "text": [
      "14\n"
     ]
    }
   ],
   "source": [
    "def appl(fx, value):\n",
    "    return 6 + fx(value)\n",
    "\n",
    "cube = lambda x: x*x*x\n",
    "print(appl(cube, 2))"
   ]
  },
  {
   "cell_type": "code",
   "execution_count": 6,
   "id": "e36539cd",
   "metadata": {},
   "outputs": [
    {
     "name": "stdout",
     "output_type": "stream",
     "text": [
      "10\n"
     ]
    }
   ],
   "source": [
    "def appl(fx, value):\n",
    "    return 6 + fx(value)\n",
    "print(appl(lambda x: x * x, 2))"
   ]
  }
 ],
 "metadata": {
  "kernelspec": {
   "display_name": "Python 3",
   "language": "python",
   "name": "python3"
  },
  "language_info": {
   "codemirror_mode": {
    "name": "ipython",
    "version": 3
   },
   "file_extension": ".py",
   "mimetype": "text/x-python",
   "name": "python",
   "nbconvert_exporter": "python",
   "pygments_lexer": "ipython3",
   "version": "3.12.0"
  }
 },
 "nbformat": 4,
 "nbformat_minor": 5
}
