{
 "cells": [
  {
   "cell_type": "markdown",
   "id": "a55eaa0c",
   "metadata": {},
   "source": [
    "\n",
    "Syntax and Semantics in Python\n",
    "\n",
    "Single line Comments and multiline comments\n",
    "Definition of Syntax and Semantics\n",
    "Basic Syntax Rules in Python\n",
    "Understanding Semantics in Python\n",
    "Common Syntax Errors and How to Avoid Them\n",
    "Practical Code Examples\n",
    "\n",
    "Syntax refers to the set of rules that defines the combinations of symbols that are considered to be correctly structured programs in a language. In simpler terms, syntax is about the correct arrangement of words and symbols in a code.\n",
    "\n",
    "Semantics refers to the meaning or the interpretation of the symbols, characters, and commands in a language. It is about what the code is supposed to do when it runs."
   ]
  },
  {
   "cell_type": "code",
   "execution_count": 1,
   "id": "cca5857e",
   "metadata": {},
   "outputs": [
    {
     "name": "stdout",
     "output_type": "stream",
     "text": [
      "Bhaukaal\n"
     ]
    }
   ],
   "source": [
    "print(\"Bhaukaal\")"
   ]
  },
  {
   "cell_type": "code",
   "execution_count": 4,
   "id": "5dd3003e",
   "metadata": {},
   "outputs": [
    {
     "name": "stdout",
     "output_type": "stream",
     "text": [
      "Ankul\n"
     ]
    }
   ],
   "source": [
    "print(\"Ankul\")"
   ]
  },
  {
   "cell_type": "code",
   "execution_count": 2,
   "id": "4ac3c285",
   "metadata": {},
   "outputs": [
    {
     "name": "stdout",
     "output_type": "stream",
     "text": [
      "7\n"
     ]
    }
   ],
   "source": [
    "print(3+4)"
   ]
  },
  {
   "cell_type": "code",
   "execution_count": 3,
   "id": "843caf7b",
   "metadata": {},
   "outputs": [
    {
     "name": "stdout",
     "output_type": "stream",
     "text": [
      "The Zen of Python, by Tim Peters\n",
      "\n",
      "Beautiful is better than ugly.\n",
      "Explicit is better than implicit.\n",
      "Simple is better than complex.\n",
      "Complex is better than complicated.\n",
      "Flat is better than nested.\n",
      "Sparse is better than dense.\n",
      "Readability counts.\n",
      "Special cases aren't special enough to break the rules.\n",
      "Although practicality beats purity.\n",
      "Errors should never pass silently.\n",
      "Unless explicitly silenced.\n",
      "In the face of ambiguity, refuse the temptation to guess.\n",
      "There should be one-- and preferably only one --obvious way to do it.\n",
      "Although that way may not be obvious at first unless you're Dutch.\n",
      "Now is better than never.\n",
      "Although never is often better than *right* now.\n",
      "If the implementation is hard to explain, it's a bad idea.\n",
      "If the implementation is easy to explain, it may be a good idea.\n",
      "Namespaces are one honking great idea -- let's do more of those!\n"
     ]
    }
   ],
   "source": [
    "import this"
   ]
  },
  {
   "cell_type": "code",
   "execution_count": 4,
   "id": "f85997a2",
   "metadata": {},
   "outputs": [
    {
     "name": "stdout",
     "output_type": "stream",
     "text": [
      "Ankul\n"
     ]
    }
   ],
   "source": [
    "'''The Zen of Python, by Tim Peters\n",
    "\n",
    "Beautiful is better than ugly.\n",
    "Explicit is better than implicit.\n",
    "Simple is better than complex.\n",
    "Complex is better than complicated.\n",
    "Flat is better than nested.\n",
    "Sparse is better than dense.\n",
    "Readability counts.\n",
    "Special cases aren't special enough to break the rules.\n",
    "Although practicality beats purity.\n",
    "Errors should never pass silently.\n",
    "Unless explicitly silenced.\n",
    "In the face of ambiguity, refuse the temptation to guess.\n",
    "There should be one-- and preferably only one --obvious way to do it.\n",
    "Although that way may not be obvious at first unless you're Dutch.\n",
    "Now is better than never.\n",
    "Although never is often better than *right* now.\n",
    "If the implementation is hard to explain, it's a bad idea.\n",
    "If the implementation is easy to explain, it may be a good idea.\n",
    "Namespaces are one honking great idea -- let's do more of those!'''\n",
    "\n",
    "\"\"\"\n",
    "I \n",
    "am\n",
    "also \n",
    "a \n",
    "multiline\n",
    "comment.\n",
    "\"\"\"\n",
    "\n",
    "print(\"Ankul\")"
   ]
  },
  {
   "cell_type": "code",
   "execution_count": 5,
   "id": "95d19f63",
   "metadata": {},
   "outputs": [
    {
     "name": "stdout",
     "output_type": "stream",
     "text": [
      "John\n"
     ]
    }
   ],
   "source": [
    "'''This is \n",
    "A \n",
    "multiline comment'''\n",
    "\n",
    "print(\"John\")"
   ]
  },
  {
   "cell_type": "code",
   "execution_count": 6,
   "id": "0b37db39",
   "metadata": {},
   "outputs": [
    {
     "name": "stdout",
     "output_type": "stream",
     "text": [
      "Abhishek\n",
      "Upadhayay\n"
     ]
    }
   ],
   "source": [
    "## Basic Syntax in Python\n",
    "## Case Sensitivity- Python is case sensitive\n",
    "\n",
    "name = \"Abhishek\"\n",
    "Name = \"Upadhayay\"\n",
    "\n",
    "print(name)\n",
    "print(Name)"
   ]
  },
  {
   "cell_type": "markdown",
   "id": "5a7aa637",
   "metadata": {},
   "source": [
    "Indentation\n",
    "\n",
    "Indentation in Python is used to define the structure and hierarchy of the code. Unlike many other programming languages that use braces {} to delimit blocks of code, Python uses indentation to determine the grouping of statements. This means that all the statements within a block must be indented at the same level."
   ]
  },
  {
   "cell_type": "code",
   "execution_count": 13,
   "id": "96e81588",
   "metadata": {},
   "outputs": [
    {
     "name": "stdout",
     "output_type": "stream",
     "text": [
      "Otherwise you can leave\n"
     ]
    }
   ],
   "source": [
    "price = 5000\n",
    "\n",
    "if price != 5000:\n",
    "    print(\"You have 5000\")\n",
    "    print(\"If you have then buy it\")\n",
    "    \n",
    "print(\"Otherwise you can leave\")\n"
   ]
  },
  {
   "cell_type": "code",
   "execution_count": 17,
   "id": "9735e12c",
   "metadata": {},
   "outputs": [
    {
     "name": "stdout",
     "output_type": "stream",
     "text": [
      "29\n",
      "5\n",
      "10\n",
      "5\n",
      "Happy birthday\n",
      "Hi i am indented inside it\n",
      "31\n"
     ]
    }
   ],
   "source": [
    "# Indentation\n",
    "# Python uses indentation to define block of code. Consistent use of spaces (commonly 4) or a tab is required.\n",
    "\n",
    "age = 29\n",
    "\n",
    "if age > 30:\n",
    "    print(age)\n",
    "    \n",
    "print(age)\n",
    "\n",
    "\n",
    "\n",
    "\n",
    "value = 5\n",
    "\n",
    "if value > 4:\n",
    "    print(value)\n",
    "    print(value+5)\n",
    "    \n",
    "print(value)\n",
    "    \n",
    "    \n",
    "    \n",
    "\n",
    "age = 31\n",
    "\n",
    "if age > 30:\n",
    "    print(\"Happy birthday\")\n",
    "    print(\"Hi i am indented inside it\")\n",
    "    \n",
    "print(age)"
   ]
  },
  {
   "cell_type": "code",
   "execution_count": 18,
   "id": "c0b09d65",
   "metadata": {},
   "outputs": [
    {
     "name": "stdout",
     "output_type": "stream",
     "text": [
      "140718306708856\n",
      "140718306708024\n",
      "2877940092656\n",
      "2877940100976\n"
     ]
    }
   ],
   "source": [
    "# Address of my variables declared above.\n",
    "\n",
    "print(id(age))\n",
    "print(id(value))\n",
    "print(id(name))\n",
    "print(id(Name))"
   ]
  },
  {
   "cell_type": "code",
   "execution_count": 20,
   "id": "78bbac1e",
   "metadata": {},
   "outputs": [
    {
     "name": "stdout",
     "output_type": "stream",
     "text": [
      "99\n",
      "140718306711032\n"
     ]
    }
   ],
   "source": [
    "# Line Continuation\n",
    "# Use backlash(/) to continue a statement to the next line\n",
    "\n",
    "total = 1+2+3+4+5+6\\\n",
    "+7+8+9\\\n",
    "+12+13\\\n",
    "+14+15\n",
    "\n",
    "print(total)\n",
    "\n",
    "print(id(total))"
   ]
  },
  {
   "cell_type": "code",
   "execution_count": 24,
   "id": "8744d595",
   "metadata": {},
   "outputs": [
    {
     "name": "stdout",
     "output_type": "stream",
     "text": [
      "5\n",
      "30\n"
     ]
    }
   ],
   "source": [
    "# Multiple statement in a single line\n",
    "\n",
    "x=5; y=10; t=15;  z=x+y+t\n",
    "print(x)\n",
    "print(z)"
   ]
  },
  {
   "cell_type": "code",
   "execution_count": 25,
   "id": "a050c27c",
   "metadata": {},
   "outputs": [],
   "source": [
    "## Understand Semantics in python\n",
    "# Variable assignment\n",
    "age = 32 ## age is an integer\n",
    "name = \"Amit\" ## name is a string"
   ]
  },
  {
   "cell_type": "code",
   "execution_count": 26,
   "id": "13c10e75",
   "metadata": {},
   "outputs": [
    {
     "name": "stdout",
     "output_type": "stream",
     "text": [
      "<class 'int'>\n"
     ]
    }
   ],
   "source": [
    "# you can get the type of variable i.e. the type of data stored in it.\n",
    "print(type(age))"
   ]
  },
  {
   "cell_type": "code",
   "execution_count": 27,
   "id": "23a49e9e",
   "metadata": {},
   "outputs": [
    {
     "name": "stdout",
     "output_type": "stream",
     "text": [
      "<class 'str'>\n"
     ]
    }
   ],
   "source": [
    "print(type(name))"
   ]
  },
  {
   "cell_type": "code",
   "execution_count": 28,
   "id": "e41d2fae",
   "metadata": {},
   "outputs": [
    {
     "name": "stdout",
     "output_type": "stream",
     "text": [
      "<class 'float'>\n",
      "<class 'str'>\n",
      "<class 'str'>\n"
     ]
    }
   ],
   "source": [
    "# Type Inference\n",
    "\n",
    "variable = 15.5\n",
    "print(type(variable))\n",
    "\n",
    "variable = \"Ankul\"\n",
    "print(type(variable))\n",
    "\n",
    "variable = \"15\"\n",
    "print(type(variable))"
   ]
  },
  {
   "cell_type": "code",
   "execution_count": 33,
   "id": "a33c1805",
   "metadata": {},
   "outputs": [],
   "source": [
    "a = 100"
   ]
  },
  {
   "cell_type": "code",
   "execution_count": 36,
   "id": "f9836aa1",
   "metadata": {},
   "outputs": [],
   "source": [
    "# Name error\n",
    "\n",
    "a = b"
   ]
  },
  {
   "cell_type": "code",
   "execution_count": null,
   "id": "b5712987",
   "metadata": {},
   "outputs": [
    {
     "name": "stdout",
     "output_type": "stream",
     "text": [
      "Correct Indentation\n",
      "This will print\n",
      "Outside the if block\n"
     ]
    }
   ],
   "source": [
    "## Code example of indentation\n",
    "\n",
    "if True:\n",
    "    print(\"Correct Indentation\")\n",
    "    if False:\n",
    "        print(\"This will not print\")\n",
    "    print(\"This will print\")\n",
    "print(\"Outside the if block\")"
   ]
  },
  {
   "cell_type": "markdown",
   "id": "afa0bb6d",
   "metadata": {},
   "source": [
    "Conclusion:\n",
    "\n",
    "Understanding the syntax and semantics of Python is crucial for writing correct and meaningful programs. Syntax ensures the code is properly structured, while semantics ensures the code behaves as expected. Mastering these concepts will help in writing efficient and error-free Python code."
   ]
  },
  {
   "cell_type": "markdown",
   "id": "2b1a119e",
   "metadata": {},
   "source": []
  }
 ],
 "metadata": {
  "kernelspec": {
   "display_name": "Python 3",
   "language": "python",
   "name": "python3"
  },
  "language_info": {
   "codemirror_mode": {
    "name": "ipython",
    "version": 3
   },
   "file_extension": ".py",
   "mimetype": "text/x-python",
   "name": "python",
   "nbconvert_exporter": "python",
   "pygments_lexer": "ipython3",
   "version": "3.12.0"
  }
 },
 "nbformat": 4,
 "nbformat_minor": 5
}
