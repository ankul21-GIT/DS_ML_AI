{
 "cells": [
  {
   "cell_type": "code",
   "execution_count": 1,
   "id": "c51c1122",
   "metadata": {},
   "outputs": [
    {
     "name": "stdout",
     "output_type": "stream",
     "text": [
      "5\n",
      "HARRY\n",
      "harry\n",
      "\n"
     ]
    }
   ],
   "source": [
    "a = \"Harry\"\n",
    "print(len(a))\n",
    "\n",
    "print(a.upper())\n",
    "print(a.lower())\n",
    "print()"
   ]
  },
  {
   "cell_type": "code",
   "execution_count": 2,
   "id": "06f76b58",
   "metadata": {},
   "outputs": [
    {
     "name": "stdout",
     "output_type": "stream",
     "text": [
      "!!Ankur\n",
      "\n"
     ]
    }
   ],
   "source": [
    "# rstrip() -> You can remove any trailing character\n",
    "b = \"!!Ankur!!!!!!!\"\n",
    "print(b.rstrip(\"!\"))\n",
    "print()"
   ]
  },
  {
   "cell_type": "code",
   "execution_count": 3,
   "id": "04919256",
   "metadata": {},
   "outputs": [
    {
     "name": "stdout",
     "output_type": "stream",
     "text": [
      "!!john!!!!!!!\n",
      "\n"
     ]
    }
   ],
   "source": [
    "# replace() -> replace method replace all occurance of a string with another string.\n",
    "print(b.replace(\"Ankur\", \"john\"))\n",
    "print()"
   ]
  },
  {
   "cell_type": "code",
   "execution_count": 4,
   "id": "867f78f7",
   "metadata": {},
   "outputs": [
    {
     "name": "stdout",
     "output_type": "stream",
     "text": [
      "Introduction to python\n",
      "\n"
     ]
    }
   ],
   "source": [
    "# capitalize() -> the capitalize method turn only the firtst character to uppercase and \n",
    "# rest character is lowercase automatically.\n",
    "python = \"introduction to Python\"\n",
    "print(python.capitalize())\n",
    "print()"
   ]
  },
  {
   "cell_type": "code",
   "execution_count": 5,
   "id": "66ab2ad4",
   "metadata": {},
   "outputs": [
    {
     "name": "stdout",
     "output_type": "stream",
     "text": [
      "            welcome to the console!!!             \n",
      "\n"
     ]
    }
   ],
   "source": [
    "# center() -> center method align the string to the center as per the parameter given by \n",
    "# the user(it give space)\n",
    "str = \"welcome to the console!!!\"\n",
    "print(str.center(50))\n",
    "print()"
   ]
  },
  {
   "cell_type": "code",
   "execution_count": 6,
   "id": "6d32a17d",
   "metadata": {},
   "outputs": [
    {
     "name": "stdout",
     "output_type": "stream",
     "text": [
      "3\n",
      "\n"
     ]
    }
   ],
   "source": [
    "# count() -> count method return the number of times the given value has occured within \n",
    "# the given string.\n",
    "coun = \"Hello sir feel good\"\n",
    "print(coun.count(\"l\"))\n",
    "print()"
   ]
  },
  {
   "cell_type": "code",
   "execution_count": 7,
   "id": "2c81f1f0",
   "metadata": {},
   "outputs": [
    {
     "name": "stdout",
     "output_type": "stream",
     "text": [
      "True\n",
      "True\n",
      "\n"
     ]
    }
   ],
   "source": [
    "# endswith() -> the endswith() method checks if the string ends with a given value. \n",
    "# If yes the return true else return false\n",
    "ends = \"Hello mom how are you\"\n",
    "print(ends.endswith(\"you\"))\n",
    "print(ends.endswith(\"mom\", 4, 9))\n",
    "print()"
   ]
  },
  {
   "cell_type": "code",
   "execution_count": 8,
   "id": "a3362ede",
   "metadata": {},
   "outputs": [
    {
     "name": "stdout",
     "output_type": "stream",
     "text": [
      "28\n",
      "\n"
     ]
    }
   ],
   "source": [
    "# The find() method searches for the first occurance of the given value and return the \n",
    "# index where it is present . If given value is absent from the string than return -1 .\n",
    "name = \"His name is ankit and he is brilliant\"\n",
    "print(name.find(\"brilliant\"))\n",
    "print()"
   ]
  },
  {
   "cell_type": "code",
   "execution_count": 9,
   "id": "7680cbe4",
   "metadata": {},
   "outputs": [
    {
     "name": "stdout",
     "output_type": "stream",
     "text": [
      "18\n",
      "\n"
     ]
    }
   ],
   "source": [
    "# index()  -> The index() method searches for the occurence of the value and retuern  \n",
    "# the index where it is present . If given value is absent from the string than raise an exception.\n",
    "ind = \"His name is ankur and he is good boy\"\n",
    "print(ind.index(\"and\"))\n",
    "print()"
   ]
  },
  {
   "cell_type": "code",
   "execution_count": 10,
   "id": "59ca5070",
   "metadata": {},
   "outputs": [
    {
     "name": "stdout",
     "output_type": "stream",
     "text": [
      "True\n",
      "\n"
     ]
    }
   ],
   "source": [
    "# isalnum() -> The isalnum() method return true only if the entire consist of A-Z, a-z, 0-9. \n",
    "# If any other character or punctuation are present , then it retuen false.\n",
    "# Spcace is also should not considered.\n",
    "alnum = \"Helloperryhowareyou\"\n",
    "print(alnum.isalnum())\n",
    "print()"
   ]
  },
  {
   "cell_type": "code",
   "execution_count": 11,
   "id": "8136da5b",
   "metadata": {},
   "outputs": [
    {
     "name": "stdout",
     "output_type": "stream",
     "text": [
      "False\n",
      "\n"
     ]
    }
   ],
   "source": [
    "#isalpha() -> The isalpha method return true only if the entire string only consists of \n",
    "# A-Z, a-z any other character or punctuation or numbers are present , then it retuen false.\n",
    "\n",
    "alpha = \"Mynameisankur0\" # it return false because zero is in these string.\n",
    "print(alpha.isalpha())\n",
    "print()"
   ]
  },
  {
   "cell_type": "code",
   "execution_count": 12,
   "id": "f1816b99",
   "metadata": {},
   "outputs": [
    {
     "name": "stdout",
     "output_type": "stream",
     "text": [
      "True\n",
      "\n"
     ]
    }
   ],
   "source": [
    "# islower() -> The islower() method return true if all the character in the string are \n",
    "# lower case, else it retuern false.\n",
    "lower = \"all the character is lower\"     # it return false because Y is capital\n",
    "print(lower.islower())\n",
    "print()"
   ]
  },
  {
   "cell_type": "code",
   "execution_count": 13,
   "id": "d2b9d6b0",
   "metadata": {},
   "outputs": [
    {
     "name": "stdout",
     "output_type": "stream",
     "text": [
      "False\n",
      "\n"
     ]
    }
   ],
   "source": [
    "# isprintable() -> The is printable method return True if all the value within the given \n",
    "# string are printable , if not, then return false.\n",
    "printab = \"we wish you happy diwali\\n\"   # it return false because \\n in these code\n",
    "#printab = \"we wish you happy diwali\"     # it return true\n",
    "print(printab.isprintable())\n",
    "print()"
   ]
  },
  {
   "cell_type": "code",
   "execution_count": 14,
   "id": "13eb7693",
   "metadata": {},
   "outputs": [
    {
     "name": "stdout",
     "output_type": "stream",
     "text": [
      "True\n",
      "\n"
     ]
    }
   ],
   "source": [
    "# isspace() -> The isspace() method return true only and only if the string contain white \n",
    "# spaces, else return false\n",
    "spac = \" \"\n",
    "print(spac.isspace())\n",
    "print()"
   ]
  },
  {
   "cell_type": "code",
   "execution_count": 15,
   "id": "0ae2e9b7",
   "metadata": {},
   "outputs": [
    {
     "name": "stdout",
     "output_type": "stream",
     "text": [
      "True\n",
      "\n"
     ]
    }
   ],
   "source": [
    "# istitle() -> The istitle() return true only if the first letter of each word of the \n",
    "# string is capitalized , else it retuen false.\n",
    "title = \"World Treaty Organisation\"    # Every first letter is capital\n",
    "print(title.istitle())\n",
    "print()"
   ]
  },
  {
   "cell_type": "code",
   "execution_count": 16,
   "id": "17cfdba9",
   "metadata": {},
   "outputs": [
    {
     "name": "stdout",
     "output_type": "stream",
     "text": [
      "True\n",
      "\n"
     ]
    }
   ],
   "source": [
    "# isupper() -> The isupper method return true if all the character in the string are \n",
    "# upper case, else it return false\n",
    "upper = \"ALL CHARACTER IS CAPITAL\"\n",
    "print(upper.isupper())\n",
    "print()"
   ]
  },
  {
   "cell_type": "code",
   "execution_count": 17,
   "id": "2f22da2d",
   "metadata": {},
   "outputs": [
    {
     "name": "stdout",
     "output_type": "stream",
     "text": [
      "False\n",
      "\n"
     ]
    }
   ],
   "source": [
    "# startswith() -> the startswith() method checks if the string starts with a given value. \n",
    "# If yes the return true else return false.\n",
    "\n",
    "ends = \"Hello mom how are you\"\n",
    "print(ends.endswith(\"Helly\"))\n",
    "print()"
   ]
  },
  {
   "cell_type": "code",
   "execution_count": 18,
   "id": "c5fc037e",
   "metadata": {},
   "outputs": [
    {
     "name": "stdout",
     "output_type": "stream",
     "text": [
      "pYTHON IS A iNTERpRETED lANGUaGE\n"
     ]
    }
   ],
   "source": [
    "# swapcase() :- The swapcase method change the uppercase to lowecase and lowercase to uppercase\n",
    "\n",
    "str9 = \"Python is a InterPreted LanguAge\"\n",
    "print(str9.swapcase())"
   ]
  },
  {
   "cell_type": "code",
   "execution_count": 19,
   "id": "2c16b110",
   "metadata": {},
   "outputs": [
    {
     "name": "stdout",
     "output_type": "stream",
     "text": [
      "He Is A Honest Man. He Is Good Also\n"
     ]
    }
   ],
   "source": [
    "# title() method :- The title method convert first letter of the word into the uppercase aotomatically.\n",
    "\n",
    "str1 = \"He is a honest man. he is good also\"\n",
    "print(str1.title())"
   ]
  }
 ],
 "metadata": {
  "kernelspec": {
   "display_name": "Python 3",
   "language": "python",
   "name": "python3"
  },
  "language_info": {
   "codemirror_mode": {
    "name": "ipython",
    "version": 3
   },
   "file_extension": ".py",
   "mimetype": "text/x-python",
   "name": "python",
   "nbconvert_exporter": "python",
   "pygments_lexer": "ipython3",
   "version": "3.12.0"
  }
 },
 "nbformat": 4,
 "nbformat_minor": 5
}
