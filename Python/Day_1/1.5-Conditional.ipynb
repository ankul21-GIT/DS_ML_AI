{
 "cells": [
  {
   "cell_type": "code",
   "execution_count": 1,
   "id": "f6256252",
   "metadata": {},
   "outputs": [
    {
     "name": "stdout",
     "output_type": "stream",
     "text": [
      "This is good\n"
     ]
    }
   ],
   "source": [
    "a = 2\n",
    "\n",
    "if a == 2:\n",
    "    print(\"This is good\")"
   ]
  },
  {
   "cell_type": "code",
   "execution_count": 3,
   "id": "8855d85d",
   "metadata": {},
   "outputs": [
    {
     "name": "stdout",
     "output_type": "stream",
     "text": [
      "a is greater\n"
     ]
    }
   ],
   "source": [
    "a = int(input(\"Please enter a number : \"))\n",
    "\n",
    "if a >= 10:\n",
    "    print(\"a is greater\")\n",
    "else:\n",
    "    print(\"a is less\")\n",
    "    "
   ]
  },
  {
   "cell_type": "code",
   "execution_count": 5,
   "id": "1bff6980",
   "metadata": {},
   "outputs": [
    {
     "name": "stdout",
     "output_type": "stream",
     "text": [
      "I should go\n"
     ]
    }
   ],
   "source": [
    "if a == 1:\n",
    "    print(\"do this\")\n",
    "elif a == 2:\n",
    "    print(\"Now i can go\")\n",
    "elif a >= 2:\n",
    "    print(\"I should go\")\n",
    "else:\n",
    "    print(\"done\")"
   ]
  },
  {
   "cell_type": "code",
   "execution_count": 3,
   "id": "6162b0b6",
   "metadata": {},
   "outputs": [
    {
     "name": "stdout",
     "output_type": "stream",
     "text": [
      "Number is negative\n"
     ]
    }
   ],
   "source": [
    "num = int(input(\"Enter the value of num : \"))\n",
    "if(num<0):\n",
    "    print(\"Number is negative\")\n",
    "elif(num > 0):\n",
    "    print(\"Number is positive\")\n",
    "elif(num == 999):\n",
    "    print(\"Number is special\")\n",
    "else:\n",
    "    print(\"Number is zero\")"
   ]
  },
  {
   "cell_type": "code",
   "execution_count": 4,
   "id": "5ddf1bf5",
   "metadata": {},
   "outputs": [
    {
     "name": "stdout",
     "output_type": "stream",
     "text": [
      "Your age is: 12\n",
      "You can't drive\n",
      "no\n"
     ]
    }
   ],
   "source": [
    "a = int(input(\"Enter your age : \"))\n",
    "print(\"Your age is:\", a)\n",
    "\n",
    "if(a>18):\n",
    "    print(\"You can drive\")\n",
    "    print(\"yes\")\n",
    "else:\n",
    "    print(\"You can't drive\")\n",
    "    print(\"no\")"
   ]
  },
  {
   "cell_type": "code",
   "execution_count": 5,
   "id": "d5365db1",
   "metadata": {},
   "outputs": [
    {
     "name": "stdout",
     "output_type": "stream",
     "text": [
      "Alexa add 1kg apple to the cart\n"
     ]
    }
   ],
   "source": [
    "applePrice = 10\n",
    "budget = 200\n",
    "if(budget - applePrice > 50):\n",
    "    print(\"Alexa add 1kg apple to the cart\")\n",
    "elif(budget - applePrice > 70):\n",
    "    print(\"Its okay youbcan buy\")\n",
    "    \n",
    "else:\n",
    "    print(\"Alexa do not add apple to the cart\")"
   ]
  },
  {
   "cell_type": "code",
   "execution_count": 6,
   "id": "39e5ca6b",
   "metadata": {},
   "outputs": [
    {
     "name": "stdout",
     "output_type": "stream",
     "text": [
      "Number is between 11-20\n"
     ]
    }
   ],
   "source": [
    "num = 14\n",
    "if(num < 0):\n",
    "    print(\"Number is negative\")\n",
    "elif(num > 0):\n",
    "    if(num <= 10):\n",
    "        print(\"Number is between 1-10\")\n",
    "    elif(num > 10 and num <=20):\n",
    "        print(\"Number is between 11-20\")\n",
    "    else:\n",
    "        print(\"Number is greater than 20\")\n",
    "else:\n",
    "    print(\"Number is zero\")"
   ]
  },
  {
   "cell_type": "code",
   "execution_count": 3,
   "id": "d0c02466",
   "metadata": {},
   "outputs": [
    {
     "name": "stdout",
     "output_type": "stream",
     "text": [
      "Even\n",
      "Odd\n"
     ]
    }
   ],
   "source": [
    "x = 24 \n",
    "# Check the remainder dividing x by 2 is 0\n",
    "if x % 2 == 0:\n",
    "    print(\"Even\")\n",
    "else:\n",
    "    print(\"Odd\")\n",
    "\n",
    "\n",
    "\n",
    "# Checking another number    \n",
    "x = 7\n",
    "\n",
    "if x % 2 == 0:\n",
    "\n",
    "  print(\"Even\")\n",
    "else:\n",
    "    print(\"Odd\")"
   ]
  },
  {
   "cell_type": "code",
   "execution_count": 1,
   "id": "283bbb8a",
   "metadata": {},
   "outputs": [],
   "source": [
    "import keyword"
   ]
  },
  {
   "cell_type": "code",
   "execution_count": 2,
   "id": "48e7524a",
   "metadata": {},
   "outputs": [
    {
     "name": "stdout",
     "output_type": "stream",
     "text": [
      "['False', 'None', 'True', 'and', 'as', 'assert', 'async', 'await', 'break', 'class', 'continue', 'def', 'del', 'elif', 'else', 'except', 'finally', 'for', 'from', 'global', 'if', 'import', 'in', 'is', 'lambda', 'nonlocal', 'not', 'or', 'pass', 'raise', 'return', 'try', 'while', 'with', 'yield']\n"
     ]
    }
   ],
   "source": [
    "print(keyword.kwlist)"
   ]
  }
 ],
 "metadata": {
  "kernelspec": {
   "display_name": "Python 3",
   "language": "python",
   "name": "python3"
  },
  "language_info": {
   "codemirror_mode": {
    "name": "ipython",
    "version": 3
   },
   "file_extension": ".py",
   "mimetype": "text/x-python",
   "name": "python",
   "nbconvert_exporter": "python",
   "pygments_lexer": "ipython3",
   "version": "3.12.0"
  }
 },
 "nbformat": 4,
 "nbformat_minor": 5
}
