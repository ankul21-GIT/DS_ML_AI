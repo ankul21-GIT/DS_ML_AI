{
 "cells": [
  {
   "cell_type": "code",
   "execution_count": 1,
   "id": "b1e4899c",
   "metadata": {},
   "outputs": [
    {
     "data": {
      "text/plain": [
       "int"
      ]
     },
     "execution_count": 1,
     "metadata": {},
     "output_type": "execute_result"
    }
   ],
   "source": [
    "Name = \"Abhishek\"\n",
    "\n",
    "Age = 30\n",
    "\n",
    "type(Age)"
   ]
  },
  {
   "cell_type": "code",
   "execution_count": 4,
   "id": "d337d0cf",
   "metadata": {},
   "outputs": [
    {
     "name": "stdout",
     "output_type": "stream",
     "text": [
      "My name is Abhishekand my age is 30\n"
     ]
    }
   ],
   "source": [
    "msg = \"My name is \"+Name+\"and my age is \"+ str(Age)\n",
    "print(msg)"
   ]
  },
  {
   "cell_type": "code",
   "execution_count": 7,
   "id": "c443b301",
   "metadata": {},
   "outputs": [],
   "source": [
    "Maths = 90\n",
    "English = 85\n",
    "Social_Science = 88\n",
    "Science = 92"
   ]
  },
  {
   "cell_type": "code",
   "execution_count": 8,
   "id": "c058042b",
   "metadata": {},
   "outputs": [
    {
     "name": "stdout",
     "output_type": "stream",
     "text": [
      "Hi guys my marks in Maths are 90 in English it is 85 in Social Science it is 88 in Science it is 92\n"
     ]
    }
   ],
   "source": [
    "Report = \"Hi guys my marks in Maths are \" + str(Maths) + \" in English it is \" + str(English) + \" in Social Science it is \" + str(Social_Science) + \" in Science it is \" + str(Science)\n",
    "print(Report)\n"
   ]
  },
  {
   "cell_type": "markdown",
   "id": "5d6ad961",
   "metadata": {},
   "source": [
    "\n",
    "f- strings == f\"{Placeholder}or{Modifiers} what can you keep is {Var_name} \"\n",
    "\n",
    "-- f-strings is used for formatting strings."
   ]
  },
  {
   "cell_type": "code",
   "execution_count": 9,
   "id": "3019c0c4",
   "metadata": {},
   "outputs": [],
   "source": [
    "Report = f\"Hi guys my marks in maths is {Maths}, and in english it is {English}, also I got {Science} in Science.\""
   ]
  },
  {
   "cell_type": "code",
   "execution_count": 10,
   "id": "91c58ebc",
   "metadata": {},
   "outputs": [
    {
     "data": {
      "text/plain": [
       "'Hi guys my marks in maths is 90, and in english it is 85, also I got 92 in Science.'"
      ]
     },
     "execution_count": 10,
     "metadata": {},
     "output_type": "execute_result"
    }
   ],
   "source": [
    "Report"
   ]
  },
  {
   "cell_type": "code",
   "execution_count": 11,
   "id": "a1983550",
   "metadata": {},
   "outputs": [
    {
     "name": "stdout",
     "output_type": "stream",
     "text": [
      "My name is Abhishek and my age is 30.\n"
     ]
    }
   ],
   "source": [
    "\n",
    "mag = f\"My name is {Name} and my age is {Age}.\"\n",
    "print(mag)"
   ]
  },
  {
   "cell_type": "code",
   "execution_count": 14,
   "id": "c0456bfa",
   "metadata": {},
   "outputs": [
    {
     "name": "stdout",
     "output_type": "stream",
     "text": [
      "The new price is 55\n"
     ]
    }
   ],
   "source": [
    "old_price = 50\n",
    "txt = f\"The new price is {old_price+5}\"\n",
    "print(txt)"
   ]
  },
  {
   "cell_type": "code",
   "execution_count": 15,
   "id": "7d81901d",
   "metadata": {},
   "outputs": [
    {
     "name": "stdout",
     "output_type": "stream",
     "text": [
      "The price is 59.00 dollars\n"
     ]
    }
   ],
   "source": [
    "# 59.00\n",
    "price = 59\n",
    "txt = f\"The price is {price:.2f} dollars\"\n",
    "print(txt)"
   ]
  },
  {
   "cell_type": "code",
   "execution_count": 16,
   "id": "26836862",
   "metadata": {},
   "outputs": [
    {
     "ename": "SyntaxError",
     "evalue": "invalid syntax (3693500954.py, line 1)",
     "output_type": "error",
     "traceback": [
      "  \u001b[36mCell\u001b[39m\u001b[36m \u001b[39m\u001b[32mIn[16]\u001b[39m\u001b[32m, line 1\u001b[39m\n\u001b[31m    \u001b[39m\u001b[31mmsg = \"I am an \"AI\" Engineer\"\u001b[39m\n                    ^\n\u001b[31mSyntaxError\u001b[39m\u001b[31m:\u001b[39m invalid syntax\n"
     ]
    }
   ],
   "source": [
    "\n",
    "msg = \"I am an \"AI\" Engineer\"\n",
    "msg"
   ]
  },
  {
   "cell_type": "code",
   "execution_count": 17,
   "id": "76584c0f",
   "metadata": {},
   "outputs": [
    {
     "name": "stdout",
     "output_type": "stream",
     "text": [
      "I am a \"AI\" enginner\n"
     ]
    }
   ],
   "source": [
    "# Way - 1\n",
    "msg = \"I am a \\\"AI\\\" enginner\"\n",
    "print(msg)"
   ]
  },
  {
   "cell_type": "code",
   "execution_count": 18,
   "id": "bda95153",
   "metadata": {},
   "outputs": [
    {
     "name": "stdout",
     "output_type": "stream",
     "text": [
      "I am a \"AI\" enginner\n"
     ]
    }
   ],
   "source": [
    "msg = 'I am a \"AI\" enginner'\n",
    "print(msg)\n"
   ]
  },
  {
   "cell_type": "code",
   "execution_count": 20,
   "id": "e153cf0f",
   "metadata": {},
   "outputs": [
    {
     "name": "stdout",
     "output_type": "stream",
     "text": [
      "Hello everyon \n",
      "I learn\n",
      "python\n"
     ]
    }
   ],
   "source": [
    "txt = \"Hello everyon \\nI learn\\npython\"\n",
    "print(txt)"
   ]
  },
  {
   "cell_type": "code",
   "execution_count": 21,
   "id": "2f17a9ae",
   "metadata": {},
   "outputs": [
    {
     "name": "stdout",
     "output_type": "stream",
     "text": [
      "I am Ankur\n",
      "I am an AI developer\n"
     ]
    }
   ],
   "source": [
    "msg = \"I am Ankur\\nI am an AI developer\"\n",
    "\n",
    "print(msg)"
   ]
  },
  {
   "cell_type": "code",
   "execution_count": 22,
   "id": "8a5575e2",
   "metadata": {},
   "outputs": [
    {
     "name": "stdout",
     "output_type": "stream",
     "text": [
      "Ankur\n"
     ]
    }
   ],
   "source": [
    "a = \"ankur\"\n",
    "print(a.capitalize())\n"
   ]
  },
  {
   "cell_type": "code",
   "execution_count": 23,
   "id": "3ec7e728",
   "metadata": {},
   "outputs": [
    {
     "name": "stdout",
     "output_type": "stream",
     "text": [
      "Hello\n"
     ]
    }
   ],
   "source": [
    "\n",
    "b = \"Hello, World!\"\n",
    "print(b[:5])"
   ]
  },
  {
   "cell_type": "code",
   "execution_count": 1,
   "id": "1b4f2e60",
   "metadata": {},
   "outputs": [
    {
     "name": "stdout",
     "output_type": "stream",
     "text": [
      "   Ankul     singh   \n"
     ]
    }
   ],
   "source": [
    "name = \"   Ankul     singh   \"\n",
    "print(name)"
   ]
  },
  {
   "cell_type": "code",
   "execution_count": 2,
   "id": "f75e94a2",
   "metadata": {},
   "outputs": [
    {
     "data": {
      "text/plain": [
       "'Ankul     singh'"
      ]
     },
     "execution_count": 2,
     "metadata": {},
     "output_type": "execute_result"
    }
   ],
   "source": [
    "name.strip()"
   ]
  },
  {
   "cell_type": "code",
   "execution_count": null,
   "id": "24a1bbfa",
   "metadata": {},
   "outputs": [],
   "source": []
  }
 ],
 "metadata": {
  "kernelspec": {
   "display_name": "Python 3",
   "language": "python",
   "name": "python3"
  },
  "language_info": {
   "codemirror_mode": {
    "name": "ipython",
    "version": 3
   },
   "file_extension": ".py",
   "mimetype": "text/x-python",
   "name": "python",
   "nbconvert_exporter": "python",
   "pygments_lexer": "ipython3",
   "version": "3.12.0"
  }
 },
 "nbformat": 4,
 "nbformat_minor": 5
}
