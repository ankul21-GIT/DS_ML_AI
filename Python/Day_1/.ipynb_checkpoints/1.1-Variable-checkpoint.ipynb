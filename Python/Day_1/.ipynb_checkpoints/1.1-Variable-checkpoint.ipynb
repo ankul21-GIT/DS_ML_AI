{
 "cells": [
  {
   "cell_type": "markdown",
   "id": "bfd262b7",
   "metadata": {},
   "source": [
    "Variables\n",
    "\n",
    "Variables are fundamental elements in programming used to store data that can be referenced and manipulated in a program. In Python, variables are created when you assign a value to them, and they do not need explicit declaration to reserve memory space. The declaration happens automatically when you assign a value to a variable.\n",
    "\n",
    "Introduction to Variables\n",
    "Declaring and Assigning Variables\n",
    "Naming Conventions\n",
    "Understanding Variable Types\n",
    "Type Checking and Conversion\n",
    "Dynamic Typing\n",
    "Practical Examples and Common Errors"
   ]
  },
  {
   "cell_type": "code",
   "execution_count": null,
   "id": "879eca1c",
   "metadata": {},
   "outputs": [],
   "source": [
    "a = 200\n",
    "b = 300\n",
    "c = \"John\"\n",
    "\n",
    "d = True"
   ]
  },
  {
   "cell_type": "code",
   "execution_count": null,
   "id": "9255d97b",
   "metadata": {},
   "outputs": [],
   "source": [
    "print(id(a))\n",
    "print(id(b))\n",
    "print(id(c))\n",
    "print(id(d))"
   ]
  },
  {
   "cell_type": "code",
   "execution_count": null,
   "id": "04c695d1",
   "metadata": {},
   "outputs": [],
   "source": [
    "print(type(d))"
   ]
  },
  {
   "cell_type": "code",
   "execution_count": 1,
   "id": "56171aa3",
   "metadata": {},
   "outputs": [
    {
     "name": "stdout",
     "output_type": "stream",
     "text": [
      "age :  25\n",
      "height :  5.8\n",
      "name :  Ankul\n",
      "is_student :  True\n"
     ]
    }
   ],
   "source": [
    "#Declaring and assigning variable\n",
    "\n",
    "age = 25\n",
    "height = 5.8\n",
    "name = \"Ankul\"\n",
    "is_student = True\n",
    "\n",
    "\n",
    "## Printing the variable\n",
    "\n",
    "print(\"age : \", age)\n",
    "print(\"height : \", height)\n",
    "print(\"name : \", name)\n",
    "print(\"is_student : \", is_student)\n"
   ]
  },
  {
   "cell_type": "markdown",
   "id": "045c3096",
   "metadata": {},
   "source": [
    "Rules of declaring a variable.\n",
    "\n",
    "A variable name must start with a letter or the underscore character.\n",
    "A variable name cannot start with a number.\n",
    "A variable name can only contain alpha-numeric characters and underscores (A-z, 0-9, and _ ).\n",
    "Variable names are case-sensitive (age, Age and AGE are three different variables).\n",
    "A variable name cannot be any of the Python keywords."
   ]
  },
  {
   "cell_type": "code",
   "execution_count": 2,
   "id": "a64d00d9",
   "metadata": {},
   "outputs": [],
   "source": [
    "# Valid variable name\n",
    "first_name = \"Ankul\"\n",
    "last_name = \"Singh\""
   ]
  },
  {
   "cell_type": "code",
   "execution_count": 3,
   "id": "9593e961",
   "metadata": {},
   "outputs": [],
   "source": [
    "# Invalid variable names\n",
    "# 2age = 32\n",
    "# first-name = \"Amit\"\n",
    "# @name = \"amit\""
   ]
  },
  {
   "cell_type": "code",
   "execution_count": 4,
   "id": "b76c1010",
   "metadata": {},
   "outputs": [],
   "source": [
    "# Primitive Data Type in python\n",
    "# Integer - int\n",
    "# Float or Decimals - float\n",
    "# String - str\n",
    "# Boolean - bool -- True, False"
   ]
  },
  {
   "cell_type": "code",
   "execution_count": 5,
   "id": "7ea952b0",
   "metadata": {},
   "outputs": [
    {
     "name": "stdout",
     "output_type": "stream",
     "text": [
      "<class 'float'>\n"
     ]
    }
   ],
   "source": [
    "# Understanding Variables types\n",
    "# Python is dynamically typed, type of a variable is determined at runtime.\n",
    "\n",
    "age = 25 # int\n",
    "height = 5.8 # float\n",
    "name = \"ankur\" # string\n",
    "is_student = True # bool\n",
    "\n",
    "print(type(height))"
   ]
  },
  {
   "cell_type": "code",
   "execution_count": 6,
   "id": "744b69a7",
   "metadata": {},
   "outputs": [
    {
     "name": "stdout",
     "output_type": "stream",
     "text": [
      "<class 'bool'>\n"
     ]
    }
   ],
   "source": [
    "# Type checking\n",
    "print(type(is_student))"
   ]
  },
  {
   "cell_type": "code",
   "execution_count": null,
   "id": "b359ebf1",
   "metadata": {},
   "outputs": [
    {
     "name": "stdout",
     "output_type": "stream",
     "text": [
      "<class 'int'>\n",
      "<class 'str'>\n",
      "25\n"
     ]
    }
   ],
   "source": [
    "# Type Conversion\n",
    "print(type(age))\n",
    "\n",
    "age_str = str(age)\n",
    "print(type(age_str))\n",
    "\n",
    "print(age_str)"
   ]
  },
  {
   "cell_type": "code",
   "execution_count": 10,
   "id": "15adc215",
   "metadata": {},
   "outputs": [
    {
     "name": "stdout",
     "output_type": "stream",
     "text": [
      "<class 'str'>\n",
      "<class 'int'>\n",
      "<class 'int'>\n"
     ]
    }
   ],
   "source": [
    "age = \"25\"\n",
    "print(type(age))\n",
    "# print(type(int(age)))\n",
    "\n",
    "age = (int(age))\n",
    "print(type(age))\n",
    "\n",
    "print(type(age))"
   ]
  },
  {
   "cell_type": "code",
   "execution_count": 11,
   "id": "009d4589",
   "metadata": {},
   "outputs": [
    {
     "ename": "ValueError",
     "evalue": "invalid literal for int() with base 10: 'John'",
     "output_type": "error",
     "traceback": [
      "\u001b[31m---------------------------------------------------------------------------\u001b[39m",
      "\u001b[31mValueError\u001b[39m                                Traceback (most recent call last)",
      "\u001b[36mCell\u001b[39m\u001b[36m \u001b[39m\u001b[32mIn[11]\u001b[39m\u001b[32m, line 2\u001b[39m\n\u001b[32m      1\u001b[39m name = \u001b[33m\"\u001b[39m\u001b[33mJohn\u001b[39m\u001b[33m\"\u001b[39m\n\u001b[32m----> \u001b[39m\u001b[32m2\u001b[39m \u001b[38;5;28;43mint\u001b[39;49m\u001b[43m(\u001b[49m\u001b[43mname\u001b[49m\u001b[43m)\u001b[49m\n",
      "\u001b[31mValueError\u001b[39m: invalid literal for int() with base 10: 'John'"
     ]
    }
   ],
   "source": [
    "name = \"John\"\n",
    "int(name)"
   ]
  },
  {
   "cell_type": "code",
   "execution_count": 12,
   "id": "f2a48b1c",
   "metadata": {},
   "outputs": [
    {
     "data": {
      "text/plain": [
       "float"
      ]
     },
     "execution_count": 12,
     "metadata": {},
     "output_type": "execute_result"
    }
   ],
   "source": [
    "height = 5.8\n",
    "type(height)"
   ]
  },
  {
   "cell_type": "code",
   "execution_count": 13,
   "id": "5ed16e1f",
   "metadata": {},
   "outputs": [
    {
     "data": {
      "text/plain": [
       "5"
      ]
     },
     "execution_count": 13,
     "metadata": {},
     "output_type": "execute_result"
    }
   ],
   "source": [
    "int(height)"
   ]
  },
  {
   "cell_type": "code",
   "execution_count": 14,
   "id": "eb5bacf7",
   "metadata": {},
   "outputs": [
    {
     "data": {
      "text/plain": [
       "5.0"
      ]
     },
     "execution_count": 14,
     "metadata": {},
     "output_type": "execute_result"
    }
   ],
   "source": [
    "float(int(height))"
   ]
  },
  {
   "cell_type": "code",
   "execution_count": 15,
   "id": "28a203aa",
   "metadata": {},
   "outputs": [
    {
     "name": "stdout",
     "output_type": "stream",
     "text": [
      "10 <class 'int'>\n",
      "hello <class 'str'>\n",
      "3.14 <class 'float'>\n"
     ]
    }
   ],
   "source": [
    "## Dynamic typing\n",
    "## Python allows the type of variable to change as the program executes.\n",
    "\n",
    "var = 10 # int\n",
    "print(var,type(var))\n",
    "\n",
    "var = \"hello\"\n",
    "print(var,type(var))\n",
    "\n",
    "var = 3.14\n",
    "print(var,type(var))"
   ]
  },
  {
   "cell_type": "code",
   "execution_count": 16,
   "id": "af714b8e",
   "metadata": {},
   "outputs": [],
   "source": [
    "# print() -- print function / output function"
   ]
  },
  {
   "cell_type": "code",
   "execution_count": 17,
   "id": "2807bb29",
   "metadata": {},
   "outputs": [
    {
     "name": "stdout",
     "output_type": "stream",
     "text": [
      "what is my name ?\n"
     ]
    }
   ],
   "source": [
    "print(\"what is my name ?\")"
   ]
  },
  {
   "cell_type": "code",
   "execution_count": 18,
   "id": "6b501dc5",
   "metadata": {},
   "outputs": [
    {
     "name": "stdout",
     "output_type": "stream",
     "text": [
      "My name is ankul\n"
     ]
    }
   ],
   "source": [
    "name = input(\"What is your name\")\n",
    "print(\"My name is\", name)"
   ]
  },
  {
   "cell_type": "code",
   "execution_count": 22,
   "id": "a34209c9",
   "metadata": {},
   "outputs": [
    {
     "name": "stdout",
     "output_type": "stream",
     "text": [
      "11 <class 'int'>\n"
     ]
    }
   ],
   "source": [
    "age = int(input(\"What is your age\"))\n",
    "print(age, type(age))"
   ]
  },
  {
   "cell_type": "code",
   "execution_count": 25,
   "id": "83d1f050",
   "metadata": {},
   "outputs": [
    {
     "name": "stdout",
     "output_type": "stream",
     "text": [
      "sum :  33.0\n",
      "difference :  11.0\n",
      "product :  242.0\n",
      "quotient :  2.0\n"
     ]
    }
   ],
   "source": [
    "# Simple calculator\n",
    "\n",
    "num_1 = float(input(\"Enter the first number : \"))\n",
    "num_2 = float(input(\"Enter the second number : \"))\n",
    "\n",
    "sum = num_1 + num_2\n",
    "difference = num_1 - num_2\n",
    "product = num_1 * num_2\n",
    "quotient = num_1 / num_2\n",
    "\n",
    "print(\"sum : \", sum)\n",
    "print(\"difference : \", difference)\n",
    "print(\"product : \", product)\n",
    "print(\"quotient : \", quotient)\n"
   ]
  },
  {
   "cell_type": "markdown",
   "id": "a131ca7c",
   "metadata": {},
   "source": [
    "# keywords : They are reserved words which perform some special task."
   ]
  },
  {
   "cell_type": "code",
   "execution_count": 26,
   "id": "154a62db",
   "metadata": {},
   "outputs": [],
   "source": [
    "import keyword"
   ]
  },
  {
   "cell_type": "code",
   "execution_count": 27,
   "id": "dbe797ba",
   "metadata": {},
   "outputs": [
    {
     "name": "stdout",
     "output_type": "stream",
     "text": [
      "['False', 'None', 'True', 'and', 'as', 'assert', 'async', 'await', 'break', 'class', 'continue', 'def', 'del', 'elif', 'else', 'except', 'finally', 'for', 'from', 'global', 'if', 'import', 'in', 'is', 'lambda', 'nonlocal', 'not', 'or', 'pass', 'raise', 'return', 'try', 'while', 'with', 'yield']\n"
     ]
    }
   ],
   "source": [
    "print(keyword.kwlist)\n",
    "# keyword.kwlist"
   ]
  },
  {
   "cell_type": "markdown",
   "id": "61c1009f",
   "metadata": {},
   "source": [
    "Conclusion:\n",
    "\n",
    "Variables are essential in Python programming for storing and manipulating data. Understanding how to declare, assign, and use variables effectively is crucial for writing functional and efficient code. Following proper naming conventions and understanding variable types will help in maintaining readability and consistency in your code.\n",
    "\n"
   ]
  }
 ],
 "metadata": {
  "kernelspec": {
   "display_name": "Python 3",
   "language": "python",
   "name": "python3"
  },
  "language_info": {
   "codemirror_mode": {
    "name": "ipython",
    "version": 3
   },
   "file_extension": ".py",
   "mimetype": "text/x-python",
   "name": "python",
   "nbconvert_exporter": "python",
   "pygments_lexer": "ipython3",
   "version": "3.12.0"
  }
 },
 "nbformat": 4,
 "nbformat_minor": 5
}
