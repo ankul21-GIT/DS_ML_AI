{
 "cells": [
  {
   "cell_type": "markdown",
   "id": "28a6665c",
   "metadata": {},
   "source": [
    "Lesson 1.2: Python Basics\n",
    "\n",
    "Topics Covered:\n",
    "\n",
    "Syntax and Semantics\n",
    "Variables and Data Types\n",
    "Basic Operators (Arithmetic, Comparison, Logical)\n",
    "\n",
    "1. Syntax and Semantics\n",
    "\n"
   ]
  },
  {
   "cell_type": "markdown",
   "id": "22193f73",
   "metadata": {},
   "source": [
    "Question 1: Write a Python program to print \"Hello, World!\"."
   ]
  },
  {
   "cell_type": "code",
   "execution_count": 1,
   "id": "4134c226",
   "metadata": {},
   "outputs": [
    {
     "name": "stdout",
     "output_type": "stream",
     "text": [
      "Hello World\n"
     ]
    }
   ],
   "source": [
    "print(\"Hello World\")"
   ]
  },
  {
   "cell_type": "markdown",
   "id": "502ec5ef",
   "metadata": {},
   "source": [
    "Question 2: Write a Python program that takes a user input and prints it."
   ]
  },
  {
   "cell_type": "code",
   "execution_count": 3,
   "id": "9bd9bcdb",
   "metadata": {},
   "outputs": [
    {
     "name": "stdout",
     "output_type": "stream",
     "text": [
      "You are a :  data scientist\n"
     ]
    }
   ],
   "source": [
    "user = input(\"Enter anything : \")\n",
    "print(\"You are a : \", user) "
   ]
  },
  {
   "cell_type": "markdown",
   "id": "0c5f5566",
   "metadata": {},
   "source": [
    "Question 3: Write a Python program to check if a number is positive, negative, or zero."
   ]
  },
  {
   "cell_type": "code",
   "execution_count": null,
   "id": "9497cdd3",
   "metadata": {},
   "outputs": [
    {
     "name": "stdout",
     "output_type": "stream",
     "text": [
      "Number is zero\n"
     ]
    }
   ],
   "source": [
    "num = int(input(\"Enter the number : \"))\n",
    "\n",
    "if num >= 1 :\n",
    "    print(\"Number is positive\")\n",
    "elif num == 0 :\n",
    "    print(\"Number is zero\")\n",
    "else :\n",
    "    print(\"Number is negative\")"
   ]
  },
  {
   "cell_type": "markdown",
   "id": "f3695dec",
   "metadata": {},
   "source": [
    "Question 4: Write a Python program to find the largest of three numbers."
   ]
  },
  {
   "cell_type": "code",
   "execution_count": 13,
   "id": "a42fd7e0",
   "metadata": {},
   "outputs": [
    {
     "name": "stdout",
     "output_type": "stream",
     "text": [
      "The largest number is :  14\n"
     ]
    }
   ],
   "source": [
    "num1 = int(input(\"Enter the first number : \"))\n",
    "num2 = int(input(\"Enter the second number : \"))\n",
    "num3 = int(input(\"Enter the third number : \"))\n",
    "\n",
    "if num1 >= num2 and num1 >= num3:\n",
    "    largest = num1\n",
    "elif num2 >= num1 and num2 >= num3:\n",
    "    largest = num2\n",
    "else:\n",
    "    largest = num3\n",
    "    \n",
    "print(\"The largest number is : \", largest)"
   ]
  },
  {
   "cell_type": "code",
   "execution_count": 14,
   "id": "663fe198",
   "metadata": {},
   "outputs": [
    {
     "name": "stdout",
     "output_type": "stream",
     "text": [
      "All the numbers are equal.\n"
     ]
    }
   ],
   "source": [
    "num1 = int(input(\"Enter the first number: \"))\n",
    "num2 = int(input(\"Enter the second number: \"))\n",
    "num3 = int(input(\"Enter the third number: \"))\n",
    "\n",
    "if num1 == num2 == num3:\n",
    "    print(\"All the numbers are equal.\")\n",
    "else:\n",
    "    if num1 >= num2 and num1 >= num3:\n",
    "        largest = num1\n",
    "    elif num2 >= num1 and num2 >= num3:\n",
    "        largest = num2\n",
    "    else:\n",
    "        largest = num3\n",
    "    print(\"The largest number is:\", largest)\n"
   ]
  },
  {
   "cell_type": "markdown",
   "id": "d633bbd6",
   "metadata": {},
   "source": [
    "Question 5: Write a Python program to calculate the factorial of a number."
   ]
  },
  {
   "cell_type": "code",
   "execution_count": 19,
   "id": "f6da28e9",
   "metadata": {},
   "outputs": [
    {
     "name": "stdout",
     "output_type": "stream",
     "text": [
      "720\n"
     ]
    }
   ],
   "source": [
    "fact = 6\n",
    "\n",
    "num = 1\n",
    "\n",
    "for i in range(1, fact+1):\n",
    "    num *= i\n",
    "    \n",
    "print(num)\n"
   ]
  },
  {
   "cell_type": "markdown",
   "id": "dc6b01a3",
   "metadata": {},
   "source": [
    "2. Variables and Data Types\n",
    "\n",
    "Question 6: Create variables of different data types: integer, float, string, and boolean. Print their values and types."
   ]
  },
  {
   "cell_type": "code",
   "execution_count": 2,
   "id": "a4273b54",
   "metadata": {},
   "outputs": [
    {
     "name": "stdout",
     "output_type": "stream",
     "text": [
      "6 <class 'int'>\n",
      "6.8 <class 'float'>\n",
      "Ankur <class 'str'>\n",
      "True <class 'bool'>\n"
     ]
    }
   ],
   "source": [
    "int_var = 6\n",
    "print(int_var, type(int_var))\n",
    "\n",
    "float_var = 6.8\n",
    "print(float_var, type(float_var))\n",
    "\n",
    "string_var = \"Ankur\"\n",
    "print(string_var, type(string_var))\n",
    "\n",
    "boolean_var = True\n",
    "print(boolean_var, type(boolean_var))"
   ]
  },
  {
   "cell_type": "markdown",
   "id": "76faf837",
   "metadata": {},
   "source": [
    "Question 7:Write a Python program to swap the values of two variables."
   ]
  },
  {
   "cell_type": "code",
   "execution_count": null,
   "id": "0d184541",
   "metadata": {},
   "outputs": [
    {
     "name": "stdout",
     "output_type": "stream",
     "text": [
      "a =  3\n",
      "b =  3\n"
     ]
    }
   ],
   "source": [
    "a = 2\n",
    "b = 3\n",
    "\n",
    "temp = a\n",
    "a = b\n",
    "b = a\n",
    "\n",
    "print(\"a = \", a)\n",
    "print(\"b = \", b)"
   ]
  },
  {
   "cell_type": "code",
   "execution_count": 8,
   "id": "3cce343f",
   "metadata": {},
   "outputs": [
    {
     "name": "stdout",
     "output_type": "stream",
     "text": [
      "a =  5\n",
      "b =  4\n"
     ]
    }
   ],
   "source": [
    "a = int(input(\"Enter the first number : \"))\n",
    "b = int(input(\"Enter the second number : \"))\n",
    "\n",
    "temp = a\n",
    "a = b\n",
    "b = temp\n",
    "\n",
    "print(\"a = \",a)\n",
    "print(\"b = \",b)"
   ]
  },
  {
   "cell_type": "markdown",
   "id": "2ecc852d",
   "metadata": {},
   "source": [
    "Question 8 : Write a Python program to convert Celsius to Fahrenheit."
   ]
  },
  {
   "cell_type": "code",
   "execution_count": null,
   "id": "c67aa675",
   "metadata": {},
   "outputs": [
    {
     "name": "stdout",
     "output_type": "stream",
     "text": [
      "98.6\n"
     ]
    }
   ],
   "source": [
    "celsius = float(input(\"Enter temperature into celsius : \"))\n",
    "farenheit = (celsius * 9/5)+32\n",
    "print(f\"{celsius} celsius equal to {farenheit} farenheit\")\n",
    "# print(farenheit)"
   ]
  },
  {
   "cell_type": "markdown",
   "id": "8782632d",
   "metadata": {},
   "source": [
    "Question 9: Write a Python program to concatenate two strings."
   ]
  },
  {
   "cell_type": "code",
   "execution_count": 15,
   "id": "c475cf89",
   "metadata": {},
   "outputs": [
    {
     "name": "stdout",
     "output_type": "stream",
     "text": [
      "Hello Ankul\n"
     ]
    }
   ],
   "source": [
    "str1 = \"Hello \"\n",
    "str2 = \"Ankul\"\n",
    "\n",
    "str3 = str1+str2\n",
    "\n",
    "print(str3)"
   ]
  },
  {
   "cell_type": "code",
   "execution_count": 27,
   "id": "8e4a3c16",
   "metadata": {},
   "outputs": [
    {
     "name": "stdout",
     "output_type": "stream",
     "text": [
      "The result is :  Hello Ankul\n"
     ]
    }
   ],
   "source": [
    "str1 = \"Hello\"\n",
    "str2 = \"Ankul\"\n",
    "\n",
    "result = str1+ \" \" +str2\n",
    "\n",
    "print(\"The result is : \", result)\n"
   ]
  },
  {
   "cell_type": "markdown",
   "id": "f19fb288",
   "metadata": {},
   "source": [
    "Question 10: Write a Python program to check if a variable is of a specific data type"
   ]
  },
  {
   "cell_type": "code",
   "execution_count": null,
   "id": "8ce960d9",
   "metadata": {},
   "outputs": [],
   "source": []
  },
  {
   "cell_type": "markdown",
   "id": "a1c1d74e",
   "metadata": {},
   "source": [
    "3. Basic Operators (Arithmetic, Comparison, Logical)\n",
    "\n",
    "Question 11: Write a Python program to perform arithmetic operations: addition, subtraction, multiplication, and division."
   ]
  },
  {
   "cell_type": "code",
   "execution_count": 29,
   "id": "8938d298",
   "metadata": {},
   "outputs": [
    {
     "name": "stdout",
     "output_type": "stream",
     "text": [
      "Addition of a and b is :  30\n",
      "Subtraction of a and b is :  10\n",
      "Multiplication of a and b is :  200\n",
      "Division of a and b is :  2.0\n"
     ]
    }
   ],
   "source": [
    "a = 20\n",
    "b = 10\n",
    "\n",
    "print(\"Addition of a and b is : \", a+b)\n",
    "print(\"Subtraction of a and b is : \", a-b)\n",
    "print(\"Multiplication of a and b is : \", a*b)\n",
    "print(\"Division of a and b is : \", a/b)\n"
   ]
  },
  {
   "cell_type": "markdown",
   "id": "2a11a5eb",
   "metadata": {},
   "source": [
    "Question 12: Write a Python program to demonstrate comparison operators: equal to, not equal to, greater than, less than."
   ]
  },
  {
   "cell_type": "code",
   "execution_count": 30,
   "id": "8456d3a9",
   "metadata": {},
   "outputs": [
    {
     "name": "stdout",
     "output_type": "stream",
     "text": [
      "False\n",
      "True\n",
      "False\n",
      "False\n"
     ]
    }
   ],
   "source": [
    "a = 10\n",
    "b = 20\n",
    "\n",
    "print(a == b)\n",
    "print(a != b)\n",
    "print(a>10)\n",
    "print(a<10)"
   ]
  },
  {
   "cell_type": "markdown",
   "id": "45bdd8c3",
   "metadata": {},
   "source": [
    "Question 13: Write a Python program to demonstrate logical operators: and, or, not."
   ]
  },
  {
   "cell_type": "code",
   "execution_count": null,
   "id": "0500d740",
   "metadata": {},
   "outputs": [
    {
     "name": "stdout",
     "output_type": "stream",
     "text": [
      "1\n"
     ]
    }
   ],
   "source": [
    "# AND operator\n",
    "\n",
    "x = 1\n",
    "y = 1\n",
    "\n",
    "result = x and y\n",
    "print(result)"
   ]
  },
  {
   "cell_type": "code",
   "execution_count": 40,
   "id": "c5e7a3ad",
   "metadata": {},
   "outputs": [
    {
     "name": "stdout",
     "output_type": "stream",
     "text": [
      "0\n"
     ]
    }
   ],
   "source": [
    "x = 1\n",
    "y = 0\n",
    "\n",
    "result = x and y\n",
    "print(result)"
   ]
  },
  {
   "cell_type": "code",
   "execution_count": 41,
   "id": "74a0dd36",
   "metadata": {},
   "outputs": [
    {
     "name": "stdout",
     "output_type": "stream",
     "text": [
      "1\n"
     ]
    }
   ],
   "source": [
    "# OR operator\n",
    "\n",
    "x = 1\n",
    "y = 0\n",
    "\n",
    "result = x or y\n",
    "print(result)\n"
   ]
  },
  {
   "cell_type": "code",
   "execution_count": 42,
   "id": "7ce36cca",
   "metadata": {},
   "outputs": [
    {
     "name": "stdout",
     "output_type": "stream",
     "text": [
      "1\n"
     ]
    }
   ],
   "source": [
    "# OR operator\n",
    "\n",
    "x = 1\n",
    "y = 1\n",
    "\n",
    "result = x or y\n",
    "print(result)\n"
   ]
  },
  {
   "cell_type": "code",
   "execution_count": 43,
   "id": "b75b23f6",
   "metadata": {},
   "outputs": [
    {
     "name": "stdout",
     "output_type": "stream",
     "text": [
      "0\n"
     ]
    }
   ],
   "source": [
    "# OR operator\n",
    "\n",
    "x = 0\n",
    "y = 0\n",
    "\n",
    "result = x or y\n",
    "print(result)\n"
   ]
  },
  {
   "cell_type": "code",
   "execution_count": 44,
   "id": "2c5dbb6a",
   "metadata": {},
   "outputs": [
    {
     "name": "stdout",
     "output_type": "stream",
     "text": [
      "True\n",
      "False\n"
     ]
    }
   ],
   "source": [
    "# NOT opearator\n",
    "\n",
    "x = False\n",
    "y = True\n",
    "\n",
    "print(not x)\n",
    "print(not y)"
   ]
  },
  {
   "cell_type": "markdown",
   "id": "1d781c9b",
   "metadata": {},
   "source": [
    "Question 14 : Write a Python program to calculate the square of a number."
   ]
  },
  {
   "cell_type": "code",
   "execution_count": 45,
   "id": "f840614d",
   "metadata": {},
   "outputs": [
    {
     "name": "stdout",
     "output_type": "stream",
     "text": [
      "The square of the 3 is 9\n"
     ]
    }
   ],
   "source": [
    "num = int(input(\"Enter n number : \"))\n",
    "\n",
    "square = num**2\n",
    "\n",
    "print(f\"The square of the {num} is {square}\")"
   ]
  },
  {
   "cell_type": "markdown",
   "id": "cca3c235",
   "metadata": {},
   "source": [
    "Question 15: Write a Python program to check if a number is even or odd."
   ]
  },
  {
   "cell_type": "code",
   "execution_count": 48,
   "id": "52006d6a",
   "metadata": {},
   "outputs": [
    {
     "name": "stdout",
     "output_type": "stream",
     "text": [
      "Number is even\n"
     ]
    }
   ],
   "source": [
    "num = int(input(\"Enter the number\"))\n",
    "\n",
    "if num % 2 == 0:\n",
    "    print(\"Number is even\")\n",
    "else:\n",
    "    print(\"Number is odd\")\n",
    "    "
   ]
  },
  {
   "cell_type": "markdown",
   "id": "329b9ee4",
   "metadata": {},
   "source": [
    "Question 16 : Write a Python program to find the sum of the first n natural numbers."
   ]
  },
  {
   "cell_type": "code",
   "execution_count": 52,
   "id": "84ac89bb",
   "metadata": {},
   "outputs": [
    {
     "name": "stdout",
     "output_type": "stream",
     "text": [
      "The sum of the first 1 natural numbers is 1\n"
     ]
    }
   ],
   "source": [
    "\n",
    "n = int(input(\"Enter a positive number: \"))\n",
    "\n",
    "total = 0\n",
    "for i in range(1, n + 1):\n",
    "    total += i\n",
    "\n",
    "print(f\"The sum of the first {n} natural numbers is {total}\")\n"
   ]
  },
  {
   "cell_type": "markdown",
   "id": "0ac386d3",
   "metadata": {},
   "source": [
    "Question 17: Write a Python program to check if a year is a leap year."
   ]
  },
  {
   "cell_type": "code",
   "execution_count": 53,
   "id": "4490ab54",
   "metadata": {},
   "outputs": [
    {
     "name": "stdout",
     "output_type": "stream",
     "text": [
      "200 is not a leap year.\n"
     ]
    }
   ],
   "source": [
    "year = int(input(\"Enter a year: \"))\n",
    "\n",
    "if (year % 4 == 0 and year % 100 != 0) or (year % 400 == 0):\n",
    "    print(year, \"is a leap year.\")\n",
    "else:\n",
    "    print(year, \"is not a leap year.\")\n"
   ]
  },
  {
   "cell_type": "markdown",
   "id": "e2752d17",
   "metadata": {},
   "source": [
    "Question 18: Write a Python program to reverse a string."
   ]
  },
  {
   "cell_type": "code",
   "execution_count": 58,
   "id": "1020c3e8",
   "metadata": {},
   "outputs": [
    {
     "name": "stdout",
     "output_type": "stream",
     "text": [
      "uoy era woh\n"
     ]
    }
   ],
   "source": [
    "string = \"how are you\"\n",
    "print(string[::-1])"
   ]
  },
  {
   "cell_type": "code",
   "execution_count": 60,
   "id": "2f67cf63",
   "metadata": {},
   "outputs": [
    {
     "name": "stdout",
     "output_type": "stream",
     "text": [
      "you are how\n"
     ]
    }
   ],
   "source": [
    "string = \"how are you\"\n",
    "string_split = ' '.join(string.split()[::-1])\n",
    "print(string_split)"
   ]
  },
  {
   "cell_type": "markdown",
   "id": "78715bc2",
   "metadata": {},
   "source": [
    "Question 19: Write a Python program to check if a string is a palindrome."
   ]
  },
  {
   "cell_type": "code",
   "execution_count": 62,
   "id": "8c93ae0e",
   "metadata": {},
   "outputs": [
    {
     "name": "stdout",
     "output_type": "stream",
     "text": [
      "The string is not a palindrome.\n"
     ]
    }
   ],
   "source": [
    "text = input(\"Enter a string: \")\n",
    "text = text.replace(\" \", \"\").lower()\n",
    "if text == text[::-1]:\n",
    "    print(\"The string is a palindrome.\")\n",
    "else:\n",
    "    print(\"The string is not a palindrome.\")\n"
   ]
  },
  {
   "cell_type": "markdown",
   "id": "1fd58cc7",
   "metadata": {},
   "source": [
    "Question 20: Write a Python program to sort a list of numbers in ascending order"
   ]
  },
  {
   "cell_type": "code",
   "execution_count": 4,
   "id": "1f4d44bf",
   "metadata": {},
   "outputs": [
    {
     "name": "stdout",
     "output_type": "stream",
     "text": [
      "[6, 11, 13, 14, 22, 55]\n"
     ]
    }
   ],
   "source": [
    "list1 = [11, 22, 13, 14, 55, 6]\n",
    "list1.sort()\n",
    "print(list1)"
   ]
  },
  {
   "cell_type": "code",
   "execution_count": null,
   "id": "f2a9f96a",
   "metadata": {},
   "outputs": [],
   "source": []
  }
 ],
 "metadata": {
  "kernelspec": {
   "display_name": "Python 3",
   "language": "python",
   "name": "python3"
  },
  "language_info": {
   "codemirror_mode": {
    "name": "ipython",
    "version": 3
   },
   "file_extension": ".py",
   "mimetype": "text/x-python",
   "name": "python",
   "nbconvert_exporter": "python",
   "pygments_lexer": "ipython3",
   "version": "3.12.0"
  }
 },
 "nbformat": 4,
 "nbformat_minor": 5
}
