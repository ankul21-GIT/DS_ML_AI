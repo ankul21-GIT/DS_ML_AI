{
 "cells": [
  {
   "cell_type": "code",
   "execution_count": 1,
   "metadata": {},
   "outputs": [
    {
     "name": "stdout",
     "output_type": "stream",
     "text": [
      "Harry,An\n",
      "11\n"
     ]
    }
   ],
   "source": [
    "name = \"Harry,Ankur\"\n",
    "print(name[0:8])\n",
    "print(len(name))"
   ]
  },
  {
   "cell_type": "code",
   "execution_count": 2,
   "id": "59808cf6",
   "metadata": {},
   "outputs": [
    {
     "name": "stdout",
     "output_type": "stream",
     "text": [
      "5\n",
      "Mang\n",
      "Ma\n",
      "\n"
     ]
    }
   ],
   "source": [
    "fruit = \"Mango\"\n",
    "length = len(fruit)\n",
    "print(length)\n",
    "print(fruit[0:4])\n",
    "print(fruit[0:len(fruit)-3])\n",
    "print(fruit[-1:len(fruit)-3])"
   ]
  },
  {
   "cell_type": "code",
   "execution_count": 3,
   "id": "495af7e3",
   "metadata": {},
   "outputs": [
    {
     "name": "stdout",
     "output_type": "stream",
     "text": [
      "Harry\n",
      "13\n",
      "Mango is a 5 letter word\n"
     ]
    }
   ],
   "source": [
    "name = \"Harry,Shubham\"\n",
    "print(name[0:5])\n",
    "print(len(name))\n",
    "fruit = \"Mango\"\n",
    "len1 = len(fruit)\n",
    "print(\"Mango is a\", len1, \"letter word\")"
   ]
  },
  {
   "cell_type": "code",
   "execution_count": 7,
   "id": "c26dae54",
   "metadata": {},
   "outputs": [
    {
     "name": "stdout",
     "output_type": "stream",
     "text": [
      "5\n",
      "Man\n",
      "Ma\n",
      "Mang\n"
     ]
    }
   ],
   "source": [
    "fruit = \"Mango\"\n",
    "mangoLen = len(fruit)\n",
    "print(mangoLen)\n",
    "print(fruit[0:3])\n",
    "print(fruit[0:len(fruit) - 3])\n",
    "print(fruit[-5:len(fruit)-1])"
   ]
  },
  {
   "cell_type": "code",
   "execution_count": null,
   "id": "77edeb25",
   "metadata": {},
   "outputs": [],
   "source": []
  }
 ],
 "metadata": {
  "kernelspec": {
   "display_name": "Python 3",
   "language": "python",
   "name": "python3"
  },
  "language_info": {
   "codemirror_mode": {
    "name": "ipython",
    "version": 3
   },
   "file_extension": ".py",
   "mimetype": "text/x-python",
   "name": "python",
   "nbconvert_exporter": "python",
   "pygments_lexer": "ipython3",
   "version": "3.12.0"
  }
 },
 "nbformat": 4,
 "nbformat_minor": 5
}
