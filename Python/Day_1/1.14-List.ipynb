{
 "cells": [
  {
   "cell_type": "code",
   "execution_count": 1,
   "id": "ab7071d8",
   "metadata": {},
   "outputs": [
    {
     "name": "stdout",
     "output_type": "stream",
     "text": [
      "[3, 4, 5]\n",
      "<class 'list'>\n"
     ]
    }
   ],
   "source": [
    "l = [3, 4, 5]\n",
    "print(l)\n",
    "print(type(l))"
   ]
  },
  {
   "cell_type": "code",
   "execution_count": null,
   "id": "0ff73dfe",
   "metadata": {},
   "outputs": [
    {
     "name": "stdout",
     "output_type": "stream",
     "text": [
      "[3, 4, 5, 6, 'Harry', True]\n",
      "\n"
     ]
    }
   ],
   "source": [
    "# Access List\n",
    "\n",
    "marks = [3, 4, 5, 6, \"Harry\", True]\n",
    "print(marks)\n",
    "print()"
   ]
  },
  {
   "cell_type": "code",
   "execution_count": 3,
   "id": "1f60ee02",
   "metadata": {},
   "outputs": [
    {
     "name": "stdout",
     "output_type": "stream",
     "text": [
      "5\n",
      "6\n",
      "Harry\n",
      "True\n"
     ]
    }
   ],
   "source": [
    "print(marks[2])\n",
    "print(marks[3])\n",
    "print(marks[4])\n",
    "print(marks[5])\n"
   ]
  },
  {
   "cell_type": "code",
   "execution_count": 4,
   "id": "98432bbc",
   "metadata": {},
   "outputs": [
    {
     "name": "stdout",
     "output_type": "stream",
     "text": [
      "6\n",
      "4\n",
      "Yes\n"
     ]
    }
   ],
   "source": [
    "marks = [3, 4, 5, 6, \"Harry\", True]\n",
    "print(marks[len(marks)-3])\n",
    "print(marks[-5])\n",
    "\n",
    "if \"Harry\" in marks:\n",
    "    print(\"Yes\")\n",
    "else:\n",
    "    print(\"No\")"
   ]
  },
  {
   "cell_type": "code",
   "execution_count": 5,
   "id": "52d4b141",
   "metadata": {},
   "outputs": [
    {
     "name": "stdout",
     "output_type": "stream",
     "text": [
      "Yes\n"
     ]
    }
   ],
   "source": [
    "if \"arry\" in \"Harry\":\n",
    "    print(\"Yes\")"
   ]
  },
  {
   "cell_type": "code",
   "execution_count": 6,
   "id": "cde6a197",
   "metadata": {},
   "outputs": [
    {
     "name": "stdout",
     "output_type": "stream",
     "text": [
      "[3, 4, 5, 6, 'Harry', True, 7, 8, 9]\n",
      "[3, 4, 5, 6, 'Harry', True, 7, 8, 9]\n",
      "\n",
      "[5, 6, 'Harry', True, 7, 8, 9]\n",
      "[3, 4, 5, 6, 'Harry', True]\n",
      "[6, 'Harry']\n",
      "[4, 6, True, 8]\n"
     ]
    }
   ],
   "source": [
    "marks = [3, 4, 5, 6, \"Harry\", True, 7, 8, 9]\n",
    "print(marks)\n",
    "print(marks[:])\n",
    "print()\n",
    "print(marks[2:])  # elements go to the given element to the last\n",
    "print(marks[:6])\n",
    "print(marks[3:5])  # elements go to the n-1\n",
    "print(marks[1:8:2])"
   ]
  },
  {
   "cell_type": "code",
   "execution_count": 7,
   "id": "5fe1a216",
   "metadata": {},
   "outputs": [
    {
     "name": "stdout",
     "output_type": "stream",
     "text": [
      "[0, 4, 16, 36, 64]\n"
     ]
    }
   ],
   "source": [
    "lst = [i*i for i in range(10) if i%2 == 0]\n",
    "print(lst)"
   ]
  },
  {
   "cell_type": "code",
   "execution_count": null,
   "id": "8cd9fb55",
   "metadata": {},
   "outputs": [],
   "source": []
  }
 ],
 "metadata": {
  "kernelspec": {
   "display_name": "Python 3",
   "language": "python",
   "name": "python3"
  },
  "language_info": {
   "codemirror_mode": {
    "name": "ipython",
    "version": 3
   },
   "file_extension": ".py",
   "mimetype": "text/x-python",
   "name": "python",
   "nbconvert_exporter": "python",
   "pygments_lexer": "ipython3",
   "version": "3.12.0"
  }
 },
 "nbformat": 4,
 "nbformat_minor": 5
}
