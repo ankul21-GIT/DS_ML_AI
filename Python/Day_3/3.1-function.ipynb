{
 "cells": [
  {
   "cell_type": "markdown",
   "id": "e4e3abfe",
   "metadata": {},
   "source": [
    "Functions in Python\n",
    "\n",
    "Course Outline:\n",
    "\n",
    "1. Introduction to Functions\n",
    "\n",
    "2. Defining Functions\n",
    "\n",
    "3. Calling Functions\n",
    "\n",
    "4. Function Parameters\n",
    "\n",
    "5. Default Parameters\n",
    "\n",
    "6. Variable-Length Arguments\n",
    "\n",
    "7. Return Statement"
   ]
  },
  {
   "cell_type": "markdown",
   "id": "60ff6144",
   "metadata": {},
   "source": [
    "Introduction to Functions\n",
    "\n",
    "Definition:\n",
    "\n",
    "A function is a block of code that performs a specific task. Functions help in organizing code, reusing code, and improving readability.\n",
    "\n",
    "A parameter is the variable listed inside the parentheses in the function definition.\n",
    "\n",
    "An argument is the value that is sent to the function when it is called."
   ]
  },
  {
   "cell_type": "code",
   "execution_count": 3,
   "id": "b498cad2",
   "metadata": {},
   "outputs": [],
   "source": [
    "## syntax\n",
    "def function_name(parameters):\n",
    "    \"\"\"Docstring\"\"\"\n",
    "    # Function body\n",
    "    return expression"
   ]
  },
  {
   "cell_type": "code",
   "execution_count": 1,
   "id": "b291e6bd",
   "metadata": {},
   "outputs": [
    {
     "data": {
      "text/plain": [
       "3"
      ]
     },
     "execution_count": 1,
     "metadata": {},
     "output_type": "execute_result"
    }
   ],
   "source": [
    "def Addition(a,b):\n",
    "    c = a + b\n",
    "    return c\n",
    "\n",
    "Addition(1,2)"
   ]
  },
  {
   "cell_type": "code",
   "execution_count": 4,
   "id": "bf7a6eab",
   "metadata": {},
   "outputs": [
    {
     "name": "stdout",
     "output_type": "stream",
     "text": [
      "This is my first function in python.\n"
     ]
    }
   ],
   "source": [
    "def my_first_function():\n",
    "    print(\"This is my first function in python.\")\n",
    "    \n",
    "my_first_function()    "
   ]
  },
  {
   "cell_type": "code",
   "execution_count": 5,
   "id": "abaae100",
   "metadata": {},
   "outputs": [
    {
     "name": "stdout",
     "output_type": "stream",
     "text": [
      "50\n"
     ]
    }
   ],
   "source": [
    "# function with name add and parameters-(a,b,c)\n",
    "def add(a,b,c):\n",
    "    print(a+b+c)\n",
    "    \n",
    "# calling the same add function with arguments-(10,15,25)\n",
    "add(10,15,25)"
   ]
  },
  {
   "cell_type": "code",
   "execution_count": 6,
   "id": "361a79e6",
   "metadata": {},
   "outputs": [],
   "source": [
    "#  passing less args(arguments) will provide TypeError\n",
    "# add(1,2)"
   ]
  },
  {
   "cell_type": "code",
   "execution_count": 7,
   "id": "61561bfa",
   "metadata": {},
   "outputs": [
    {
     "name": "stdout",
     "output_type": "stream",
     "text": [
      "the number is even\n"
     ]
    }
   ],
   "source": [
    "## why functions?\n",
    "num=24\n",
    "if num%2==0:\n",
    "    print(\"the number is even\")\n",
    "else:\n",
    "    print(\"the number is odd\")"
   ]
  },
  {
   "cell_type": "code",
   "execution_count": 9,
   "id": "79e983ae",
   "metadata": {},
   "outputs": [
    {
     "name": "stdout",
     "output_type": "stream",
     "text": [
      "The 198 is even.\n"
     ]
    }
   ],
   "source": [
    "# def even_or_odd(num):\n",
    "#     \"\"\"This function finds even or odd\"\"\"\n",
    "#     if num%2==0:\n",
    "#         print(\"the number is even\")\n",
    "#     else:\n",
    "#         print(\"the number is odd\")\n",
    "\n",
    "\n",
    "def even_or_odd(Number):\n",
    "    if Number%2==0:\n",
    "        print(f\"The {Number} is even.\")\n",
    "    else:\n",
    "        print(f\"The {Number} is odd.\")\n",
    "        \n",
    "## Call this function\n",
    "even_or_odd(198)"
   ]
  },
  {
   "cell_type": "code",
   "execution_count": 10,
   "id": "c72fdd0f",
   "metadata": {},
   "outputs": [
    {
     "name": "stdout",
     "output_type": "stream",
     "text": [
      "6\n"
     ]
    }
   ],
   "source": [
    "## function with multiple parameters\n",
    "\n",
    "def add(a,b):\n",
    "    return a+b\n",
    "\n",
    "result = add(2,4)\n",
    "print(result)"
   ]
  },
  {
   "cell_type": "code",
   "execution_count": 12,
   "id": "61390958",
   "metadata": {},
   "outputs": [
    {
     "data": {
      "text/plain": [
       "3"
      ]
     },
     "execution_count": 12,
     "metadata": {},
     "output_type": "execute_result"
    }
   ],
   "source": [
    "add(3,0)"
   ]
  },
  {
   "cell_type": "markdown",
   "id": "3b470cbf",
   "metadata": {},
   "source": [
    "Arbitrary Arguments, *args\n",
    "\n",
    "If you do not know how many arguments that will be passed into your function, add a * before the parameter name in the function definition.\n",
    "\n",
    "This way the function will receive a tuple of arguments, and can access the items accordingly:"
   ]
  },
  {
   "cell_type": "code",
   "execution_count": 13,
   "id": "c45e06f3",
   "metadata": {},
   "outputs": [
    {
     "name": "stdout",
     "output_type": "stream",
     "text": [
      "The youngest child is Linus.\n"
     ]
    }
   ],
   "source": [
    "#  creating a function with *args\n",
    "def my_function(*kids):\n",
    "  print(f\"The youngest child is {kids[2]}.\" )\n",
    "\n",
    "\n",
    "# calling a function with multiple variables \n",
    "my_function(\"Emil\", \"Tobias\", \"Linus\", 'Rishi')"
   ]
  },
  {
   "cell_type": "code",
   "execution_count": 14,
   "id": "2cf44214",
   "metadata": {},
   "outputs": [
    {
     "name": "stdout",
     "output_type": "stream",
     "text": [
      "The youngest child is ('Emil', 'Tobias', 'Linus', 'Rishi').\n"
     ]
    }
   ],
   "source": [
    "#  creating a function with *args\n",
    "def my_function(*kids):\n",
    "  print(f\"The youngest child is {kids}.\" )\n",
    "\n",
    "\n",
    "# calling a function with multiple variables \n",
    "my_function(\"Emil\", \"Tobias\", \"Linus\", 'Rishi')"
   ]
  },
  {
   "cell_type": "code",
   "execution_count": 16,
   "id": "3c0c387f",
   "metadata": {},
   "outputs": [
    {
     "name": "stdout",
     "output_type": "stream",
     "text": [
      "Hello Ankul Welcome To the paradise.\n"
     ]
    }
   ],
   "source": [
    "## Default Parameters\n",
    "\n",
    "def greet(name):\n",
    "    print(f\"Hello {name} Welcome To the paradise.\")\n",
    "\n",
    "\n",
    "\n",
    "# greet()\n",
    "greet(\"Ankul\")"
   ]
  },
  {
   "cell_type": "code",
   "execution_count": 17,
   "id": "28ec1362",
   "metadata": {},
   "outputs": [
    {
     "name": "stdout",
     "output_type": "stream",
     "text": [
      "Hello Guest Welcome To the paradise\n"
     ]
    }
   ],
   "source": [
    "def greet(name=\"Guest\"):\n",
    "    print(f\"Hello {name} Welcome To the paradise\")\n",
    "\n",
    "# greet(\"Amit\")\n",
    "greet()"
   ]
  },
  {
   "cell_type": "code",
   "execution_count": 19,
   "id": "eb51b10c",
   "metadata": {},
   "outputs": [
    {
     "name": "stdout",
     "output_type": "stream",
     "text": [
      "His last name is Ankul\n"
     ]
    }
   ],
   "source": [
    "def my_function(**kid):\n",
    "  print(\"His last name is \" + kid[\"n_name\"])\n",
    "\n",
    "my_function(fname = \"Tobias\", lname = \"Refsnes\", n_name= 'Ankul')"
   ]
  },
  {
   "cell_type": "code",
   "execution_count": 23,
   "id": "cda3f60b",
   "metadata": {},
   "outputs": [
    {
     "name": "stdout",
     "output_type": "stream",
     "text": [
      "1\n",
      "2\n",
      "3\n",
      "4\n",
      "5\n",
      "6\n",
      "7\n",
      "8\n",
      "9\n",
      "10\n",
      "Amit\n"
     ]
    }
   ],
   "source": [
    "### Variable Length Arguments\n",
    "## Positional And Keywords arguments\n",
    "\n",
    "def print_numbers(*Amit):\n",
    "    for number in Amit:\n",
    "        print(number)\n",
    "        \n",
    "print_numbers(1,2,3,4,5,6,7,8,9,10,\"Amit\")"
   ]
  },
  {
   "cell_type": "code",
   "execution_count": 28,
   "id": "69005bb9",
   "metadata": {},
   "outputs": [
    {
     "name": "stdout",
     "output_type": "stream",
     "text": [
      "Abhishek\n",
      "1\n",
      "2\n",
      "3\n",
      "4\n",
      "5\n",
      "6\n",
      "7\n",
      "8\n"
     ]
    }
   ],
   "source": [
    "## Positional arguments\n",
    "def print_numbers(*args):\n",
    "    for number in args:\n",
    "        print(number)\n",
    "print_numbers(\"Abhishek\",1,2,3,4,5,6,7,8)"
   ]
  },
  {
   "cell_type": "code",
   "execution_count": 30,
   "id": "2746ba50",
   "metadata": {},
   "outputs": [
    {
     "name": "stdout",
     "output_type": "stream",
     "text": [
      "name:Ankul\n",
      "age:25\n",
      "city:Gurugram\n",
      "country:India\n"
     ]
    }
   ],
   "source": [
    "### Keywords Arguments\n",
    "\n",
    "def print_details(**kwargs):\n",
    "    for key,value in kwargs.items():\n",
    "        print(f\"{key}:{value}\")\n",
    "        \n",
    "print_details(name=\"Ankul\",age=\"25\", city=\"Gurugram\", country=\"India\")"
   ]
  },
  {
   "cell_type": "code",
   "execution_count": 32,
   "id": "fa3ac1c0",
   "metadata": {},
   "outputs": [
    {
     "name": "stdout",
     "output_type": "stream",
     "text": [
      " Positional argument :1\n",
      " Positional argument :2\n",
      " Positional argument :3\n",
      " Positional argument :4\n",
      " Positional argument :Ankul\n",
      "name:Ankul\n",
      "age:25\n",
      "country:India\n"
     ]
    }
   ],
   "source": [
    "def print_details(*args,**kwargs):\n",
    "    for val in args:\n",
    "        print(f\" Positional argument :{val}\")\n",
    "    \n",
    "    for key,value in kwargs.items():\n",
    "        print(f\"{key}:{value}\")\n",
    "        \n",
    "print_details(1,2,3,4,\"Ankul\", name=\"Ankul\", age=\"25\", country=\"India\")"
   ]
  },
  {
   "cell_type": "code",
   "execution_count": 33,
   "id": "74c37b7c",
   "metadata": {},
   "outputs": [
    {
     "name": "stdout",
     "output_type": "stream",
     "text": [
      "The 1009 is odd.\n"
     ]
    }
   ],
   "source": [
    "even_or_odd(1009)"
   ]
  },
  {
   "cell_type": "code",
   "execution_count": 34,
   "id": "79a0af57",
   "metadata": {},
   "outputs": [
    {
     "data": {
      "text/plain": [
       "6"
      ]
     },
     "execution_count": 34,
     "metadata": {},
     "output_type": "execute_result"
    }
   ],
   "source": [
    "### Return statements\n",
    "def multiply(a,b):\n",
    "    return a*b\n",
    "\n",
    "multiply(2,3)"
   ]
  },
  {
   "cell_type": "code",
   "execution_count": 35,
   "id": "880f8c1c",
   "metadata": {},
   "outputs": [
    {
     "data": {
      "text/plain": [
       "(6, 2)"
      ]
     },
     "execution_count": 35,
     "metadata": {},
     "output_type": "execute_result"
    }
   ],
   "source": [
    "### Return multiple parameters\n",
    "def multiply(a,b):\n",
    "    return a*b,a\n",
    "\n",
    "multiply(2,3)"
   ]
  },
  {
   "cell_type": "code",
   "execution_count": 36,
   "id": "19d3e162",
   "metadata": {},
   "outputs": [
    {
     "data": {
      "text/plain": [
       "30"
      ]
     },
     "execution_count": 36,
     "metadata": {},
     "output_type": "execute_result"
    }
   ],
   "source": [
    "add(5, 25)"
   ]
  },
  {
   "cell_type": "code",
   "execution_count": null,
   "id": "a59ed81d",
   "metadata": {},
   "outputs": [],
   "source": []
  }
 ],
 "metadata": {
  "kernelspec": {
   "display_name": "Python 3",
   "language": "python",
   "name": "python3"
  },
  "language_info": {
   "codemirror_mode": {
    "name": "ipython",
    "version": 3
   },
   "file_extension": ".py",
   "mimetype": "text/x-python",
   "name": "python",
   "nbconvert_exporter": "python",
   "pygments_lexer": "ipython3",
   "version": "3.12.0"
  }
 },
 "nbformat": 4,
 "nbformat_minor": 5
}
