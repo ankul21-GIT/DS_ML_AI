{
 "cells": [
  {
   "cell_type": "code",
   "execution_count": 1,
   "id": "9d325c9b",
   "metadata": {},
   "outputs": [
    {
     "name": "stdout",
     "output_type": "stream",
     "text": [
      "Abhishek\n"
     ]
    }
   ],
   "source": [
    "print(\"Abhishek\")"
   ]
  },
  {
   "cell_type": "code",
   "execution_count": 2,
   "id": "8963560b",
   "metadata": {},
   "outputs": [
    {
     "name": "stdout",
     "output_type": "stream",
     "text": [
      "What is your name? \n"
     ]
    }
   ],
   "source": [
    "print(\"What is your name? \")"
   ]
  },
  {
   "cell_type": "code",
   "execution_count": 1,
   "id": "cdc69bac",
   "metadata": {},
   "outputs": [
    {
     "name": "stdout",
     "output_type": "stream",
     "text": [
      "My name is : Ankul\n"
     ]
    }
   ],
   "source": [
    "name = \"Ankul\"\n",
    "\n",
    "print(\"My name is :\", name)\n"
   ]
  },
  {
   "cell_type": "code",
   "execution_count": 2,
   "id": "a0c502c9",
   "metadata": {},
   "outputs": [
    {
     "name": "stdout",
     "output_type": "stream",
     "text": [
      "My name is : Ankul\n"
     ]
    }
   ],
   "source": [
    "name = \"Ankul\"\n",
    "\n",
    "print(f\"My name is : {name}\")\n"
   ]
  },
  {
   "cell_type": "code",
   "execution_count": null,
   "id": "50679ca2",
   "metadata": {},
   "outputs": [],
   "source": []
  }
 ],
 "metadata": {
  "kernelspec": {
   "display_name": "Python 3",
   "language": "python",
   "name": "python3"
  },
  "language_info": {
   "codemirror_mode": {
    "name": "ipython",
    "version": 3
   },
   "file_extension": ".py",
   "mimetype": "text/x-python",
   "name": "python",
   "nbconvert_exporter": "python",
   "pygments_lexer": "ipython3",
   "version": "3.12.0"
  }
 },
 "nbformat": 4,
 "nbformat_minor": 5
}
